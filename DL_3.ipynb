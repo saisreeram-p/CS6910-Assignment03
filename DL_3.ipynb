{
  "cells": [
    {
      "cell_type": "markdown",
      "metadata": {
        "id": "_jsDALniQnzj"
      },
      "source": [
        "# Installing Modules"
      ]
    },
    {
      "cell_type": "code",
      "execution_count": 1,
      "metadata": {
        "id": "W0yIjToZfKkz",
        "colab": {
          "base_uri": "https://localhost:8080/"
        },
        "outputId": "97f4ac9d-7f93-4895-94f1-eb32f2d5d5ca"
      },
      "outputs": [
        {
          "output_type": "stream",
          "name": "stdout",
          "text": [
            "\u001b[2K     \u001b[90m━━━━━━━━━━━━━━━━━━━━━━━━━━━━━━━━━━━━━━━━\u001b[0m \u001b[32m2.0/2.0 MB\u001b[0m \u001b[31m20.4 MB/s\u001b[0m eta \u001b[36m0:00:00\u001b[0m\n",
            "\u001b[2K     \u001b[90m━━━━━━━━━━━━━━━━━━━━━━━━━━━━━━━━━━━━━━\u001b[0m \u001b[32m184.3/184.3 kB\u001b[0m \u001b[31m22.7 MB/s\u001b[0m eta \u001b[36m0:00:00\u001b[0m\n",
            "\u001b[2K     \u001b[90m━━━━━━━━━━━━━━━━━━━━━━━━━━━━━━━━━━━━━━\u001b[0m \u001b[32m205.1/205.1 kB\u001b[0m \u001b[31m20.2 MB/s\u001b[0m eta \u001b[36m0:00:00\u001b[0m\n",
            "\u001b[?25h  Preparing metadata (setup.py) ... \u001b[?25l\u001b[?25hdone\n",
            "\u001b[2K     \u001b[90m━━━━━━━━━━━━━━━━━━━━━━━━━━━━━━━━━━━━━━━━\u001b[0m \u001b[32m62.7/62.7 kB\u001b[0m \u001b[31m7.7 MB/s\u001b[0m eta \u001b[36m0:00:00\u001b[0m\n",
            "\u001b[?25h  Building wheel for pathtools (setup.py) ... \u001b[?25l\u001b[?25hdone\n",
            "Looking in indexes: https://pypi.org/simple, https://us-python.pkg.dev/colab-wheels/public/simple/\n",
            "Collecting pytorch_lightning\n",
            "  Downloading pytorch_lightning-2.0.2-py3-none-any.whl (719 kB)\n",
            "\u001b[2K     \u001b[90m━━━━━━━━━━━━━━━━━━━━━━━━━━━━━━━━━━━━━━\u001b[0m \u001b[32m719.0/719.0 kB\u001b[0m \u001b[31m11.9 MB/s\u001b[0m eta \u001b[36m0:00:00\u001b[0m\n",
            "\u001b[?25hRequirement already satisfied: numpy>=1.17.2 in /usr/local/lib/python3.10/dist-packages (from pytorch_lightning) (1.22.4)\n",
            "Requirement already satisfied: torch>=1.11.0 in /usr/local/lib/python3.10/dist-packages (from pytorch_lightning) (2.0.1+cu118)\n",
            "Requirement already satisfied: tqdm>=4.57.0 in /usr/local/lib/python3.10/dist-packages (from pytorch_lightning) (4.65.0)\n",
            "Requirement already satisfied: PyYAML>=5.4 in /usr/local/lib/python3.10/dist-packages (from pytorch_lightning) (6.0)\n",
            "Requirement already satisfied: fsspec[http]>2021.06.0 in /usr/local/lib/python3.10/dist-packages (from pytorch_lightning) (2023.4.0)\n",
            "Collecting torchmetrics>=0.7.0 (from pytorch_lightning)\n",
            "  Downloading torchmetrics-0.11.4-py3-none-any.whl (519 kB)\n",
            "\u001b[2K     \u001b[90m━━━━━━━━━━━━━━━━━━━━━━━━━━━━━━━━━━━━━━\u001b[0m \u001b[32m519.2/519.2 kB\u001b[0m \u001b[31m47.2 MB/s\u001b[0m eta \u001b[36m0:00:00\u001b[0m\n",
            "\u001b[?25hRequirement already satisfied: packaging>=17.1 in /usr/local/lib/python3.10/dist-packages (from pytorch_lightning) (23.1)\n",
            "Requirement already satisfied: typing-extensions>=4.0.0 in /usr/local/lib/python3.10/dist-packages (from pytorch_lightning) (4.5.0)\n",
            "Collecting lightning-utilities>=0.7.0 (from pytorch_lightning)\n",
            "  Downloading lightning_utilities-0.8.0-py3-none-any.whl (20 kB)\n",
            "Requirement already satisfied: requests in /usr/local/lib/python3.10/dist-packages (from fsspec[http]>2021.06.0->pytorch_lightning) (2.27.1)\n",
            "Collecting aiohttp!=4.0.0a0,!=4.0.0a1 (from fsspec[http]>2021.06.0->pytorch_lightning)\n",
            "  Downloading aiohttp-3.8.4-cp310-cp310-manylinux_2_17_x86_64.manylinux2014_x86_64.whl (1.0 MB)\n",
            "\u001b[2K     \u001b[90m━━━━━━━━━━━━━━━━━━━━━━━━━━━━━━━━━━━━━━━━\u001b[0m \u001b[32m1.0/1.0 MB\u001b[0m \u001b[31m63.5 MB/s\u001b[0m eta \u001b[36m0:00:00\u001b[0m\n",
            "\u001b[?25hRequirement already satisfied: filelock in /usr/local/lib/python3.10/dist-packages (from torch>=1.11.0->pytorch_lightning) (3.12.0)\n",
            "Requirement already satisfied: sympy in /usr/local/lib/python3.10/dist-packages (from torch>=1.11.0->pytorch_lightning) (1.11.1)\n",
            "Requirement already satisfied: networkx in /usr/local/lib/python3.10/dist-packages (from torch>=1.11.0->pytorch_lightning) (3.1)\n",
            "Requirement already satisfied: jinja2 in /usr/local/lib/python3.10/dist-packages (from torch>=1.11.0->pytorch_lightning) (3.1.2)\n",
            "Requirement already satisfied: triton==2.0.0 in /usr/local/lib/python3.10/dist-packages (from torch>=1.11.0->pytorch_lightning) (2.0.0)\n",
            "Requirement already satisfied: cmake in /usr/local/lib/python3.10/dist-packages (from triton==2.0.0->torch>=1.11.0->pytorch_lightning) (3.25.2)\n",
            "Requirement already satisfied: lit in /usr/local/lib/python3.10/dist-packages (from triton==2.0.0->torch>=1.11.0->pytorch_lightning) (16.0.5)\n",
            "Requirement already satisfied: attrs>=17.3.0 in /usr/local/lib/python3.10/dist-packages (from aiohttp!=4.0.0a0,!=4.0.0a1->fsspec[http]>2021.06.0->pytorch_lightning) (23.1.0)\n",
            "Requirement already satisfied: charset-normalizer<4.0,>=2.0 in /usr/local/lib/python3.10/dist-packages (from aiohttp!=4.0.0a0,!=4.0.0a1->fsspec[http]>2021.06.0->pytorch_lightning) (2.0.12)\n",
            "Collecting multidict<7.0,>=4.5 (from aiohttp!=4.0.0a0,!=4.0.0a1->fsspec[http]>2021.06.0->pytorch_lightning)\n",
            "  Downloading multidict-6.0.4-cp310-cp310-manylinux_2_17_x86_64.manylinux2014_x86_64.whl (114 kB)\n",
            "\u001b[2K     \u001b[90m━━━━━━━━━━━━━━━━━━━━━━━━━━━━━━━━━━━━━━━\u001b[0m \u001b[32m114.5/114.5 kB\u001b[0m \u001b[31m3.3 MB/s\u001b[0m eta \u001b[36m0:00:00\u001b[0m\n",
            "\u001b[?25hCollecting async-timeout<5.0,>=4.0.0a3 (from aiohttp!=4.0.0a0,!=4.0.0a1->fsspec[http]>2021.06.0->pytorch_lightning)\n",
            "  Downloading async_timeout-4.0.2-py3-none-any.whl (5.8 kB)\n",
            "Collecting yarl<2.0,>=1.0 (from aiohttp!=4.0.0a0,!=4.0.0a1->fsspec[http]>2021.06.0->pytorch_lightning)\n",
            "  Downloading yarl-1.9.2-cp310-cp310-manylinux_2_17_x86_64.manylinux2014_x86_64.whl (268 kB)\n",
            "\u001b[2K     \u001b[90m━━━━━━━━━━━━━━━━━━━━━━━━━━━━━━━━━━━━━━\u001b[0m \u001b[32m268.8/268.8 kB\u001b[0m \u001b[31m28.8 MB/s\u001b[0m eta \u001b[36m0:00:00\u001b[0m\n",
            "\u001b[?25hCollecting frozenlist>=1.1.1 (from aiohttp!=4.0.0a0,!=4.0.0a1->fsspec[http]>2021.06.0->pytorch_lightning)\n",
            "  Downloading frozenlist-1.3.3-cp310-cp310-manylinux_2_5_x86_64.manylinux1_x86_64.manylinux_2_17_x86_64.manylinux2014_x86_64.whl (149 kB)\n",
            "\u001b[2K     \u001b[90m━━━━━━━━━━━━━━━━━━━━━━━━━━━━━━━━━━━━━━\u001b[0m \u001b[32m149.6/149.6 kB\u001b[0m \u001b[31m18.6 MB/s\u001b[0m eta \u001b[36m0:00:00\u001b[0m\n",
            "\u001b[?25hCollecting aiosignal>=1.1.2 (from aiohttp!=4.0.0a0,!=4.0.0a1->fsspec[http]>2021.06.0->pytorch_lightning)\n",
            "  Downloading aiosignal-1.3.1-py3-none-any.whl (7.6 kB)\n",
            "Requirement already satisfied: MarkupSafe>=2.0 in /usr/local/lib/python3.10/dist-packages (from jinja2->torch>=1.11.0->pytorch_lightning) (2.1.2)\n",
            "Requirement already satisfied: urllib3<1.27,>=1.21.1 in /usr/local/lib/python3.10/dist-packages (from requests->fsspec[http]>2021.06.0->pytorch_lightning) (1.26.15)\n",
            "Requirement already satisfied: certifi>=2017.4.17 in /usr/local/lib/python3.10/dist-packages (from requests->fsspec[http]>2021.06.0->pytorch_lightning) (2022.12.7)\n",
            "Requirement already satisfied: idna<4,>=2.5 in /usr/local/lib/python3.10/dist-packages (from requests->fsspec[http]>2021.06.0->pytorch_lightning) (3.4)\n",
            "Requirement already satisfied: mpmath>=0.19 in /usr/local/lib/python3.10/dist-packages (from sympy->torch>=1.11.0->pytorch_lightning) (1.3.0)\n",
            "Installing collected packages: multidict, lightning-utilities, frozenlist, async-timeout, yarl, aiosignal, aiohttp, torchmetrics, pytorch_lightning\n",
            "Successfully installed aiohttp-3.8.4 aiosignal-1.3.1 async-timeout-4.0.2 frozenlist-1.3.3 lightning-utilities-0.8.0 multidict-6.0.4 pytorch_lightning-2.0.2 torchmetrics-0.11.4 yarl-1.9.2\n"
          ]
        }
      ],
      "source": [
        "# Installing Modules\n",
        "!pip install wandb -qU\n",
        "!pip install pytorch_lightning\n",
        "\n"
      ]
    },
    {
      "cell_type": "markdown",
      "metadata": {
        "id": "g73kDqplmER-"
      },
      "source": [
        "# Drive Mount"
      ]
    },
    {
      "cell_type": "code",
      "execution_count": 2,
      "metadata": {
        "id": "8D6qxfMzgEb1",
        "colab": {
          "base_uri": "https://localhost:8080/"
        },
        "outputId": "44024a02-ffd8-46e9-f7b4-84fc2988a6eb"
      },
      "outputs": [
        {
          "output_type": "stream",
          "name": "stdout",
          "text": [
            "Mounted at /content/drive\n"
          ]
        }
      ],
      "source": [
        "\n",
        "# Google Drive Mount\n",
        "from google.colab import drive\n",
        "drive.mount('/content/drive')\n"
      ]
    },
    {
      "cell_type": "markdown",
      "metadata": {
        "id": "Am7fPcNHQvKJ"
      },
      "source": [
        "# Importing Modules\n"
      ]
    },
    {
      "cell_type": "code",
      "execution_count": 3,
      "metadata": {
        "id": "rq2lHM9cPsy1"
      },
      "outputs": [],
      "source": [
        "# Importing Modules\n",
        "\n",
        "import wandb\n",
        "import torch \n",
        "import pytorch_lightning as pl\n",
        "import torch.nn as nn\n",
        "from torch.nn  import functional\n",
        "from pytorch_lightning.loggers import WandbLogger\n",
        "from matplotlib.font_manager import FontProperties\n",
        "import torchvision.datasets as datasets\n",
        "import torchvision.transforms as transforms\n",
        "import torch.utils.data as data\n",
        "import numpy as np\n",
        "import random\n",
        "import csv\n",
        "import pandas as pd\n",
        "import seaborn as sns\n",
        "from torch.utils.data import Dataset, DataLoader\n",
        "from matplotlib import pyplot as plt\n",
        "\n",
        "\n"
      ]
    },
    {
      "cell_type": "markdown",
      "metadata": {
        "id": "YIL_C-NXQ0Mz"
      },
      "source": [
        "# Unzip data"
      ]
    },
    {
      "cell_type": "code",
      "execution_count": 4,
      "metadata": {
        "id": "ybVd9PVufOhI",
        "colab": {
          "base_uri": "https://localhost:8080/"
        },
        "outputId": "f512e740-792f-4270-e17a-5328e632a1b5"
      },
      "outputs": [
        {
          "output_type": "stream",
          "name": "stdout",
          "text": [
            "Archive:  /content/drive/MyDrive/dl/aksharantar_sampled.zip\n",
            "   creating: aksharantar_sampled/\n",
            "   creating: aksharantar_sampled/asm/\n",
            "  inflating: aksharantar_sampled/asm/asm_test.csv  \n",
            "  inflating: aksharantar_sampled/asm/asm_train.csv  \n",
            "  inflating: aksharantar_sampled/asm/asm_valid.csv  \n",
            "   creating: aksharantar_sampled/ben/\n",
            "  inflating: aksharantar_sampled/ben/ben_test.csv  \n",
            "  inflating: aksharantar_sampled/ben/ben_train.csv  \n",
            "  inflating: aksharantar_sampled/ben/ben_valid.csv  \n",
            "   creating: aksharantar_sampled/brx/\n",
            "  inflating: aksharantar_sampled/brx/brx_test.csv  \n",
            "  inflating: aksharantar_sampled/brx/brx_train.csv  \n",
            "  inflating: aksharantar_sampled/brx/brx_valid.csv  \n",
            "   creating: aksharantar_sampled/guj/\n",
            "  inflating: aksharantar_sampled/guj/guj_test.csv  \n",
            "  inflating: aksharantar_sampled/guj/guj_train.csv  \n",
            "  inflating: aksharantar_sampled/guj/guj_valid.csv  \n",
            "   creating: aksharantar_sampled/hin/\n",
            "  inflating: aksharantar_sampled/hin/hin_test.csv  \n",
            "  inflating: aksharantar_sampled/hin/hin_train.csv  \n",
            "  inflating: aksharantar_sampled/hin/hin_valid.csv  \n",
            "   creating: aksharantar_sampled/kan/\n",
            "  inflating: aksharantar_sampled/kan/kan_test.csv  \n",
            "  inflating: aksharantar_sampled/kan/kan_train.csv  \n",
            "  inflating: aksharantar_sampled/kan/kan_valid.csv  \n",
            "   creating: aksharantar_sampled/kas/\n",
            "  inflating: aksharantar_sampled/kas/kas_test.csv  \n",
            "  inflating: aksharantar_sampled/kas/kas_train.csv  \n",
            "  inflating: aksharantar_sampled/kas/kas_valid.csv  \n",
            "   creating: aksharantar_sampled/kok/\n",
            "  inflating: aksharantar_sampled/kok/kok_test.csv  \n",
            "  inflating: aksharantar_sampled/kok/kok_train.csv  \n",
            "  inflating: aksharantar_sampled/kok/kok_valid.csv  \n",
            "   creating: aksharantar_sampled/mai/\n",
            "  inflating: aksharantar_sampled/mai/mai_test.csv  \n",
            "  inflating: aksharantar_sampled/mai/mai_train.csv  \n",
            "  inflating: aksharantar_sampled/mai/mai_valid.csv  \n",
            "   creating: aksharantar_sampled/mal/\n",
            "  inflating: aksharantar_sampled/mal/mal_test.csv  \n",
            "  inflating: aksharantar_sampled/mal/mal_train.csv  \n",
            "  inflating: aksharantar_sampled/mal/mal_valid.csv  \n",
            "   creating: aksharantar_sampled/mar/\n",
            "  inflating: aksharantar_sampled/mar/mar_test.csv  \n",
            "  inflating: aksharantar_sampled/mar/mar_train.csv  \n",
            "  inflating: aksharantar_sampled/mar/mar_valid.csv  \n",
            "   creating: aksharantar_sampled/mni/\n",
            "  inflating: aksharantar_sampled/mni/mni_test.csv  \n",
            "  inflating: aksharantar_sampled/mni/mni_train.csv  \n",
            "  inflating: aksharantar_sampled/mni/mni_valid.csv  \n",
            "   creating: aksharantar_sampled/ori/\n",
            "  inflating: aksharantar_sampled/ori/ori_test.csv  \n",
            "  inflating: aksharantar_sampled/ori/ori_train.csv  \n",
            "  inflating: aksharantar_sampled/ori/ori_valid.csv  \n",
            "   creating: aksharantar_sampled/pan/\n",
            "  inflating: aksharantar_sampled/pan/pan_test.csv  \n",
            "  inflating: aksharantar_sampled/pan/pan_train.csv  \n",
            "  inflating: aksharantar_sampled/pan/pan_valid.csv  \n",
            "   creating: aksharantar_sampled/san/\n",
            "  inflating: aksharantar_sampled/san/san_test.csv  \n",
            "  inflating: aksharantar_sampled/san/san_train.csv  \n",
            "  inflating: aksharantar_sampled/san/san_valid.csv  \n",
            "   creating: aksharantar_sampled/sid/\n",
            "  inflating: aksharantar_sampled/sid/sid_test.csv  \n",
            "  inflating: aksharantar_sampled/sid/sid_train.csv  \n",
            "  inflating: aksharantar_sampled/sid/sid_valid.csv  \n",
            "   creating: aksharantar_sampled/tam/\n",
            "  inflating: aksharantar_sampled/tam/tam_test.csv  \n",
            "  inflating: aksharantar_sampled/tam/tam_train.csv  \n",
            "  inflating: aksharantar_sampled/tam/tam_valid.csv  \n",
            "   creating: aksharantar_sampled/tel/\n",
            "  inflating: aksharantar_sampled/tel/tel_test.csv  \n",
            "  inflating: aksharantar_sampled/tel/tel_train.csv  \n",
            "  inflating: aksharantar_sampled/tel/tel_valid.csv  \n",
            "   creating: aksharantar_sampled/urd/\n",
            "  inflating: aksharantar_sampled/urd/urd_test.csv  \n",
            "  inflating: aksharantar_sampled/urd/urd_train.csv  \n",
            "  inflating: aksharantar_sampled/urd/urd_valid.csv  \n"
          ]
        }
      ],
      "source": [
        "#Unzip aksharantar_sampled data \n",
        "!unzip /content/drive/MyDrive/dl/aksharantar_sampled.zip\n",
        "# !unzip Tiro_Devanagari_Hindi.zip -d hindi"
      ]
    },
    {
      "cell_type": "markdown",
      "metadata": {
        "id": "OxdJSVilWcQC"
      },
      "source": [
        "# Connecting Wandb\n"
      ]
    },
    {
      "cell_type": "code",
      "execution_count": 16,
      "metadata": {
        "id": "1MtE97XVbTJV",
        "colab": {
          "base_uri": "https://localhost:8080/",
          "height": 225
        },
        "outputId": "2bd5788d-a3f1-4bf4-d05d-dcc55ed57f08"
      },
      "outputs": [
        {
          "output_type": "stream",
          "name": "stderr",
          "text": [
            "\u001b[34m\u001b[1mwandb\u001b[0m: \u001b[33mWARNING\u001b[0m Calling wandb.login() after wandb.init() has no effect.\n"
          ]
        },
        {
          "output_type": "display_data",
          "data": {
            "text/plain": [
              "<IPython.core.display.HTML object>"
            ],
            "text/html": [
              "Finishing last run (ID:1t969dnp) before initializing another..."
            ]
          },
          "metadata": {}
        },
        {
          "output_type": "display_data",
          "data": {
            "text/plain": [
              "<IPython.core.display.HTML object>"
            ],
            "text/html": [
              "Waiting for W&B process to finish... <strong style=\"color:green\">(success).</strong>"
            ]
          },
          "metadata": {}
        },
        {
          "output_type": "display_data",
          "data": {
            "text/plain": [
              "<IPython.core.display.HTML object>"
            ],
            "text/html": [
              " View run <strong style=\"color:#cdcd00\">glorious-butterfly-2</strong> at: <a href='https://wandb.ai/saisreeram/Assignment-03-image/runs/1t969dnp' target=\"_blank\">https://wandb.ai/saisreeram/Assignment-03-image/runs/1t969dnp</a><br/>Synced 5 W&B file(s), 0 media file(s), 0 artifact file(s) and 0 other file(s)"
            ]
          },
          "metadata": {}
        },
        {
          "output_type": "display_data",
          "data": {
            "text/plain": [
              "<IPython.core.display.HTML object>"
            ],
            "text/html": [
              "Find logs at: <code>./wandb/run-20230521_104016-1t969dnp/logs</code>"
            ]
          },
          "metadata": {}
        },
        {
          "output_type": "display_data",
          "data": {
            "text/plain": [
              "<IPython.core.display.HTML object>"
            ],
            "text/html": [
              "Successfully finished last run (ID:1t969dnp). Initializing new run:<br/>"
            ]
          },
          "metadata": {}
        },
        {
          "output_type": "display_data",
          "data": {
            "text/plain": [
              "<IPython.core.display.HTML object>"
            ],
            "text/html": [
              "Tracking run with wandb version 0.15.3"
            ]
          },
          "metadata": {}
        },
        {
          "output_type": "display_data",
          "data": {
            "text/plain": [
              "<IPython.core.display.HTML object>"
            ],
            "text/html": [
              "Run data is saved locally in <code>/content/wandb/run-20230521_110227-xohohps3</code>"
            ]
          },
          "metadata": {}
        },
        {
          "output_type": "display_data",
          "data": {
            "text/plain": [
              "<IPython.core.display.HTML object>"
            ],
            "text/html": [
              "Syncing run <strong><a href='https://wandb.ai/saisreeram/Assignment-03-image/runs/xohohps3' target=\"_blank\">clear-moon-3</a></strong> to <a href='https://wandb.ai/saisreeram/Assignment-03-image' target=\"_blank\">Weights & Biases</a> (<a href='https://wandb.me/run' target=\"_blank\">docs</a>)<br/>"
            ]
          },
          "metadata": {}
        },
        {
          "output_type": "display_data",
          "data": {
            "text/plain": [
              "<IPython.core.display.HTML object>"
            ],
            "text/html": [
              " View project at <a href='https://wandb.ai/saisreeram/Assignment-03-image' target=\"_blank\">https://wandb.ai/saisreeram/Assignment-03-image</a>"
            ]
          },
          "metadata": {}
        },
        {
          "output_type": "display_data",
          "data": {
            "text/plain": [
              "<IPython.core.display.HTML object>"
            ],
            "text/html": [
              " View run at <a href='https://wandb.ai/saisreeram/Assignment-03-image/runs/xohohps3' target=\"_blank\">https://wandb.ai/saisreeram/Assignment-03-image/runs/xohohps3</a>"
            ]
          },
          "metadata": {}
        }
      ],
      "source": [
        "# Connecting to Wandb\n",
        "wandb.login(key=\"8d6c17aa48af2229c26cbc16513ef266358c0b96\")\n",
        "wandb.init(project=\"Assignment-03-image\")\n",
        "hindi_font = FontProperties(fname = 'TiroDevanagariHindi-Regular.ttf')\n"
      ]
    },
    {
      "cell_type": "markdown",
      "metadata": {
        "id": "-hhOmSKoWwCF"
      },
      "source": [
        "# Data Loading"
      ]
    },
    {
      "cell_type": "code",
      "execution_count": 6,
      "metadata": {
        "id": "adHl-oBeKkZA"
      },
      "outputs": [],
      "source": [
        "lang = \"hin\" # name of the lang to train the model\n",
        "base_dir = \"aksharantar_sampled/\" # root dir containing all the lang datasets\n",
        "\n",
        "base_dir = base_dir+lang+\"/\" \n",
        "\n",
        "train_file = base_dir+lang+\"_train.csv\"\n",
        "val_file = base_dir+lang+\"_valid.csv\"\n",
        "test_file = base_dir+lang+\"_test.csv\"\n",
        "\n",
        "# loading train,valid,test csv files\n",
        "train_data = pd.read_csv(train_file,header=None)\n",
        "val_data = pd.read_csv(val_file,header=None)\n",
        "test_data = pd.read_csv(test_file,header=None)\n",
        "\n",
        "\n",
        "# Initialization of special tokens in Character dictionaries\n",
        "latin_chars = {'<PAD>': 0, '<UNK>': 1,'<start>':2,'<end>':3}\n",
        "lang_chars = {'<PAD>': 0, '<UNK>': 1,'<start>':2,'<end>':3}\n",
        "latin_chars_num = {}\n",
        "lang_chars_num = {}\n",
        "\n",
        "# Character counting and numbering\n",
        "for word in train_data[0]:\n",
        "  for char in word :\n",
        "    if char not in latin_chars:\n",
        "      latin_chars[char] = len(latin_chars)\n",
        "\n",
        "for word in train_data[1]:\n",
        "  for char in word :\n",
        "    if char not in lang_chars:\n",
        "      lang_chars[char] = len(lang_chars)\n",
        "\n",
        "# Reverse dictionaries\n",
        "for key,value in latin_chars.items():\n",
        "  latin_chars_num[value] = key\n",
        "\n",
        "for key,value in lang_chars.items():\n",
        "  lang_chars_num[value] = key\n",
        "\n",
        "# Maximum word length\n",
        "latin_max_length = len(max(train_data[0],key = len))\n",
        "lang_max_length = len(max(train_data[1],key = len))"
      ]
    },
    {
      "cell_type": "code",
      "execution_count": 7,
      "metadata": {
        "id": "xRcCWNWOUz_e"
      },
      "outputs": [],
      "source": [
        "#Device selection\n",
        "device = torch.device(\"cuda:0\" if torch.cuda.is_available() else \"cpu\")\n",
        "\n",
        "def word_to_vec(data):\n",
        "  data1= data.T\n",
        "  data_pairs = []\n",
        "  for i in range(0,len(data)):  # Iterating over data\n",
        "    # Encoding words\n",
        "    word =  [2]+[latin_chars.get(char,latin_chars['<UNK>']) for char in data1[i][0]] + [0]*(latin_max_length - len(data1[i][0]))+[3]\n",
        "    word = word[:latin_max_length+2]\n",
        "    latin_tensor = torch.tensor(word).to(device)\n",
        "    word =  [2]+[lang_chars.get(char,lang_chars['<UNK>']) for char in data1[i][1]] + [0]*(lang_max_length - len(data1[i][1]))+[3]\n",
        "    lang_tensor = torch.tensor(word).to(device)\n",
        "    # Building data pairs\n",
        "    data_pairs.append([latin_tensor,lang_tensor])\n",
        "  # Returning data pairs\n",
        "  return data_pairs "
      ]
    },
    {
      "cell_type": "markdown",
      "metadata": {
        "id": "RG4p0iZ9w-Su"
      },
      "source": [
        "# DataLoader"
      ]
    },
    {
      "cell_type": "code",
      "execution_count": 8,
      "metadata": {
        "id": "3ArcLs1ASyX4"
      },
      "outputs": [],
      "source": [
        "# Conversion to Encoded word pairs\n",
        "train_data_pairs = word_to_vec(train_data)\n",
        "val_data_pairs = word_to_vec(val_data)\n",
        "test_data_pairs = word_to_vec(test_data)\n",
        "\n",
        "# Data loaders and Batch size and shuffling\n",
        "train_dataloader = DataLoader(train_data_pairs, batch_size=64, shuffle=True)\n",
        "val_dataloader = DataLoader(val_data_pairs, batch_size=64, shuffle=False)\n",
        "test_dataloader = DataLoader(test_data_pairs, batch_size=64, shuffle=False)\n"
      ]
    },
    {
      "cell_type": "markdown",
      "metadata": {
        "id": "ngYIl98ThLAR"
      },
      "source": [
        "# Encoder"
      ]
    },
    {
      "cell_type": "code",
      "execution_count": null,
      "metadata": {
        "id": "WwFilDT7cD0f"
      },
      "outputs": [],
      "source": [
        "class Encoder(nn.Module):\n",
        "  ''' This is the model class used to define the Encoder structure and to train the neural network on given parameters'''\n",
        "  def __init__(self,input_size,embedding_size,hidden_size,layers,cell_type,bidirectional,dropout):\n",
        "    '''\n",
        "      input_size: The size of the input vocabulary or the number of distinct tokens.\n",
        "      embedding_size: The size of the embedding vectors for each token.\n",
        "      hidden_size: The size of the hidden state of the RNN cell.\n",
        "      layers: The number of layers in the RNN.\n",
        "      cell_type: The type of the RNN cell (nn.RNN, nn.GRU, nn.LSTM).  \n",
        "      bidirectional: A boolean flag indicating whether the RNN is bidirectional or not.\n",
        "      dropout: The dropout probability for the RNN layers\n",
        "    '''\n",
        "    super(Encoder,self).__init__()\n",
        "    self.cell_type = cell_type\n",
        "    self.embedding = nn.Embedding(input_size,embedding_size)\n",
        "    self.rnn = cell_type(embedding_size,hidden_size,layers,bidirectional = bidirectional,dropout=dropout)\n",
        "  # Forward method\n",
        "  def forward(self,x):\n",
        "    embedding = self.embedding(x)\n",
        "    output,hidden = self.rnn(embedding)\n",
        "\n",
        "    return hidden\n"
      ]
    },
    {
      "cell_type": "markdown",
      "metadata": {
        "id": "ImCSvZjihPRX"
      },
      "source": [
        "# Decoder"
      ]
    },
    {
      "cell_type": "code",
      "execution_count": null,
      "metadata": {
        "id": "WVF4Sr3DhRav"
      },
      "outputs": [],
      "source": [
        "class Decoder(nn.Module):\n",
        "  ''' This is the model class used to define the Decoder structure and to train the neural network on given parameters'''\n",
        "  def __init__(self,output_size,embedding_size,hidden_size,layers,cell_type,bidirectional,dropout):\n",
        "    '''\n",
        "      output_size: The size of the output vocabulary or the number of distinct tokens.\n",
        "      embedding_size: The size of the embedding vectors for each token.\n",
        "      hidden_size: The size of the hidden state of the RNN cell.\n",
        "      layers: The number of layers in the RNN.\n",
        "      cell_type: The type of the RNN cell (nn.RNN, nn.GRU, nn.LSTM).  \n",
        "      bidirectional: A boolean flag indicating whether the RNN is bidirectional or not.\n",
        "      dropout: The dropout probability for the RNN layers\n",
        "    '''\n",
        "    super(Decoder,self).__init__()\n",
        "    self.cell_type = cell_type\n",
        "    self.embedding = nn.Embedding(output_size,embedding_size) \n",
        "    self.rnn = cell_type(embedding_size,hidden_size,layers,bidirectional = bidirectional,dropout=dropout)\n",
        "    if bidirectional:\n",
        "      self.out = nn.Linear(hidden_size*2,output_size) \n",
        "    else :\n",
        "      self.out = nn.Linear(hidden_size,output_size) \n",
        "\n",
        "  # Forward method\n",
        "  def forward(self,x,hidden):\n",
        "    x = x.unsqueeze(1).transpose(0,1)\n",
        "    embedding = self.embedding(x)\n",
        "    output,hidden = self.rnn(embedding,hidden)\n",
        "    output = self.out(output.squeeze(0))\n",
        "\n",
        "    return output,hidden\n",
        "\n",
        "\n"
      ]
    },
    {
      "cell_type": "markdown",
      "metadata": {
        "id": "pTnyND8YhSJ1"
      },
      "source": [
        "# Model"
      ]
    },
    {
      "cell_type": "code",
      "execution_count": null,
      "metadata": {
        "id": "KJdM1Vn1hUWw"
      },
      "outputs": [],
      "source": [
        "\n",
        "# This is the model class used to define the seq2seq model with encoder and decoder structure and to train the neural network on given parameters\n",
        "# Implements a sequence-to-sequence model using an encoder-decoder architecture and provides methods for training, validation, testing, and prediction. \n",
        "# It supports teacher forcing during training and beam search during inference \n",
        "\n",
        "class seq2seq(pl.LightningModule):\n",
        "  def __init__(self,input_size,output_size,embedding_size,hidden_size,encoder_layer_size,decoder_layer_size,cell_type,beam_width,dropout,bidirectional,learning_rate=0.0001):\n",
        "    '''\n",
        "      input_size: The size of the input vocabulary or the number of distinct tokens.\n",
        "      output_size: The size of the output vocabulary or the number of distinct tokens.\n",
        "      embedding_size: The size of the embedding vectors for each token.\n",
        "      hidden_size: The size of the hidden state of the RNN cells in the encoder and decoder.\n",
        "      encoder_layer_size: The number of layers in the encoder.\n",
        "      decoder_layer_size: The number of layers in the decoder.\n",
        "      cell_type: The type of the RNN cell (nn.RNN, nn.GRU, nn.LSTM).  \n",
        "      beam_width: The width of the beam search during inference.\n",
        "      dropout: The dropout probability for the RNN layers.\n",
        "      bidirectional: A boolean flag indicating whether the RNN layers are bidirectional or not.\n",
        "      learning_rate: The learning rate for the optimizer (default is 0.0001)\n",
        "    '''\n",
        "    super(seq2seq,self).__init__()\n",
        "    self.output_size = output_size\n",
        "    self.lang_max_length = lang_max_length+2\n",
        "    self.latin_max_length = latin_max_length+2\n",
        "    self.cell_type = cell_type\n",
        "    self.train_step_acc = []\n",
        "    self.train_step_loss = []\n",
        "    self.val_step_acc = []\n",
        "    self.val_step_loss = []\n",
        "    self.decoder_layer_size = decoder_layer_size #*  2 if bidirectional else 1\n",
        "    self.bidirectional = bidirectional\n",
        "    self.encoder_layer_size = encoder_layer_size \n",
        "    self.beam_width = beam_width\n",
        "    self.encoder = Encoder(input_size,embedding_size,hidden_size,encoder_layer_size,cell_type,bidirectional,dropout)\n",
        "    self.decoder = Decoder(output_size,embedding_size,hidden_size,decoder_layer_size,cell_type,bidirectional,dropout)\n",
        "    self.learning_rate = learning_rate\n",
        "\n",
        "  def beam_search(self,hidden,input,beam_width,output_len,output_seq):\n",
        "    queue = []\n",
        "    queue.append((input,1,hidden))\n",
        "    for t in range(output_len):\n",
        "      queue_temp = []\n",
        "      for i in range(len(queue)):\n",
        "        (input,prob_parent,hidden) = queue[i]\n",
        "        output_rnn,hidden = self.decoder( input ,hidden)\n",
        "        prob , index = torch.topk(output_rnn,beam_width)\n",
        "        output_rnn = output_rnn.squeeze(1)\n",
        "        for j in range(beam_width):\n",
        "          prob_score = prob_parent*prob[0][j]\n",
        "          if (prob_score > 1e-5):\n",
        "            queue_temp.append((torch.tensor([index[0][j]]).to(device),prob_score,hidden))\n",
        "      output_seq[t] = output_rnn\n",
        "      queue = sorted(queue_temp,key = lambda x:x[1] , reverse = True)[:beam_width]\n",
        "    return  output_seq\n",
        "\n",
        "  def forward(self,input,output = [],tf = 0.5) :\n",
        "    '''\n",
        "    The forward method defines the forward pass of the seq2seq model. \n",
        "    It takes an input tensor input, an optional output tensor output, and a teacher-forcing ratio tf as inputs\n",
        "    '''\n",
        "    batch_size = input.shape[0]\n",
        "    output_size = self.output_size\n",
        "\n",
        "    bidir = 2 if self.bidirectional else 1\n",
        "    hidden = self.encoder(input.transpose(0,1))\n",
        "    if self.encoder_layer_size > self.decoder_layer_size :\n",
        "      if (self.cell_type == nn.LSTM):\n",
        "        (hidden,cell) = hidden\n",
        "        hidden = hidden[-1*self.decoder_layer_size* bidir :]\n",
        "        cell = cell[-1*self.decoder_layer_size*  bidir:]\n",
        "        hidden = (hidden,cell) \n",
        "      else:\n",
        "        hidden = hidden[-1*self.decoder_layer_size* bidir:]\n",
        "        \n",
        "    elif self.encoder_layer_size < self.decoder_layer_size :\n",
        "      cell = []\n",
        "      if (self.cell_type == nn.LSTM):\n",
        "        (hidden,cell) = hidden\n",
        "        temp_hidden = hidden[-1 *bidir:]\n",
        "        temp_cell = cell[-1 *bidir:]\n",
        "        if(temp_hidden.shape[0] == 0) :\n",
        "            temp_hidden = hidden\n",
        "            temp_cell = cell\n",
        "        for i in range(self.decoder_layer_size - self.encoder_layer_size):   \n",
        "          hidden = torch.cat((hidden,temp_hidden) )\n",
        "          cell = torch.cat((cell,temp_cell))\n",
        "        hidden = (hidden,cell) \n",
        "      else :\n",
        "        temp_hidden = hidden[-1 *bidir:]\n",
        "        if(temp_hidden.shape[0] == 0) :\n",
        "            temp_hidden = hidden\n",
        "        for i in range(self.decoder_layer_size - self.encoder_layer_size):   \n",
        "          hidden = torch.cat((hidden,temp_hidden),dim=0 )\n",
        "    \n",
        "    output_seq = torch.zeros(self.lang_max_length,batch_size,output_size).to(device)\n",
        "    if tf > 0:\n",
        "      output = output.transpose(0,1)\n",
        "    next_input = torch.tensor([2]*batch_size).to(device)\n",
        "    \n",
        "\n",
        "\n",
        "    # Iterates over the decoding steps,probabilities for each time step. The output probabilities are stored in the output sequence tensor\n",
        "    if self.beam_width == 1:\n",
        "      for t in range(self.lang_max_length):\n",
        "        output_rnn,hidden = self.decoder( next_input ,hidden)\n",
        "        output_seq[t] = output_rnn.squeeze(1)\n",
        "        next_input =  output_seq[t].argmax(1) if  tf < torch.rand(1).item() else output[:,t]\n",
        "      return output_seq\n",
        "    else :\n",
        "      for i in range(batch_size):\n",
        "        output_seq_temp = torch.zeros(output.shape[1],1,output_size).to(device)\n",
        "        # print(hidden.shape,next_input.shape,batch_size)\n",
        "        # print(hidden[:,i,:]..shape)\n",
        "        output_seq_temp = self.beam_search(hidden[:,i:i+1,:],next_input[i:i+1],self.beam_width,output.shape[1],output_seq_temp)\n",
        "        output_seq[:,i:i+1,:] = output_seq_temp\n",
        "      return output_seq\n",
        "\n",
        "\n",
        "  def training_step(self,batch):\n",
        "    '''\n",
        "    The training_step method is called during the training loop for each batch of data. \n",
        "    It takes a batch of input-output pairs as input\n",
        "    '''\n",
        "    input,output = batch\n",
        "\n",
        "    output = output.permute(1,0)\n",
        "    # Calling forward \n",
        "    output_seq = self(input,output)\n",
        "    output = output.permute(1,0)\n",
        "\n",
        "    output_seq_2 = torch.zeros(output_seq.shape).to(device)\n",
        "    batch_n = np.arange(len(output_seq))\n",
        "\n",
        "    for f in range(len(output)):\n",
        "      col = output[f]\n",
        "      output_seq_2[batch_n,f,np.array(col.cpu())] = 1\n",
        "    output_dim = output_seq.shape[-1]\n",
        "    output_seq_t1 = output_seq[1:].view(-1,output_dim)\n",
        "    output_seq_t2 = output_seq_2[1:].view(-1,output_dim)\n",
        "\n",
        "    # Computing the cross-entropy loss between the predicted output sequence and the true output sequence\n",
        "    loss = nn.CrossEntropyLoss()\n",
        "    loss = loss(output_seq_t1,output_seq_t2).mean()\n",
        "    output = output.permute(1,0)\n",
        "\n",
        "    # Computing the accuracy by comparing the predicted output with the true output.\n",
        "    output_ = torch.argmax(output_seq,2)\n",
        "    acc_1 = torch.all(output_[1:-1,:] == output[1:-1,:],dim=0)\n",
        "    acc = torch.sum(acc_1 == True)/len(acc_1)\n",
        "\n",
        "    # Logging the loss and accuracy metrics using the self.log method.\n",
        "    self.log('train_loss', loss,on_epoch = True,on_step = False,prog_bar=True)\n",
        "    self.train_step_loss.append(loss)\n",
        "    self.log('train_acc', acc,on_epoch = True,on_step = False,prog_bar=True)\n",
        "    self.train_step_acc.append(acc)\n",
        "\n",
        "    return loss\n",
        "\n",
        "\n",
        "\n",
        "  def on_train_epoch_end(self):\n",
        "    '''\n",
        "    The on_train_epoch_end method is called at the end of each training epoch. \n",
        "    It calculates the average training loss and accuracy over the epoch, as well as the average validation loss and accuracy .\n",
        "    '''\n",
        "    train_acc =  torch.stack(self.train_step_acc).mean()\n",
        "    train_loss =  torch.stack(self.train_step_loss).mean()\n",
        "    val_acc =  torch.stack(self.val_step_acc).mean()\n",
        "    val_loss =  torch.stack(self.val_step_loss).mean()\n",
        "    print(\"train_loss:\",train_loss.item(),\"train_acc\",train_acc.item(),\"val_loss:\",val_loss.item(),\"val_acc\",val_acc.item())\n",
        "    # wandb.log({\"train_loss\":train_loss.item(),\"train_acc\":train_acc.item(),\"val_loss\":val_loss.item(),\"val_acc\":val_acc.item()})\n",
        "    self.train_step_acc.clear() \n",
        "    self.train_step_loss.clear() \n",
        "    self.val_step_acc.clear() \n",
        "    self.val_step_loss.clear() \n",
        "\n",
        "\n",
        "  def validation_step(self, batch,batch_idx):\n",
        "    '''\n",
        "    The validation_step method is similar to the training_step method but is called during the validation loop for each batch of data.\n",
        "    It computes the loss and accuracy metrics for the validation data\n",
        "    '''\n",
        "    input,output = batch\n",
        "    output = output.permute(1,0)\n",
        "    output_seq = self(input,output,0)\n",
        "    output = output.permute(1,0)\n",
        "\n",
        "    output_seq_2 = torch.zeros(output_seq.shape).to(device)\n",
        "    batch_n = np.arange(len(output_seq))\n",
        "\n",
        "    for f in range(len(output)):\n",
        "      col = output[f]\n",
        "      output_seq_2[batch_n,f,np.array(col.cpu())] = 1\n",
        "\n",
        "    output_dim = output_seq.shape[-1]\n",
        "  \n",
        "    output_seq_t1 = output_seq[1:].view(-1,output_dim)\n",
        "    output_seq_t2 = output_seq_2[1:].view(-1,output_dim)\n",
        "    # Computing the cross-entropy loss between the predicted output sequence and the true output sequence\n",
        "    loss = nn.CrossEntropyLoss()\n",
        "    loss = loss(output_seq_t1,output_seq_t2).mean()\n",
        "    output = output.permute(1,0)\n",
        "    # Computing the accuracy by comparing the predicted output with the true output.\n",
        "    output_ = torch.argmax(output_seq,2)\n",
        "    acc_1 = torch.all(output_[1:-1,:] == output[1:-1,:],dim=0)\n",
        "    acc = torch.sum(acc_1 == True)/len(acc_1)\n",
        "\n",
        "    # Logging the loss and accuracy metrics using the self.log method.\n",
        "    self.log('val_loss', loss,on_epoch = True,on_step = False,prog_bar=True)\n",
        "    self.val_step_loss.append(loss)\n",
        "    self.log('val_acc', acc,on_epoch = True,on_step = False,prog_bar=True)\n",
        "    self.val_step_acc.append(acc)\n",
        "\n",
        "    return loss\n",
        "\n",
        "  def configure_optimizers(self):\n",
        "    '''\n",
        "    The configure_optimizers method is used to configure the optimizer for the model. \n",
        "    In this case, it returns an Adam optimizer with the learning rate specified during initialization.\n",
        "    '''\n",
        "    return torch.optim.Adam(self.parameters(),lr= self.learning_rate)\n",
        "\n",
        "\n",
        "  def test_step(self, batch,batch_idx):\n",
        "    '''\n",
        "    The test_step method is similar to the validation_step method but is called during the testing phase for each batch of data.\n",
        "     It computes the loss and accuracy metrics for the test data\n",
        "    '''\n",
        "    input,output = batch\n",
        "    output = output.permute(1,0)\n",
        "\n",
        "    # Calling forward \n",
        "    output_seq = self(input,output,0)\n",
        "    output = output.permute(1,0)\n",
        "\n",
        "    output_seq_2 = torch.zeros(output_seq.shape).to(device)\n",
        "    batch_n = np.arange(len(output_seq))\n",
        "\n",
        "    for f in range(len(output)):\n",
        "      col = output[f]\n",
        "      output_seq_2[batch_n,f,np.array(col.cpu())] = 1\n",
        "\n",
        "    output_dim = output_seq.shape[-1]  \n",
        "    output_seq_t1 = output_seq[1:].view(-1,output_dim)\n",
        "    output_seq_t2 = output_seq_2[1:].view(-1,output_dim)\n",
        "\n",
        "    # Computing the cross-entropy loss between the predicted output sequence and the true output sequence\n",
        "    loss = nn.CrossEntropyLoss()\n",
        "    loss = loss(output_seq_t1,output_seq_t2).mean()\n",
        "    output = output.permute(1,0)\n",
        "\n",
        "    # Computing the accuracy by comparing the predicted output with the true output.\n",
        "    output_ = torch.argmax(output_seq,2)\n",
        "    acc_1 = torch.all(output_[1:-1,:] == output[1:-1,:],dim=0)\n",
        "    acc = torch.sum(acc_1 == True)/len(acc_1)\n",
        "\n",
        "    # Logging the loss and accuracy metrics using the self.log method.\n",
        "    self.log('test_loss', loss,on_epoch = True,on_step = False,prog_bar=True)\n",
        "    self.log('test_acc', acc,on_epoch = True,on_step = False,prog_bar=True)\n",
        "    return loss\n",
        "\n",
        "  def predict_step(self, batch,batch_idx,dataloader_idx=0):\n",
        "    '''\n",
        "    The predict_step method is called during the prediction phase for each batch of data.\n",
        "    It takes the input batch and returns the predicted output sequence.\n",
        "    '''\n",
        "    trainX = batch\n",
        "    output_seq = self(trainX)\n",
        "    return output_seq\n"
      ]
    },
    {
      "cell_type": "markdown",
      "metadata": {
        "id": "Veud775QWMQf"
      },
      "source": [
        "\n",
        "# Sweep Config"
      ]
    },
    {
      "cell_type": "code",
      "execution_count": null,
      "metadata": {
        "id": "lrCro-KPWMQf"
      },
      "outputs": [],
      "source": [
        "\n",
        "\n",
        "config= {\n",
        "    'method': 'bayes',\n",
        "    'name': 'sweep',\n",
        "    'metric': {\n",
        "        'goal': 'maximize', \n",
        "        'name': 'val_acc'\n",
        "      },\n",
        "    \"parameters\":\n",
        "    {\n",
        "      \n",
        "    \"bidirectional\" :{\n",
        "        \"values\" : [True,False]\n",
        "    },\n",
        "    \"dropout\" :{\n",
        "        \"values\" : [0,0.2,0.3]\n",
        "    },\n",
        "    \"cell_type\" :{\n",
        "          \"values\" : [\"RNN\", \"GRU\", \"LSTM\"]\n",
        "    },\n",
        "      \"epochs\" :{\n",
        "          \"values\" : [10,  15, 20]\n",
        "    },\n",
        "     \n",
        "      \"encoder_layers\" :{\n",
        "          \"values\" : [1,  2, 3]\n",
        "    },\n",
        "      \"decoder_layers\" :{\n",
        "          \"values\" : [1,  2, 3]\n",
        "    },\n",
        "      \"embedding_size\" :{\n",
        "          \"values\" : [16,32,64,256]\n",
        "    },\n",
        "      \"hidden_layer_size\" :{\n",
        "          \"values\" : [16,32,64,256]\n",
        "    },\n",
        "\n",
        "      \"learning_rate\" :{\n",
        "          \"values\" : [1e-3,1e-4]\n",
        "    },\n",
        "      \"batch_size\" :{\n",
        "          \"values\" : [32,64,128,256]\n",
        "    }\n",
        "\n",
        "    }\n",
        "\n",
        "}\n"
      ]
    },
    {
      "cell_type": "markdown",
      "metadata": {
        "id": "b-7elHMZWMQg"
      },
      "source": [
        "# Sweep Function"
      ]
    },
    {
      "cell_type": "code",
      "execution_count": null,
      "metadata": {
        "id": "Z10jxS0QWMQg",
        "colab": {
          "base_uri": "https://localhost:8080/",
          "height": 1000,
          "referenced_widgets": [
            "12a8b5836aa84f5ba84303f5512f1f96",
            "9538b79af6d649e7b834500ec2978c93",
            "1b85337864e44efa92a020aaa6240b38",
            "77330d3266444b168de99190746d1ecc",
            "30f5b902d7a943bd8073c0077dc3c34c",
            "afda9603bedd491eb4808c7c580f4706",
            "2fb1fe92315b46859b92924e716ab1b9",
            "f874293c697a4f09be6f67caa7c72fee",
            "daea3eaa368f441a8caa90898f992d2d",
            "285332f1a4d94565bc09320cc1b6886e",
            "830000d1707f4faaaa0f245e13c833e5",
            "09d6bbb07f3a4377a32b17d8f8d7d168",
            "71fb5474c9824a8a8dfe75ff71d5dce2",
            "a18f099c5dec43e3b4515e120ac846b1",
            "8f5259e6633f4f2e990e66e73b4a848d",
            "bd039aacb24d460e95f3e0060fd984b2",
            "a90f747e9fd04f9d820693f4197da931",
            "afafd2ed451a41278308ae0c9be4037b",
            "f6ed8e4d2dfc4a618756ea04903711b7",
            "19d97b5ec5d64823ad1f1ccd97fdfa93",
            "1203a93543944d588e80927fc6c6fb44",
            "a155d1c58f1c4145aacbef7c2a8f3710",
            "aaa00e6d60834b23a42c27b4577f8e0e",
            "ae915d6b28ed4d9091539c3d80c71e90",
            "1502fa0862a841c68ae24f530b5ddc90",
            "9031216eef28439b94d4f8031beb5c44",
            "0952c47aa0d74ee89e94e415a37fbe59",
            "a2718c01a43f42e98f93e113e2e0992a",
            "4530173f25b7425c99e3cfd95e7f5f68",
            "cbf215a81ae14bb9a8eb8360d6659d36",
            "235c812d4d0640b7abec1ee5de8d5ea6",
            "35cafb1a8d354c06866e7dee2aba15ad",
            "478f10afb7b24e46afa4073b3f24bedb",
            "afc4abab117940bf8281d562a55c7d87",
            "5fb7c2deb3bf4f94a6c23bfdf42c86cd",
            "7fd7b771e8534ed2a62bcf872bb6b3c9",
            "a67b7d63d815433ca6eba0f712a7f8a6",
            "4ceeb2ff74a0487ab0169ac0db4dab7a",
            "7abda3355d294da19006ba0cbf2eb53a",
            "287986ee183a4870a782bef1c3cb943e",
            "b10a29660a424b5486d7fa60afbd37e0",
            "3ae31b3992f446f7be2b6b126dd1c389",
            "d6add7f709ed417591cfa2d68731fd1c",
            "0eb7da5148e64e17a5286bf269cc0359",
            "2b8bfe0779454641822398d2e46dee3c",
            "7750c9fe0817417cb81e67c7fd4fcb86",
            "8931811d3d2049d8ad3eb33d6a3b13a7",
            "071451e796b243338e19a15eb43b9ae5",
            "b802b1eb0f4a4f3c85489b93572d2b32",
            "02eeaf644a8644cea1e8b1d5ae652515",
            "22e76c9e1d3d42c397edd16ebd21a3a5",
            "b037692e90cb40aea3c687a435ba7125",
            "df29f65baa534d57b9ccc819f0fd8ba8",
            "c174bac13f9041a08b2f9937476374fb",
            "8ad7951d4de642ac87923e38ddadc273",
            "a62cc04b0a7242bfa74f1636a07f26db",
            "270568b825e7489ba5b37e687bb602c9",
            "0d364bc988a641d7b378177da403684e",
            "7aa38587640145f9bafa43a6bc2da094",
            "ae002b0d55ad4e5ebffb8110180f36ff",
            "c9731eca8e334db38a7bf6d3e0fea263",
            "744c6d250cb64833afe222431aa07dc8",
            "5b249ac603984fc2bcb316085e34ed92"
          ]
        },
        "outputId": "1782923f-0715-4789-9536-f9ecc937e6b7"
      },
      "outputs": [
        {
          "output_type": "display_data",
          "data": {
            "text/plain": [
              "<IPython.core.display.Javascript object>"
            ],
            "application/javascript": [
              "\n",
              "        window._wandbApiKey = new Promise((resolve, reject) => {\n",
              "            function loadScript(url) {\n",
              "            return new Promise(function(resolve, reject) {\n",
              "                let newScript = document.createElement(\"script\");\n",
              "                newScript.onerror = reject;\n",
              "                newScript.onload = resolve;\n",
              "                document.body.appendChild(newScript);\n",
              "                newScript.src = url;\n",
              "            });\n",
              "            }\n",
              "            loadScript(\"https://cdn.jsdelivr.net/npm/postmate/build/postmate.min.js\").then(() => {\n",
              "            const iframe = document.createElement('iframe')\n",
              "            iframe.style.cssText = \"width:0;height:0;border:none\"\n",
              "            document.body.appendChild(iframe)\n",
              "            const handshake = new Postmate({\n",
              "                container: iframe,\n",
              "                url: 'https://wandb.ai/authorize'\n",
              "            });\n",
              "            const timeout = setTimeout(() => reject(\"Couldn't auto authenticate\"), 5000)\n",
              "            handshake.then(function(child) {\n",
              "                child.on('authorize', data => {\n",
              "                    clearTimeout(timeout)\n",
              "                    resolve(data)\n",
              "                });\n",
              "            });\n",
              "            })\n",
              "        });\n",
              "    "
            ]
          },
          "metadata": {}
        },
        {
          "output_type": "stream",
          "name": "stderr",
          "text": [
            "\u001b[34m\u001b[1mwandb\u001b[0m: Logging into wandb.ai. (Learn how to deploy a W&B server locally: https://wandb.me/wandb-server)\n",
            "\u001b[34m\u001b[1mwandb\u001b[0m: You can find your API key in your browser here: https://wandb.ai/authorize\n",
            "wandb: Paste an API key from your profile and hit enter, or press ctrl+c to quit:"
          ]
        },
        {
          "name": "stdout",
          "output_type": "stream",
          "text": [
            " ··········\n"
          ]
        },
        {
          "output_type": "stream",
          "name": "stderr",
          "text": [
            "\u001b[34m\u001b[1mwandb\u001b[0m: Appending key for api.wandb.ai to your netrc file: /root/.netrc\n"
          ]
        },
        {
          "output_type": "stream",
          "name": "stdout",
          "text": [
            "Create sweep with ID: 6i43bcrc\n",
            "Sweep URL: https://wandb.ai/saisreeram/Assignment-03/sweeps/6i43bcrc\n"
          ]
        },
        {
          "output_type": "stream",
          "name": "stderr",
          "text": [
            "\u001b[34m\u001b[1mwandb\u001b[0m: Agent Starting Run: dd4xok2i with config:\n",
            "\u001b[34m\u001b[1mwandb\u001b[0m: \tbatch_size: 128\n",
            "\u001b[34m\u001b[1mwandb\u001b[0m: \tbidirectional: False\n",
            "\u001b[34m\u001b[1mwandb\u001b[0m: \tcell_type: GRU\n",
            "\u001b[34m\u001b[1mwandb\u001b[0m: \tdecoder_layers: 2\n",
            "\u001b[34m\u001b[1mwandb\u001b[0m: \tdropout: 0.3\n",
            "\u001b[34m\u001b[1mwandb\u001b[0m: \tembedding_size: 64\n",
            "\u001b[34m\u001b[1mwandb\u001b[0m: \tencoder_layers: 1\n",
            "\u001b[34m\u001b[1mwandb\u001b[0m: \tepochs: 20\n",
            "\u001b[34m\u001b[1mwandb\u001b[0m: \thidden_layer_size: 32\n",
            "\u001b[34m\u001b[1mwandb\u001b[0m: \tlearning_rate: 0.001\n",
            "\u001b[34m\u001b[1mwandb\u001b[0m: Currently logged in as: \u001b[33mcs22m076\u001b[0m (\u001b[33msaisreeram\u001b[0m). Use \u001b[1m`wandb login --relogin`\u001b[0m to force relogin\n"
          ]
        },
        {
          "output_type": "display_data",
          "data": {
            "text/plain": [
              "<IPython.core.display.HTML object>"
            ],
            "text/html": [
              "Tracking run with wandb version 0.15.3"
            ]
          },
          "metadata": {}
        },
        {
          "output_type": "display_data",
          "data": {
            "text/plain": [
              "<IPython.core.display.HTML object>"
            ],
            "text/html": [
              "Run data is saved locally in <code>/content/wandb/run-20230521_093321-dd4xok2i</code>"
            ]
          },
          "metadata": {}
        },
        {
          "output_type": "display_data",
          "data": {
            "text/plain": [
              "<IPython.core.display.HTML object>"
            ],
            "text/html": [
              "Syncing run <strong><a href='https://wandb.ai/saisreeram/Assignment-03/runs/dd4xok2i' target=\"_blank\">autumn-sweep-1</a></strong> to <a href='https://wandb.ai/saisreeram/Assignment-03' target=\"_blank\">Weights & Biases</a> (<a href='https://wandb.me/run' target=\"_blank\">docs</a>)<br/>Sweep page: <a href='https://wandb.ai/saisreeram/Assignment-03/sweeps/6i43bcrc' target=\"_blank\">https://wandb.ai/saisreeram/Assignment-03/sweeps/6i43bcrc</a>"
            ]
          },
          "metadata": {}
        },
        {
          "output_type": "display_data",
          "data": {
            "text/plain": [
              "<IPython.core.display.HTML object>"
            ],
            "text/html": [
              " View project at <a href='https://wandb.ai/saisreeram/Assignment-03' target=\"_blank\">https://wandb.ai/saisreeram/Assignment-03</a>"
            ]
          },
          "metadata": {}
        },
        {
          "output_type": "display_data",
          "data": {
            "text/plain": [
              "<IPython.core.display.HTML object>"
            ],
            "text/html": [
              " View sweep at <a href='https://wandb.ai/saisreeram/Assignment-03/sweeps/6i43bcrc' target=\"_blank\">https://wandb.ai/saisreeram/Assignment-03/sweeps/6i43bcrc</a>"
            ]
          },
          "metadata": {}
        },
        {
          "output_type": "display_data",
          "data": {
            "text/plain": [
              "<IPython.core.display.HTML object>"
            ],
            "text/html": [
              " View run at <a href='https://wandb.ai/saisreeram/Assignment-03/runs/dd4xok2i' target=\"_blank\">https://wandb.ai/saisreeram/Assignment-03/runs/dd4xok2i</a>"
            ]
          },
          "metadata": {}
        },
        {
          "output_type": "stream",
          "name": "stderr",
          "text": [
            "/usr/local/lib/python3.10/dist-packages/torch/nn/modules/rnn.py:71: UserWarning: dropout option adds dropout after all but last recurrent layer, so non-zero dropout expects num_layers greater than 1, but got dropout=0.3 and num_layers=1\n",
            "  warnings.warn(\"dropout option adds dropout after all but last \"\n",
            "INFO:pytorch_lightning.utilities.rank_zero:GPU available: True (cuda), used: True\n",
            "INFO:pytorch_lightning.utilities.rank_zero:TPU available: False, using: 0 TPU cores\n",
            "INFO:pytorch_lightning.utilities.rank_zero:IPU available: False, using: 0 IPUs\n",
            "INFO:pytorch_lightning.utilities.rank_zero:HPU available: False, using: 0 HPUs\n",
            "WARNING:pytorch_lightning.loggers.tensorboard:Missing logger folder: /content/lightning_logs\n",
            "INFO:pytorch_lightning.accelerators.cuda:LOCAL_RANK: 0 - CUDA_VISIBLE_DEVICES: [0]\n",
            "INFO:pytorch_lightning.callbacks.model_summary:\n",
            "  | Name    | Type    | Params\n",
            "------------------------------------\n",
            "0 | encoder | Encoder | 11.3 K\n",
            "1 | decoder | Decoder | 22.3 K\n",
            "------------------------------------\n",
            "33.7 K    Trainable params\n",
            "0         Non-trainable params\n",
            "33.7 K    Total params\n",
            "0.135     Total estimated model params size (MB)\n"
          ]
        },
        {
          "output_type": "display_data",
          "data": {
            "text/plain": [
              "Sanity Checking: 0it [00:00, ?it/s]"
            ],
            "application/vnd.jupyter.widget-view+json": {
              "version_major": 2,
              "version_minor": 0,
              "model_id": "12a8b5836aa84f5ba84303f5512f1f96"
            }
          },
          "metadata": {}
        },
        {
          "output_type": "display_data",
          "data": {
            "text/plain": [
              "Training: 0it [00:00, ?it/s]"
            ],
            "application/vnd.jupyter.widget-view+json": {
              "version_major": 2,
              "version_minor": 0,
              "model_id": "09d6bbb07f3a4377a32b17d8f8d7d168"
            }
          },
          "metadata": {}
        },
        {
          "output_type": "display_data",
          "data": {
            "text/plain": [
              "Validation: 0it [00:00, ?it/s]"
            ],
            "application/vnd.jupyter.widget-view+json": {
              "version_major": 2,
              "version_minor": 0,
              "model_id": "aaa00e6d60834b23a42c27b4577f8e0e"
            }
          },
          "metadata": {}
        },
        {
          "output_type": "stream",
          "name": "stderr",
          "text": [
            "INFO:pytorch_lightning.utilities.rank_zero:`Trainer.fit` stopped: `max_epochs=1` reached.\n"
          ]
        },
        {
          "output_type": "stream",
          "name": "stdout",
          "text": [
            "train_loss: 1.7935580015182495 train_acc 0.0 val_loss: 1.4812251329421997 val_acc 0.0\n"
          ]
        },
        {
          "output_type": "display_data",
          "data": {
            "text/plain": [
              "<IPython.core.display.HTML object>"
            ],
            "text/html": [
              "Waiting for W&B process to finish... <strong style=\"color:green\">(success).</strong>"
            ]
          },
          "metadata": {}
        },
        {
          "output_type": "display_data",
          "data": {
            "text/plain": [
              "VBox(children=(Label(value='0.001 MB of 0.001 MB uploaded (0.000 MB deduped)\\r'), FloatProgress(value=1.0, max…"
            ],
            "application/vnd.jupyter.widget-view+json": {
              "version_major": 2,
              "version_minor": 0,
              "model_id": "afc4abab117940bf8281d562a55c7d87"
            }
          },
          "metadata": {}
        },
        {
          "output_type": "display_data",
          "data": {
            "text/plain": [
              "<IPython.core.display.HTML object>"
            ],
            "text/html": [
              " View run <strong style=\"color:#cdcd00\">autumn-sweep-1</strong> at: <a href='https://wandb.ai/saisreeram/Assignment-03/runs/dd4xok2i' target=\"_blank\">https://wandb.ai/saisreeram/Assignment-03/runs/dd4xok2i</a><br/>Synced 5 W&B file(s), 0 media file(s), 0 artifact file(s) and 0 other file(s)"
            ]
          },
          "metadata": {}
        },
        {
          "output_type": "display_data",
          "data": {
            "text/plain": [
              "<IPython.core.display.HTML object>"
            ],
            "text/html": [
              "Find logs at: <code>./wandb/run-20230521_093321-dd4xok2i/logs</code>"
            ]
          },
          "metadata": {}
        },
        {
          "output_type": "stream",
          "name": "stderr",
          "text": [
            "\u001b[34m\u001b[1mwandb\u001b[0m: Agent Starting Run: ly1p6fat with config:\n",
            "\u001b[34m\u001b[1mwandb\u001b[0m: \tbatch_size: 64\n",
            "\u001b[34m\u001b[1mwandb\u001b[0m: \tbidirectional: True\n",
            "\u001b[34m\u001b[1mwandb\u001b[0m: \tcell_type: GRU\n",
            "\u001b[34m\u001b[1mwandb\u001b[0m: \tdecoder_layers: 1\n",
            "\u001b[34m\u001b[1mwandb\u001b[0m: \tdropout: 0.3\n",
            "\u001b[34m\u001b[1mwandb\u001b[0m: \tembedding_size: 16\n",
            "\u001b[34m\u001b[1mwandb\u001b[0m: \tencoder_layers: 3\n",
            "\u001b[34m\u001b[1mwandb\u001b[0m: \tepochs: 20\n",
            "\u001b[34m\u001b[1mwandb\u001b[0m: \thidden_layer_size: 16\n",
            "\u001b[34m\u001b[1mwandb\u001b[0m: \tlearning_rate: 0.001\n"
          ]
        },
        {
          "output_type": "display_data",
          "data": {
            "text/plain": [
              "<IPython.core.display.HTML object>"
            ],
            "text/html": [
              "Tracking run with wandb version 0.15.3"
            ]
          },
          "metadata": {}
        },
        {
          "output_type": "display_data",
          "data": {
            "text/plain": [
              "<IPython.core.display.HTML object>"
            ],
            "text/html": [
              "Run data is saved locally in <code>/content/wandb/run-20230521_093358-ly1p6fat</code>"
            ]
          },
          "metadata": {}
        },
        {
          "output_type": "display_data",
          "data": {
            "text/plain": [
              "<IPython.core.display.HTML object>"
            ],
            "text/html": [
              "Syncing run <strong><a href='https://wandb.ai/saisreeram/Assignment-03/runs/ly1p6fat' target=\"_blank\">vivid-sweep-2</a></strong> to <a href='https://wandb.ai/saisreeram/Assignment-03' target=\"_blank\">Weights & Biases</a> (<a href='https://wandb.me/run' target=\"_blank\">docs</a>)<br/>Sweep page: <a href='https://wandb.ai/saisreeram/Assignment-03/sweeps/6i43bcrc' target=\"_blank\">https://wandb.ai/saisreeram/Assignment-03/sweeps/6i43bcrc</a>"
            ]
          },
          "metadata": {}
        },
        {
          "output_type": "display_data",
          "data": {
            "text/plain": [
              "<IPython.core.display.HTML object>"
            ],
            "text/html": [
              " View project at <a href='https://wandb.ai/saisreeram/Assignment-03' target=\"_blank\">https://wandb.ai/saisreeram/Assignment-03</a>"
            ]
          },
          "metadata": {}
        },
        {
          "output_type": "display_data",
          "data": {
            "text/plain": [
              "<IPython.core.display.HTML object>"
            ],
            "text/html": [
              " View sweep at <a href='https://wandb.ai/saisreeram/Assignment-03/sweeps/6i43bcrc' target=\"_blank\">https://wandb.ai/saisreeram/Assignment-03/sweeps/6i43bcrc</a>"
            ]
          },
          "metadata": {}
        },
        {
          "output_type": "display_data",
          "data": {
            "text/plain": [
              "<IPython.core.display.HTML object>"
            ],
            "text/html": [
              " View run at <a href='https://wandb.ai/saisreeram/Assignment-03/runs/ly1p6fat' target=\"_blank\">https://wandb.ai/saisreeram/Assignment-03/runs/ly1p6fat</a>"
            ]
          },
          "metadata": {}
        },
        {
          "output_type": "stream",
          "name": "stderr",
          "text": [
            "/usr/local/lib/python3.10/dist-packages/torch/nn/modules/rnn.py:71: UserWarning: dropout option adds dropout after all but last recurrent layer, so non-zero dropout expects num_layers greater than 1, but got dropout=0.3 and num_layers=1\n",
            "  warnings.warn(\"dropout option adds dropout after all but last \"\n",
            "INFO:pytorch_lightning.utilities.rank_zero:GPU available: True (cuda), used: True\n",
            "INFO:pytorch_lightning.utilities.rank_zero:TPU available: False, using: 0 TPU cores\n",
            "INFO:pytorch_lightning.utilities.rank_zero:IPU available: False, using: 0 IPUs\n",
            "INFO:pytorch_lightning.utilities.rank_zero:HPU available: False, using: 0 HPUs\n",
            "INFO:pytorch_lightning.accelerators.cuda:LOCAL_RANK: 0 - CUDA_VISIBLE_DEVICES: [0]\n",
            "INFO:pytorch_lightning.callbacks.model_summary:\n",
            "  | Name    | Type    | Params\n",
            "------------------------------------\n",
            "0 | encoder | Encoder | 13.3 K\n",
            "1 | decoder | Decoder | 6.6 K \n",
            "------------------------------------\n",
            "19.9 K    Trainable params\n",
            "0         Non-trainable params\n",
            "19.9 K    Total params\n",
            "0.080     Total estimated model params size (MB)\n"
          ]
        },
        {
          "output_type": "display_data",
          "data": {
            "text/plain": [
              "Sanity Checking: 0it [00:00, ?it/s]"
            ],
            "application/vnd.jupyter.widget-view+json": {
              "version_major": 2,
              "version_minor": 0,
              "model_id": "3ae31b3992f446f7be2b6b126dd1c389"
            }
          },
          "metadata": {}
        },
        {
          "output_type": "display_data",
          "data": {
            "text/plain": [
              "Training: 0it [00:00, ?it/s]"
            ],
            "application/vnd.jupyter.widget-view+json": {
              "version_major": 2,
              "version_minor": 0,
              "model_id": "df29f65baa534d57b9ccc819f0fd8ba8"
            }
          },
          "metadata": {}
        },
        {
          "output_type": "stream",
          "name": "stderr",
          "text": [
            "\u001b[34m\u001b[1mwandb\u001b[0m: Ctrl + C detected. Stopping sweep.\n"
          ]
        }
      ],
      "source": [
        "\n",
        "cell_map = {\"RNN\":nn.RNN, \"GRU\":nn.GRU, \"LSTM\":nn.LSTM}\n",
        "def sweeprun():\n",
        "  wandb.init()\n",
        "  # Getting config from sweep wandb sweep config\n",
        "  bidirectional = wandb.config.bidirectional\n",
        "  dropout = wandb.config.dropout\n",
        "  cell_type = wandb.config.cell_type\n",
        "  encoder_layers = wandb.config.encoder_layers\n",
        "  decoder_layers = wandb.config.decoder_layers\n",
        "  epochs = wandb.config.epochs\n",
        "  learning_rate = wandb.config.learning_rate\n",
        "  batch_size = wandb.config.batch_size\n",
        "  embedding_size = wandb.config.embedding_size\n",
        "  hidden_layer_size = wandb.config.hidden_layer_size\n",
        "  # unique run name \n",
        "  run_name = \"lr_{}_rnn_{}_dp_{}_bd_{}_el_{}_dl_{}_ep_{}_es_{}_hs_{}_bs_{}\".format(learning_rate,cell_type, dropout, bidirectional,encoder_layers, decoder_layers,epochs,embedding_size,hidden_layer_size,batch_size)\n",
        "\n",
        "  train_dataloader = DataLoader(train_data_pairs, batch_size=batch_size, shuffle=True)\n",
        "  val_dataloader = DataLoader(val_data_pairs, batch_size=batch_size, shuffle=False)\n",
        "\n",
        "  cell_type = cell_map[cell_type]\n",
        "  model = seq2seq(input_size = len(latin_chars), output_size = len(lang_chars),\n",
        "                embedding_size = embedding_size, hidden_size = hidden_layer_size,encoder_layer_size = encoder_layers,\n",
        "                decoder_layer_size = decoder_layers,cell_type = cell_type,\n",
        "                beam_width = 1,dropout= dropout,\n",
        "                bidirectional =bidirectional ,learning_rate = learning_rate)\n",
        "  model.to(device)\n",
        "\n",
        "  trainer = pl.Trainer(max_epochs=epochs,accelerator = 'gpu') \n",
        "  trainer.fit(model, train_dataloader,val_dataloader)\n",
        "\n",
        "  wandb.run.name = run_name\n",
        "  wandb.finish()\n",
        "\n",
        "\n",
        "\n",
        "sweep_id = wandb.sweep(config,project=\"Assignment-03\", entity = \"saisreeram\")\n",
        "wandb.agent(sweep_id, sweeprun)"
      ]
    },
    {
      "cell_type": "markdown",
      "metadata": {
        "id": "Dk8c9Or1IYVM"
      },
      "source": [
        "# Model Training on Best Model"
      ]
    },
    {
      "cell_type": "code",
      "execution_count": null,
      "metadata": {
        "id": "ZcQQGaXgISbs",
        "colab": {
          "base_uri": "https://localhost:8080/",
          "height": 755,
          "referenced_widgets": [
            "d8e5172184ed4a7a92b7fe44c7748f77",
            "20041d1234224e86a4f397709b592c22",
            "eaa7b7dd6fcc4c24b383563b02379b58",
            "c4fe2a81c6884ca4b42d7a5c3518488e",
            "44e88cf36d9d43168d231a4bd4d94471",
            "9da6a102c5d943329c507e4b60aab95e",
            "bf3eb7225712476586f16956b16ee145",
            "2ce0a94f15c3406dad5774e083cd3291",
            "f8b62f49d16c4916832585f37bd9276f",
            "ffcc623563214ca19398426f5723287d",
            "1b4b0b3df03f4226b499fa9f75e5c2ce",
            "c2602fd748af4ce88c8935c196155dee",
            "92b71ca5683944e199fc1e3bec12fc4b",
            "2b4531ff61a5479f889daedc562b4134",
            "f3cd3bfc7d3942edaba2b6d4d02371dc",
            "1d6b0c669457436cb147b9a622dc59ba",
            "fba65a351dce4a169f84fad3c2eba174",
            "5771a32da43a497da03ab6c2430eb88d",
            "741659096f4647e6a5ba497b539c26bb",
            "a5cef5a66e8f4b89a716c49abe6ae944",
            "c348f3be1ca44a0abb46340a26376815",
            "d7d395ef147d4907ba44b33aea7a52cc",
            "ebb4f9fd0c2b40bc922c384ee98bdc88",
            "908ace3b47a0434ebc3d1f913a3ee6fe",
            "848cc0dea89846ffa9723e769faa78b1",
            "113e245a1e21429ea8cd004034bfae26",
            "9532b6bebf9c4cc3ae6d41937996e4e7",
            "585e1a6b3cd64c25b6f2a7ba4649d85e",
            "2b128ce2360644879e31913fc7809659",
            "d6d9bdd7955b4ec1b63081671ec7538a",
            "4e8c6d11438f4852a1a248e9a1010c39",
            "cfe422756e1241feb7b75949ab136cdc",
            "b2e0a79e889a4db4aee644587fccbf12",
            "8f50a98b01184344b1bcc893a78bcebe",
            "f478d1019c024f68864e969b2feb4531",
            "2f7bad5c91184bcb97cb779b6ae7cbea",
            "0299bebf76824af9995a1284382354fc",
            "5c5cd70d5dfc463aa9f2593dccd8ad84",
            "37eb5dbf7b3444fd86b5ca1bb04830bd",
            "11907570a88e44f4ba810f8c4da369d2",
            "0c9e083834a5451887a00a4eccd19980",
            "6add4f3fc5d7476f9a962d9cfbe8357a",
            "e18fed0b0c7e48958b7da4726782609b",
            "babe461e7eae4b9db9ba49f688ce4646",
            "c73318169f2d479db57619675e10df5e",
            "f492bac1c2ca4a4b86aecce393a07426",
            "a89e6ebadd00462f9fefbbea68adb06a",
            "e87573e435b84d09b56c970d5e9e2724",
            "574d832344da476bad5e35bf1c56fb88",
            "52cb5843036042d382859d4f36942d35",
            "7216ad235a6142149a53dedca8e85164",
            "27028535123c44debb31700158451d37",
            "42b799a78f34454c92687c04f125dfeb",
            "38cc1744dd294a528043345515724abc",
            "5a11eb7a253b4045981b1a07aeb07d81",
            "e17947f237234a16a7711244cc3b7f87",
            "e5cf4daf2531424196541d7e21dcfc35",
            "8561b8e22f9d4badb86c85606021d992",
            "f600e784e7fd43d9b10e229a6ee39311",
            "adf363813d6f4b61811b6d817cc301bc",
            "3ae0f46cb6004ff29a214510acc7b417",
            "d88fb4d37f254ce199343dec9341f1e2",
            "32f150f8837b4dfabf542b4950e00aec",
            "0df6b71521984220a89ff88750b95150",
            "331616d7d187463e9c198e81a4a05c90",
            "c34282e58c51416c94ba4def60c923e4",
            "cf971468df12424bba1392839167e3ce",
            "e132c82bebe241e597d60f42d2783132",
            "a3eb32869076423a8163c14dd26bd9a2",
            "3153941fe4584d4fbe8c13cd979a88e3",
            "9c3f8f5cccee4dbea71d352c68d1432a",
            "6cc633bee0de4e4c8dc305dba64691b2",
            "65cd57458b3c45819bf2348b8f8fdef9",
            "948e22f361664d8bb8969fd05ff035bc",
            "cf5343bc6f834468b774143474c9779e",
            "f3d919dd096a4937b992fb8c398b66c9",
            "be1bb53c40754064a67f2cc330f55d14",
            "7440d50058a94d8b89de1b613c24555e",
            "d12f3c5701b146e88485d6007e9ed153",
            "d8e64da08b784fbabd63b886c7507c5f",
            "5c179c4ff0994f44826a8e1c81d4ce64",
            "57acbadff1e845cab629e30003337434",
            "5a91c4888e0446b5bea9a4b52bc45e94",
            "f2c480cb48f342d1a0e828748576e28a",
            "5fdbca7ab4a94940808acf2ad2376481",
            "4969c5b7e68747b8bf3d0fbc979df193",
            "5832517c10744028892fcb798be07215",
            "e227168aff1f49f0b6af00bde015e328",
            "0cb1c70f430f49e08f924f1e4c79de1d",
            "e91a2535bbb74dec9d70eccda79d272f",
            "009d8a9cf0944cf4be8d887beee2626b",
            "6a83af4c21d143809842cae7e200d99b",
            "d8a3e5f27dbb49eaae6f22f245462b14",
            "504514ee67fc42f8a42eb40eda3a113b",
            "30ec2a4e37764fd0aebcd9221270406d",
            "0b7f1d98104041b7ac8e31f03258136b",
            "268f515298834085bdd150292460f14a",
            "4efdd7b805674616adba1fe0789d5abd",
            "493905ae6cbe464eb2a2f2cbdc3c91f6",
            "8fafd2949d744aa8a2d1535d56d927c1",
            "eadedef2a9b5449ca8b059c6ced233aa",
            "fc979d34edc0462ebbc80ac32e4ba2de",
            "94059c5741d74bb2a3862ea3c183def9",
            "2728ffb8c8234bf99948f943b11b5d96",
            "19736a96cf3346f8bb4e681a890cfd3a",
            "4a74660905e64db5b7f9d9fcbf78156e",
            "f19cb62bdf7b429fb4c1139db7fcb4f1",
            "fe8619eb125b4cfaafecc86474e9b5c2",
            "176f0bc80eae41a484b5554638cb2c26",
            "c2e7ce10e19c4df2883600b17a7d7e1c",
            "579a72c9992440568559e8107d4d3edf",
            "346c1df176b04a078f7f6e6cd2f5b544",
            "8f303351b34345f19df9f8650e7103ee",
            "be37d9883b264c0f8948216dd06bdcfe",
            "084a49f3fc7746f8bce035f62054eb35",
            "e36516ffcfb248d2b488c2225870a3aa",
            "c51665b7157d450695b77e2643c33ce8",
            "4ca24fb8f87c4efba0d58a8faf1dbdf1",
            "47da6ab2bc74475d84a0baa4927c7539",
            "9eb0629e3fb14114a37d07888eea0ba7",
            "c8dda1ae08744fe894afeef8595c7976",
            "d026e53e4e9643f59498cca89bf05b5c",
            "8eadac83b0c3418a8c7dcf56e3bc7a16",
            "c8a2691d72b94c34a59bb476d54d51cf",
            "02ea7e3ab8cb449984512185979346b6",
            "76c1f01ff7e84461b055c4b438e3ee2b",
            "6ca6fe7b86ca49e5a26b8d8255149c50",
            "898d63cd77a5488da261ff5b87d46eb0",
            "2f006d5f3605440896584e851c233c00",
            "b87f45b91cae4e60aaf8de946831fefb",
            "b806065cacc140549e7f50e0cc08cd7e",
            "a0443fc5d61d40c6afb956f82d51171f",
            "fecfc5f8bf424fd39bf724073542f224",
            "a7fa66e33bb84c98a7899e62b0e03f88",
            "af5878c37e5243e0828931f279b5538f",
            "830af162b67c40edac1cf5b690826a34",
            "99063ab2d16848d69b442450dc040626",
            "80362e8361bb4ca08570b3eecced4bb5",
            "69cd8acfae4f4ff3afd39ff9f780a8f7",
            "5738fa0317004961b85a39bbb1b38265",
            "5140a4bd4fe24681af01d0666ab146cc",
            "cd21e074b9ca4194bc57a178faa24c95",
            "42bce34f12df4d99bfc4993ad91ac44f",
            "740562fbc1b04ddf9781291381465f92",
            "1651a30dd54547c19762b73688e89021",
            "3d827bb4dbb24e60b6401e3f497a712d",
            "f73bb4a51cde4b579a78c5f7680e84bc",
            "b5e56de33a4d46e1a4ad2433f973b7de",
            "0c6a72f809284132bd134be3a71609f4",
            "97b35e6a8e644e0fbbe101cbf1f1a3df",
            "293d14ab4fca49e39d78b4075ef6cfa8",
            "8c22bc2f39fb497298ff0aa7545c6a0e",
            "5b5a2d78076c4760a655d94053a5bc18",
            "970d3aa4b8574e9eae3b93d9c25561db",
            "8711fae0176543ac9942e976a57b7d42",
            "4b0222f33e6f429fbbcae9b92328eaf1",
            "bbf0bef668874a78912bd7e6f6017976",
            "f1d263bc96d147528027b5d81d54f3c9",
            "de44f2edfb334e438fc74496ff91a9f2",
            "94a8f1aef592463895cf40605d687d8f",
            "8454f0459ce04c94988be3c2eaacac6f",
            "8e216150049c489e874920afef61685d",
            "b3bf5436af2441e7aec1d0cd78289036",
            "60bb7c3e38dc459da4bcd64db7f594bc",
            "8266e5770e9349aabf71f971415dadeb",
            "d14b69da6ec54064ac69271d96c64a27",
            "ef3cbf9235434acfa60dbd0fc5444e61",
            "f81f648f20a04418b3c7197cc6df4a65",
            "3be63b97c0d04b6f8801eda2d979150e",
            "ed54de2865c5453481014b2c8f91d2cb",
            "1fae4935e9254fa79a9e7ae6017ba6d5",
            "effc1e27645e4767a20d7263fa01b7f5",
            "bf77707aedcb45b793c782edd047f7ba",
            "777a6fc6af7847548775f2ecd4074a99",
            "0f98b0ea07bd42fab8c53f6990ff31c0",
            "c7b3b73ecdbc4c5eb2c2393a23fd8e72",
            "28c9f53626054cbb96aa7e400146957a",
            "55d8a7bada4a40a98d8a8077d936dcbe",
            "b75a6ea192e94084ab2bec941b5b08ad",
            "04d5c906f4b9424ab347ac909b86b284",
            "23a8cd263e6744808900357b939f5cf2",
            "1f9d278658be46aca2f93db6d532292b",
            "b8b8c5c523b64709a37b8bb47d018cd9",
            "e8ec88797f1d47a0ba33094ff2e4a5f9",
            "0e6b84fbe160466389bf06db9acb6b54",
            "1f70ed280f714da1bbbd57f1d7ffbfc6",
            "75bb60ceff7d44ed9428ecfe7095994a",
            "d2f0cdefa21445a89f219d8e7aeb9c11",
            "d82c5149255f4c39a694e73683fb8f64",
            "dc958ee70bd842189256fed7733957c8",
            "9ea67948d6634f2297bcd77a788ed4db",
            "f8541c025b274b539e247715f6923e88",
            "e1413468024a40ea9a5ac3ef19998d9c",
            "31ed30659cdf47a7a2132778e3062d2f",
            "fb12982ead694d4ba2fbfe70cc11b421",
            "9533a51e83034114a7c4a5d50f56623c",
            "c1fe403777154cf0a214dae45698639c",
            "63902cecd19e4f498355d4966798e8ea",
            "955ab280910447ffafed8cdfef6d66af",
            "1b3dc5ea39304d338d2ada27dbcbe513",
            "3df7f3d59757462f93a2d3a3d4c911ad",
            "b94e77a9782a4165a3742593374c6bbd",
            "bdd80fed18f94b979c52b30f14e32d58",
            "5cda6a063965429a8fc0f53930ec210e",
            "7b23895ab254434f97f6a24f30dbf9bf",
            "3e97577e192d454185e89f38319a9252"
          ]
        },
        "outputId": "ec4e361e-5d1f-4145-8a99-8e37179cf967"
      },
      "outputs": [
        {
          "output_type": "stream",
          "name": "stderr",
          "text": [
            "INFO:pytorch_lightning.utilities.rank_zero:GPU available: True (cuda), used: True\n",
            "INFO:pytorch_lightning.utilities.rank_zero:TPU available: False, using: 0 TPU cores\n",
            "INFO:pytorch_lightning.utilities.rank_zero:IPU available: False, using: 0 IPUs\n",
            "INFO:pytorch_lightning.utilities.rank_zero:HPU available: False, using: 0 HPUs\n",
            "INFO:pytorch_lightning.accelerators.cuda:LOCAL_RANK: 0 - CUDA_VISIBLE_DEVICES: [0]\n",
            "INFO:pytorch_lightning.callbacks.model_summary:\n",
            "  | Name    | Type    | Params\n",
            "------------------------------------\n",
            "0 | encoder | Encoder | 2.2 M \n",
            "1 | decoder | Decoder | 3.9 M \n",
            "------------------------------------\n",
            "6.1 M     Trainable params\n",
            "0         Non-trainable params\n",
            "6.1 M     Total params\n",
            "24.364    Total estimated model params size (MB)\n"
          ]
        },
        {
          "output_type": "display_data",
          "data": {
            "text/plain": [
              "Sanity Checking: 0it [00:00, ?it/s]"
            ],
            "application/vnd.jupyter.widget-view+json": {
              "version_major": 2,
              "version_minor": 0,
              "model_id": "d8e5172184ed4a7a92b7fe44c7748f77"
            }
          },
          "metadata": {}
        },
        {
          "output_type": "display_data",
          "data": {
            "text/plain": [
              "Training: 0it [00:00, ?it/s]"
            ],
            "application/vnd.jupyter.widget-view+json": {
              "version_major": 2,
              "version_minor": 0,
              "model_id": "c2602fd748af4ce88c8935c196155dee"
            }
          },
          "metadata": {}
        },
        {
          "output_type": "display_data",
          "data": {
            "text/plain": [
              "Validation: 0it [00:00, ?it/s]"
            ],
            "application/vnd.jupyter.widget-view+json": {
              "version_major": 2,
              "version_minor": 0,
              "model_id": "ebb4f9fd0c2b40bc922c384ee98bdc88"
            }
          },
          "metadata": {}
        },
        {
          "output_type": "stream",
          "name": "stderr",
          "text": [
            "INFO:pytorch_lightning.utilities.rank_zero:`Trainer.fit` stopped: `max_epochs=1` reached.\n"
          ]
        },
        {
          "output_type": "stream",
          "name": "stdout",
          "text": [
            "train_loss: 1.642019510269165 train_acc 0.0 val_loss: 1.2438021898269653 val_acc 0.0\n"
          ]
        },
        {
          "output_type": "display_data",
          "data": {
            "text/plain": [
              "<IPython.core.display.HTML object>"
            ],
            "text/html": [
              "Waiting for W&B process to finish... <strong style=\"color:green\">(success).</strong>"
            ]
          },
          "metadata": {}
        },
        {
          "output_type": "display_data",
          "data": {
            "text/plain": [
              "VBox(children=(Label(value='0.001 MB of 0.001 MB uploaded (0.000 MB deduped)\\r'), FloatProgress(value=1.0, max…"
            ],
            "application/vnd.jupyter.widget-view+json": {
              "version_major": 2,
              "version_minor": 0,
              "model_id": "8f50a98b01184344b1bcc893a78bcebe"
            }
          },
          "metadata": {}
        },
        {
          "output_type": "display_data",
          "data": {
            "text/plain": [
              "<IPython.core.display.HTML object>"
            ],
            "text/html": [
              " View run <strong style=\"color:#cdcd00\">vivid-sweep-2</strong> at: <a href='https://wandb.ai/saisreeram/Assignment-03/runs/ly1p6fat' target=\"_blank\">https://wandb.ai/saisreeram/Assignment-03/runs/ly1p6fat</a><br/>Synced 5 W&B file(s), 0 media file(s), 0 artifact file(s) and 0 other file(s)"
            ]
          },
          "metadata": {}
        },
        {
          "output_type": "display_data",
          "data": {
            "text/plain": [
              "<IPython.core.display.HTML object>"
            ],
            "text/html": [
              "Find logs at: <code>./wandb/run-20230521_093358-ly1p6fat/logs</code>"
            ]
          },
          "metadata": {}
        },
        {
          "output_type": "display_data",
          "data": {
            "text/plain": [
              "Validation: 0it [00:00, ?it/s]"
            ],
            "application/vnd.jupyter.widget-view+json": {
              "version_major": 2,
              "version_minor": 0,
              "model_id": "6add4f3fc5d7476f9a962d9cfbe8357a"
            }
          },
          "metadata": {}
        },
        {
          "output_type": "stream",
          "name": "stdout",
          "text": [
            "train_loss: 0.8254556059837341 train_acc 0.03779296949505806 val_loss: 0.5741324424743652 val_acc 0.16429924964904785\n"
          ]
        },
        {
          "output_type": "display_data",
          "data": {
            "text/plain": [
              "Validation: 0it [00:00, ?it/s]"
            ],
            "application/vnd.jupyter.widget-view+json": {
              "version_major": 2,
              "version_minor": 0,
              "model_id": "42b799a78f34454c92687c04f125dfeb"
            }
          },
          "metadata": {}
        },
        {
          "output_type": "stream",
          "name": "stdout",
          "text": [
            "train_loss: 0.41949033737182617 train_acc 0.15882812440395355 val_loss: 0.406091570854187 val_acc 0.27978515625\n"
          ]
        },
        {
          "output_type": "display_data",
          "data": {
            "text/plain": [
              "Validation: 0it [00:00, ?it/s]"
            ],
            "application/vnd.jupyter.widget-view+json": {
              "version_major": 2,
              "version_minor": 0,
              "model_id": "0df6b71521984220a89ff88750b95150"
            }
          },
          "metadata": {}
        },
        {
          "output_type": "stream",
          "name": "stdout",
          "text": [
            "train_loss: 0.3432455062866211 train_acc 0.22570312023162842 val_loss: 0.3747309744358063 val_acc 0.312255859375\n"
          ]
        },
        {
          "output_type": "display_data",
          "data": {
            "text/plain": [
              "Validation: 0it [00:00, ?it/s]"
            ],
            "application/vnd.jupyter.widget-view+json": {
              "version_major": 2,
              "version_minor": 0,
              "model_id": "cf5343bc6f834468b774143474c9779e"
            }
          },
          "metadata": {}
        },
        {
          "output_type": "stream",
          "name": "stdout",
          "text": [
            "train_loss: 0.3025643825531006 train_acc 0.2744726538658142 val_loss: 0.37652939558029175 val_acc 0.35205078125\n"
          ]
        },
        {
          "output_type": "display_data",
          "data": {
            "text/plain": [
              "Validation: 0it [00:00, ?it/s]"
            ],
            "application/vnd.jupyter.widget-view+json": {
              "version_major": 2,
              "version_minor": 0,
              "model_id": "4969c5b7e68747b8bf3d0fbc979df193"
            }
          },
          "metadata": {}
        },
        {
          "output_type": "stream",
          "name": "stdout",
          "text": [
            "train_loss: 0.27882009744644165 train_acc 0.3093554675579071 val_loss: 0.3666485548019409 val_acc 0.357666015625\n"
          ]
        },
        {
          "output_type": "display_data",
          "data": {
            "text/plain": [
              "Validation: 0it [00:00, ?it/s]"
            ],
            "application/vnd.jupyter.widget-view+json": {
              "version_major": 2,
              "version_minor": 0,
              "model_id": "268f515298834085bdd150292460f14a"
            }
          },
          "metadata": {}
        },
        {
          "output_type": "stream",
          "name": "stdout",
          "text": [
            "train_loss: 0.24648554623126984 train_acc 0.35234373807907104 val_loss: 0.358062207698822 val_acc 0.36279296875\n"
          ]
        },
        {
          "output_type": "display_data",
          "data": {
            "text/plain": [
              "Validation: 0it [00:00, ?it/s]"
            ],
            "application/vnd.jupyter.widget-view+json": {
              "version_major": 2,
              "version_minor": 0,
              "model_id": "fe8619eb125b4cfaafecc86474e9b5c2"
            }
          },
          "metadata": {}
        },
        {
          "output_type": "stream",
          "name": "stdout",
          "text": [
            "train_loss: 0.2286137342453003 train_acc 0.3818359375 val_loss: 0.42770564556121826 val_acc 0.375732421875\n"
          ]
        },
        {
          "output_type": "display_data",
          "data": {
            "text/plain": [
              "Validation: 0it [00:00, ?it/s]"
            ],
            "application/vnd.jupyter.widget-view+json": {
              "version_major": 2,
              "version_minor": 0,
              "model_id": "47da6ab2bc74475d84a0baa4927c7539"
            }
          },
          "metadata": {}
        },
        {
          "output_type": "stream",
          "name": "stdout",
          "text": [
            "train_loss: 0.21005576848983765 train_acc 0.41109374165534973 val_loss: 0.3550131618976593 val_acc 0.395263671875\n"
          ]
        },
        {
          "output_type": "display_data",
          "data": {
            "text/plain": [
              "Validation: 0it [00:00, ?it/s]"
            ],
            "application/vnd.jupyter.widget-view+json": {
              "version_major": 2,
              "version_minor": 0,
              "model_id": "b87f45b91cae4e60aaf8de946831fefb"
            }
          },
          "metadata": {}
        },
        {
          "output_type": "stream",
          "name": "stdout",
          "text": [
            "train_loss: 0.19155354797840118 train_acc 0.4396093785762787 val_loss: 0.36763638257980347 val_acc 0.3935546875\n"
          ]
        },
        {
          "output_type": "display_data",
          "data": {
            "text/plain": [
              "Validation: 0it [00:00, ?it/s]"
            ],
            "application/vnd.jupyter.widget-view+json": {
              "version_major": 2,
              "version_minor": 0,
              "model_id": "5140a4bd4fe24681af01d0666ab146cc"
            }
          },
          "metadata": {}
        },
        {
          "output_type": "stream",
          "name": "stdout",
          "text": [
            "train_loss: 0.1811198592185974 train_acc 0.4672265648841858 val_loss: 0.41092684864997864 val_acc 0.38330078125\n"
          ]
        },
        {
          "output_type": "display_data",
          "data": {
            "text/plain": [
              "Validation: 0it [00:00, ?it/s]"
            ],
            "application/vnd.jupyter.widget-view+json": {
              "version_major": 2,
              "version_minor": 0,
              "model_id": "8c22bc2f39fb497298ff0aa7545c6a0e"
            }
          },
          "metadata": {}
        },
        {
          "output_type": "stream",
          "name": "stdout",
          "text": [
            "train_loss: 0.16603687405586243 train_acc 0.4909765422344208 val_loss: 0.37393659353256226 val_acc 0.398681640625\n"
          ]
        },
        {
          "output_type": "display_data",
          "data": {
            "text/plain": [
              "Validation: 0it [00:00, ?it/s]"
            ],
            "application/vnd.jupyter.widget-view+json": {
              "version_major": 2,
              "version_minor": 0,
              "model_id": "b3bf5436af2441e7aec1d0cd78289036"
            }
          },
          "metadata": {}
        },
        {
          "output_type": "stream",
          "name": "stdout",
          "text": [
            "train_loss: 0.15538986027240753 train_acc 0.5145702958106995 val_loss: 0.38724303245544434 val_acc 0.3974609375\n"
          ]
        },
        {
          "output_type": "display_data",
          "data": {
            "text/plain": [
              "Validation: 0it [00:00, ?it/s]"
            ],
            "application/vnd.jupyter.widget-view+json": {
              "version_major": 2,
              "version_minor": 0,
              "model_id": "777a6fc6af7847548775f2ecd4074a99"
            }
          },
          "metadata": {}
        },
        {
          "output_type": "stream",
          "name": "stdout",
          "text": [
            "train_loss: 0.13941262662410736 train_acc 0.5418554544448853 val_loss: 0.40051040053367615 val_acc 0.39990234375\n"
          ]
        },
        {
          "output_type": "display_data",
          "data": {
            "text/plain": [
              "Validation: 0it [00:00, ?it/s]"
            ],
            "application/vnd.jupyter.widget-view+json": {
              "version_major": 2,
              "version_minor": 0,
              "model_id": "0e6b84fbe160466389bf06db9acb6b54"
            }
          },
          "metadata": {}
        },
        {
          "output_type": "stream",
          "name": "stdout",
          "text": [
            "train_loss: 0.13420213758945465 train_acc 0.5631640553474426 val_loss: 0.40626394748687744 val_acc 0.3994140625\n"
          ]
        },
        {
          "output_type": "display_data",
          "data": {
            "text/plain": [
              "Validation: 0it [00:00, ?it/s]"
            ],
            "application/vnd.jupyter.widget-view+json": {
              "version_major": 2,
              "version_minor": 0,
              "model_id": "9533a51e83034114a7c4a5d50f56623c"
            }
          },
          "metadata": {}
        },
        {
          "output_type": "stream",
          "name": "stdout",
          "text": [
            "train_loss: 0.12196967005729675 train_acc 0.5887694954872131 val_loss: 0.4218868613243103 val_acc 0.40283203125\n"
          ]
        },
        {
          "output_type": "stream",
          "name": "stderr",
          "text": [
            "INFO:pytorch_lightning.utilities.rank_zero:`Trainer.fit` stopped: `max_epochs=15` reached.\n"
          ]
        }
      ],
      "source": [
        "# Model Initialization\n",
        "model = seq2seq(input_size = len(latin_chars), output_size = len(lang_chars),\n",
        "                embedding_size = 64, hidden_size = 256,encoder_layer_size = 2,\n",
        "                decoder_layer_size = 3,cell_type = nn.LSTM,\n",
        "                beam_width = 1,dropout= 0.3,\n",
        "                bidirectional =True ,learning_rate = 0.001)\n",
        "\n",
        "# Device Selection\n",
        "model = model.to(device)\n",
        "\n",
        "# Trainer Initialization\n",
        "trainer = pl.Trainer(max_epochs = 15)\n",
        "trainer.fit(model, train_dataloader,val_dataloader)\n"
      ]
    },
    {
      "cell_type": "markdown",
      "source": [
        "# Testing"
      ],
      "metadata": {
        "id": "5THj4tW7VNjo"
      }
    },
    {
      "cell_type": "code",
      "source": [
        "\n",
        "trainer.test(model, test_dataloader)\n"
      ],
      "metadata": {
        "id": "Bhx-zfgGhkC_",
        "colab": {
          "base_uri": "https://localhost:8080/",
          "height": 180,
          "referenced_widgets": [
            "fed19e04881a4dc1b120fde9b7dee574",
            "9510ea9dfb7c4123a4e32d7bf921f4ab",
            "a445e2e36bd24086a8bb666f7888b3b5",
            "da8618a4447e44e19a1f645d0f6dfd57",
            "3c07ae0495a84f679cd8f533eed5eb6e",
            "541b4a7ed2fd4e22831ee8f3c4db84ea",
            "904f4367b9fe4041808130bb419372f8",
            "73553b10a8814999836330dbe86e5d46",
            "6d708a572b0446ea96bf2d98b719625c",
            "4579b12809df44ea94bf96ac462ca3db",
            "c912ffc9df454d899707f64f90cdc8ab"
          ]
        },
        "outputId": "b4280f2a-8d4a-48e4-cca0-a4be37b3018d"
      },
      "execution_count": null,
      "outputs": [
        {
          "output_type": "stream",
          "name": "stderr",
          "text": [
            "INFO:pytorch_lightning.accelerators.cuda:LOCAL_RANK: 0 - CUDA_VISIBLE_DEVICES: [0]\n"
          ]
        },
        {
          "output_type": "display_data",
          "data": {
            "text/plain": [
              "Testing: 0it [00:00, ?it/s]"
            ],
            "application/vnd.jupyter.widget-view+json": {
              "version_major": 2,
              "version_minor": 0,
              "model_id": "fed19e04881a4dc1b120fde9b7dee574"
            }
          },
          "metadata": {}
        },
        {
          "output_type": "display_data",
          "data": {
            "text/plain": [
              "┏━━━━━━━━━━━━━━━━━━━━━━━━━━━┳━━━━━━━━━━━━━━━━━━━━━━━━━━━┓\n",
              "┃\u001b[1m \u001b[0m\u001b[1m       Test metric       \u001b[0m\u001b[1m \u001b[0m┃\u001b[1m \u001b[0m\u001b[1m      DataLoader 0       \u001b[0m\u001b[1m \u001b[0m┃\n",
              "┡━━━━━━━━━━━━━━━━━━━━━━━━━━━╇━━━━━━━━━━━━━━━━━━━━━━━━━━━┩\n",
              "│\u001b[36m \u001b[0m\u001b[36m        test_acc         \u001b[0m\u001b[36m \u001b[0m│\u001b[35m \u001b[0m\u001b[35m     0.377685546875      \u001b[0m\u001b[35m \u001b[0m│\n",
              "│\u001b[36m \u001b[0m\u001b[36m        test_loss        \u001b[0m\u001b[36m \u001b[0m│\u001b[35m \u001b[0m\u001b[35m   0.5050603151321411    \u001b[0m\u001b[35m \u001b[0m│\n",
              "└───────────────────────────┴───────────────────────────┘\n"
            ],
            "text/html": [
              "<pre style=\"white-space:pre;overflow-x:auto;line-height:normal;font-family:Menlo,'DejaVu Sans Mono',consolas,'Courier New',monospace\">┏━━━━━━━━━━━━━━━━━━━━━━━━━━━┳━━━━━━━━━━━━━━━━━━━━━━━━━━━┓\n",
              "┃<span style=\"font-weight: bold\">        Test metric        </span>┃<span style=\"font-weight: bold\">       DataLoader 0        </span>┃\n",
              "┡━━━━━━━━━━━━━━━━━━━━━━━━━━━╇━━━━━━━━━━━━━━━━━━━━━━━━━━━┩\n",
              "│<span style=\"color: #008080; text-decoration-color: #008080\">         test_acc          </span>│<span style=\"color: #800080; text-decoration-color: #800080\">      0.377685546875       </span>│\n",
              "│<span style=\"color: #008080; text-decoration-color: #008080\">         test_loss         </span>│<span style=\"color: #800080; text-decoration-color: #800080\">    0.5050603151321411     </span>│\n",
              "└───────────────────────────┴───────────────────────────┘\n",
              "</pre>\n"
            ]
          },
          "metadata": {}
        },
        {
          "output_type": "execute_result",
          "data": {
            "text/plain": [
              "[{'test_loss': 0.5050603151321411, 'test_acc': 0.377685546875}]"
            ]
          },
          "metadata": {},
          "execution_count": 15
        }
      ]
    },
    {
      "cell_type": "markdown",
      "source": [
        "# predictions_vanilla csv"
      ],
      "metadata": {
        "id": "4SiVLmSTkSSl"
      }
    },
    {
      "cell_type": "code",
      "source": [
        "import csv \n",
        "\n",
        "data = test_data\n",
        "data1= test_data.T\n",
        "rows = []\n",
        "\n",
        "model = model.to(device)\n",
        "# Prediction Loop\n",
        "for i in range(0,len(data)):\n",
        "  # model.eval()\n",
        "  word =  [2]+[latin_chars.get(char,latin_chars['<UNK>']) for char in data1[i][0]] + [0]*(latin_max_length - len(data1[i][0]))+[3]\n",
        "  latin_tensor = torch.tensor(word[:latin_max_length+2]).to(device)\n",
        "  latin_tensor = latin_tensor.view(-1,latin_max_length+2).to(device)\n",
        "  output = model.forward(latin_tensor,tf=0).to(device)\n",
        "  lang_word = \"\"\n",
        "  output_ = torch.argmax(output,2)\n",
        "  for num in output_:\n",
        "    if (num == 0): break\n",
        "    lang_word += lang_chars_num[num.item()]\n",
        "  rows.append([data1[i][0],data1[i][1],lang_word[1:] ])\n",
        "\n",
        "cols = ['Input', 'Expected', 'Predicted'] \n",
        "\n",
        "# Saving to CSV\n",
        "with open(\"predictions_vanilla.csv\",\"w\") as csvfile:\n",
        "  writer = csv.writer(csvfile)\n",
        "  writer.writerow(cols)\n",
        "  writer.writerows(rows)"
      ],
      "metadata": {
        "id": "gd2XzuHUzdye"
      },
      "execution_count": null,
      "outputs": []
    },
    {
      "cell_type": "code",
      "source": [
        "\n"
      ],
      "metadata": {
        "id": "KvaxI3Vu05vQ"
      },
      "execution_count": null,
      "outputs": []
    },
    {
      "cell_type": "markdown",
      "source": [
        "# Attention Encoder"
      ],
      "metadata": {
        "id": "1WOb0wH8cpvI"
      }
    },
    {
      "cell_type": "code",
      "source": [
        "class AttnEncoder(nn.Module):\n",
        "  ''' This is the model class used to define the Encoder structure and to train the neural network on given parameters'''\n",
        "  def __init__(self,input_size,embedding_size,hidden_size,layers,cell_type,bidirectional,dropout):\n",
        "    '''\n",
        "      input_size: The size of the input vocabulary or the number of distinct tokens.\n",
        "      embedding_size: The size of the embedding vectors for each token.\n",
        "      hidden_size: The size of the hidden state of the RNN cell.\n",
        "      layers: The number of layers in the RNN.\n",
        "      cell_type: The type of the RNN cell (nn.RNN, nn.GRU, nn.LSTM).  \n",
        "      bidirectional: A boolean flag indicating whether the RNN is bidirectional or not.\n",
        "      dropout: The dropout probability for the RNN layers\n",
        "    '''\n",
        "    super(AttnEncoder,self).__init__()\n",
        "    self.cell_type = cell_type\n",
        "    self.embedding = nn.Embedding(input_size,embedding_size)\n",
        "    self.rnn = cell_type(embedding_size,hidden_size,layers,bidirectional = bidirectional,dropout=dropout)\n",
        "  # Forward method\n",
        "  def forward(self,x):\n",
        "    embedding = self.embedding(x)\n",
        "    output,hidden = self.rnn(embedding)\n",
        "    return output,hidden"
      ],
      "metadata": {
        "id": "TPFJa0qK05-V"
      },
      "execution_count": 9,
      "outputs": []
    },
    {
      "cell_type": "markdown",
      "metadata": {
        "id": "la77fSS2DDOa"
      },
      "source": [
        "# Attention Decoder"
      ]
    },
    {
      "cell_type": "code",
      "execution_count": 10,
      "metadata": {
        "id": "lRIohj6jDMpK"
      },
      "outputs": [],
      "source": [
        "\n",
        "class AttnDecoder(nn.Module):\n",
        "  ''' This is the model class used to define the AttnDecoder structure and to train the neural network on given parameters'''\n",
        "  def __init__(self,output_size,embedding_size,hidden_size,layers,cell_type,bidirectional,dropout,max_length):\n",
        "    '''\n",
        "      output_size: The size of the decoder output vocabulary.\n",
        "      embedding_size: The size of the embedding layer.\n",
        "      hidden_size: The size of the hidden state in the decoder.\n",
        "      layers: The number of layers in the decoder.\n",
        "      cell_type: The type of the RNN cell (nn.RNN, nn.GRU, nn.LSTM).  \n",
        "      bidirectional: A boolean flag indicating whether the decoder is bidirectional or not.\n",
        "      dropout: The dropout rate.\n",
        "      max_length: The maximum length of input sequences.\n",
        "    '''\n",
        "    super(AttnDecoder,self).__init__()\n",
        "    self.cell_type = cell_type\n",
        "\n",
        "    self.embedding = nn.Embedding(output_size,embedding_size) \n",
        "\n",
        "    self.attn = nn.Linear(hidden_size+embedding_size , max_length)\n",
        "\n",
        "    self.rnn = cell_type(hidden_size,hidden_size,layers,bidirectional = bidirectional,dropout=dropout)\n",
        "\n",
        "    #  A linear layer that combines the attention context vector with the hidden state.\n",
        "    if bidirectional:\n",
        "      self.out = nn.Linear(hidden_size*2,output_size) \n",
        "      self.attn_combine = nn.Linear(hidden_size*2 +embedding_size, hidden_size)\n",
        "    else :\n",
        "      self.out = nn.Linear(hidden_size,output_size) \n",
        "      self.attn_combine = nn.Linear(hidden_size +embedding_size, hidden_size)\n",
        "\n",
        "    \n",
        "  def forward(self,x,hidden,encoder_output):\n",
        "    x = x.unsqueeze(1).transpose(0,1)\n",
        "\n",
        "    embedding = self.embedding(x)\n",
        "\n",
        "    if(self.cell_type == nn.LSTM) :\n",
        "      hidden1= hidden[0][0]\n",
        "    else:\n",
        "      hidden1 = hidden[0]\n",
        "    # Computes attention weights by concatenating the embedded input and the current hidden state and passing it through the attn linear layer\n",
        "    attn_weights = functional.softmax(\n",
        "      self.attn(torch.cat((embedding[0],hidden1) , 1)) , dim =1)\n",
        "    attn_applied = torch.bmm(attn_weights.unsqueeze(1),\n",
        "                           encoder_output.permute(1,0,2) )\n",
        "\n",
        "    # Concatenates the embedded input and the attention context vector and passes it through the attn_combine linear layer.   \n",
        "    output = torch.cat((embedding[0], attn_applied.squeeze(1)), 1)\n",
        " \n",
        "    output = self.attn_combine(output).unsqueeze(0)\n",
        "\n",
        "    output = functional.relu(output)\n",
        "    \n",
        "    output,hidden = self.rnn(output,hidden)\n",
        "    \n",
        "    output = self.out(output.squeeze(0))\n",
        "    # attn_weights=attn_weights.permute(1,0)\n",
        "    return output,hidden,attn_weights\n",
        "\n",
        "\n"
      ]
    },
    {
      "cell_type": "markdown",
      "metadata": {
        "id": "fpy3CcADEeyO"
      },
      "source": [
        "# Model"
      ]
    },
    {
      "cell_type": "code",
      "execution_count": 11,
      "metadata": {
        "id": "talGkMVGEhgN"
      },
      "outputs": [],
      "source": [
        "\n",
        "class Attn2seq(pl.LightningModule):\n",
        "  def __init__(self,input_size,output_size,embedding_size,hidden_size,encoder_layer_size,decoder_layer_size,cell_type,beam_width,dropout,bidirectional,learning_rate=0.0001):\n",
        "    '''\n",
        "      input_size: The size of the input vocabulary or the number of distinct tokens.\n",
        "      output_size: The size of the output vocabulary or the number of distinct tokens.\n",
        "      embedding_size: The size of the embedding vectors for each token.\n",
        "      hidden_size: The size of the hidden state of the RNN cells in the encoder and decoder.\n",
        "      encoder_layer_size: The number of layers in the encoder.\n",
        "      decoder_layer_size: The number of layers in the decoder.\n",
        "      cell_type: The type of the RNN cell (nn.RNN, nn.GRU, nn.LSTM).  \n",
        "      beam_width: The width of the beam search during inference.\n",
        "      dropout: The dropout probability for the RNN layers.\n",
        "      bidirectional: A boolean flag indicating whether the RNN layers are bidirectional or not.\n",
        "      learning_rate: The learning rate for the optimizer (default is 0.0001)\n",
        "    '''\n",
        "    super(Attn2seq,self).__init__()\n",
        "    self.output_size = output_size\n",
        "    self.input_size = input_size\n",
        "    self.lang_max_length = lang_max_length+2\n",
        "    self.latin_max_length = latin_max_length+2\n",
        "    self.cell_type = cell_type\n",
        "    self.train_step_acc = []\n",
        "    self.train_step_loss = []\n",
        "    self.val_step_acc = []\n",
        "    self.val_step_loss = []\n",
        "    self.decoder_layer_size = decoder_layer_size #*  2 if bidirectional else 1\n",
        "    self.bidirectional = bidirectional\n",
        "    self.encoder_layer_size = encoder_layer_size \n",
        "    self.beam_width = beam_width\n",
        "    self.encoder = AttnEncoder(input_size,embedding_size,hidden_size,encoder_layer_size,cell_type,bidirectional,dropout)\n",
        "    self.decoder = AttnDecoder(output_size,embedding_size,hidden_size,decoder_layer_size,cell_type,bidirectional,dropout,latin_max_length+2)\n",
        "    self.learning_rate = learning_rate\n",
        "\n",
        "  def beam_search(self,hidden,input,beam_width,output_len,output_seq):\n",
        "    queue = []\n",
        "    queue.append((input,1,hidden))\n",
        "    for t in range(output_len):\n",
        "      queue_temp = []\n",
        "      for i in range(len(queue)):\n",
        "        (input,prob_parent,hidden) = queue[i]\n",
        "        output_rnn,hidden = self.decoder( input ,hidden)\n",
        "        prob , index = torch.topk(output_rnn,beam_width)\n",
        "        output_rnn = output_rnn.squeeze(1)\n",
        "        for j in range(beam_width):\n",
        "          prob_score = prob_parent*prob[0][j]\n",
        "          if (prob_score > 1e-5):\n",
        "            queue_temp.append((torch.tensor([index[0][j]]).to(device),prob_score,hidden))\n",
        "      output_seq[t] = output_rnn\n",
        "      queue = sorted(queue_temp,key = lambda x:x[1] , reverse = True)[:beam_width]\n",
        "    return  output_seq\n",
        "\n",
        "  def forward(self,input,output=[],tf = 0.5) :\n",
        "    '''\n",
        "    The forward method defines the forward pass of the Attn2seq model. \n",
        "    It takes an input tensor input, an optional output tensor output, and a teacher-forcing ratio tf as inputs\n",
        "    '''\n",
        "    batch_size = input.shape[0]\n",
        "    output_size = self.output_size\n",
        "    input_size = self.input_size\n",
        "\n",
        "    bidir = 2 if self.bidirectional else 1\n",
        "    \n",
        "    output_encoder,hidden = self.encoder(input.transpose(0,1))\n",
        "\n",
        "    output_seq = torch.zeros(self.lang_max_length,batch_size,output_size).to(device)\n",
        "    attn_weights = torch.zeros(self.lang_max_length,batch_size,self.latin_max_length).to(device)\n",
        "\n",
        "    if tf > 0:\n",
        "      output = output.transpose(0,1)\n",
        "    next_input = torch.tensor([2]*batch_size).to(device)\n",
        "    for t in range(self.lang_max_length):\n",
        "      output_rnn,hidden,attn_weights[t] = self.decoder( next_input ,hidden,output_encoder)\n",
        "      output_seq[t] = output_rnn.squeeze(1)\n",
        "      next_input =  output_seq[t].argmax(1) if  tf < torch.rand(1).item() else output[:,t]\n",
        "    return output_seq,attn_weights\n",
        "\n",
        "  def training_step(self,batch):\n",
        "    '''\n",
        "    The training_step method is called during the training loop for each batch of data. \n",
        "    It takes a batch of input-output pairs as input\n",
        "    '''\n",
        "    input,output = batch\n",
        "    output = output.permute(1,0)\n",
        "\n",
        "    # Calling forward \n",
        "    output_seq,attn_weights= self(input,output)\n",
        "    output = output.permute(1,0)\n",
        "\n",
        "    output_seq_2 = torch.zeros(output_seq.shape).to(device)\n",
        "    batch_n = np.arange(len(output_seq))\n",
        "\n",
        "    for f in range(len(output)):\n",
        "      col = output[f]\n",
        "      output_seq_2[batch_n,f,np.array(col.cpu())] = 1\n",
        "    output_dim = output_seq.shape[-1]\n",
        "    output_seq_t1 = output_seq[1:].view(-1,output_dim)\n",
        "    output_seq_t2 = output_seq_2[1:].view(-1,output_dim)\n",
        "    # Computing the cross-entropy loss between the predicted output sequence and the true output sequence\n",
        "    loss = nn.CrossEntropyLoss()\n",
        "    loss = loss(output_seq_t1,output_seq_t2).mean()\n",
        "    output = output.permute(1,0)\n",
        "\n",
        "    # Computing the accuracy by comparing the predicted output with the true output.\n",
        "    output_ = torch.argmax(output_seq,2)\n",
        "    acc_1 = torch.all(output_[1:-1,:] == output[1:-1,:],dim=0)\n",
        "    acc = torch.sum(acc_1 == True)/len(acc_1)\n",
        "\n",
        "    # Logging the loss and accuracy metrics using the self.log method.\n",
        "    self.log('train_loss', loss,on_epoch = True,on_step = False,prog_bar=True)\n",
        "    self.train_step_loss.append(loss)\n",
        "    self.log('train_acc', acc,on_epoch = True,on_step = False,prog_bar=True)\n",
        "    self.train_step_acc.append(acc)\n",
        "\n",
        "    return loss\n",
        "\n",
        "\n",
        "\n",
        "  def on_train_epoch_end(self):\n",
        "    '''\n",
        "    The on_train_epoch_end method is called at the end of each training epoch. \n",
        "    It calculates the average training loss and accuracy over the epoch, as well as the average validation loss and accuracy .\n",
        "    '''\n",
        "    train_acc =  torch.stack(self.train_step_acc).mean()\n",
        "    train_loss =  torch.stack(self.train_step_loss).mean()\n",
        "    val_acc =  torch.stack(self.val_step_acc).mean()\n",
        "    val_loss =  torch.stack(self.val_step_loss).mean()\n",
        "    print(\"train_loss:\",train_loss.item(),\"train_acc\",train_acc.item(),\"val_loss:\",val_loss.item(),\"val_acc\",val_acc.item())\n",
        "    # wandb.log({\"train_loss\":train_loss.item(),\"train_acc\":train_acc.item(),\"val_loss\":val_loss.item(),\"val_acc\":val_acc.item()})\n",
        "    self.train_step_acc.clear() \n",
        "    self.train_step_loss.clear() \n",
        "    self.val_step_acc.clear() \n",
        "    self.val_step_loss.clear() \n",
        "\n",
        "\n",
        "  def validation_step(self, batch,batch_idx):\n",
        "    '''\n",
        "    The validation_step method is similar to the training_step method but is called during the validation loop for each batch of data.\n",
        "    It computes the loss and accuracy metrics for the validation data\n",
        "    '''\n",
        "    input,output = batch\n",
        "    output = output.permute(1,0)\n",
        "    # Calling forward \n",
        "    output_seq,attn_weights = self(input,output,0)\n",
        "    output = output.permute(1,0)\n",
        "\n",
        "    output_seq_2 = torch.zeros(output_seq.shape).to(device)\n",
        "    batch_n = np.arange(len(output_seq))\n",
        "\n",
        "    for f in range(len(output)):\n",
        "      col = output[f]\n",
        "      output_seq_2[batch_n,f,np.array(col.cpu())] = 1\n",
        "\n",
        "    output_dim = output_seq.shape[-1]\n",
        "  \n",
        "    output_seq_t1 = output_seq[1:].view(-1,output_dim)\n",
        "    output_seq_t2 = output_seq_2[1:].view(-1,output_dim)\n",
        "\n",
        "    # Computing the cross-entropy loss between the predicted output sequence and the true output sequence\n",
        "    loss = nn.CrossEntropyLoss()\n",
        "    loss = loss(output_seq_t1,output_seq_t2).mean()\n",
        "    output = output.permute(1,0)\n",
        "\n",
        "    # Computing the accuracy by comparing the predicted output with the true output.\n",
        "    output_ = torch.argmax(output_seq,2)\n",
        "    acc_1 = torch.all(output_[1:-1,:] == output[1:-1,:],dim=0)\n",
        "    acc = torch.sum(acc_1 == True)/len(acc_1)\n",
        "\n",
        "    # Logging the loss and accuracy metrics using the self.log method.\n",
        "    self.log('val_loss', loss,on_epoch = True,on_step = False,prog_bar=True)\n",
        "    self.val_step_loss.append(loss)\n",
        "    self.log('val_acc', acc,on_epoch = True,on_step = False,prog_bar=True)\n",
        "    self.val_step_acc.append(acc)\n",
        "\n",
        "    return loss\n",
        "\n",
        "    \n",
        "\n",
        "  def configure_optimizers(self):\n",
        "    '''\n",
        "    The configure_optimizers method is used to configure the optimizer for the model. \n",
        "    In this case, it returns an Adam optimizer with the learning rate specified during initialization.\n",
        "    '''\n",
        "    return torch.optim.Adam(self.parameters(),lr= self.learning_rate)\n",
        "\n",
        "\n",
        "\n",
        "  def test_step(self, batch,batch_idx):\n",
        "    '''\n",
        "    The test_step method is similar to the training_step method but is called during the testing loop for each batch of data.\n",
        "    It computes the loss and accuracy metrics for the testing data\n",
        "    '''\n",
        "    input,output = batch\n",
        "    output = output.permute(1,0)\n",
        "    # Calling forward \n",
        "    output_seq,attn_weights = self(input,output,0)\n",
        "    output = output.permute(1,0)\n",
        "\n",
        "    output_seq_2 = torch.zeros(output_seq.shape).to(device)\n",
        "    batch_n = np.arange(len(output_seq))\n",
        "\n",
        "    for f in range(len(output)):\n",
        "      col = output[f]\n",
        "      output_seq_2[batch_n,f,np.array(col.cpu())] = 1\n",
        "\n",
        "    output_dim = output_seq.shape[-1]\n",
        "  \n",
        "    output_seq_t1 = output_seq[1:].view(-1,output_dim)\n",
        "    output_seq_t2 = output_seq_2[1:].view(-1,output_dim)\n",
        "\n",
        "    # Computing the cross-entropy loss between the predicted output sequence and the true output sequence\n",
        "    loss = nn.CrossEntropyLoss()\n",
        "    loss = loss(output_seq_t1,output_seq_t2).mean()\n",
        "    output = output.permute(1,0)\n",
        "\n",
        "    # Computing the accuracy by comparing the predicted output with the true output.\n",
        "    output_ = torch.argmax(output_seq,2)\n",
        "    acc_1 = torch.all(output_[1:-1,:] == output[1:-1,:],dim=0)\n",
        "    acc = torch.sum(acc_1 == True)/len(acc_1)\n",
        "\n",
        "    # Logging the loss and accuracy metrics using the self.log method.\n",
        "    self.log('val_loss', loss,on_epoch = True,on_step = False,prog_bar=True)\n",
        "    self.val_step_loss.append(loss)\n",
        "    self.log('val_acc', acc,on_epoch = True,on_step = False,prog_bar=True)\n",
        "    self.val_step_acc.append(acc)\n",
        "\n",
        "    return loss\n"
      ]
    },
    {
      "cell_type": "markdown",
      "metadata": {
        "id": "wGn-q7HuYuho"
      },
      "source": [
        "\n",
        "# Sweep Config"
      ]
    },
    {
      "cell_type": "code",
      "execution_count": null,
      "metadata": {
        "id": "AsX9MeVTEli8"
      },
      "outputs": [],
      "source": [
        "\n",
        "\n",
        "config= {\n",
        "    'method': 'bayes',\n",
        "    'name': 'sweep',\n",
        "    'metric': {\n",
        "        'goal': 'maximize', \n",
        "        'name': 'val_acc'\n",
        "      },\n",
        "    \"parameters\":\n",
        "    {\n",
        "      \n",
        "    \"bidirectional\" :{\n",
        "        \"values\" : [True,False]\n",
        "    },\n",
        "    \"dropout\" :{\n",
        "        \"values\" : [0,0.2,0.3]\n",
        "    },\n",
        "    \"cell_type\" :{\n",
        "          \"values\" : [\"RNN\", \"GRU\", \"LSTM\"]\n",
        "    },\n",
        "      \"epochs\" :{\n",
        "          \"values\" : [10,  15, 20]\n",
        "    },\n",
        "      \"embedding_size\" :{\n",
        "          \"values\" : [16,32,64,256]\n",
        "    },\n",
        "     \"layers\" :{\n",
        "          \"values\" : [1,2,3]\n",
        "    },\n",
        "      \"hidden_layer_size\" :{\n",
        "          \"values\" : [16,32,64,256]\n",
        "    },\n",
        "\n",
        "      \"learning_rate\" :{\n",
        "          \"values\" : [1e-3,1e-4]\n",
        "    },\n",
        "      \"batch_size\" :{\n",
        "          \"values\" : [32,64,128,256]\n",
        "    }\n",
        "\n",
        "    }\n",
        "\n",
        "}\n"
      ]
    },
    {
      "cell_type": "markdown",
      "metadata": {
        "id": "0PbMUSStY4rm"
      },
      "source": [
        "# Sweep Function"
      ]
    },
    {
      "cell_type": "code",
      "execution_count": null,
      "metadata": {
        "id": "wLgcFoCIFOh1",
        "colab": {
          "base_uri": "https://localhost:8080/",
          "height": 763,
          "referenced_widgets": [
            "a13238782cb545d1a96b06a2c10b611e",
            "b22b8415dc634306a43f3d1f45b0defd",
            "6710274cd0064b77924eba064f5337d5",
            "6230d05bac2c4cb4bdc306d099dd40a5",
            "e782e7e5328e4d4681e2d9ef7dcd27a4",
            "a233a70d3cd94eaa9c80b1961a05f866",
            "a00430433138429bb74cecb9c26995f4",
            "fc9ea911b66e439eaf7e53a2d46994e7",
            "5f9addec2f4b4afaad699318330acc8f",
            "652ce884813f4710a5df5b496b34469e",
            "d608c49620e043d888d86f1837fc6996",
            "3a4ef069990d4b76bf354387a4463bd8",
            "08c1cba3ba4c4ab1944aea41a8571f93",
            "99ec5fddcd8946658d4edf977066458d",
            "d6859d3a1c05414a8f9a09243183c3bc",
            "945cd61b99134e8ba0ed03d8c24ca876",
            "ed68c0d841524492b451493bd264cbad",
            "75a8c2b6662447caa49b9365162c509c",
            "aeef428361fa4daf9a17146f03790ced",
            "41759e8d7b984ca8917b5845f963d9c2",
            "59e5616d51074ddfabf3f82e8ced8a97",
            "5ab98fc9af004aee94e8bd6434642ca6",
            "589779b7390245daa5e6e29b3d2ab8e6",
            "ed096a4c6d2a405cb04f22e0a395ac6d",
            "c047a900c0644f94a9bf10600e6d2c37",
            "852db305efe245b28f0ab10a9d2adaa0",
            "da1c4d49100b4d12b0477887439b44f0",
            "25b18c5409674b0bbf6d17f2901c7022",
            "d3ba0bf3a66c4b939f31ba97037fba7d",
            "8fb04c9a84f14596afb902d390c0072e",
            "6be56f2a6b1a4beea647758b2a93dfd7",
            "93bce7d1f84a48328161e321537fe388",
            "6a65837570a24ca8a85184f7a69b4861"
          ]
        },
        "outputId": "34053ad6-7e87-4919-cfa1-14b61ab44146"
      },
      "outputs": [
        {
          "output_type": "stream",
          "name": "stdout",
          "text": [
            "Create sweep with ID: g8lve0bi\n",
            "Sweep URL: https://wandb.ai/saisreeram/Assignment-3-hin-02/sweeps/g8lve0bi\n"
          ]
        },
        {
          "output_type": "stream",
          "name": "stderr",
          "text": [
            "\u001b[34m\u001b[1mwandb\u001b[0m: Agent Starting Run: pzmbn298 with config:\n",
            "\u001b[34m\u001b[1mwandb\u001b[0m: \tbatch_size: 32\n",
            "\u001b[34m\u001b[1mwandb\u001b[0m: \tbidirectional: True\n",
            "\u001b[34m\u001b[1mwandb\u001b[0m: \tcell_type: GRU\n",
            "\u001b[34m\u001b[1mwandb\u001b[0m: \tdropout: 0.2\n",
            "\u001b[34m\u001b[1mwandb\u001b[0m: \tembedding_size: 256\n",
            "\u001b[34m\u001b[1mwandb\u001b[0m: \tepochs: 15\n",
            "\u001b[34m\u001b[1mwandb\u001b[0m: \thidden_layer_size: 256\n",
            "\u001b[34m\u001b[1mwandb\u001b[0m: \tlayers: 1\n",
            "\u001b[34m\u001b[1mwandb\u001b[0m: \tlearning_rate: 0.001\n"
          ]
        },
        {
          "output_type": "display_data",
          "data": {
            "text/plain": [
              "<IPython.core.display.HTML object>"
            ],
            "text/html": [
              "Tracking run with wandb version 0.15.3"
            ]
          },
          "metadata": {}
        },
        {
          "output_type": "display_data",
          "data": {
            "text/plain": [
              "<IPython.core.display.HTML object>"
            ],
            "text/html": [
              "Run data is saved locally in <code>/content/wandb/run-20230521_095248-pzmbn298</code>"
            ]
          },
          "metadata": {}
        },
        {
          "output_type": "display_data",
          "data": {
            "text/plain": [
              "<IPython.core.display.HTML object>"
            ],
            "text/html": [
              "Syncing run <strong><a href='https://wandb.ai/saisreeram/Assignment-3-hin-02/runs/pzmbn298' target=\"_blank\">sunny-sweep-1</a></strong> to <a href='https://wandb.ai/saisreeram/Assignment-3-hin-02' target=\"_blank\">Weights & Biases</a> (<a href='https://wandb.me/run' target=\"_blank\">docs</a>)<br/>Sweep page: <a href='https://wandb.ai/saisreeram/Assignment-3-hin-02/sweeps/g8lve0bi' target=\"_blank\">https://wandb.ai/saisreeram/Assignment-3-hin-02/sweeps/g8lve0bi</a>"
            ]
          },
          "metadata": {}
        },
        {
          "output_type": "display_data",
          "data": {
            "text/plain": [
              "<IPython.core.display.HTML object>"
            ],
            "text/html": [
              " View project at <a href='https://wandb.ai/saisreeram/Assignment-3-hin-02' target=\"_blank\">https://wandb.ai/saisreeram/Assignment-3-hin-02</a>"
            ]
          },
          "metadata": {}
        },
        {
          "output_type": "display_data",
          "data": {
            "text/plain": [
              "<IPython.core.display.HTML object>"
            ],
            "text/html": [
              " View sweep at <a href='https://wandb.ai/saisreeram/Assignment-3-hin-02/sweeps/g8lve0bi' target=\"_blank\">https://wandb.ai/saisreeram/Assignment-3-hin-02/sweeps/g8lve0bi</a>"
            ]
          },
          "metadata": {}
        },
        {
          "output_type": "display_data",
          "data": {
            "text/plain": [
              "<IPython.core.display.HTML object>"
            ],
            "text/html": [
              " View run at <a href='https://wandb.ai/saisreeram/Assignment-3-hin-02/runs/pzmbn298' target=\"_blank\">https://wandb.ai/saisreeram/Assignment-3-hin-02/runs/pzmbn298</a>"
            ]
          },
          "metadata": {}
        },
        {
          "output_type": "stream",
          "name": "stderr",
          "text": [
            "/usr/local/lib/python3.10/dist-packages/torch/nn/modules/rnn.py:71: UserWarning: dropout option adds dropout after all but last recurrent layer, so non-zero dropout expects num_layers greater than 1, but got dropout=0.2 and num_layers=1\n",
            "  warnings.warn(\"dropout option adds dropout after all but last \"\n",
            "INFO:pytorch_lightning.utilities.rank_zero:GPU available: True (cuda), used: True\n",
            "INFO:pytorch_lightning.utilities.rank_zero:TPU available: False, using: 0 TPU cores\n",
            "INFO:pytorch_lightning.utilities.rank_zero:IPU available: False, using: 0 IPUs\n",
            "INFO:pytorch_lightning.utilities.rank_zero:HPU available: False, using: 0 HPUs\n",
            "INFO:pytorch_lightning.accelerators.cuda:LOCAL_RANK: 0 - CUDA_VISIBLE_DEVICES: [0]\n",
            "INFO:pytorch_lightning.callbacks.model_summary:\n",
            "  | Name    | Type        | Params\n",
            "----------------------------------------\n",
            "0 | encoder | AttnEncoder | 797 K \n",
            "1 | decoder | AttnDecoder | 1.1 M \n",
            "----------------------------------------\n",
            "1.8 M     Trainable params\n",
            "0         Non-trainable params\n",
            "1.8 M     Total params\n",
            "7.397     Total estimated model params size (MB)\n"
          ]
        },
        {
          "output_type": "display_data",
          "data": {
            "text/plain": [
              "Sanity Checking: 0it [00:00, ?it/s]"
            ],
            "application/vnd.jupyter.widget-view+json": {
              "version_major": 2,
              "version_minor": 0,
              "model_id": "a13238782cb545d1a96b06a2c10b611e"
            }
          },
          "metadata": {}
        },
        {
          "output_type": "display_data",
          "data": {
            "text/plain": [
              "Training: 0it [00:00, ?it/s]"
            ],
            "application/vnd.jupyter.widget-view+json": {
              "version_major": 2,
              "version_minor": 0,
              "model_id": "3a4ef069990d4b76bf354387a4463bd8"
            }
          },
          "metadata": {}
        },
        {
          "output_type": "display_data",
          "data": {
            "text/plain": [
              "Validation: 0it [00:00, ?it/s]"
            ],
            "application/vnd.jupyter.widget-view+json": {
              "version_major": 2,
              "version_minor": 0,
              "model_id": "589779b7390245daa5e6e29b3d2ab8e6"
            }
          },
          "metadata": {}
        },
        {
          "output_type": "stream",
          "name": "stdout",
          "text": [
            "train_loss: 0.5236619710922241 train_acc 0.15349608659744263 val_loss: 0.48486092686653137 val_acc 0.2836538553237915\n"
          ]
        },
        {
          "output_type": "stream",
          "name": "stderr",
          "text": [
            "INFO:pytorch_lightning.utilities.rank_zero:`Trainer.fit` stopped: `max_epochs=1` reached.\n"
          ]
        },
        {
          "output_type": "display_data",
          "data": {
            "text/plain": [
              "<IPython.core.display.HTML object>"
            ],
            "text/html": [
              "Waiting for W&B process to finish... <strong style=\"color:green\">(success).</strong>"
            ]
          },
          "metadata": {}
        },
        {
          "output_type": "stream",
          "name": "stderr",
          "text": [
            "\u001b[34m\u001b[1mwandb\u001b[0m: Ctrl + C detected. Stopping sweep.\n"
          ]
        }
      ],
      "source": [
        "\n",
        "cell_map = {\"RNN\":nn.RNN, \"GRU\":nn.GRU, \"LSTM\":nn.LSTM}\n",
        "def sweeprun():\n",
        "\n",
        "  wandb.init()\n",
        "  bidirectional = wandb.config.bidirectional\n",
        "  dropout = wandb.config.dropout\n",
        "  cell_type = wandb.config.cell_type\n",
        "\n",
        "  encoder_layers = wandb.config.layers\n",
        "  decoder_layers = wandb.config.layers\n",
        "  epochs = wandb.config.epochs\n",
        "  learning_rate = wandb.config.learning_rate\n",
        "  batch_size = wandb.config.batch_size\n",
        "  embedding_size = wandb.config.embedding_size\n",
        "  hidden_layer_size = wandb.config.hidden_layer_size\n",
        "\n",
        "  run_name = \"lr_{}_rnn_{}_dp_{}_bd_{}_el_{}_dl_{}_ep_{}_es_{}_hs_{}_bs_{}\".format(learning_rate,cell_type, dropout, bidirectional,encoder_layers, decoder_layers,epochs,embedding_size,hidden_layer_size,batch_size)\n",
        "\n",
        "  train_dataloader = DataLoader(train_data_pairs, batch_size=batch_size, shuffle=True)\n",
        "  val_dataloader = DataLoader(val_data_pairs, batch_size=batch_size, shuffle=False)\n",
        "\n",
        "  cell_type = cell_map[cell_type]\n",
        "  model = Attn2seq(input_size = len(latin_chars), output_size = len(lang_chars),\n",
        "                embedding_size = embedding_size, hidden_size = hidden_layer_size,encoder_layer_size = encoder_layers,\n",
        "                decoder_layer_size = decoder_layers,cell_type = cell_type,\n",
        "                beam_width = 1,dropout= dropout,\n",
        "                bidirectional =bidirectional ,learning_rate = learning_rate)\n",
        "  model.to(device)\n",
        "\n",
        "  trainer = pl.Trainer(max_epochs=1,accelerator = 'gpu') \n",
        "  trainer.fit(model, train_dataloader,val_dataloader)\n",
        "\n",
        "  wandb.run.name = run_name\n",
        "  wandb.finish()\n",
        "\n",
        "\n",
        "\n",
        "sweep_id = wandb.sweep(config,project=\"Assignment-3-hin-02\", entity = \"saisreeram\")\n",
        "wandb.agent(sweep_id, sweeprun)"
      ]
    },
    {
      "cell_type": "markdown",
      "metadata": {
        "id": "yG9TRpW9n1yp"
      },
      "source": [
        "\n",
        "# Model Training on Best Model"
      ]
    },
    {
      "cell_type": "code",
      "execution_count": 22,
      "metadata": {
        "id": "6UWfslDVgKjE",
        "colab": {
          "base_uri": "https://localhost:8080/",
          "height": 642,
          "referenced_widgets": [
            "d9ca95565f594efbbc430d3245b61d21",
            "8b1be723cdf14f6fa3505ddd7da579c1",
            "9235a5b220d14f06a71e777fac2649ea",
            "603e39421ed64b8ca479d7576e1afc9a",
            "27914c0a38354b789b3535dae7a47aa7",
            "5f4b204cc7a74e358ebd6fde6ff50d90",
            "b871848b4f21440daa90aa1b8445bf7e",
            "fb13acb0a9a94190873148e8607f5407",
            "ebd120f724964e79b0603bb085a6c9ee",
            "634419ce5b2c4d3588d55633dcf1b835",
            "b257ee2612ab43e0a614ddc932bfb5ee",
            "0622549c63f94dcdb3fad25ef5a86c08",
            "f0c8b992c43e4c449d967e3acabceeef",
            "d3be58ea4e5c4eed87592f94ab30c017",
            "77cf6a6df17948b9bd47e60a1bbc6fb2",
            "6b99627e34e8470aaab465fc747e2c71",
            "460f4303f4f44d9796d272d87d816a09",
            "2ae27d68a3f248f2b82b6ba5bfbb3f37",
            "1acd9562f96a46208f1b6927336d71e2",
            "3f55d8fff7e54d1a8efc0e256f7607f0",
            "12c2687138ad43f4b17d4f1ab2978618",
            "d7f90b4722b94fec8b328806f0730acf",
            "138738e1a217415ca9bc84ca249a0be7",
            "407b6d1746ce4949994fcf51fa2d1237",
            "9a3153cf23784422bc3ffb5a5434bd2d",
            "ae4006c742a9414a9ded2eb64333e59d",
            "b09d3a0a20114cdd8e3433465c343d70",
            "05b38e90be88439cb5952e6e3c7d380f",
            "109689116a1e4a5ebce70373a60d1f02",
            "4fe3da21af2c48628cee95a12c21fa22",
            "2d73391dfa5e49acbb2dff4e2afd64a1",
            "182780fb7c5741588fdfbb9efc689797",
            "271a4a35a8474f0c8c706ae431214343",
            "c9408ed5c25041f59162989b5f6f5eb3",
            "3b2a382537ab46c0b420283ce9b176d8",
            "50367d8b97dc4948849269a19ac4f543",
            "75c3b1f47e70422eb8eb3d1eeb1ac10f",
            "30e3f958d8284feaaa070db5a2f94ff2",
            "ae227e4d4eea41f8b478b5d4a4005bcb",
            "dca95d2867e843b4b97e878ce96e0ea3",
            "2adc2e6e656d441bbae1baca837e3e38",
            "9d664c758261477e92c8c318e06253ba",
            "b030dba3019841f1a778792e5b52e0a2",
            "b77fbfc1b7db40fd808f6c27a6348ed0",
            "6e3d15a84171476593928b6967aeb802",
            "3ea00422699d408b93d4f5eead1f6b5a",
            "efbedcc37ff143e3811582a915509c65",
            "04d5f87564704e5fabd417b5563e92f8",
            "4714d4c0ba2d467cb04e4e5e4b0a006c",
            "c763f61a26b04484b166a0b5b9167e8a",
            "420b1f2ea85e4542b81e987a02fb2990",
            "1c792dc8bb934fd7855677c95681eac8",
            "d3366e1e3a754e59952e00674a870978",
            "3814328ef4274ab8ac634cc01c1dcab7",
            "891c7168e0ff40e3b714e15d087ea542",
            "00200477fee2480dbe044a15bfc61538",
            "8c9733f6cc554638908118a911ec90bc",
            "de7b5d34fa104483842df1f30611419f",
            "9a0fcdf95cb443dbb5989f9b735c12d6",
            "60ae78d7402843fdb44691a8769972d2",
            "fe1159c822b44c528099228939851598",
            "87c16843c28241f8a12eef992d1b6e49",
            "2fdd70012943452cacad7cd10b15d6ed",
            "5be9f9a2530942fbb10451c105894704",
            "7e29a3ca712042218fc06587f88604a9",
            "972ebc5268fd443cb79dffc6d2929c35",
            "9fbdb0936d0f499798f433b9716e6a36",
            "20b655d4b7d14b7f93b3889be551a267",
            "f672f25f876443a2a8bab712f0030caa",
            "c8848973b24b4ae2beb953fe8e94f03c",
            "d5262c0365c6466e8814c2b20f8b4c59",
            "bb0f75c797f845a49c6a4b9aeb944c7b",
            "5266b62c2958432794859f45ebb4b5a4",
            "152bbc3c13a84c87be9182b8cf3eba31",
            "d168f8e41ace4c618a2844db71c06d1a",
            "29f9b77b67744295b6ed4c08a036ce3f",
            "166c72a7aa8144368400b6d22d78eab3",
            "1496f0e2b3654fecb3d2afe18d2243b5",
            "c832dfcb1d8c4abe9da1edf1ef209e85",
            "8923bb216b0245a9bde37720b4546499",
            "3a32aa1ae88244b6a182eb721079425e",
            "776b47ae80c0427e84b6fc6be9617b9b",
            "40476acb2b0443b881fab3ef2be3e8b7",
            "3536e00f24064386addabbaab4bf7364",
            "c180593f37f94c41ae3b444398aa311c",
            "94f2a9413c4a4a76a2c90c3232bdfab1",
            "f6978c33abb648fc9a2ac8d50d5e3f6c",
            "3f86afada0e04a7fac710380622f1372",
            "af123c8fa75347979233b232be6bc351",
            "2b779bd575ae45e28050e959d322991d",
            "225d35d03e6a475fa276258ad701f897",
            "75e1b419445e4a49890c35c7a1c95cb9",
            "e96dfb88674242fa93b28983cc080630",
            "bafa0603466d46e99d9347c9efebea25",
            "a654ee8da27c4ce19b74fa33cdb61e0c",
            "15c7a77a9390477396b45b5246f1c82b",
            "71c90ca9e8f941739e15b08d23f94a6a",
            "97589a91ece1416ba83954d3e77fff21",
            "05738ba68d564008909ef2e24a8d183e",
            "3912697a089449e5b8b740effcfa4772",
            "984ea115c5e040389acdddf2c03b0473",
            "52db16570faa4bb69c668443a8decf20",
            "a78c4b70e2a845388dcc9bee78be3cd2",
            "021a140fab874e5092b2ffbd2a61a5e1",
            "a2003ac7797045b9be09d968dc056b07",
            "28b6f97510264bca974af5cffa064aca",
            "f8a10a2844f44461ac69a5489b8b046d",
            "542355810cf44ba8878fee9ff4817005",
            "4cd4405ff94749a4a1595de8e4640cd2",
            "66cb85419f7d4db491e378bad99ac7e5",
            "35716005f2f84118bc4bd3eae4a07ec7",
            "57398b22f6f6472fafae14468e71d3e6",
            "5d28143ea3cb4fa89b2321db982bebf8",
            "2964455b04c1498f9cb79af281d7e588",
            "0902a17aad3d44ad812cf8f9c44164b8",
            "05daf8923f53490e880c8082dda25b88",
            "569b477eb2a5432cabaea0b31565e283",
            "d4921e45fb49418696d973f6c30d5857",
            "cac1f20877484ce899da72c8b5322ae7",
            "35f62837a47e4f3c8cac33063398abe7",
            "1eddf0dafbad48239833055c8958fcf2",
            "8719827dcc8e4253924b433f5a74a58e",
            "ff726b025df6422e934af3a1cc8d5189",
            "ba1b1158458140ed8aa9f5e945cee223",
            "3b7b3f0a550a49f7abae145aff7379ce",
            "5767f4b2a3474f378da08a44ca030b66",
            "90ad1454e1524d1e8d3b4acbd9f7ea36",
            "ce3907c003a3434585cbe19610785273",
            "1f290c2891ef4b84ad5bba783fb4a514",
            "d76a05a61a364ce9b6c9edcbdb0b2ac2",
            "1a089ac7c4a14bd6a885075a2ffbf80d",
            "ec8b07e5a0054f1abf5356647e9e5b82",
            "49d22ceb1c434291860e7c7fc4fbdd36",
            "fac69acdbf33447596ae5219daa81409",
            "a878f494c01343f0b8f73976cbb00f36",
            "42b342b4fc924469b6a89c1e2c0ca0b0",
            "b002c5a3e0c44007abf0e6ff4ea7695d",
            "aef38c60fdb44f688884fd378abb18be",
            "ba11e19826d7443a9208a91abed149de",
            "f7c2553859864eb09031ad5a59696db8",
            "84d0eea1f6524cf0b1a40ad66009edca",
            "eeddc3277800439ab4018f7cc913348a",
            "a769564349fe4485b92c7c68575332ec",
            "224e4bd2ff85462b859e5792880e80be",
            "7a4c6616f1ec4edd8670753b6c63f43f",
            "3d84fa4da99940bbbf599a15816cdc4b",
            "6b9cb418520f476b8971d0f1ffd9c4e2",
            "be078c229322460f8d4e547663cfba93",
            "b4c8c39215a94f43a06ab65bb726048b",
            "1b6e4b9642524f42b61c3b87e3a6a7db",
            "7dec6dc450184d91a78e4f370203e72d",
            "19d9ee89e36049a1b29075eb163a3fbc",
            "a05dd9df540e4ea085b6e79288af386c",
            "38b6aa1857e14e00a5836d8abe5ef89c",
            "1ca697111dc147b7b9499ba92031d8b8",
            "e4a80a5212b54ef997f548afb781b6a8",
            "4824da4d75b24e56b0a365bd8bdcb727",
            "be8fb3ddb1c5423294f27575d49351cb",
            "508ddd063aa146109646c278ca0d2b1b",
            "3300be73d57f4e498067b08b67c154e7",
            "94f60372fd5b426e8013a99dfabdcff6",
            "21de10aa145e4c25af4698cbd7b4cda7",
            "2a896f4249ff46648dd805d2f607b362",
            "3107de71c0784dd3a5f2af6d7bc1165b",
            "738faa5d562c43a19505c0406bdd4ed9",
            "9a326e47a60d4dafa81410992f64d2c0",
            "93427521ce26471fb4263a0cbccbdf6b",
            "6318c1943fcc456d9333648cbefb5d2f",
            "7a5b5e43e48f4a05814bffc983d1abe3",
            "72bb1616de134c7faf064d49017c5082",
            "31998fb9733c44d5aa3fc95251fcc404",
            "d6a7d60e77fb48bbbe58f547eba9e838",
            "50bb855989744439891f1b6578fc9521",
            "4d8af870552c45dc9b73d00373abed45",
            "888ef01e69f940f889522ea2f0c6e5a1",
            "b84c50e53a184d4785a39f31bb3e4dc3",
            "bbbc49217d414586a2f0de86ef4ef98f",
            "627432f6e0c34f1aaa93f5cf52a16e96",
            "6823a4db7ccd4cd881b257cef538bf61",
            "5cc85ab7e59548348436ea5cd5e68caf",
            "ff07b1f7361b46d9a5ec44885c90e1be",
            "4f2d4bd9cdc1466f9968d451a3b10e41",
            "97573b4219f14557afccfecd93078238",
            "eed95f3039cb46d7ab6a3c0e8a9cf4e1",
            "73754ca363d147bfa3872fd1842f1a2b",
            "38c7c2030ddb43939a3b061a8cec53ae",
            "50b173717d4e49329e5e78dc40cbba38"
          ]
        },
        "outputId": "18e5e78d-4af0-4fec-f0ed-79f979a5945f"
      },
      "outputs": [
        {
          "output_type": "stream",
          "name": "stderr",
          "text": [
            "/usr/local/lib/python3.10/dist-packages/torch/nn/modules/rnn.py:71: UserWarning: dropout option adds dropout after all but last recurrent layer, so non-zero dropout expects num_layers greater than 1, but got dropout=0.2 and num_layers=1\n",
            "  warnings.warn(\"dropout option adds dropout after all but last \"\n",
            "INFO:pytorch_lightning.utilities.rank_zero:GPU available: True (cuda), used: True\n",
            "INFO:pytorch_lightning.utilities.rank_zero:TPU available: False, using: 0 TPU cores\n",
            "INFO:pytorch_lightning.utilities.rank_zero:IPU available: False, using: 0 IPUs\n",
            "INFO:pytorch_lightning.utilities.rank_zero:HPU available: False, using: 0 HPUs\n",
            "INFO:pytorch_lightning.accelerators.cuda:LOCAL_RANK: 0 - CUDA_VISIBLE_DEVICES: [0]\n",
            "INFO:pytorch_lightning.callbacks.model_summary:\n",
            "  | Name    | Type        | Params\n",
            "----------------------------------------\n",
            "0 | encoder | AttnEncoder | 561 K \n",
            "1 | decoder | AttnDecoder | 1.2 M \n",
            "----------------------------------------\n",
            "1.8 M     Trainable params\n",
            "0         Non-trainable params\n",
            "1.8 M     Total params\n",
            "7.171     Total estimated model params size (MB)\n"
          ]
        },
        {
          "output_type": "display_data",
          "data": {
            "text/plain": [
              "Sanity Checking: 0it [00:00, ?it/s]"
            ],
            "application/vnd.jupyter.widget-view+json": {
              "version_major": 2,
              "version_minor": 0,
              "model_id": "d9ca95565f594efbbc430d3245b61d21"
            }
          },
          "metadata": {}
        },
        {
          "output_type": "display_data",
          "data": {
            "text/plain": [
              "Training: 0it [00:00, ?it/s]"
            ],
            "application/vnd.jupyter.widget-view+json": {
              "version_major": 2,
              "version_minor": 0,
              "model_id": "0622549c63f94dcdb3fad25ef5a86c08"
            }
          },
          "metadata": {}
        },
        {
          "output_type": "display_data",
          "data": {
            "text/plain": [
              "Validation: 0it [00:00, ?it/s]"
            ],
            "application/vnd.jupyter.widget-view+json": {
              "version_major": 2,
              "version_minor": 0,
              "model_id": "138738e1a217415ca9bc84ca249a0be7"
            }
          },
          "metadata": {}
        },
        {
          "output_type": "stream",
          "name": "stdout",
          "text": [
            "train_loss: 0.9922477602958679 train_acc 0.035136718302965164 val_loss: 0.59464430809021 val_acc 0.16429924964904785\n"
          ]
        },
        {
          "output_type": "display_data",
          "data": {
            "text/plain": [
              "Validation: 0it [00:00, ?it/s]"
            ],
            "application/vnd.jupyter.widget-view+json": {
              "version_major": 2,
              "version_minor": 0,
              "model_id": "c9408ed5c25041f59162989b5f6f5eb3"
            }
          },
          "metadata": {}
        },
        {
          "output_type": "stream",
          "name": "stdout",
          "text": [
            "train_loss: 0.41001096367836 train_acc 0.18447265028953552 val_loss: 0.40541642904281616 val_acc 0.279541015625\n"
          ]
        },
        {
          "output_type": "display_data",
          "data": {
            "text/plain": [
              "Validation: 0it [00:00, ?it/s]"
            ],
            "application/vnd.jupyter.widget-view+json": {
              "version_major": 2,
              "version_minor": 0,
              "model_id": "6e3d15a84171476593928b6967aeb802"
            }
          },
          "metadata": {}
        },
        {
          "output_type": "stream",
          "name": "stdout",
          "text": [
            "train_loss: 0.31815993785858154 train_acc 0.2716015577316284 val_loss: 0.3727620244026184 val_acc 0.335693359375\n"
          ]
        },
        {
          "output_type": "display_data",
          "data": {
            "text/plain": [
              "Validation: 0it [00:00, ?it/s]"
            ],
            "application/vnd.jupyter.widget-view+json": {
              "version_major": 2,
              "version_minor": 0,
              "model_id": "00200477fee2480dbe044a15bfc61538"
            }
          },
          "metadata": {}
        },
        {
          "output_type": "stream",
          "name": "stdout",
          "text": [
            "train_loss: 0.27822697162628174 train_acc 0.32304686307907104 val_loss: 0.3732907772064209 val_acc 0.365478515625\n"
          ]
        },
        {
          "output_type": "display_data",
          "data": {
            "text/plain": [
              "Validation: 0it [00:00, ?it/s]"
            ],
            "application/vnd.jupyter.widget-view+json": {
              "version_major": 2,
              "version_minor": 0,
              "model_id": "9fbdb0936d0f499798f433b9716e6a36"
            }
          },
          "metadata": {}
        },
        {
          "output_type": "stream",
          "name": "stdout",
          "text": [
            "train_loss: 0.23482826352119446 train_acc 0.3716992139816284 val_loss: 0.3699350953102112 val_acc 0.38232421875\n"
          ]
        },
        {
          "output_type": "display_data",
          "data": {
            "text/plain": [
              "Validation: 0it [00:00, ?it/s]"
            ],
            "application/vnd.jupyter.widget-view+json": {
              "version_major": 2,
              "version_minor": 0,
              "model_id": "1496f0e2b3654fecb3d2afe18d2243b5"
            }
          },
          "metadata": {}
        },
        {
          "output_type": "stream",
          "name": "stdout",
          "text": [
            "train_loss: 0.22283434867858887 train_acc 0.40623044967651367 val_loss: 0.36090701818466187 val_acc 0.389892578125\n"
          ]
        },
        {
          "output_type": "display_data",
          "data": {
            "text/plain": [
              "Validation: 0it [00:00, ?it/s]"
            ],
            "application/vnd.jupyter.widget-view+json": {
              "version_major": 2,
              "version_minor": 0,
              "model_id": "af123c8fa75347979233b232be6bc351"
            }
          },
          "metadata": {}
        },
        {
          "output_type": "stream",
          "name": "stdout",
          "text": [
            "train_loss: 0.20457690954208374 train_acc 0.4378906190395355 val_loss: 0.34952512383461 val_acc 0.40380859375\n"
          ]
        },
        {
          "output_type": "display_data",
          "data": {
            "text/plain": [
              "Validation: 0it [00:00, ?it/s]"
            ],
            "application/vnd.jupyter.widget-view+json": {
              "version_major": 2,
              "version_minor": 0,
              "model_id": "3912697a089449e5b8b740effcfa4772"
            }
          },
          "metadata": {}
        },
        {
          "output_type": "stream",
          "name": "stdout",
          "text": [
            "train_loss: 0.20589092373847961 train_acc 0.4560937285423279 val_loss: 0.35753437876701355 val_acc 0.40966796875\n"
          ]
        },
        {
          "output_type": "display_data",
          "data": {
            "text/plain": [
              "Validation: 0it [00:00, ?it/s]"
            ],
            "application/vnd.jupyter.widget-view+json": {
              "version_major": 2,
              "version_minor": 0,
              "model_id": "35716005f2f84118bc4bd3eae4a07ec7"
            }
          },
          "metadata": {}
        },
        {
          "output_type": "stream",
          "name": "stdout",
          "text": [
            "train_loss: 0.16341666877269745 train_acc 0.5095507502555847 val_loss: 0.3606962561607361 val_acc 0.40185546875\n"
          ]
        },
        {
          "output_type": "display_data",
          "data": {
            "text/plain": [
              "Validation: 0it [00:00, ?it/s]"
            ],
            "application/vnd.jupyter.widget-view+json": {
              "version_major": 2,
              "version_minor": 0,
              "model_id": "8719827dcc8e4253924b433f5a74a58e"
            }
          },
          "metadata": {}
        },
        {
          "output_type": "stream",
          "name": "stdout",
          "text": [
            "train_loss: 0.15355654060840607 train_acc 0.534960925579071 val_loss: 0.3764095902442932 val_acc 0.41455078125\n"
          ]
        },
        {
          "output_type": "display_data",
          "data": {
            "text/plain": [
              "Validation: 0it [00:00, ?it/s]"
            ],
            "application/vnd.jupyter.widget-view+json": {
              "version_major": 2,
              "version_minor": 0,
              "model_id": "49d22ceb1c434291860e7c7fc4fbdd36"
            }
          },
          "metadata": {}
        },
        {
          "output_type": "stream",
          "name": "stdout",
          "text": [
            "train_loss: 0.1425616592168808 train_acc 0.5679101347923279 val_loss: 0.38539230823516846 val_acc 0.41455078125\n"
          ]
        },
        {
          "output_type": "display_data",
          "data": {
            "text/plain": [
              "Validation: 0it [00:00, ?it/s]"
            ],
            "application/vnd.jupyter.widget-view+json": {
              "version_major": 2,
              "version_minor": 0,
              "model_id": "224e4bd2ff85462b859e5792880e80be"
            }
          },
          "metadata": {}
        },
        {
          "output_type": "stream",
          "name": "stdout",
          "text": [
            "train_loss: 0.13462291657924652 train_acc 0.5909570455551147 val_loss: 0.39413782954216003 val_acc 0.406005859375\n"
          ]
        },
        {
          "output_type": "display_data",
          "data": {
            "text/plain": [
              "Validation: 0it [00:00, ?it/s]"
            ],
            "application/vnd.jupyter.widget-view+json": {
              "version_major": 2,
              "version_minor": 0,
              "model_id": "1ca697111dc147b7b9499ba92031d8b8"
            }
          },
          "metadata": {}
        },
        {
          "output_type": "stream",
          "name": "stdout",
          "text": [
            "train_loss: 0.11814906448125839 train_acc 0.6308398246765137 val_loss: 0.4273800849914551 val_acc 0.40869140625\n"
          ]
        },
        {
          "output_type": "display_data",
          "data": {
            "text/plain": [
              "Validation: 0it [00:00, ?it/s]"
            ],
            "application/vnd.jupyter.widget-view+json": {
              "version_major": 2,
              "version_minor": 0,
              "model_id": "9a326e47a60d4dafa81410992f64d2c0"
            }
          },
          "metadata": {}
        },
        {
          "output_type": "stream",
          "name": "stdout",
          "text": [
            "train_loss: 0.09844648838043213 train_acc 0.67236328125 val_loss: 0.42353713512420654 val_acc 0.4150390625\n"
          ]
        },
        {
          "output_type": "display_data",
          "data": {
            "text/plain": [
              "Validation: 0it [00:00, ?it/s]"
            ],
            "application/vnd.jupyter.widget-view+json": {
              "version_major": 2,
              "version_minor": 0,
              "model_id": "bbbc49217d414586a2f0de86ef4ef98f"
            }
          },
          "metadata": {}
        },
        {
          "output_type": "stream",
          "name": "stdout",
          "text": [
            "train_loss: 0.09414581954479218 train_acc 0.6922265291213989 val_loss: 0.4199206233024597 val_acc 0.41943359375\n"
          ]
        },
        {
          "output_type": "stream",
          "name": "stderr",
          "text": [
            "INFO:pytorch_lightning.utilities.rank_zero:`Trainer.fit` stopped: `max_epochs=15` reached.\n"
          ]
        }
      ],
      "source": [
        "# Model Initialization\n",
        "\n",
        "train_dataloader = DataLoader(train_data_pairs, batch_size=64, shuffle=True)\n",
        "val_dataloader = DataLoader(val_data_pairs, batch_size=64, shuffle=False)\n",
        "\n",
        "model = Attn2seq(input_size = len(latin_chars), output_size = len(lang_chars),\n",
        "                embedding_size = 16, hidden_size = 256,encoder_layer_size = 1,\n",
        "                decoder_layer_size = 1,cell_type = nn.LSTM,\n",
        "                beam_width = 1,dropout= 0.2,\n",
        "                bidirectional =True ,learning_rate = 0.001)\n",
        "# Device Selection\n",
        "model.to(device)\n",
        "\n",
        "\n",
        "# Trainer Initialization\n",
        "\n",
        "trainer = pl.Trainer(max_epochs = 15)\n",
        "trainer.fit(model, train_dataloader,val_dataloader)\n"
      ]
    },
    {
      "cell_type": "code",
      "source": [],
      "metadata": {
        "id": "G2j5i6ANWVit"
      },
      "execution_count": null,
      "outputs": []
    },
    {
      "cell_type": "markdown",
      "source": [
        "# Testing"
      ],
      "metadata": {
        "id": "cjaTfh78xSU0"
      }
    },
    {
      "cell_type": "code",
      "source": [],
      "metadata": {
        "id": "1Hi6kQsMMmTC"
      },
      "execution_count": null,
      "outputs": []
    },
    {
      "cell_type": "code",
      "source": [
        "trainer.test(model, test_dataloader)\n"
      ],
      "metadata": {
        "id": "G1-3QZxzxRpB",
        "colab": {
          "base_uri": "https://localhost:8080/",
          "height": 180,
          "referenced_widgets": [
            "b7601e83b62f4401bb1df6980b666cd4",
            "027ec8d68d994eadab3b4b1438a76b39",
            "423b9982207d4c4da92c53078f805007",
            "91755e83d8334ab5aa87780fbccfad4a",
            "a245b629e5be4f568c4048b2fd7f6d70",
            "90912a318d134d29af2bd6700d334469",
            "f39baead9d5a48a69610c1072425275e",
            "20626e551ec14089ad0d6454044680f8",
            "ad6cb8b8f32947b09519ec8096909078",
            "5cb6f0ede1484d3eb23dd6a1d5ca7c1b",
            "69633cba398f44f58e7d6c8b6484a36a"
          ]
        },
        "outputId": "4adac43f-60d7-4240-9d07-b31e2d883f8a"
      },
      "execution_count": 23,
      "outputs": [
        {
          "output_type": "stream",
          "name": "stderr",
          "text": [
            "INFO:pytorch_lightning.accelerators.cuda:LOCAL_RANK: 0 - CUDA_VISIBLE_DEVICES: [0]\n"
          ]
        },
        {
          "output_type": "display_data",
          "data": {
            "text/plain": [
              "Testing: 0it [00:00, ?it/s]"
            ],
            "application/vnd.jupyter.widget-view+json": {
              "version_major": 2,
              "version_minor": 0,
              "model_id": "b7601e83b62f4401bb1df6980b666cd4"
            }
          },
          "metadata": {}
        },
        {
          "output_type": "display_data",
          "data": {
            "text/plain": [
              "┏━━━━━━━━━━━━━━━━━━━━━━━━━━━┳━━━━━━━━━━━━━━━━━━━━━━━━━━━┓\n",
              "┃\u001b[1m \u001b[0m\u001b[1m       Test metric       \u001b[0m\u001b[1m \u001b[0m┃\u001b[1m \u001b[0m\u001b[1m      DataLoader 0       \u001b[0m\u001b[1m \u001b[0m┃\n",
              "┡━━━━━━━━━━━━━━━━━━━━━━━━━━━╇━━━━━━━━━━━━━━━━━━━━━━━━━━━┩\n",
              "│\u001b[36m \u001b[0m\u001b[36m         val_acc         \u001b[0m\u001b[36m \u001b[0m│\u001b[35m \u001b[0m\u001b[35m      0.40478515625      \u001b[0m\u001b[35m \u001b[0m│\n",
              "│\u001b[36m \u001b[0m\u001b[36m        val_loss         \u001b[0m\u001b[36m \u001b[0m│\u001b[35m \u001b[0m\u001b[35m   0.48518404364585876   \u001b[0m\u001b[35m \u001b[0m│\n",
              "└───────────────────────────┴───────────────────────────┘\n"
            ],
            "text/html": [
              "<pre style=\"white-space:pre;overflow-x:auto;line-height:normal;font-family:Menlo,'DejaVu Sans Mono',consolas,'Courier New',monospace\">┏━━━━━━━━━━━━━━━━━━━━━━━━━━━┳━━━━━━━━━━━━━━━━━━━━━━━━━━━┓\n",
              "┃<span style=\"font-weight: bold\">        Test metric        </span>┃<span style=\"font-weight: bold\">       DataLoader 0        </span>┃\n",
              "┡━━━━━━━━━━━━━━━━━━━━━━━━━━━╇━━━━━━━━━━━━━━━━━━━━━━━━━━━┩\n",
              "│<span style=\"color: #008080; text-decoration-color: #008080\">          val_acc          </span>│<span style=\"color: #800080; text-decoration-color: #800080\">       0.40478515625       </span>│\n",
              "│<span style=\"color: #008080; text-decoration-color: #008080\">         val_loss          </span>│<span style=\"color: #800080; text-decoration-color: #800080\">    0.48518404364585876    </span>│\n",
              "└───────────────────────────┴───────────────────────────┘\n",
              "</pre>\n"
            ]
          },
          "metadata": {}
        },
        {
          "output_type": "execute_result",
          "data": {
            "text/plain": [
              "[{'val_loss': 0.48518404364585876, 'val_acc': 0.40478515625}]"
            ]
          },
          "metadata": {},
          "execution_count": 23
        }
      ]
    },
    {
      "cell_type": "markdown",
      "source": [
        "# predictions_attention.csv"
      ],
      "metadata": {
        "id": "Xa8Kf3AKm_J_"
      }
    },
    {
      "cell_type": "code",
      "source": [
        "import csv \n",
        "\n",
        "data = test_data\n",
        "data1= test_data.T\n",
        "rows = []\n",
        "\n",
        "model = model.to(device)\n",
        "# Prediction Loop\n",
        "for i in range(0,len(data)):\n",
        "  # model.eval()\n",
        "  word =  [2]+[latin_chars.get(char,latin_chars['<UNK>']) for char in data1[i][0]] + [0]*(latin_max_length - len(data1[i][0]))+[3]\n",
        "  latin_tensor = torch.tensor(word[:latin_max_length+2]).to(device)\n",
        "  latin_tensor = latin_tensor.view(-1,latin_max_length+2).to(device)\n",
        "  output,attn_weights = model.forward(latin_tensor,tf=0)\n",
        "  lang_word = \"\"\n",
        "  output_ = torch.argmax(output,2)\n",
        "  for num in output_:\n",
        "    if (num == 0): break\n",
        "    lang_word += lang_chars_num[num.item()]\n",
        "  rows.append([data1[i][0],data1[i][1],lang_word[1:] ])\n",
        "\n",
        "cols = ['Input', 'Expected', 'Predicted'] \n",
        "\n",
        "# Saving to CSV\n",
        "with open(\"predictions_attention.csv\",\"w\") as csvfile:\n",
        "  writer = csv.writer(csvfile)\n",
        "  writer.writerow(cols)\n",
        "  writer.writerows(rows)"
      ],
      "metadata": {
        "id": "SDD8_7XGSIZR"
      },
      "execution_count": 24,
      "outputs": []
    },
    {
      "cell_type": "markdown",
      "source": [
        "# Attention heatmaps"
      ],
      "metadata": {
        "id": "5L_fc1-pxha8"
      }
    },
    {
      "cell_type": "code",
      "source": [
        "# Set the device to CUDA if available, otherwise use CPU\n",
        "\n",
        "device = torch.device(\"cuda:0\" if torch.cuda.is_available() else \"cpu\")\n",
        "\n",
        "data = test_data\n",
        "data1= test_data.T\n",
        "rows = []\n",
        "input_w = []\n",
        "\n",
        "# Move the model to the specified device\n",
        "model = model.to(device)\n",
        "\n",
        "# Preprocess the data for each index from 0 to 9\n",
        "for i in range(0,100):\n",
        "  word =  [2]+[latin_chars.get(char,latin_chars['<UNK>']) for char in data1[i][0]] + [0]*(latin_max_length - len(data1[i][0]))+[3]\n",
        "  rows.append(word)\n",
        "  input_w.append(data1[i][0])\n",
        "\n",
        "# Convert the rows and input_w lists to NumPy arrays\n",
        "rows = np.array(rows)\n",
        "input_w = np.array(input_w)\n",
        "\n",
        "rows = torch.tensor(rows).to(device)\n",
        "# Perform inference using the model\n",
        "output,attn_weights = model.forward(rows,tf=0)\n",
        "# Find the indices of the maximum values along the last dimension of the output tensor\n",
        "output_ = torch.argmax(output,2)\n",
        "output = []\n",
        "output_ = output_.permute(1,0)\n",
        "for word in output_:\n",
        "  lang_word = \"\"\n",
        "  for num in word:\n",
        "      if (num == 0): break\n",
        "      lang_word += lang_chars_num[num.item()]\n",
        "  output.append(lang_word)\n",
        "output = np.array(output)\n",
        "\n",
        "# Permute the attn_weights tensor to have dimensions (batch_size, lang_max_length, latin_max_length)\n",
        "\n",
        "attn_weights = attn_weights.permute(1,0,2)\n"
      ],
      "metadata": {
        "id": "UDr8qV_88Oq0"
      },
      "execution_count": 42,
      "outputs": []
    },
    {
      "cell_type": "code",
      "execution_count": 70,
      "metadata": {
        "id": "LJdI4qoN_jtz",
        "colab": {
          "base_uri": "https://localhost:8080/",
          "height": 1000
        },
        "outputId": "75c9a719-1cff-4b7a-88d6-996f24f17bd3"
      },
      "outputs": [
        {
          "output_type": "display_data",
          "data": {
            "text/plain": [
              "<Figure size 1200x1200 with 24 Axes>"
            ],
            "image/png": "[encoded data removed]"
          },
          "metadata": {}
        }
      ],
      "source": [
        "# Create a figure with a 3x3 grid and set the size to 12x12 inches\n",
        "fig, axes = plt.subplots(4, 3, figsize=(12, 12))\n",
        "\n",
        "# Adjust the spacing between subplots\n",
        "fig.tight_layout(pad=5.0)\n",
        "\n",
        "# Flatten the axes into a 1-dimensional array\n",
        "axes = axes.ravel()\n",
        "\n",
        "# Iterate over each index up to 9\n",
        "for i in range(0,12):\n",
        "    # Get the attention weights for the corresponding input word\n",
        "    attn_weight = attn_weights[i].cpu().detach().numpy()\n",
        "    attn_weight = attn_weight[1:len(input_w[i]) + 1,2:len(output[i])+2]\n",
        "    # Plot the attention weights as a heatmap on the current axis\n",
        "    sns.heatmap(attn_weight, ax=axes[i],cmap= \"Blues\")\n",
        "\n",
        "    # Set the y-axis tick labels to the input words\n",
        "    axes[i].set_yticklabels(input_w[i])\n",
        "\n",
        "    # Set the x-axis tick labels to the output words\n",
        "    axes[i].set_xticklabels(output[i][1:]+'$', fontproperties=hindi_font, fontdict={'fontsize': 16})\n",
        "\n",
        "    # Move the x-axis ticks to the top of the heatmap\n",
        "    axes[i].xaxis.tick_top()\n",
        "\n",
        "fig.canvas.draw()\n",
        "image = np.frombuffer(fig.canvas.tostring_rgb(), dtype=np.uint8)\n",
        "image = image.reshape(fig.canvas.get_width_height()[::-1] + (3,))\n",
        "\n",
        "# wandb.log({\"attention_heatmap_final\": wandb.Image(image)})\n",
        "\n"
      ]
    },
    {
      "cell_type": "code",
      "source": [
        "!python train.py"
      ],
      "metadata": {
        "id": "dDMgUJr0EKS4",
        "colab": {
          "base_uri": "https://localhost:8080/"
        },
        "outputId": "84b552e3-5611-444f-f744-fdd92ac798de"
      },
      "execution_count": 44,
      "outputs": [
        {
          "output_type": "stream",
          "name": "stdout",
          "text": [
            "python3: can't open file '/content/train.py': [Errno 2] No such file or directory\n"
          ]
        }
      ]
    },
    {
      "cell_type": "code",
      "source": [
        "!python train.py -dp aksharantar_sampled/ -la hin -e 5 -b 128 -lr 0.0001 -cl GRU -bd True -at True -do 0.2 -el 3 -dl 3 -es 16 -hls 128\n"
      ],
      "metadata": {
        "id": "zF2DgtcP1vL3"
      },
      "execution_count": null,
      "outputs": []
    },
    {
      "cell_type": "code",
      "source": [
        "import csv\n",
        " \n",
        "# opening the CSV file\n",
        "with open('predictions_attention.csv', mode ='r')as file:\n",
        "   \n",
        "  # reading the CSV file\n",
        "  csvFile = csv.reader(file)\n",
        " \n",
        "  # displaying the contents of the CSV file\n",
        "  count = 0\n",
        "  for lines in csvFile:\n",
        "        if lines[1] == lines[2] :\n",
        "          count = count+1\n"
      ],
      "metadata": {
        "id": "iVDnk8NK8i5z"
      },
      "execution_count": 71,
      "outputs": []
    },
    {
      "cell_type": "code",
      "source": [
        "count"
      ],
      "metadata": {
        "colab": {
          "base_uri": "https://localhost:8080/"
        },
        "id": "TtSQjmFLZtVe",
        "outputId": "e90a73cc-154d-4611-f0cf-f9da17180132"
      },
      "execution_count": 72,
      "outputs": [
        {
          "output_type": "execute_result",
          "data": {
            "text/plain": [
              "1661"
            ]
          },
          "metadata": {},
          "execution_count": 72
        }
      ]
    },
    {
      "cell_type": "code",
      "source": [
        "input_w[2]"
      ],
      "metadata": {
        "id": "vSTfHiRAaUqj",
        "colab": {
          "base_uri": "https://localhost:8080/",
          "height": 36
        },
        "outputId": "d27ead51-74e3-4d33-8bbc-bbe8a6c791b4"
      },
      "execution_count": 56,
      "outputs": [
        {
          "output_type": "execute_result",
          "data": {
            "text/plain": [
              "'learn'"
            ],
            "application/vnd.google.colaboratory.intrinsic+json": {
              "type": "string"
            }
          },
          "metadata": {},
          "execution_count": 56
        }
      ]
    },
    {
      "cell_type": "code",
      "source": [],
      "metadata": {
        "id": "Stn3cM8jM3gB"
      },
      "execution_count": null,
      "outputs": []
    }
  ],
  "metadata": {
    "colab": {
      "provenance": []
    },
    "gpuClass": "standard",
    "kernelspec": {
      "display_name": "Python 3",
      "name": "python3"
    },
    "language_info": {
      "name": "python"
    },
    "accelerator": "GPU",
    "widgets": {
      "application/vnd.jupyter.widget-state+json": {
        "d9ca95565f594efbbc430d3245b61d21": {
          "model_module": "@jupyter-widgets/controls",
          "model_name": "HBoxModel",
          "model_module_version": "1.5.0",
          "state": {
            "_dom_classes": [],
            "_model_module": "@jupyter-widgets/controls",
            "_model_module_version": "1.5.0",
            "_model_name": "HBoxModel",
            "_view_count": null,
            "_view_module": "@jupyter-widgets/controls",
            "_view_module_version": "1.5.0",
            "_view_name": "HBoxView",
            "box_style": "",
            "children": [
              "IPY_MODEL_8b1be723cdf14f6fa3505ddd7da579c1",
              "IPY_MODEL_9235a5b220d14f06a71e777fac2649ea",
              "IPY_MODEL_603e39421ed64b8ca479d7576e1afc9a"
            ],
            "layout": "IPY_MODEL_27914c0a38354b789b3535dae7a47aa7"
          }
        },
        "8b1be723cdf14f6fa3505ddd7da579c1": {
          "model_module": "@jupyter-widgets/controls",
          "model_name": "HTMLModel",
          "model_module_version": "1.5.0",
          "state": {
            "_dom_classes": [],
            "_model_module": "@jupyter-widgets/controls",
            "_model_module_version": "1.5.0",
            "_model_name": "HTMLModel",
            "_view_count": null,
            "_view_module": "@jupyter-widgets/controls",
            "_view_module_version": "1.5.0",
            "_view_name": "HTMLView",
            "description": "",
            "description_tooltip": null,
            "layout": "IPY_MODEL_5f4b204cc7a74e358ebd6fde6ff50d90",
            "placeholder": "​",
            "style": "IPY_MODEL_b871848b4f21440daa90aa1b8445bf7e",
            "value": "Sanity Checking DataLoader 0: 100%"
          }
        },
        "9235a5b220d14f06a71e777fac2649ea": {
          "model_module": "@jupyter-widgets/controls",
          "model_name": "FloatProgressModel",
          "model_module_version": "1.5.0",
          "state": {
            "_dom_classes": [],
            "_model_module": "@jupyter-widgets/controls",
            "_model_module_version": "1.5.0",
            "_model_name": "FloatProgressModel",
            "_view_count": null,
            "_view_module": "@jupyter-widgets/controls",
            "_view_module_version": "1.5.0",
            "_view_name": "ProgressView",
            "bar_style": "",
            "description": "",
            "description_tooltip": null,
            "layout": "IPY_MODEL_fb13acb0a9a94190873148e8607f5407",
            "max": 2,
            "min": 0,
            "orientation": "horizontal",
            "style": "IPY_MODEL_ebd120f724964e79b0603bb085a6c9ee",
            "value": 2
          }
        },
        "603e39421ed64b8ca479d7576e1afc9a": {
          "model_module": "@jupyter-widgets/controls",
          "model_name": "HTMLModel",
          "model_module_version": "1.5.0",
          "state": {
            "_dom_classes": [],
            "_model_module": "@jupyter-widgets/controls",
            "_model_module_version": "1.5.0",
            "_model_name": "HTMLModel",
            "_view_count": null,
            "_view_module": "@jupyter-widgets/controls",
            "_view_module_version": "1.5.0",
            "_view_name": "HTMLView",
            "description": "",
            "description_tooltip": null,
            "layout": "IPY_MODEL_634419ce5b2c4d3588d55633dcf1b835",
            "placeholder": "​",
            "style": "IPY_MODEL_b257ee2612ab43e0a614ddc932bfb5ee",
            "value": " 2/2 [00:00&lt;00:00, 27.39it/s]"
          }
        },
        "27914c0a38354b789b3535dae7a47aa7": {
          "model_module": "@jupyter-widgets/base",
          "model_name": "LayoutModel",
          "model_module_version": "1.2.0",
          "state": {
            "_model_module": "@jupyter-widgets/base",
            "_model_module_version": "1.2.0",
            "_model_name": "LayoutModel",
            "_view_count": null,
            "_view_module": "@jupyter-widgets/base",
            "_view_module_version": "1.2.0",
            "_view_name": "LayoutView",
            "align_content": null,
            "align_items": null,
            "align_self": null,
            "border": null,
            "bottom": null,
            "display": "inline-flex",
            "flex": null,
            "flex_flow": "row wrap",
            "grid_area": null,
            "grid_auto_columns": null,
            "grid_auto_flow": null,
            "grid_auto_rows": null,
            "grid_column": null,
            "grid_gap": null,
            "grid_row": null,
            "grid_template_areas": null,
            "grid_template_columns": null,
            "grid_template_rows": null,
            "height": null,
            "justify_content": null,
            "justify_items": null,
            "left": null,
            "margin": null,
            "max_height": null,
            "max_width": null,
            "min_height": null,
            "min_width": null,
            "object_fit": null,
            "object_position": null,
            "order": null,
            "overflow": null,
            "overflow_x": null,
            "overflow_y": null,
            "padding": null,
            "right": null,
            "top": null,
            "visibility": "hidden",
            "width": "100%"
          }
        },
        "5f4b204cc7a74e358ebd6fde6ff50d90": {
          "model_module": "@jupyter-widgets/base",
          "model_name": "LayoutModel",
          "model_module_version": "1.2.0",
          "state": {
            "_model_module": "@jupyter-widgets/base",
            "_model_module_version": "1.2.0",
            "_model_name": "LayoutModel",
            "_view_count": null,
            "_view_module": "@jupyter-widgets/base",
            "_view_module_version": "1.2.0",
            "_view_name": "LayoutView",
            "align_content": null,
            "align_items": null,
            "align_self": null,
            "border": null,
            "bottom": null,
            "display": null,
            "flex": null,
            "flex_flow": null,
            "grid_area": null,
            "grid_auto_columns": null,
            "grid_auto_flow": null,
            "grid_auto_rows": null,
            "grid_column": null,
            "grid_gap": null,
            "grid_row": null,
            "grid_template_areas": null,
            "grid_template_columns": null,
            "grid_template_rows": null,
            "height": null,
            "justify_content": null,
            "justify_items": null,
            "left": null,
            "margin": null,
            "max_height": null,
            "max_width": null,
            "min_height": null,
            "min_width": null,
            "object_fit": null,
            "object_position": null,
            "order": null,
            "overflow": null,
            "overflow_x": null,
            "overflow_y": null,
            "padding": null,
            "right": null,
            "top": null,
            "visibility": null,
            "width": null
          }
        },
        "b871848b4f21440daa90aa1b8445bf7e": {
          "model_module": "@jupyter-widgets/controls",
          "model_name": "DescriptionStyleModel",
          "model_module_version": "1.5.0",
          "state": {
            "_model_module": "@jupyter-widgets/controls",
            "_model_module_version": "1.5.0",
            "_model_name": "DescriptionStyleModel",
            "_view_count": null,
            "_view_module": "@jupyter-widgets/base",
            "_view_module_version": "1.2.0",
            "_view_name": "StyleView",
            "description_width": ""
          }
        },
        "fb13acb0a9a94190873148e8607f5407": {
          "model_module": "@jupyter-widgets/base",
          "model_name": "LayoutModel",
          "model_module_version": "1.2.0",
          "state": {
            "_model_module": "@jupyter-widgets/base",
            "_model_module_version": "1.2.0",
            "_model_name": "LayoutModel",
            "_view_count": null,
            "_view_module": "@jupyter-widgets/base",
            "_view_module_version": "1.2.0",
            "_view_name": "LayoutView",
            "align_content": null,
            "align_items": null,
            "align_self": null,
            "border": null,
            "bottom": null,
            "display": null,
            "flex": "2",
            "flex_flow": null,
            "grid_area": null,
            "grid_auto_columns": null,
            "grid_auto_flow": null,
            "grid_auto_rows": null,
            "grid_column": null,
            "grid_gap": null,
            "grid_row": null,
            "grid_template_areas": null,
            "grid_template_columns": null,
            "grid_template_rows": null,
            "height": null,
            "justify_content": null,
            "justify_items": null,
            "left": null,
            "margin": null,
            "max_height": null,
            "max_width": null,
            "min_height": null,
            "min_width": null,
            "object_fit": null,
            "object_position": null,
            "order": null,
            "overflow": null,
            "overflow_x": null,
            "overflow_y": null,
            "padding": null,
            "right": null,
            "top": null,
            "visibility": null,
            "width": null
          }
        },
        "ebd120f724964e79b0603bb085a6c9ee": {
          "model_module": "@jupyter-widgets/controls",
          "model_name": "ProgressStyleModel",
          "model_module_version": "1.5.0",
          "state": {
            "_model_module": "@jupyter-widgets/controls",
            "_model_module_version": "1.5.0",
            "_model_name": "ProgressStyleModel",
            "_view_count": null,
            "_view_module": "@jupyter-widgets/base",
            "_view_module_version": "1.2.0",
            "_view_name": "StyleView",
            "bar_color": null,
            "description_width": ""
          }
        },
        "634419ce5b2c4d3588d55633dcf1b835": {
          "model_module": "@jupyter-widgets/base",
          "model_name": "LayoutModel",
          "model_module_version": "1.2.0",
          "state": {
            "_model_module": "@jupyter-widgets/base",
            "_model_module_version": "1.2.0",
            "_model_name": "LayoutModel",
            "_view_count": null,
            "_view_module": "@jupyter-widgets/base",
            "_view_module_version": "1.2.0",
            "_view_name": "LayoutView",
            "align_content": null,
            "align_items": null,
            "align_self": null,
            "border": null,
            "bottom": null,
            "display": null,
            "flex": null,
            "flex_flow": null,
            "grid_area": null,
            "grid_auto_columns": null,
            "grid_auto_flow": null,
            "grid_auto_rows": null,
            "grid_column": null,
            "grid_gap": null,
            "grid_row": null,
            "grid_template_areas": null,
            "grid_template_columns": null,
            "grid_template_rows": null,
            "height": null,
            "justify_content": null,
            "justify_items": null,
            "left": null,
            "margin": null,
            "max_height": null,
            "max_width": null,
            "min_height": null,
            "min_width": null,
            "object_fit": null,
            "object_position": null,
            "order": null,
            "overflow": null,
            "overflow_x": null,
            "overflow_y": null,
            "padding": null,
            "right": null,
            "top": null,
            "visibility": null,
            "width": null
          }
        },
        "b257ee2612ab43e0a614ddc932bfb5ee": {
          "model_module": "@jupyter-widgets/controls",
          "model_name": "DescriptionStyleModel",
          "model_module_version": "1.5.0",
          "state": {
            "_model_module": "@jupyter-widgets/controls",
            "_model_module_version": "1.5.0",
            "_model_name": "DescriptionStyleModel",
            "_view_count": null,
            "_view_module": "@jupyter-widgets/base",
            "_view_module_version": "1.2.0",
            "_view_name": "StyleView",
            "description_width": ""
          }
        },
        "0622549c63f94dcdb3fad25ef5a86c08": {
          "model_module": "@jupyter-widgets/controls",
          "model_name": "HBoxModel",
          "model_module_version": "1.5.0",
          "state": {
            "_dom_classes": [],
            "_model_module": "@jupyter-widgets/controls",
            "_model_module_version": "1.5.0",
            "_model_name": "HBoxModel",
            "_view_count": null,
            "_view_module": "@jupyter-widgets/controls",
            "_view_module_version": "1.5.0",
            "_view_name": "HBoxView",
            "box_style": "",
            "children": [
              "IPY_MODEL_f0c8b992c43e4c449d967e3acabceeef",
              "IPY_MODEL_d3be58ea4e5c4eed87592f94ab30c017",
              "IPY_MODEL_77cf6a6df17948b9bd47e60a1bbc6fb2"
            ],
            "layout": "IPY_MODEL_6b99627e34e8470aaab465fc747e2c71"
          }
        },
        "f0c8b992c43e4c449d967e3acabceeef": {
          "model_module": "@jupyter-widgets/controls",
          "model_name": "HTMLModel",
          "model_module_version": "1.5.0",
          "state": {
            "_dom_classes": [],
            "_model_module": "@jupyter-widgets/controls",
            "_model_module_version": "1.5.0",
            "_model_name": "HTMLModel",
            "_view_count": null,
            "_view_module": "@jupyter-widgets/controls",
            "_view_module_version": "1.5.0",
            "_view_name": "HTMLView",
            "description": "",
            "description_tooltip": null,
            "layout": "IPY_MODEL_460f4303f4f44d9796d272d87d816a09",
            "placeholder": "​",
            "style": "IPY_MODEL_2ae27d68a3f248f2b82b6ba5bfbb3f37",
            "value": "Epoch 14: 100%"
          }
        },
        "d3be58ea4e5c4eed87592f94ab30c017": {
          "model_module": "@jupyter-widgets/controls",
          "model_name": "FloatProgressModel",
          "model_module_version": "1.5.0",
          "state": {
            "_dom_classes": [],
            "_model_module": "@jupyter-widgets/controls",
            "_model_module_version": "1.5.0",
            "_model_name": "FloatProgressModel",
            "_view_count": null,
            "_view_module": "@jupyter-widgets/controls",
            "_view_module_version": "1.5.0",
            "_view_name": "ProgressView",
            "bar_style": "success",
            "description": "",
            "description_tooltip": null,
            "layout": "IPY_MODEL_1acd9562f96a46208f1b6927336d71e2",
            "max": 800,
            "min": 0,
            "orientation": "horizontal",
            "style": "IPY_MODEL_3f55d8fff7e54d1a8efc0e256f7607f0",
            "value": 800
          }
        },
        "77cf6a6df17948b9bd47e60a1bbc6fb2": {
          "model_module": "@jupyter-widgets/controls",
          "model_name": "HTMLModel",
          "model_module_version": "1.5.0",
          "state": {
            "_dom_classes": [],
            "_model_module": "@jupyter-widgets/controls",
            "_model_module_version": "1.5.0",
            "_model_name": "HTMLModel",
            "_view_count": null,
            "_view_module": "@jupyter-widgets/controls",
            "_view_module_version": "1.5.0",
            "_view_name": "HTMLView",
            "description": "",
            "description_tooltip": null,
            "layout": "IPY_MODEL_12c2687138ad43f4b17d4f1ab2978618",
            "placeholder": "​",
            "style": "IPY_MODEL_d7f90b4722b94fec8b328806f0730acf",
            "value": " 800/800 [00:48&lt;00:00, 16.35it/s, v_num=1, val_loss=0.420, val_acc=0.419, train_loss=0.0941, train_acc=0.692]"
          }
        },
        "6b99627e34e8470aaab465fc747e2c71": {
          "model_module": "@jupyter-widgets/base",
          "model_name": "LayoutModel",
          "model_module_version": "1.2.0",
          "state": {
            "_model_module": "@jupyter-widgets/base",
            "_model_module_version": "1.2.0",
            "_model_name": "LayoutModel",
            "_view_count": null,
            "_view_module": "@jupyter-widgets/base",
            "_view_module_version": "1.2.0",
            "_view_name": "LayoutView",
            "align_content": null,
            "align_items": null,
            "align_self": null,
            "border": null,
            "bottom": null,
            "display": "inline-flex",
            "flex": null,
            "flex_flow": "row wrap",
            "grid_area": null,
            "grid_auto_columns": null,
            "grid_auto_flow": null,
            "grid_auto_rows": null,
            "grid_column": null,
            "grid_gap": null,
            "grid_row": null,
            "grid_template_areas": null,
            "grid_template_columns": null,
            "grid_template_rows": null,
            "height": null,
            "justify_content": null,
            "justify_items": null,
            "left": null,
            "margin": null,
            "max_height": null,
            "max_width": null,
            "min_height": null,
            "min_width": null,
            "object_fit": null,
            "object_position": null,
            "order": null,
            "overflow": null,
            "overflow_x": null,
            "overflow_y": null,
            "padding": null,
            "right": null,
            "top": null,
            "visibility": null,
            "width": "100%"
          }
        },
        "460f4303f4f44d9796d272d87d816a09": {
          "model_module": "@jupyter-widgets/base",
          "model_name": "LayoutModel",
          "model_module_version": "1.2.0",
          "state": {
            "_model_module": "@jupyter-widgets/base",
            "_model_module_version": "1.2.0",
            "_model_name": "LayoutModel",
            "_view_count": null,
            "_view_module": "@jupyter-widgets/base",
            "_view_module_version": "1.2.0",
            "_view_name": "LayoutView",
            "align_content": null,
            "align_items": null,
            "align_self": null,
            "border": null,
            "bottom": null,
            "display": null,
            "flex": null,
            "flex_flow": null,
            "grid_area": null,
            "grid_auto_columns": null,
            "grid_auto_flow": null,
            "grid_auto_rows": null,
            "grid_column": null,
            "grid_gap": null,
            "grid_row": null,
            "grid_template_areas": null,
            "grid_template_columns": null,
            "grid_template_rows": null,
            "height": null,
            "justify_content": null,
            "justify_items": null,
            "left": null,
            "margin": null,
            "max_height": null,
            "max_width": null,
            "min_height": null,
            "min_width": null,
            "object_fit": null,
            "object_position": null,
            "order": null,
            "overflow": null,
            "overflow_x": null,
            "overflow_y": null,
            "padding": null,
            "right": null,
            "top": null,
            "visibility": null,
            "width": null
          }
        },
        "2ae27d68a3f248f2b82b6ba5bfbb3f37": {
          "model_module": "@jupyter-widgets/controls",
          "model_name": "DescriptionStyleModel",
          "model_module_version": "1.5.0",
          "state": {
            "_model_module": "@jupyter-widgets/controls",
            "_model_module_version": "1.5.0",
            "_model_name": "DescriptionStyleModel",
            "_view_count": null,
            "_view_module": "@jupyter-widgets/base",
            "_view_module_version": "1.2.0",
            "_view_name": "StyleView",
            "description_width": ""
          }
        },
        "1acd9562f96a46208f1b6927336d71e2": {
          "model_module": "@jupyter-widgets/base",
          "model_name": "LayoutModel",
          "model_module_version": "1.2.0",
          "state": {
            "_model_module": "@jupyter-widgets/base",
            "_model_module_version": "1.2.0",
            "_model_name": "LayoutModel",
            "_view_count": null,
            "_view_module": "@jupyter-widgets/base",
            "_view_module_version": "1.2.0",
            "_view_name": "LayoutView",
            "align_content": null,
            "align_items": null,
            "align_self": null,
            "border": null,
            "bottom": null,
            "display": null,
            "flex": "2",
            "flex_flow": null,
            "grid_area": null,
            "grid_auto_columns": null,
            "grid_auto_flow": null,
            "grid_auto_rows": null,
            "grid_column": null,
            "grid_gap": null,
            "grid_row": null,
            "grid_template_areas": null,
            "grid_template_columns": null,
            "grid_template_rows": null,
            "height": null,
            "justify_content": null,
            "justify_items": null,
            "left": null,
            "margin": null,
            "max_height": null,
            "max_width": null,
            "min_height": null,
            "min_width": null,
            "object_fit": null,
            "object_position": null,
            "order": null,
            "overflow": null,
            "overflow_x": null,
            "overflow_y": null,
            "padding": null,
            "right": null,
            "top": null,
            "visibility": null,
            "width": null
          }
        },
        "3f55d8fff7e54d1a8efc0e256f7607f0": {
          "model_module": "@jupyter-widgets/controls",
          "model_name": "ProgressStyleModel",
          "model_module_version": "1.5.0",
          "state": {
            "_model_module": "@jupyter-widgets/controls",
            "_model_module_version": "1.5.0",
            "_model_name": "ProgressStyleModel",
            "_view_count": null,
            "_view_module": "@jupyter-widgets/base",
            "_view_module_version": "1.2.0",
            "_view_name": "StyleView",
            "bar_color": null,
            "description_width": ""
          }
        },
        "12c2687138ad43f4b17d4f1ab2978618": {
          "model_module": "@jupyter-widgets/base",
          "model_name": "LayoutModel",
          "model_module_version": "1.2.0",
          "state": {
            "_model_module": "@jupyter-widgets/base",
            "_model_module_version": "1.2.0",
            "_model_name": "LayoutModel",
            "_view_count": null,
            "_view_module": "@jupyter-widgets/base",
            "_view_module_version": "1.2.0",
            "_view_name": "LayoutView",
            "align_content": null,
            "align_items": null,
            "align_self": null,
            "border": null,
            "bottom": null,
            "display": null,
            "flex": null,
            "flex_flow": null,
            "grid_area": null,
            "grid_auto_columns": null,
            "grid_auto_flow": null,
            "grid_auto_rows": null,
            "grid_column": null,
            "grid_gap": null,
            "grid_row": null,
            "grid_template_areas": null,
            "grid_template_columns": null,
            "grid_template_rows": null,
            "height": null,
            "justify_content": null,
            "justify_items": null,
            "left": null,
            "margin": null,
            "max_height": null,
            "max_width": null,
            "min_height": null,
            "min_width": null,
            "object_fit": null,
            "object_position": null,
            "order": null,
            "overflow": null,
            "overflow_x": null,
            "overflow_y": null,
            "padding": null,
            "right": null,
            "top": null,
            "visibility": null,
            "width": null
          }
        },
        "d7f90b4722b94fec8b328806f0730acf": {
          "model_module": "@jupyter-widgets/controls",
          "model_name": "DescriptionStyleModel",
          "model_module_version": "1.5.0",
          "state": {
            "_model_module": "@jupyter-widgets/controls",
            "_model_module_version": "1.5.0",
            "_model_name": "DescriptionStyleModel",
            "_view_count": null,
            "_view_module": "@jupyter-widgets/base",
            "_view_module_version": "1.2.0",
            "_view_name": "StyleView",
            "description_width": ""
          }
        },
        "138738e1a217415ca9bc84ca249a0be7": {
          "model_module": "@jupyter-widgets/controls",
          "model_name": "HBoxModel",
          "model_module_version": "1.5.0",
          "state": {
            "_dom_classes": [],
            "_model_module": "@jupyter-widgets/controls",
            "_model_module_version": "1.5.0",
            "_model_name": "HBoxModel",
            "_view_count": null,
            "_view_module": "@jupyter-widgets/controls",
            "_view_module_version": "1.5.0",
            "_view_name": "HBoxView",
            "box_style": "",
            "children": [
              "IPY_MODEL_407b6d1746ce4949994fcf51fa2d1237",
              "IPY_MODEL_9a3153cf23784422bc3ffb5a5434bd2d",
              "IPY_MODEL_ae4006c742a9414a9ded2eb64333e59d"
            ],
            "layout": "IPY_MODEL_b09d3a0a20114cdd8e3433465c343d70"
          }
        },
        "407b6d1746ce4949994fcf51fa2d1237": {
          "model_module": "@jupyter-widgets/controls",
          "model_name": "HTMLModel",
          "model_module_version": "1.5.0",
          "state": {
            "_dom_classes": [],
            "_model_module": "@jupyter-widgets/controls",
            "_model_module_version": "1.5.0",
            "_model_name": "HTMLModel",
            "_view_count": null,
            "_view_module": "@jupyter-widgets/controls",
            "_view_module_version": "1.5.0",
            "_view_name": "HTMLView",
            "description": "",
            "description_tooltip": null,
            "layout": "IPY_MODEL_05b38e90be88439cb5952e6e3c7d380f",
            "placeholder": "​",
            "style": "IPY_MODEL_109689116a1e4a5ebce70373a60d1f02",
            "value": "Validation DataLoader 0: 100%"
          }
        },
        "9a3153cf23784422bc3ffb5a5434bd2d": {
          "model_module": "@jupyter-widgets/controls",
          "model_name": "FloatProgressModel",
          "model_module_version": "1.5.0",
          "state": {
            "_dom_classes": [],
            "_model_module": "@jupyter-widgets/controls",
            "_model_module_version": "1.5.0",
            "_model_name": "FloatProgressModel",
            "_view_count": null,
            "_view_module": "@jupyter-widgets/controls",
            "_view_module_version": "1.5.0",
            "_view_name": "ProgressView",
            "bar_style": "",
            "description": "",
            "description_tooltip": null,
            "layout": "IPY_MODEL_4fe3da21af2c48628cee95a12c21fa22",
            "max": 64,
            "min": 0,
            "orientation": "horizontal",
            "style": "IPY_MODEL_2d73391dfa5e49acbb2dff4e2afd64a1",
            "value": 64
          }
        },
        "ae4006c742a9414a9ded2eb64333e59d": {
          "model_module": "@jupyter-widgets/controls",
          "model_name": "HTMLModel",
          "model_module_version": "1.5.0",
          "state": {
            "_dom_classes": [],
            "_model_module": "@jupyter-widgets/controls",
            "_model_module_version": "1.5.0",
            "_model_name": "HTMLModel",
            "_view_count": null,
            "_view_module": "@jupyter-widgets/controls",
            "_view_module_version": "1.5.0",
            "_view_name": "HTMLView",
            "description": "",
            "description_tooltip": null,
            "layout": "IPY_MODEL_182780fb7c5741588fdfbb9efc689797",
            "placeholder": "​",
            "style": "IPY_MODEL_271a4a35a8474f0c8c706ae431214343",
            "value": " 64/64 [00:01&lt;00:00, 36.53it/s]"
          }
        },
        "b09d3a0a20114cdd8e3433465c343d70": {
          "model_module": "@jupyter-widgets/base",
          "model_name": "LayoutModel",
          "model_module_version": "1.2.0",
          "state": {
            "_model_module": "@jupyter-widgets/base",
            "_model_module_version": "1.2.0",
            "_model_name": "LayoutModel",
            "_view_count": null,
            "_view_module": "@jupyter-widgets/base",
            "_view_module_version": "1.2.0",
            "_view_name": "LayoutView",
            "align_content": null,
            "align_items": null,
            "align_self": null,
            "border": null,
            "bottom": null,
            "display": "inline-flex",
            "flex": null,
            "flex_flow": "row wrap",
            "grid_area": null,
            "grid_auto_columns": null,
            "grid_auto_flow": null,
            "grid_auto_rows": null,
            "grid_column": null,
            "grid_gap": null,
            "grid_row": null,
            "grid_template_areas": null,
            "grid_template_columns": null,
            "grid_template_rows": null,
            "height": null,
            "justify_content": null,
            "justify_items": null,
            "left": null,
            "margin": null,
            "max_height": null,
            "max_width": null,
            "min_height": null,
            "min_width": null,
            "object_fit": null,
            "object_position": null,
            "order": null,
            "overflow": null,
            "overflow_x": null,
            "overflow_y": null,
            "padding": null,
            "right": null,
            "top": null,
            "visibility": "hidden",
            "width": "100%"
          }
        },
        "05b38e90be88439cb5952e6e3c7d380f": {
          "model_module": "@jupyter-widgets/base",
          "model_name": "LayoutModel",
          "model_module_version": "1.2.0",
          "state": {
            "_model_module": "@jupyter-widgets/base",
            "_model_module_version": "1.2.0",
            "_model_name": "LayoutModel",
            "_view_count": null,
            "_view_module": "@jupyter-widgets/base",
            "_view_module_version": "1.2.0",
            "_view_name": "LayoutView",
            "align_content": null,
            "align_items": null,
            "align_self": null,
            "border": null,
            "bottom": null,
            "display": null,
            "flex": null,
            "flex_flow": null,
            "grid_area": null,
            "grid_auto_columns": null,
            "grid_auto_flow": null,
            "grid_auto_rows": null,
            "grid_column": null,
            "grid_gap": null,
            "grid_row": null,
            "grid_template_areas": null,
            "grid_template_columns": null,
            "grid_template_rows": null,
            "height": null,
            "justify_content": null,
            "justify_items": null,
            "left": null,
            "margin": null,
            "max_height": null,
            "max_width": null,
            "min_height": null,
            "min_width": null,
            "object_fit": null,
            "object_position": null,
            "order": null,
            "overflow": null,
            "overflow_x": null,
            "overflow_y": null,
            "padding": null,
            "right": null,
            "top": null,
            "visibility": null,
            "width": null
          }
        },
        "109689116a1e4a5ebce70373a60d1f02": {
          "model_module": "@jupyter-widgets/controls",
          "model_name": "DescriptionStyleModel",
          "model_module_version": "1.5.0",
          "state": {
            "_model_module": "@jupyter-widgets/controls",
            "_model_module_version": "1.5.0",
            "_model_name": "DescriptionStyleModel",
            "_view_count": null,
            "_view_module": "@jupyter-widgets/base",
            "_view_module_version": "1.2.0",
            "_view_name": "StyleView",
            "description_width": ""
          }
        },
        "4fe3da21af2c48628cee95a12c21fa22": {
          "model_module": "@jupyter-widgets/base",
          "model_name": "LayoutModel",
          "model_module_version": "1.2.0",
          "state": {
            "_model_module": "@jupyter-widgets/base",
            "_model_module_version": "1.2.0",
            "_model_name": "LayoutModel",
            "_view_count": null,
            "_view_module": "@jupyter-widgets/base",
            "_view_module_version": "1.2.0",
            "_view_name": "LayoutView",
            "align_content": null,
            "align_items": null,
            "align_self": null,
            "border": null,
            "bottom": null,
            "display": null,
            "flex": "2",
            "flex_flow": null,
            "grid_area": null,
            "grid_auto_columns": null,
            "grid_auto_flow": null,
            "grid_auto_rows": null,
            "grid_column": null,
            "grid_gap": null,
            "grid_row": null,
            "grid_template_areas": null,
            "grid_template_columns": null,
            "grid_template_rows": null,
            "height": null,
            "justify_content": null,
            "justify_items": null,
            "left": null,
            "margin": null,
            "max_height": null,
            "max_width": null,
            "min_height": null,
            "min_width": null,
            "object_fit": null,
            "object_position": null,
            "order": null,
            "overflow": null,
            "overflow_x": null,
            "overflow_y": null,
            "padding": null,
            "right": null,
            "top": null,
            "visibility": null,
            "width": null
          }
        },
        "2d73391dfa5e49acbb2dff4e2afd64a1": {
          "model_module": "@jupyter-widgets/controls",
          "model_name": "ProgressStyleModel",
          "model_module_version": "1.5.0",
          "state": {
            "_model_module": "@jupyter-widgets/controls",
            "_model_module_version": "1.5.0",
            "_model_name": "ProgressStyleModel",
            "_view_count": null,
            "_view_module": "@jupyter-widgets/base",
            "_view_module_version": "1.2.0",
            "_view_name": "StyleView",
            "bar_color": null,
            "description_width": ""
          }
        },
        "182780fb7c5741588fdfbb9efc689797": {
          "model_module": "@jupyter-widgets/base",
          "model_name": "LayoutModel",
          "model_module_version": "1.2.0",
          "state": {
            "_model_module": "@jupyter-widgets/base",
            "_model_module_version": "1.2.0",
            "_model_name": "LayoutModel",
            "_view_count": null,
            "_view_module": "@jupyter-widgets/base",
            "_view_module_version": "1.2.0",
            "_view_name": "LayoutView",
            "align_content": null,
            "align_items": null,
            "align_self": null,
            "border": null,
            "bottom": null,
            "display": null,
            "flex": null,
            "flex_flow": null,
            "grid_area": null,
            "grid_auto_columns": null,
            "grid_auto_flow": null,
            "grid_auto_rows": null,
            "grid_column": null,
            "grid_gap": null,
            "grid_row": null,
            "grid_template_areas": null,
            "grid_template_columns": null,
            "grid_template_rows": null,
            "height": null,
            "justify_content": null,
            "justify_items": null,
            "left": null,
            "margin": null,
            "max_height": null,
            "max_width": null,
            "min_height": null,
            "min_width": null,
            "object_fit": null,
            "object_position": null,
            "order": null,
            "overflow": null,
            "overflow_x": null,
            "overflow_y": null,
            "padding": null,
            "right": null,
            "top": null,
            "visibility": null,
            "width": null
          }
        },
        "271a4a35a8474f0c8c706ae431214343": {
          "model_module": "@jupyter-widgets/controls",
          "model_name": "DescriptionStyleModel",
          "model_module_version": "1.5.0",
          "state": {
            "_model_module": "@jupyter-widgets/controls",
            "_model_module_version": "1.5.0",
            "_model_name": "DescriptionStyleModel",
            "_view_count": null,
            "_view_module": "@jupyter-widgets/base",
            "_view_module_version": "1.2.0",
            "_view_name": "StyleView",
            "description_width": ""
          }
        },
        "c9408ed5c25041f59162989b5f6f5eb3": {
          "model_module": "@jupyter-widgets/controls",
          "model_name": "HBoxModel",
          "model_module_version": "1.5.0",
          "state": {
            "_dom_classes": [],
            "_model_module": "@jupyter-widgets/controls",
            "_model_module_version": "1.5.0",
            "_model_name": "HBoxModel",
            "_view_count": null,
            "_view_module": "@jupyter-widgets/controls",
            "_view_module_version": "1.5.0",
            "_view_name": "HBoxView",
            "box_style": "",
            "children": [
              "IPY_MODEL_3b2a382537ab46c0b420283ce9b176d8",
              "IPY_MODEL_50367d8b97dc4948849269a19ac4f543",
              "IPY_MODEL_75c3b1f47e70422eb8eb3d1eeb1ac10f"
            ],
            "layout": "IPY_MODEL_30e3f958d8284feaaa070db5a2f94ff2"
          }
        },
        "3b2a382537ab46c0b420283ce9b176d8": {
          "model_module": "@jupyter-widgets/controls",
          "model_name": "HTMLModel",
          "model_module_version": "1.5.0",
          "state": {
            "_dom_classes": [],
            "_model_module": "@jupyter-widgets/controls",
            "_model_module_version": "1.5.0",
            "_model_name": "HTMLModel",
            "_view_count": null,
            "_view_module": "@jupyter-widgets/controls",
            "_view_module_version": "1.5.0",
            "_view_name": "HTMLView",
            "description": "",
            "description_tooltip": null,
            "layout": "IPY_MODEL_ae227e4d4eea41f8b478b5d4a4005bcb",
            "placeholder": "​",
            "style": "IPY_MODEL_dca95d2867e843b4b97e878ce96e0ea3",
            "value": "Validation DataLoader 0: 100%"
          }
        },
        "50367d8b97dc4948849269a19ac4f543": {
          "model_module": "@jupyter-widgets/controls",
          "model_name": "FloatProgressModel",
          "model_module_version": "1.5.0",
          "state": {
            "_dom_classes": [],
            "_model_module": "@jupyter-widgets/controls",
            "_model_module_version": "1.5.0",
            "_model_name": "FloatProgressModel",
            "_view_count": null,
            "_view_module": "@jupyter-widgets/controls",
            "_view_module_version": "1.5.0",
            "_view_name": "ProgressView",
            "bar_style": "",
            "description": "",
            "description_tooltip": null,
            "layout": "IPY_MODEL_2adc2e6e656d441bbae1baca837e3e38",
            "max": 64,
            "min": 0,
            "orientation": "horizontal",
            "style": "IPY_MODEL_9d664c758261477e92c8c318e06253ba",
            "value": 64
          }
        },
        "75c3b1f47e70422eb8eb3d1eeb1ac10f": {
          "model_module": "@jupyter-widgets/controls",
          "model_name": "HTMLModel",
          "model_module_version": "1.5.0",
          "state": {
            "_dom_classes": [],
            "_model_module": "@jupyter-widgets/controls",
            "_model_module_version": "1.5.0",
            "_model_name": "HTMLModel",
            "_view_count": null,
            "_view_module": "@jupyter-widgets/controls",
            "_view_module_version": "1.5.0",
            "_view_name": "HTMLView",
            "description": "",
            "description_tooltip": null,
            "layout": "IPY_MODEL_b030dba3019841f1a778792e5b52e0a2",
            "placeholder": "​",
            "style": "IPY_MODEL_b77fbfc1b7db40fd808f6c27a6348ed0",
            "value": " 64/64 [00:01&lt;00:00, 36.80it/s]"
          }
        },
        "30e3f958d8284feaaa070db5a2f94ff2": {
          "model_module": "@jupyter-widgets/base",
          "model_name": "LayoutModel",
          "model_module_version": "1.2.0",
          "state": {
            "_model_module": "@jupyter-widgets/base",
            "_model_module_version": "1.2.0",
            "_model_name": "LayoutModel",
            "_view_count": null,
            "_view_module": "@jupyter-widgets/base",
            "_view_module_version": "1.2.0",
            "_view_name": "LayoutView",
            "align_content": null,
            "align_items": null,
            "align_self": null,
            "border": null,
            "bottom": null,
            "display": "inline-flex",
            "flex": null,
            "flex_flow": "row wrap",
            "grid_area": null,
            "grid_auto_columns": null,
            "grid_auto_flow": null,
            "grid_auto_rows": null,
            "grid_column": null,
            "grid_gap": null,
            "grid_row": null,
            "grid_template_areas": null,
            "grid_template_columns": null,
            "grid_template_rows": null,
            "height": null,
            "justify_content": null,
            "justify_items": null,
            "left": null,
            "margin": null,
            "max_height": null,
            "max_width": null,
            "min_height": null,
            "min_width": null,
            "object_fit": null,
            "object_position": null,
            "order": null,
            "overflow": null,
            "overflow_x": null,
            "overflow_y": null,
            "padding": null,
            "right": null,
            "top": null,
            "visibility": "hidden",
            "width": "100%"
          }
        },
        "ae227e4d4eea41f8b478b5d4a4005bcb": {
          "model_module": "@jupyter-widgets/base",
          "model_name": "LayoutModel",
          "model_module_version": "1.2.0",
          "state": {
            "_model_module": "@jupyter-widgets/base",
            "_model_module_version": "1.2.0",
            "_model_name": "LayoutModel",
            "_view_count": null,
            "_view_module": "@jupyter-widgets/base",
            "_view_module_version": "1.2.0",
            "_view_name": "LayoutView",
            "align_content": null,
            "align_items": null,
            "align_self": null,
            "border": null,
            "bottom": null,
            "display": null,
            "flex": null,
            "flex_flow": null,
            "grid_area": null,
            "grid_auto_columns": null,
            "grid_auto_flow": null,
            "grid_auto_rows": null,
            "grid_column": null,
            "grid_gap": null,
            "grid_row": null,
            "grid_template_areas": null,
            "grid_template_columns": null,
            "grid_template_rows": null,
            "height": null,
            "justify_content": null,
            "justify_items": null,
            "left": null,
            "margin": null,
            "max_height": null,
            "max_width": null,
            "min_height": null,
            "min_width": null,
            "object_fit": null,
            "object_position": null,
            "order": null,
            "overflow": null,
            "overflow_x": null,
            "overflow_y": null,
            "padding": null,
            "right": null,
            "top": null,
            "visibility": null,
            "width": null
          }
        },
        "dca95d2867e843b4b97e878ce96e0ea3": {
          "model_module": "@jupyter-widgets/controls",
          "model_name": "DescriptionStyleModel",
          "model_module_version": "1.5.0",
          "state": {
            "_model_module": "@jupyter-widgets/controls",
            "_model_module_version": "1.5.0",
            "_model_name": "DescriptionStyleModel",
            "_view_count": null,
            "_view_module": "@jupyter-widgets/base",
            "_view_module_version": "1.2.0",
            "_view_name": "StyleView",
            "description_width": ""
          }
        },
        "2adc2e6e656d441bbae1baca837e3e38": {
          "model_module": "@jupyter-widgets/base",
          "model_name": "LayoutModel",
          "model_module_version": "1.2.0",
          "state": {
            "_model_module": "@jupyter-widgets/base",
            "_model_module_version": "1.2.0",
            "_model_name": "LayoutModel",
            "_view_count": null,
            "_view_module": "@jupyter-widgets/base",
            "_view_module_version": "1.2.0",
            "_view_name": "LayoutView",
            "align_content": null,
            "align_items": null,
            "align_self": null,
            "border": null,
            "bottom": null,
            "display": null,
            "flex": "2",
            "flex_flow": null,
            "grid_area": null,
            "grid_auto_columns": null,
            "grid_auto_flow": null,
            "grid_auto_rows": null,
            "grid_column": null,
            "grid_gap": null,
            "grid_row": null,
            "grid_template_areas": null,
            "grid_template_columns": null,
            "grid_template_rows": null,
            "height": null,
            "justify_content": null,
            "justify_items": null,
            "left": null,
            "margin": null,
            "max_height": null,
            "max_width": null,
            "min_height": null,
            "min_width": null,
            "object_fit": null,
            "object_position": null,
            "order": null,
            "overflow": null,
            "overflow_x": null,
            "overflow_y": null,
            "padding": null,
            "right": null,
            "top": null,
            "visibility": null,
            "width": null
          }
        },
        "9d664c758261477e92c8c318e06253ba": {
          "model_module": "@jupyter-widgets/controls",
          "model_name": "ProgressStyleModel",
          "model_module_version": "1.5.0",
          "state": {
            "_model_module": "@jupyter-widgets/controls",
            "_model_module_version": "1.5.0",
            "_model_name": "ProgressStyleModel",
            "_view_count": null,
            "_view_module": "@jupyter-widgets/base",
            "_view_module_version": "1.2.0",
            "_view_name": "StyleView",
            "bar_color": null,
            "description_width": ""
          }
        },
        "b030dba3019841f1a778792e5b52e0a2": {
          "model_module": "@jupyter-widgets/base",
          "model_name": "LayoutModel",
          "model_module_version": "1.2.0",
          "state": {
            "_model_module": "@jupyter-widgets/base",
            "_model_module_version": "1.2.0",
            "_model_name": "LayoutModel",
            "_view_count": null,
            "_view_module": "@jupyter-widgets/base",
            "_view_module_version": "1.2.0",
            "_view_name": "LayoutView",
            "align_content": null,
            "align_items": null,
            "align_self": null,
            "border": null,
            "bottom": null,
            "display": null,
            "flex": null,
            "flex_flow": null,
            "grid_area": null,
            "grid_auto_columns": null,
            "grid_auto_flow": null,
            "grid_auto_rows": null,
            "grid_column": null,
            "grid_gap": null,
            "grid_row": null,
            "grid_template_areas": null,
            "grid_template_columns": null,
            "grid_template_rows": null,
            "height": null,
            "justify_content": null,
            "justify_items": null,
            "left": null,
            "margin": null,
            "max_height": null,
            "max_width": null,
            "min_height": null,
            "min_width": null,
            "object_fit": null,
            "object_position": null,
            "order": null,
            "overflow": null,
            "overflow_x": null,
            "overflow_y": null,
            "padding": null,
            "right": null,
            "top": null,
            "visibility": null,
            "width": null
          }
        },
        "b77fbfc1b7db40fd808f6c27a6348ed0": {
          "model_module": "@jupyter-widgets/controls",
          "model_name": "DescriptionStyleModel",
          "model_module_version": "1.5.0",
          "state": {
            "_model_module": "@jupyter-widgets/controls",
            "_model_module_version": "1.5.0",
            "_model_name": "DescriptionStyleModel",
            "_view_count": null,
            "_view_module": "@jupyter-widgets/base",
            "_view_module_version": "1.2.0",
            "_view_name": "StyleView",
            "description_width": ""
          }
        },
        "6e3d15a84171476593928b6967aeb802": {
          "model_module": "@jupyter-widgets/controls",
          "model_name": "HBoxModel",
          "model_module_version": "1.5.0",
          "state": {
            "_dom_classes": [],
            "_model_module": "@jupyter-widgets/controls",
            "_model_module_version": "1.5.0",
            "_model_name": "HBoxModel",
            "_view_count": null,
            "_view_module": "@jupyter-widgets/controls",
            "_view_module_version": "1.5.0",
            "_view_name": "HBoxView",
            "box_style": "",
            "children": [
              "IPY_MODEL_3ea00422699d408b93d4f5eead1f6b5a",
              "IPY_MODEL_efbedcc37ff143e3811582a915509c65",
              "IPY_MODEL_04d5f87564704e5fabd417b5563e92f8"
            ],
            "layout": "IPY_MODEL_4714d4c0ba2d467cb04e4e5e4b0a006c"
          }
        },
        "3ea00422699d408b93d4f5eead1f6b5a": {
          "model_module": "@jupyter-widgets/controls",
          "model_name": "HTMLModel",
          "model_module_version": "1.5.0",
          "state": {
            "_dom_classes": [],
            "_model_module": "@jupyter-widgets/controls",
            "_model_module_version": "1.5.0",
            "_model_name": "HTMLModel",
            "_view_count": null,
            "_view_module": "@jupyter-widgets/controls",
            "_view_module_version": "1.5.0",
            "_view_name": "HTMLView",
            "description": "",
            "description_tooltip": null,
            "layout": "IPY_MODEL_c763f61a26b04484b166a0b5b9167e8a",
            "placeholder": "​",
            "style": "IPY_MODEL_420b1f2ea85e4542b81e987a02fb2990",
            "value": "Validation DataLoader 0: 100%"
          }
        },
        "efbedcc37ff143e3811582a915509c65": {
          "model_module": "@jupyter-widgets/controls",
          "model_name": "FloatProgressModel",
          "model_module_version": "1.5.0",
          "state": {
            "_dom_classes": [],
            "_model_module": "@jupyter-widgets/controls",
            "_model_module_version": "1.5.0",
            "_model_name": "FloatProgressModel",
            "_view_count": null,
            "_view_module": "@jupyter-widgets/controls",
            "_view_module_version": "1.5.0",
            "_view_name": "ProgressView",
            "bar_style": "",
            "description": "",
            "description_tooltip": null,
            "layout": "IPY_MODEL_1c792dc8bb934fd7855677c95681eac8",
            "max": 64,
            "min": 0,
            "orientation": "horizontal",
            "style": "IPY_MODEL_d3366e1e3a754e59952e00674a870978",
            "value": 64
          }
        },
        "04d5f87564704e5fabd417b5563e92f8": {
          "model_module": "@jupyter-widgets/controls",
          "model_name": "HTMLModel",
          "model_module_version": "1.5.0",
          "state": {
            "_dom_classes": [],
            "_model_module": "@jupyter-widgets/controls",
            "_model_module_version": "1.5.0",
            "_model_name": "HTMLModel",
            "_view_count": null,
            "_view_module": "@jupyter-widgets/controls",
            "_view_module_version": "1.5.0",
            "_view_name": "HTMLView",
            "description": "",
            "description_tooltip": null,
            "layout": "IPY_MODEL_3814328ef4274ab8ac634cc01c1dcab7",
            "placeholder": "​",
            "style": "IPY_MODEL_891c7168e0ff40e3b714e15d087ea542",
            "value": " 64/64 [00:01&lt;00:00, 36.96it/s]"
          }
        },
        "4714d4c0ba2d467cb04e4e5e4b0a006c": {
          "model_module": "@jupyter-widgets/base",
          "model_name": "LayoutModel",
          "model_module_version": "1.2.0",
          "state": {
            "_model_module": "@jupyter-widgets/base",
            "_model_module_version": "1.2.0",
            "_model_name": "LayoutModel",
            "_view_count": null,
            "_view_module": "@jupyter-widgets/base",
            "_view_module_version": "1.2.0",
            "_view_name": "LayoutView",
            "align_content": null,
            "align_items": null,
            "align_self": null,
            "border": null,
            "bottom": null,
            "display": "inline-flex",
            "flex": null,
            "flex_flow": "row wrap",
            "grid_area": null,
            "grid_auto_columns": null,
            "grid_auto_flow": null,
            "grid_auto_rows": null,
            "grid_column": null,
            "grid_gap": null,
            "grid_row": null,
            "grid_template_areas": null,
            "grid_template_columns": null,
            "grid_template_rows": null,
            "height": null,
            "justify_content": null,
            "justify_items": null,
            "left": null,
            "margin": null,
            "max_height": null,
            "max_width": null,
            "min_height": null,
            "min_width": null,
            "object_fit": null,
            "object_position": null,
            "order": null,
            "overflow": null,
            "overflow_x": null,
            "overflow_y": null,
            "padding": null,
            "right": null,
            "top": null,
            "visibility": "hidden",
            "width": "100%"
          }
        },
        "c763f61a26b04484b166a0b5b9167e8a": {
          "model_module": "@jupyter-widgets/base",
          "model_name": "LayoutModel",
          "model_module_version": "1.2.0",
          "state": {
            "_model_module": "@jupyter-widgets/base",
            "_model_module_version": "1.2.0",
            "_model_name": "LayoutModel",
            "_view_count": null,
            "_view_module": "@jupyter-widgets/base",
            "_view_module_version": "1.2.0",
            "_view_name": "LayoutView",
            "align_content": null,
            "align_items": null,
            "align_self": null,
            "border": null,
            "bottom": null,
            "display": null,
            "flex": null,
            "flex_flow": null,
            "grid_area": null,
            "grid_auto_columns": null,
            "grid_auto_flow": null,
            "grid_auto_rows": null,
            "grid_column": null,
            "grid_gap": null,
            "grid_row": null,
            "grid_template_areas": null,
            "grid_template_columns": null,
            "grid_template_rows": null,
            "height": null,
            "justify_content": null,
            "justify_items": null,
            "left": null,
            "margin": null,
            "max_height": null,
            "max_width": null,
            "min_height": null,
            "min_width": null,
            "object_fit": null,
            "object_position": null,
            "order": null,
            "overflow": null,
            "overflow_x": null,
            "overflow_y": null,
            "padding": null,
            "right": null,
            "top": null,
            "visibility": null,
            "width": null
          }
        },
        "420b1f2ea85e4542b81e987a02fb2990": {
          "model_module": "@jupyter-widgets/controls",
          "model_name": "DescriptionStyleModel",
          "model_module_version": "1.5.0",
          "state": {
            "_model_module": "@jupyter-widgets/controls",
            "_model_module_version": "1.5.0",
            "_model_name": "DescriptionStyleModel",
            "_view_count": null,
            "_view_module": "@jupyter-widgets/base",
            "_view_module_version": "1.2.0",
            "_view_name": "StyleView",
            "description_width": ""
          }
        },
        "1c792dc8bb934fd7855677c95681eac8": {
          "model_module": "@jupyter-widgets/base",
          "model_name": "LayoutModel",
          "model_module_version": "1.2.0",
          "state": {
            "_model_module": "@jupyter-widgets/base",
            "_model_module_version": "1.2.0",
            "_model_name": "LayoutModel",
            "_view_count": null,
            "_view_module": "@jupyter-widgets/base",
            "_view_module_version": "1.2.0",
            "_view_name": "LayoutView",
            "align_content": null,
            "align_items": null,
            "align_self": null,
            "border": null,
            "bottom": null,
            "display": null,
            "flex": "2",
            "flex_flow": null,
            "grid_area": null,
            "grid_auto_columns": null,
            "grid_auto_flow": null,
            "grid_auto_rows": null,
            "grid_column": null,
            "grid_gap": null,
            "grid_row": null,
            "grid_template_areas": null,
            "grid_template_columns": null,
            "grid_template_rows": null,
            "height": null,
            "justify_content": null,
            "justify_items": null,
            "left": null,
            "margin": null,
            "max_height": null,
            "max_width": null,
            "min_height": null,
            "min_width": null,
            "object_fit": null,
            "object_position": null,
            "order": null,
            "overflow": null,
            "overflow_x": null,
            "overflow_y": null,
            "padding": null,
            "right": null,
            "top": null,
            "visibility": null,
            "width": null
          }
        },
        "d3366e1e3a754e59952e00674a870978": {
          "model_module": "@jupyter-widgets/controls",
          "model_name": "ProgressStyleModel",
          "model_module_version": "1.5.0",
          "state": {
            "_model_module": "@jupyter-widgets/controls",
            "_model_module_version": "1.5.0",
            "_model_name": "ProgressStyleModel",
            "_view_count": null,
            "_view_module": "@jupyter-widgets/base",
            "_view_module_version": "1.2.0",
            "_view_name": "StyleView",
            "bar_color": null,
            "description_width": ""
          }
        },
        "3814328ef4274ab8ac634cc01c1dcab7": {
          "model_module": "@jupyter-widgets/base",
          "model_name": "LayoutModel",
          "model_module_version": "1.2.0",
          "state": {
            "_model_module": "@jupyter-widgets/base",
            "_model_module_version": "1.2.0",
            "_model_name": "LayoutModel",
            "_view_count": null,
            "_view_module": "@jupyter-widgets/base",
            "_view_module_version": "1.2.0",
            "_view_name": "LayoutView",
            "align_content": null,
            "align_items": null,
            "align_self": null,
            "border": null,
            "bottom": null,
            "display": null,
            "flex": null,
            "flex_flow": null,
            "grid_area": null,
            "grid_auto_columns": null,
            "grid_auto_flow": null,
            "grid_auto_rows": null,
            "grid_column": null,
            "grid_gap": null,
            "grid_row": null,
            "grid_template_areas": null,
            "grid_template_columns": null,
            "grid_template_rows": null,
            "height": null,
            "justify_content": null,
            "justify_items": null,
            "left": null,
            "margin": null,
            "max_height": null,
            "max_width": null,
            "min_height": null,
            "min_width": null,
            "object_fit": null,
            "object_position": null,
            "order": null,
            "overflow": null,
            "overflow_x": null,
            "overflow_y": null,
            "padding": null,
            "right": null,
            "top": null,
            "visibility": null,
            "width": null
          }
        },
        "891c7168e0ff40e3b714e15d087ea542": {
          "model_module": "@jupyter-widgets/controls",
          "model_name": "DescriptionStyleModel",
          "model_module_version": "1.5.0",
          "state": {
            "_model_module": "@jupyter-widgets/controls",
            "_model_module_version": "1.5.0",
            "_model_name": "DescriptionStyleModel",
            "_view_count": null,
            "_view_module": "@jupyter-widgets/base",
            "_view_module_version": "1.2.0",
            "_view_name": "StyleView",
            "description_width": ""
          }
        },
        "00200477fee2480dbe044a15bfc61538": {
          "model_module": "@jupyter-widgets/controls",
          "model_name": "HBoxModel",
          "model_module_version": "1.5.0",
          "state": {
            "_dom_classes": [],
            "_model_module": "@jupyter-widgets/controls",
            "_model_module_version": "1.5.0",
            "_model_name": "HBoxModel",
            "_view_count": null,
            "_view_module": "@jupyter-widgets/controls",
            "_view_module_version": "1.5.0",
            "_view_name": "HBoxView",
            "box_style": "",
            "children": [
              "IPY_MODEL_8c9733f6cc554638908118a911ec90bc",
              "IPY_MODEL_de7b5d34fa104483842df1f30611419f",
              "IPY_MODEL_9a0fcdf95cb443dbb5989f9b735c12d6"
            ],
            "layout": "IPY_MODEL_60ae78d7402843fdb44691a8769972d2"
          }
        },
        "8c9733f6cc554638908118a911ec90bc": {
          "model_module": "@jupyter-widgets/controls",
          "model_name": "HTMLModel",
          "model_module_version": "1.5.0",
          "state": {
            "_dom_classes": [],
            "_model_module": "@jupyter-widgets/controls",
            "_model_module_version": "1.5.0",
            "_model_name": "HTMLModel",
            "_view_count": null,
            "_view_module": "@jupyter-widgets/controls",
            "_view_module_version": "1.5.0",
            "_view_name": "HTMLView",
            "description": "",
            "description_tooltip": null,
            "layout": "IPY_MODEL_fe1159c822b44c528099228939851598",
            "placeholder": "​",
            "style": "IPY_MODEL_87c16843c28241f8a12eef992d1b6e49",
            "value": "Validation DataLoader 0: 100%"
          }
        },
        "de7b5d34fa104483842df1f30611419f": {
          "model_module": "@jupyter-widgets/controls",
          "model_name": "FloatProgressModel",
          "model_module_version": "1.5.0",
          "state": {
            "_dom_classes": [],
            "_model_module": "@jupyter-widgets/controls",
            "_model_module_version": "1.5.0",
            "_model_name": "FloatProgressModel",
            "_view_count": null,
            "_view_module": "@jupyter-widgets/controls",
            "_view_module_version": "1.5.0",
            "_view_name": "ProgressView",
            "bar_style": "",
            "description": "",
            "description_tooltip": null,
            "layout": "IPY_MODEL_2fdd70012943452cacad7cd10b15d6ed",
            "max": 64,
            "min": 0,
            "orientation": "horizontal",
            "style": "IPY_MODEL_5be9f9a2530942fbb10451c105894704",
            "value": 64
          }
        },
        "9a0fcdf95cb443dbb5989f9b735c12d6": {
          "model_module": "@jupyter-widgets/controls",
          "model_name": "HTMLModel",
          "model_module_version": "1.5.0",
          "state": {
            "_dom_classes": [],
            "_model_module": "@jupyter-widgets/controls",
            "_model_module_version": "1.5.0",
            "_model_name": "HTMLModel",
            "_view_count": null,
            "_view_module": "@jupyter-widgets/controls",
            "_view_module_version": "1.5.0",
            "_view_name": "HTMLView",
            "description": "",
            "description_tooltip": null,
            "layout": "IPY_MODEL_7e29a3ca712042218fc06587f88604a9",
            "placeholder": "​",
            "style": "IPY_MODEL_972ebc5268fd443cb79dffc6d2929c35",
            "value": " 64/64 [00:02&lt;00:00, 27.90it/s]"
          }
        },
        "60ae78d7402843fdb44691a8769972d2": {
          "model_module": "@jupyter-widgets/base",
          "model_name": "LayoutModel",
          "model_module_version": "1.2.0",
          "state": {
            "_model_module": "@jupyter-widgets/base",
            "_model_module_version": "1.2.0",
            "_model_name": "LayoutModel",
            "_view_count": null,
            "_view_module": "@jupyter-widgets/base",
            "_view_module_version": "1.2.0",
            "_view_name": "LayoutView",
            "align_content": null,
            "align_items": null,
            "align_self": null,
            "border": null,
            "bottom": null,
            "display": "inline-flex",
            "flex": null,
            "flex_flow": "row wrap",
            "grid_area": null,
            "grid_auto_columns": null,
            "grid_auto_flow": null,
            "grid_auto_rows": null,
            "grid_column": null,
            "grid_gap": null,
            "grid_row": null,
            "grid_template_areas": null,
            "grid_template_columns": null,
            "grid_template_rows": null,
            "height": null,
            "justify_content": null,
            "justify_items": null,
            "left": null,
            "margin": null,
            "max_height": null,
            "max_width": null,
            "min_height": null,
            "min_width": null,
            "object_fit": null,
            "object_position": null,
            "order": null,
            "overflow": null,
            "overflow_x": null,
            "overflow_y": null,
            "padding": null,
            "right": null,
            "top": null,
            "visibility": "hidden",
            "width": "100%"
          }
        },
        "fe1159c822b44c528099228939851598": {
          "model_module": "@jupyter-widgets/base",
          "model_name": "LayoutModel",
          "model_module_version": "1.2.0",
          "state": {
            "_model_module": "@jupyter-widgets/base",
            "_model_module_version": "1.2.0",
            "_model_name": "LayoutModel",
            "_view_count": null,
            "_view_module": "@jupyter-widgets/base",
            "_view_module_version": "1.2.0",
            "_view_name": "LayoutView",
            "align_content": null,
            "align_items": null,
            "align_self": null,
            "border": null,
            "bottom": null,
            "display": null,
            "flex": null,
            "flex_flow": null,
            "grid_area": null,
            "grid_auto_columns": null,
            "grid_auto_flow": null,
            "grid_auto_rows": null,
            "grid_column": null,
            "grid_gap": null,
            "grid_row": null,
            "grid_template_areas": null,
            "grid_template_columns": null,
            "grid_template_rows": null,
            "height": null,
            "justify_content": null,
            "justify_items": null,
            "left": null,
            "margin": null,
            "max_height": null,
            "max_width": null,
            "min_height": null,
            "min_width": null,
            "object_fit": null,
            "object_position": null,
            "order": null,
            "overflow": null,
            "overflow_x": null,
            "overflow_y": null,
            "padding": null,
            "right": null,
            "top": null,
            "visibility": null,
            "width": null
          }
        },
        "87c16843c28241f8a12eef992d1b6e49": {
          "model_module": "@jupyter-widgets/controls",
          "model_name": "DescriptionStyleModel",
          "model_module_version": "1.5.0",
          "state": {
            "_model_module": "@jupyter-widgets/controls",
            "_model_module_version": "1.5.0",
            "_model_name": "DescriptionStyleModel",
            "_view_count": null,
            "_view_module": "@jupyter-widgets/base",
            "_view_module_version": "1.2.0",
            "_view_name": "StyleView",
            "description_width": ""
          }
        },
        "2fdd70012943452cacad7cd10b15d6ed": {
          "model_module": "@jupyter-widgets/base",
          "model_name": "LayoutModel",
          "model_module_version": "1.2.0",
          "state": {
            "_model_module": "@jupyter-widgets/base",
            "_model_module_version": "1.2.0",
            "_model_name": "LayoutModel",
            "_view_count": null,
            "_view_module": "@jupyter-widgets/base",
            "_view_module_version": "1.2.0",
            "_view_name": "LayoutView",
            "align_content": null,
            "align_items": null,
            "align_self": null,
            "border": null,
            "bottom": null,
            "display": null,
            "flex": "2",
            "flex_flow": null,
            "grid_area": null,
            "grid_auto_columns": null,
            "grid_auto_flow": null,
            "grid_auto_rows": null,
            "grid_column": null,
            "grid_gap": null,
            "grid_row": null,
            "grid_template_areas": null,
            "grid_template_columns": null,
            "grid_template_rows": null,
            "height": null,
            "justify_content": null,
            "justify_items": null,
            "left": null,
            "margin": null,
            "max_height": null,
            "max_width": null,
            "min_height": null,
            "min_width": null,
            "object_fit": null,
            "object_position": null,
            "order": null,
            "overflow": null,
            "overflow_x": null,
            "overflow_y": null,
            "padding": null,
            "right": null,
            "top": null,
            "visibility": null,
            "width": null
          }
        },
        "5be9f9a2530942fbb10451c105894704": {
          "model_module": "@jupyter-widgets/controls",
          "model_name": "ProgressStyleModel",
          "model_module_version": "1.5.0",
          "state": {
            "_model_module": "@jupyter-widgets/controls",
            "_model_module_version": "1.5.0",
            "_model_name": "ProgressStyleModel",
            "_view_count": null,
            "_view_module": "@jupyter-widgets/base",
            "_view_module_version": "1.2.0",
            "_view_name": "StyleView",
            "bar_color": null,
            "description_width": ""
          }
        },
        "7e29a3ca712042218fc06587f88604a9": {
          "model_module": "@jupyter-widgets/base",
          "model_name": "LayoutModel",
          "model_module_version": "1.2.0",
          "state": {
            "_model_module": "@jupyter-widgets/base",
            "_model_module_version": "1.2.0",
            "_model_name": "LayoutModel",
            "_view_count": null,
            "_view_module": "@jupyter-widgets/base",
            "_view_module_version": "1.2.0",
            "_view_name": "LayoutView",
            "align_content": null,
            "align_items": null,
            "align_self": null,
            "border": null,
            "bottom": null,
            "display": null,
            "flex": null,
            "flex_flow": null,
            "grid_area": null,
            "grid_auto_columns": null,
            "grid_auto_flow": null,
            "grid_auto_rows": null,
            "grid_column": null,
            "grid_gap": null,
            "grid_row": null,
            "grid_template_areas": null,
            "grid_template_columns": null,
            "grid_template_rows": null,
            "height": null,
            "justify_content": null,
            "justify_items": null,
            "left": null,
            "margin": null,
            "max_height": null,
            "max_width": null,
            "min_height": null,
            "min_width": null,
            "object_fit": null,
            "object_position": null,
            "order": null,
            "overflow": null,
            "overflow_x": null,
            "overflow_y": null,
            "padding": null,
            "right": null,
            "top": null,
            "visibility": null,
            "width": null
          }
        },
        "972ebc5268fd443cb79dffc6d2929c35": {
          "model_module": "@jupyter-widgets/controls",
          "model_name": "DescriptionStyleModel",
          "model_module_version": "1.5.0",
          "state": {
            "_model_module": "@jupyter-widgets/controls",
            "_model_module_version": "1.5.0",
            "_model_name": "DescriptionStyleModel",
            "_view_count": null,
            "_view_module": "@jupyter-widgets/base",
            "_view_module_version": "1.2.0",
            "_view_name": "StyleView",
            "description_width": ""
          }
        },
        "9fbdb0936d0f499798f433b9716e6a36": {
          "model_module": "@jupyter-widgets/controls",
          "model_name": "HBoxModel",
          "model_module_version": "1.5.0",
          "state": {
            "_dom_classes": [],
            "_model_module": "@jupyter-widgets/controls",
            "_model_module_version": "1.5.0",
            "_model_name": "HBoxModel",
            "_view_count": null,
            "_view_module": "@jupyter-widgets/controls",
            "_view_module_version": "1.5.0",
            "_view_name": "HBoxView",
            "box_style": "",
            "children": [
              "IPY_MODEL_20b655d4b7d14b7f93b3889be551a267",
              "IPY_MODEL_f672f25f876443a2a8bab712f0030caa",
              "IPY_MODEL_c8848973b24b4ae2beb953fe8e94f03c"
            ],
            "layout": "IPY_MODEL_d5262c0365c6466e8814c2b20f8b4c59"
          }
        },
        "20b655d4b7d14b7f93b3889be551a267": {
          "model_module": "@jupyter-widgets/controls",
          "model_name": "HTMLModel",
          "model_module_version": "1.5.0",
          "state": {
            "_dom_classes": [],
            "_model_module": "@jupyter-widgets/controls",
            "_model_module_version": "1.5.0",
            "_model_name": "HTMLModel",
            "_view_count": null,
            "_view_module": "@jupyter-widgets/controls",
            "_view_module_version": "1.5.0",
            "_view_name": "HTMLView",
            "description": "",
            "description_tooltip": null,
            "layout": "IPY_MODEL_bb0f75c797f845a49c6a4b9aeb944c7b",
            "placeholder": "​",
            "style": "IPY_MODEL_5266b62c2958432794859f45ebb4b5a4",
            "value": "Validation DataLoader 0: 100%"
          }
        },
        "f672f25f876443a2a8bab712f0030caa": {
          "model_module": "@jupyter-widgets/controls",
          "model_name": "FloatProgressModel",
          "model_module_version": "1.5.0",
          "state": {
            "_dom_classes": [],
            "_model_module": "@jupyter-widgets/controls",
            "_model_module_version": "1.5.0",
            "_model_name": "FloatProgressModel",
            "_view_count": null,
            "_view_module": "@jupyter-widgets/controls",
            "_view_module_version": "1.5.0",
            "_view_name": "ProgressView",
            "bar_style": "",
            "description": "",
            "description_tooltip": null,
            "layout": "IPY_MODEL_152bbc3c13a84c87be9182b8cf3eba31",
            "max": 64,
            "min": 0,
            "orientation": "horizontal",
            "style": "IPY_MODEL_d168f8e41ace4c618a2844db71c06d1a",
            "value": 64
          }
        },
        "c8848973b24b4ae2beb953fe8e94f03c": {
          "model_module": "@jupyter-widgets/controls",
          "model_name": "HTMLModel",
          "model_module_version": "1.5.0",
          "state": {
            "_dom_classes": [],
            "_model_module": "@jupyter-widgets/controls",
            "_model_module_version": "1.5.0",
            "_model_name": "HTMLModel",
            "_view_count": null,
            "_view_module": "@jupyter-widgets/controls",
            "_view_module_version": "1.5.0",
            "_view_name": "HTMLView",
            "description": "",
            "description_tooltip": null,
            "layout": "IPY_MODEL_29f9b77b67744295b6ed4c08a036ce3f",
            "placeholder": "​",
            "style": "IPY_MODEL_166c72a7aa8144368400b6d22d78eab3",
            "value": " 64/64 [00:01&lt;00:00, 37.49it/s]"
          }
        },
        "d5262c0365c6466e8814c2b20f8b4c59": {
          "model_module": "@jupyter-widgets/base",
          "model_name": "LayoutModel",
          "model_module_version": "1.2.0",
          "state": {
            "_model_module": "@jupyter-widgets/base",
            "_model_module_version": "1.2.0",
            "_model_name": "LayoutModel",
            "_view_count": null,
            "_view_module": "@jupyter-widgets/base",
            "_view_module_version": "1.2.0",
            "_view_name": "LayoutView",
            "align_content": null,
            "align_items": null,
            "align_self": null,
            "border": null,
            "bottom": null,
            "display": "inline-flex",
            "flex": null,
            "flex_flow": "row wrap",
            "grid_area": null,
            "grid_auto_columns": null,
            "grid_auto_flow": null,
            "grid_auto_rows": null,
            "grid_column": null,
            "grid_gap": null,
            "grid_row": null,
            "grid_template_areas": null,
            "grid_template_columns": null,
            "grid_template_rows": null,
            "height": null,
            "justify_content": null,
            "justify_items": null,
            "left": null,
            "margin": null,
            "max_height": null,
            "max_width": null,
            "min_height": null,
            "min_width": null,
            "object_fit": null,
            "object_position": null,
            "order": null,
            "overflow": null,
            "overflow_x": null,
            "overflow_y": null,
            "padding": null,
            "right": null,
            "top": null,
            "visibility": "hidden",
            "width": "100%"
          }
        },
        "bb0f75c797f845a49c6a4b9aeb944c7b": {
          "model_module": "@jupyter-widgets/base",
          "model_name": "LayoutModel",
          "model_module_version": "1.2.0",
          "state": {
            "_model_module": "@jupyter-widgets/base",
            "_model_module_version": "1.2.0",
            "_model_name": "LayoutModel",
            "_view_count": null,
            "_view_module": "@jupyter-widgets/base",
            "_view_module_version": "1.2.0",
            "_view_name": "LayoutView",
            "align_content": null,
            "align_items": null,
            "align_self": null,
            "border": null,
            "bottom": null,
            "display": null,
            "flex": null,
            "flex_flow": null,
            "grid_area": null,
            "grid_auto_columns": null,
            "grid_auto_flow": null,
            "grid_auto_rows": null,
            "grid_column": null,
            "grid_gap": null,
            "grid_row": null,
            "grid_template_areas": null,
            "grid_template_columns": null,
            "grid_template_rows": null,
            "height": null,
            "justify_content": null,
            "justify_items": null,
            "left": null,
            "margin": null,
            "max_height": null,
            "max_width": null,
            "min_height": null,
            "min_width": null,
            "object_fit": null,
            "object_position": null,
            "order": null,
            "overflow": null,
            "overflow_x": null,
            "overflow_y": null,
            "padding": null,
            "right": null,
            "top": null,
            "visibility": null,
            "width": null
          }
        },
        "5266b62c2958432794859f45ebb4b5a4": {
          "model_module": "@jupyter-widgets/controls",
          "model_name": "DescriptionStyleModel",
          "model_module_version": "1.5.0",
          "state": {
            "_model_module": "@jupyter-widgets/controls",
            "_model_module_version": "1.5.0",
            "_model_name": "DescriptionStyleModel",
            "_view_count": null,
            "_view_module": "@jupyter-widgets/base",
            "_view_module_version": "1.2.0",
            "_view_name": "StyleView",
            "description_width": ""
          }
        },
        "152bbc3c13a84c87be9182b8cf3eba31": {
          "model_module": "@jupyter-widgets/base",
          "model_name": "LayoutModel",
          "model_module_version": "1.2.0",
          "state": {
            "_model_module": "@jupyter-widgets/base",
            "_model_module_version": "1.2.0",
            "_model_name": "LayoutModel",
            "_view_count": null,
            "_view_module": "@jupyter-widgets/base",
            "_view_module_version": "1.2.0",
            "_view_name": "LayoutView",
            "align_content": null,
            "align_items": null,
            "align_self": null,
            "border": null,
            "bottom": null,
            "display": null,
            "flex": "2",
            "flex_flow": null,
            "grid_area": null,
            "grid_auto_columns": null,
            "grid_auto_flow": null,
            "grid_auto_rows": null,
            "grid_column": null,
            "grid_gap": null,
            "grid_row": null,
            "grid_template_areas": null,
            "grid_template_columns": null,
            "grid_template_rows": null,
            "height": null,
            "justify_content": null,
            "justify_items": null,
            "left": null,
            "margin": null,
            "max_height": null,
            "max_width": null,
            "min_height": null,
            "min_width": null,
            "object_fit": null,
            "object_position": null,
            "order": null,
            "overflow": null,
            "overflow_x": null,
            "overflow_y": null,
            "padding": null,
            "right": null,
            "top": null,
            "visibility": null,
            "width": null
          }
        },
        "d168f8e41ace4c618a2844db71c06d1a": {
          "model_module": "@jupyter-widgets/controls",
          "model_name": "ProgressStyleModel",
          "model_module_version": "1.5.0",
          "state": {
            "_model_module": "@jupyter-widgets/controls",
            "_model_module_version": "1.5.0",
            "_model_name": "ProgressStyleModel",
            "_view_count": null,
            "_view_module": "@jupyter-widgets/base",
            "_view_module_version": "1.2.0",
            "_view_name": "StyleView",
            "bar_color": null,
            "description_width": ""
          }
        },
        "29f9b77b67744295b6ed4c08a036ce3f": {
          "model_module": "@jupyter-widgets/base",
          "model_name": "LayoutModel",
          "model_module_version": "1.2.0",
          "state": {
            "_model_module": "@jupyter-widgets/base",
            "_model_module_version": "1.2.0",
            "_model_name": "LayoutModel",
            "_view_count": null,
            "_view_module": "@jupyter-widgets/base",
            "_view_module_version": "1.2.0",
            "_view_name": "LayoutView",
            "align_content": null,
            "align_items": null,
            "align_self": null,
            "border": null,
            "bottom": null,
            "display": null,
            "flex": null,
            "flex_flow": null,
            "grid_area": null,
            "grid_auto_columns": null,
            "grid_auto_flow": null,
            "grid_auto_rows": null,
            "grid_column": null,
            "grid_gap": null,
            "grid_row": null,
            "grid_template_areas": null,
            "grid_template_columns": null,
            "grid_template_rows": null,
            "height": null,
            "justify_content": null,
            "justify_items": null,
            "left": null,
            "margin": null,
            "max_height": null,
            "max_width": null,
            "min_height": null,
            "min_width": null,
            "object_fit": null,
            "object_position": null,
            "order": null,
            "overflow": null,
            "overflow_x": null,
            "overflow_y": null,
            "padding": null,
            "right": null,
            "top": null,
            "visibility": null,
            "width": null
          }
        },
        "166c72a7aa8144368400b6d22d78eab3": {
          "model_module": "@jupyter-widgets/controls",
          "model_name": "DescriptionStyleModel",
          "model_module_version": "1.5.0",
          "state": {
            "_model_module": "@jupyter-widgets/controls",
            "_model_module_version": "1.5.0",
            "_model_name": "DescriptionStyleModel",
            "_view_count": null,
            "_view_module": "@jupyter-widgets/base",
            "_view_module_version": "1.2.0",
            "_view_name": "StyleView",
            "description_width": ""
          }
        },
        "1496f0e2b3654fecb3d2afe18d2243b5": {
          "model_module": "@jupyter-widgets/controls",
          "model_name": "HBoxModel",
          "model_module_version": "1.5.0",
          "state": {
            "_dom_classes": [],
            "_model_module": "@jupyter-widgets/controls",
            "_model_module_version": "1.5.0",
            "_model_name": "HBoxModel",
            "_view_count": null,
            "_view_module": "@jupyter-widgets/controls",
            "_view_module_version": "1.5.0",
            "_view_name": "HBoxView",
            "box_style": "",
            "children": [
              "IPY_MODEL_c832dfcb1d8c4abe9da1edf1ef209e85",
              "IPY_MODEL_8923bb216b0245a9bde37720b4546499",
              "IPY_MODEL_3a32aa1ae88244b6a182eb721079425e"
            ],
            "layout": "IPY_MODEL_776b47ae80c0427e84b6fc6be9617b9b"
          }
        },
        "c832dfcb1d8c4abe9da1edf1ef209e85": {
          "model_module": "@jupyter-widgets/controls",
          "model_name": "HTMLModel",
          "model_module_version": "1.5.0",
          "state": {
            "_dom_classes": [],
            "_model_module": "@jupyter-widgets/controls",
            "_model_module_version": "1.5.0",
            "_model_name": "HTMLModel",
            "_view_count": null,
            "_view_module": "@jupyter-widgets/controls",
            "_view_module_version": "1.5.0",
            "_view_name": "HTMLView",
            "description": "",
            "description_tooltip": null,
            "layout": "IPY_MODEL_40476acb2b0443b881fab3ef2be3e8b7",
            "placeholder": "​",
            "style": "IPY_MODEL_3536e00f24064386addabbaab4bf7364",
            "value": "Validation DataLoader 0: 100%"
          }
        },
        "8923bb216b0245a9bde37720b4546499": {
          "model_module": "@jupyter-widgets/controls",
          "model_name": "FloatProgressModel",
          "model_module_version": "1.5.0",
          "state": {
            "_dom_classes": [],
            "_model_module": "@jupyter-widgets/controls",
            "_model_module_version": "1.5.0",
            "_model_name": "FloatProgressModel",
            "_view_count": null,
            "_view_module": "@jupyter-widgets/controls",
            "_view_module_version": "1.5.0",
            "_view_name": "ProgressView",
            "bar_style": "",
            "description": "",
            "description_tooltip": null,
            "layout": "IPY_MODEL_c180593f37f94c41ae3b444398aa311c",
            "max": 64,
            "min": 0,
            "orientation": "horizontal",
            "style": "IPY_MODEL_94f2a9413c4a4a76a2c90c3232bdfab1",
            "value": 64
          }
        },
        "3a32aa1ae88244b6a182eb721079425e": {
          "model_module": "@jupyter-widgets/controls",
          "model_name": "HTMLModel",
          "model_module_version": "1.5.0",
          "state": {
            "_dom_classes": [],
            "_model_module": "@jupyter-widgets/controls",
            "_model_module_version": "1.5.0",
            "_model_name": "HTMLModel",
            "_view_count": null,
            "_view_module": "@jupyter-widgets/controls",
            "_view_module_version": "1.5.0",
            "_view_name": "HTMLView",
            "description": "",
            "description_tooltip": null,
            "layout": "IPY_MODEL_f6978c33abb648fc9a2ac8d50d5e3f6c",
            "placeholder": "​",
            "style": "IPY_MODEL_3f86afada0e04a7fac710380622f1372",
            "value": " 64/64 [00:01&lt;00:00, 37.63it/s]"
          }
        },
        "776b47ae80c0427e84b6fc6be9617b9b": {
          "model_module": "@jupyter-widgets/base",
          "model_name": "LayoutModel",
          "model_module_version": "1.2.0",
          "state": {
            "_model_module": "@jupyter-widgets/base",
            "_model_module_version": "1.2.0",
            "_model_name": "LayoutModel",
            "_view_count": null,
            "_view_module": "@jupyter-widgets/base",
            "_view_module_version": "1.2.0",
            "_view_name": "LayoutView",
            "align_content": null,
            "align_items": null,
            "align_self": null,
            "border": null,
            "bottom": null,
            "display": "inline-flex",
            "flex": null,
            "flex_flow": "row wrap",
            "grid_area": null,
            "grid_auto_columns": null,
            "grid_auto_flow": null,
            "grid_auto_rows": null,
            "grid_column": null,
            "grid_gap": null,
            "grid_row": null,
            "grid_template_areas": null,
            "grid_template_columns": null,
            "grid_template_rows": null,
            "height": null,
            "justify_content": null,
            "justify_items": null,
            "left": null,
            "margin": null,
            "max_height": null,
            "max_width": null,
            "min_height": null,
            "min_width": null,
            "object_fit": null,
            "object_position": null,
            "order": null,
            "overflow": null,
            "overflow_x": null,
            "overflow_y": null,
            "padding": null,
            "right": null,
            "top": null,
            "visibility": "hidden",
            "width": "100%"
          }
        },
        "40476acb2b0443b881fab3ef2be3e8b7": {
          "model_module": "@jupyter-widgets/base",
          "model_name": "LayoutModel",
          "model_module_version": "1.2.0",
          "state": {
            "_model_module": "@jupyter-widgets/base",
            "_model_module_version": "1.2.0",
            "_model_name": "LayoutModel",
            "_view_count": null,
            "_view_module": "@jupyter-widgets/base",
            "_view_module_version": "1.2.0",
            "_view_name": "LayoutView",
            "align_content": null,
            "align_items": null,
            "align_self": null,
            "border": null,
            "bottom": null,
            "display": null,
            "flex": null,
            "flex_flow": null,
            "grid_area": null,
            "grid_auto_columns": null,
            "grid_auto_flow": null,
            "grid_auto_rows": null,
            "grid_column": null,
            "grid_gap": null,
            "grid_row": null,
            "grid_template_areas": null,
            "grid_template_columns": null,
            "grid_template_rows": null,
            "height": null,
            "justify_content": null,
            "justify_items": null,
            "left": null,
            "margin": null,
            "max_height": null,
            "max_width": null,
            "min_height": null,
            "min_width": null,
            "object_fit": null,
            "object_position": null,
            "order": null,
            "overflow": null,
            "overflow_x": null,
            "overflow_y": null,
            "padding": null,
            "right": null,
            "top": null,
            "visibility": null,
            "width": null
          }
        },
        "3536e00f24064386addabbaab4bf7364": {
          "model_module": "@jupyter-widgets/controls",
          "model_name": "DescriptionStyleModel",
          "model_module_version": "1.5.0",
          "state": {
            "_model_module": "@jupyter-widgets/controls",
            "_model_module_version": "1.5.0",
            "_model_name": "DescriptionStyleModel",
            "_view_count": null,
            "_view_module": "@jupyter-widgets/base",
            "_view_module_version": "1.2.0",
            "_view_name": "StyleView",
            "description_width": ""
          }
        },
        "c180593f37f94c41ae3b444398aa311c": {
          "model_module": "@jupyter-widgets/base",
          "model_name": "LayoutModel",
          "model_module_version": "1.2.0",
          "state": {
            "_model_module": "@jupyter-widgets/base",
            "_model_module_version": "1.2.0",
            "_model_name": "LayoutModel",
            "_view_count": null,
            "_view_module": "@jupyter-widgets/base",
            "_view_module_version": "1.2.0",
            "_view_name": "LayoutView",
            "align_content": null,
            "align_items": null,
            "align_self": null,
            "border": null,
            "bottom": null,
            "display": null,
            "flex": "2",
            "flex_flow": null,
            "grid_area": null,
            "grid_auto_columns": null,
            "grid_auto_flow": null,
            "grid_auto_rows": null,
            "grid_column": null,
            "grid_gap": null,
            "grid_row": null,
            "grid_template_areas": null,
            "grid_template_columns": null,
            "grid_template_rows": null,
            "height": null,
            "justify_content": null,
            "justify_items": null,
            "left": null,
            "margin": null,
            "max_height": null,
            "max_width": null,
            "min_height": null,
            "min_width": null,
            "object_fit": null,
            "object_position": null,
            "order": null,
            "overflow": null,
            "overflow_x": null,
            "overflow_y": null,
            "padding": null,
            "right": null,
            "top": null,
            "visibility": null,
            "width": null
          }
        },
        "94f2a9413c4a4a76a2c90c3232bdfab1": {
          "model_module": "@jupyter-widgets/controls",
          "model_name": "ProgressStyleModel",
          "model_module_version": "1.5.0",
          "state": {
            "_model_module": "@jupyter-widgets/controls",
            "_model_module_version": "1.5.0",
            "_model_name": "ProgressStyleModel",
            "_view_count": null,
            "_view_module": "@jupyter-widgets/base",
            "_view_module_version": "1.2.0",
            "_view_name": "StyleView",
            "bar_color": null,
            "description_width": ""
          }
        },
        "f6978c33abb648fc9a2ac8d50d5e3f6c": {
          "model_module": "@jupyter-widgets/base",
          "model_name": "LayoutModel",
          "model_module_version": "1.2.0",
          "state": {
            "_model_module": "@jupyter-widgets/base",
            "_model_module_version": "1.2.0",
            "_model_name": "LayoutModel",
            "_view_count": null,
            "_view_module": "@jupyter-widgets/base",
            "_view_module_version": "1.2.0",
            "_view_name": "LayoutView",
            "align_content": null,
            "align_items": null,
            "align_self": null,
            "border": null,
            "bottom": null,
            "display": null,
            "flex": null,
            "flex_flow": null,
            "grid_area": null,
            "grid_auto_columns": null,
            "grid_auto_flow": null,
            "grid_auto_rows": null,
            "grid_column": null,
            "grid_gap": null,
            "grid_row": null,
            "grid_template_areas": null,
            "grid_template_columns": null,
            "grid_template_rows": null,
            "height": null,
            "justify_content": null,
            "justify_items": null,
            "left": null,
            "margin": null,
            "max_height": null,
            "max_width": null,
            "min_height": null,
            "min_width": null,
            "object_fit": null,
            "object_position": null,
            "order": null,
            "overflow": null,
            "overflow_x": null,
            "overflow_y": null,
            "padding": null,
            "right": null,
            "top": null,
            "visibility": null,
            "width": null
          }
        },
        "3f86afada0e04a7fac710380622f1372": {
          "model_module": "@jupyter-widgets/controls",
          "model_name": "DescriptionStyleModel",
          "model_module_version": "1.5.0",
          "state": {
            "_model_module": "@jupyter-widgets/controls",
            "_model_module_version": "1.5.0",
            "_model_name": "DescriptionStyleModel",
            "_view_count": null,
            "_view_module": "@jupyter-widgets/base",
            "_view_module_version": "1.2.0",
            "_view_name": "StyleView",
            "description_width": ""
          }
        },
        "af123c8fa75347979233b232be6bc351": {
          "model_module": "@jupyter-widgets/controls",
          "model_name": "HBoxModel",
          "model_module_version": "1.5.0",
          "state": {
            "_dom_classes": [],
            "_model_module": "@jupyter-widgets/controls",
            "_model_module_version": "1.5.0",
            "_model_name": "HBoxModel",
            "_view_count": null,
            "_view_module": "@jupyter-widgets/controls",
            "_view_module_version": "1.5.0",
            "_view_name": "HBoxView",
            "box_style": "",
            "children": [
              "IPY_MODEL_2b779bd575ae45e28050e959d322991d",
              "IPY_MODEL_225d35d03e6a475fa276258ad701f897",
              "IPY_MODEL_75e1b419445e4a49890c35c7a1c95cb9"
            ],
            "layout": "IPY_MODEL_e96dfb88674242fa93b28983cc080630"
          }
        },
        "2b779bd575ae45e28050e959d322991d": {
          "model_module": "@jupyter-widgets/controls",
          "model_name": "HTMLModel",
          "model_module_version": "1.5.0",
          "state": {
            "_dom_classes": [],
            "_model_module": "@jupyter-widgets/controls",
            "_model_module_version": "1.5.0",
            "_model_name": "HTMLModel",
            "_view_count": null,
            "_view_module": "@jupyter-widgets/controls",
            "_view_module_version": "1.5.0",
            "_view_name": "HTMLView",
            "description": "",
            "description_tooltip": null,
            "layout": "IPY_MODEL_bafa0603466d46e99d9347c9efebea25",
            "placeholder": "​",
            "style": "IPY_MODEL_a654ee8da27c4ce19b74fa33cdb61e0c",
            "value": "Validation DataLoader 0: 100%"
          }
        },
        "225d35d03e6a475fa276258ad701f897": {
          "model_module": "@jupyter-widgets/controls",
          "model_name": "FloatProgressModel",
          "model_module_version": "1.5.0",
          "state": {
            "_dom_classes": [],
            "_model_module": "@jupyter-widgets/controls",
            "_model_module_version": "1.5.0",
            "_model_name": "FloatProgressModel",
            "_view_count": null,
            "_view_module": "@jupyter-widgets/controls",
            "_view_module_version": "1.5.0",
            "_view_name": "ProgressView",
            "bar_style": "",
            "description": "",
            "description_tooltip": null,
            "layout": "IPY_MODEL_15c7a77a9390477396b45b5246f1c82b",
            "max": 64,
            "min": 0,
            "orientation": "horizontal",
            "style": "IPY_MODEL_71c90ca9e8f941739e15b08d23f94a6a",
            "value": 64
          }
        },
        "75e1b419445e4a49890c35c7a1c95cb9": {
          "model_module": "@jupyter-widgets/controls",
          "model_name": "HTMLModel",
          "model_module_version": "1.5.0",
          "state": {
            "_dom_classes": [],
            "_model_module": "@jupyter-widgets/controls",
            "_model_module_version": "1.5.0",
            "_model_name": "HTMLModel",
            "_view_count": null,
            "_view_module": "@jupyter-widgets/controls",
            "_view_module_version": "1.5.0",
            "_view_name": "HTMLView",
            "description": "",
            "description_tooltip": null,
            "layout": "IPY_MODEL_97589a91ece1416ba83954d3e77fff21",
            "placeholder": "​",
            "style": "IPY_MODEL_05738ba68d564008909ef2e24a8d183e",
            "value": " 64/64 [00:02&lt;00:00, 28.19it/s]"
          }
        },
        "e96dfb88674242fa93b28983cc080630": {
          "model_module": "@jupyter-widgets/base",
          "model_name": "LayoutModel",
          "model_module_version": "1.2.0",
          "state": {
            "_model_module": "@jupyter-widgets/base",
            "_model_module_version": "1.2.0",
            "_model_name": "LayoutModel",
            "_view_count": null,
            "_view_module": "@jupyter-widgets/base",
            "_view_module_version": "1.2.0",
            "_view_name": "LayoutView",
            "align_content": null,
            "align_items": null,
            "align_self": null,
            "border": null,
            "bottom": null,
            "display": "inline-flex",
            "flex": null,
            "flex_flow": "row wrap",
            "grid_area": null,
            "grid_auto_columns": null,
            "grid_auto_flow": null,
            "grid_auto_rows": null,
            "grid_column": null,
            "grid_gap": null,
            "grid_row": null,
            "grid_template_areas": null,
            "grid_template_columns": null,
            "grid_template_rows": null,
            "height": null,
            "justify_content": null,
            "justify_items": null,
            "left": null,
            "margin": null,
            "max_height": null,
            "max_width": null,
            "min_height": null,
            "min_width": null,
            "object_fit": null,
            "object_position": null,
            "order": null,
            "overflow": null,
            "overflow_x": null,
            "overflow_y": null,
            "padding": null,
            "right": null,
            "top": null,
            "visibility": "hidden",
            "width": "100%"
          }
        },
        "bafa0603466d46e99d9347c9efebea25": {
          "model_module": "@jupyter-widgets/base",
          "model_name": "LayoutModel",
          "model_module_version": "1.2.0",
          "state": {
            "_model_module": "@jupyter-widgets/base",
            "_model_module_version": "1.2.0",
            "_model_name": "LayoutModel",
            "_view_count": null,
            "_view_module": "@jupyter-widgets/base",
            "_view_module_version": "1.2.0",
            "_view_name": "LayoutView",
            "align_content": null,
            "align_items": null,
            "align_self": null,
            "border": null,
            "bottom": null,
            "display": null,
            "flex": null,
            "flex_flow": null,
            "grid_area": null,
            "grid_auto_columns": null,
            "grid_auto_flow": null,
            "grid_auto_rows": null,
            "grid_column": null,
            "grid_gap": null,
            "grid_row": null,
            "grid_template_areas": null,
            "grid_template_columns": null,
            "grid_template_rows": null,
            "height": null,
            "justify_content": null,
            "justify_items": null,
            "left": null,
            "margin": null,
            "max_height": null,
            "max_width": null,
            "min_height": null,
            "min_width": null,
            "object_fit": null,
            "object_position": null,
            "order": null,
            "overflow": null,
            "overflow_x": null,
            "overflow_y": null,
            "padding": null,
            "right": null,
            "top": null,
            "visibility": null,
            "width": null
          }
        },
        "a654ee8da27c4ce19b74fa33cdb61e0c": {
          "model_module": "@jupyter-widgets/controls",
          "model_name": "DescriptionStyleModel",
          "model_module_version": "1.5.0",
          "state": {
            "_model_module": "@jupyter-widgets/controls",
            "_model_module_version": "1.5.0",
            "_model_name": "DescriptionStyleModel",
            "_view_count": null,
            "_view_module": "@jupyter-widgets/base",
            "_view_module_version": "1.2.0",
            "_view_name": "StyleView",
            "description_width": ""
          }
        },
        "15c7a77a9390477396b45b5246f1c82b": {
          "model_module": "@jupyter-widgets/base",
          "model_name": "LayoutModel",
          "model_module_version": "1.2.0",
          "state": {
            "_model_module": "@jupyter-widgets/base",
            "_model_module_version": "1.2.0",
            "_model_name": "LayoutModel",
            "_view_count": null,
            "_view_module": "@jupyter-widgets/base",
            "_view_module_version": "1.2.0",
            "_view_name": "LayoutView",
            "align_content": null,
            "align_items": null,
            "align_self": null,
            "border": null,
            "bottom": null,
            "display": null,
            "flex": "2",
            "flex_flow": null,
            "grid_area": null,
            "grid_auto_columns": null,
            "grid_auto_flow": null,
            "grid_auto_rows": null,
            "grid_column": null,
            "grid_gap": null,
            "grid_row": null,
            "grid_template_areas": null,
            "grid_template_columns": null,
            "grid_template_rows": null,
            "height": null,
            "justify_content": null,
            "justify_items": null,
            "left": null,
            "margin": null,
            "max_height": null,
            "max_width": null,
            "min_height": null,
            "min_width": null,
            "object_fit": null,
            "object_position": null,
            "order": null,
            "overflow": null,
            "overflow_x": null,
            "overflow_y": null,
            "padding": null,
            "right": null,
            "top": null,
            "visibility": null,
            "width": null
          }
        },
        "71c90ca9e8f941739e15b08d23f94a6a": {
          "model_module": "@jupyter-widgets/controls",
          "model_name": "ProgressStyleModel",
          "model_module_version": "1.5.0",
          "state": {
            "_model_module": "@jupyter-widgets/controls",
            "_model_module_version": "1.5.0",
            "_model_name": "ProgressStyleModel",
            "_view_count": null,
            "_view_module": "@jupyter-widgets/base",
            "_view_module_version": "1.2.0",
            "_view_name": "StyleView",
            "bar_color": null,
            "description_width": ""
          }
        },
        "97589a91ece1416ba83954d3e77fff21": {
          "model_module": "@jupyter-widgets/base",
          "model_name": "LayoutModel",
          "model_module_version": "1.2.0",
          "state": {
            "_model_module": "@jupyter-widgets/base",
            "_model_module_version": "1.2.0",
            "_model_name": "LayoutModel",
            "_view_count": null,
            "_view_module": "@jupyter-widgets/base",
            "_view_module_version": "1.2.0",
            "_view_name": "LayoutView",
            "align_content": null,
            "align_items": null,
            "align_self": null,
            "border": null,
            "bottom": null,
            "display": null,
            "flex": null,
            "flex_flow": null,
            "grid_area": null,
            "grid_auto_columns": null,
            "grid_auto_flow": null,
            "grid_auto_rows": null,
            "grid_column": null,
            "grid_gap": null,
            "grid_row": null,
            "grid_template_areas": null,
            "grid_template_columns": null,
            "grid_template_rows": null,
            "height": null,
            "justify_content": null,
            "justify_items": null,
            "left": null,
            "margin": null,
            "max_height": null,
            "max_width": null,
            "min_height": null,
            "min_width": null,
            "object_fit": null,
            "object_position": null,
            "order": null,
            "overflow": null,
            "overflow_x": null,
            "overflow_y": null,
            "padding": null,
            "right": null,
            "top": null,
            "visibility": null,
            "width": null
          }
        },
        "05738ba68d564008909ef2e24a8d183e": {
          "model_module": "@jupyter-widgets/controls",
          "model_name": "DescriptionStyleModel",
          "model_module_version": "1.5.0",
          "state": {
            "_model_module": "@jupyter-widgets/controls",
            "_model_module_version": "1.5.0",
            "_model_name": "DescriptionStyleModel",
            "_view_count": null,
            "_view_module": "@jupyter-widgets/base",
            "_view_module_version": "1.2.0",
            "_view_name": "StyleView",
            "description_width": ""
          }
        },
        "3912697a089449e5b8b740effcfa4772": {
          "model_module": "@jupyter-widgets/controls",
          "model_name": "HBoxModel",
          "model_module_version": "1.5.0",
          "state": {
            "_dom_classes": [],
            "_model_module": "@jupyter-widgets/controls",
            "_model_module_version": "1.5.0",
            "_model_name": "HBoxModel",
            "_view_count": null,
            "_view_module": "@jupyter-widgets/controls",
            "_view_module_version": "1.5.0",
            "_view_name": "HBoxView",
            "box_style": "",
            "children": [
              "IPY_MODEL_984ea115c5e040389acdddf2c03b0473",
              "IPY_MODEL_52db16570faa4bb69c668443a8decf20",
              "IPY_MODEL_a78c4b70e2a845388dcc9bee78be3cd2"
            ],
            "layout": "IPY_MODEL_021a140fab874e5092b2ffbd2a61a5e1"
          }
        },
        "984ea115c5e040389acdddf2c03b0473": {
          "model_module": "@jupyter-widgets/controls",
          "model_name": "HTMLModel",
          "model_module_version": "1.5.0",
          "state": {
            "_dom_classes": [],
            "_model_module": "@jupyter-widgets/controls",
            "_model_module_version": "1.5.0",
            "_model_name": "HTMLModel",
            "_view_count": null,
            "_view_module": "@jupyter-widgets/controls",
            "_view_module_version": "1.5.0",
            "_view_name": "HTMLView",
            "description": "",
            "description_tooltip": null,
            "layout": "IPY_MODEL_a2003ac7797045b9be09d968dc056b07",
            "placeholder": "​",
            "style": "IPY_MODEL_28b6f97510264bca974af5cffa064aca",
            "value": "Validation DataLoader 0: 100%"
          }
        },
        "52db16570faa4bb69c668443a8decf20": {
          "model_module": "@jupyter-widgets/controls",
          "model_name": "FloatProgressModel",
          "model_module_version": "1.5.0",
          "state": {
            "_dom_classes": [],
            "_model_module": "@jupyter-widgets/controls",
            "_model_module_version": "1.5.0",
            "_model_name": "FloatProgressModel",
            "_view_count": null,
            "_view_module": "@jupyter-widgets/controls",
            "_view_module_version": "1.5.0",
            "_view_name": "ProgressView",
            "bar_style": "",
            "description": "",
            "description_tooltip": null,
            "layout": "IPY_MODEL_f8a10a2844f44461ac69a5489b8b046d",
            "max": 64,
            "min": 0,
            "orientation": "horizontal",
            "style": "IPY_MODEL_542355810cf44ba8878fee9ff4817005",
            "value": 64
          }
        },
        "a78c4b70e2a845388dcc9bee78be3cd2": {
          "model_module": "@jupyter-widgets/controls",
          "model_name": "HTMLModel",
          "model_module_version": "1.5.0",
          "state": {
            "_dom_classes": [],
            "_model_module": "@jupyter-widgets/controls",
            "_model_module_version": "1.5.0",
            "_model_name": "HTMLModel",
            "_view_count": null,
            "_view_module": "@jupyter-widgets/controls",
            "_view_module_version": "1.5.0",
            "_view_name": "HTMLView",
            "description": "",
            "description_tooltip": null,
            "layout": "IPY_MODEL_4cd4405ff94749a4a1595de8e4640cd2",
            "placeholder": "​",
            "style": "IPY_MODEL_66cb85419f7d4db491e378bad99ac7e5",
            "value": " 64/64 [00:01&lt;00:00, 35.82it/s]"
          }
        },
        "021a140fab874e5092b2ffbd2a61a5e1": {
          "model_module": "@jupyter-widgets/base",
          "model_name": "LayoutModel",
          "model_module_version": "1.2.0",
          "state": {
            "_model_module": "@jupyter-widgets/base",
            "_model_module_version": "1.2.0",
            "_model_name": "LayoutModel",
            "_view_count": null,
            "_view_module": "@jupyter-widgets/base",
            "_view_module_version": "1.2.0",
            "_view_name": "LayoutView",
            "align_content": null,
            "align_items": null,
            "align_self": null,
            "border": null,
            "bottom": null,
            "display": "inline-flex",
            "flex": null,
            "flex_flow": "row wrap",
            "grid_area": null,
            "grid_auto_columns": null,
            "grid_auto_flow": null,
            "grid_auto_rows": null,
            "grid_column": null,
            "grid_gap": null,
            "grid_row": null,
            "grid_template_areas": null,
            "grid_template_columns": null,
            "grid_template_rows": null,
            "height": null,
            "justify_content": null,
            "justify_items": null,
            "left": null,
            "margin": null,
            "max_height": null,
            "max_width": null,
            "min_height": null,
            "min_width": null,
            "object_fit": null,
            "object_position": null,
            "order": null,
            "overflow": null,
            "overflow_x": null,
            "overflow_y": null,
            "padding": null,
            "right": null,
            "top": null,
            "visibility": "hidden",
            "width": "100%"
          }
        },
        "a2003ac7797045b9be09d968dc056b07": {
          "model_module": "@jupyter-widgets/base",
          "model_name": "LayoutModel",
          "model_module_version": "1.2.0",
          "state": {
            "_model_module": "@jupyter-widgets/base",
            "_model_module_version": "1.2.0",
            "_model_name": "LayoutModel",
            "_view_count": null,
            "_view_module": "@jupyter-widgets/base",
            "_view_module_version": "1.2.0",
            "_view_name": "LayoutView",
            "align_content": null,
            "align_items": null,
            "align_self": null,
            "border": null,
            "bottom": null,
            "display": null,
            "flex": null,
            "flex_flow": null,
            "grid_area": null,
            "grid_auto_columns": null,
            "grid_auto_flow": null,
            "grid_auto_rows": null,
            "grid_column": null,
            "grid_gap": null,
            "grid_row": null,
            "grid_template_areas": null,
            "grid_template_columns": null,
            "grid_template_rows": null,
            "height": null,
            "justify_content": null,
            "justify_items": null,
            "left": null,
            "margin": null,
            "max_height": null,
            "max_width": null,
            "min_height": null,
            "min_width": null,
            "object_fit": null,
            "object_position": null,
            "order": null,
            "overflow": null,
            "overflow_x": null,
            "overflow_y": null,
            "padding": null,
            "right": null,
            "top": null,
            "visibility": null,
            "width": null
          }
        },
        "28b6f97510264bca974af5cffa064aca": {
          "model_module": "@jupyter-widgets/controls",
          "model_name": "DescriptionStyleModel",
          "model_module_version": "1.5.0",
          "state": {
            "_model_module": "@jupyter-widgets/controls",
            "_model_module_version": "1.5.0",
            "_model_name": "DescriptionStyleModel",
            "_view_count": null,
            "_view_module": "@jupyter-widgets/base",
            "_view_module_version": "1.2.0",
            "_view_name": "StyleView",
            "description_width": ""
          }
        },
        "f8a10a2844f44461ac69a5489b8b046d": {
          "model_module": "@jupyter-widgets/base",
          "model_name": "LayoutModel",
          "model_module_version": "1.2.0",
          "state": {
            "_model_module": "@jupyter-widgets/base",
            "_model_module_version": "1.2.0",
            "_model_name": "LayoutModel",
            "_view_count": null,
            "_view_module": "@jupyter-widgets/base",
            "_view_module_version": "1.2.0",
            "_view_name": "LayoutView",
            "align_content": null,
            "align_items": null,
            "align_self": null,
            "border": null,
            "bottom": null,
            "display": null,
            "flex": "2",
            "flex_flow": null,
            "grid_area": null,
            "grid_auto_columns": null,
            "grid_auto_flow": null,
            "grid_auto_rows": null,
            "grid_column": null,
            "grid_gap": null,
            "grid_row": null,
            "grid_template_areas": null,
            "grid_template_columns": null,
            "grid_template_rows": null,
            "height": null,
            "justify_content": null,
            "justify_items": null,
            "left": null,
            "margin": null,
            "max_height": null,
            "max_width": null,
            "min_height": null,
            "min_width": null,
            "object_fit": null,
            "object_position": null,
            "order": null,
            "overflow": null,
            "overflow_x": null,
            "overflow_y": null,
            "padding": null,
            "right": null,
            "top": null,
            "visibility": null,
            "width": null
          }
        },
        "542355810cf44ba8878fee9ff4817005": {
          "model_module": "@jupyter-widgets/controls",
          "model_name": "ProgressStyleModel",
          "model_module_version": "1.5.0",
          "state": {
            "_model_module": "@jupyter-widgets/controls",
            "_model_module_version": "1.5.0",
            "_model_name": "ProgressStyleModel",
            "_view_count": null,
            "_view_module": "@jupyter-widgets/base",
            "_view_module_version": "1.2.0",
            "_view_name": "StyleView",
            "bar_color": null,
            "description_width": ""
          }
        },
        "4cd4405ff94749a4a1595de8e4640cd2": {
          "model_module": "@jupyter-widgets/base",
          "model_name": "LayoutModel",
          "model_module_version": "1.2.0",
          "state": {
            "_model_module": "@jupyter-widgets/base",
            "_model_module_version": "1.2.0",
            "_model_name": "LayoutModel",
            "_view_count": null,
            "_view_module": "@jupyter-widgets/base",
            "_view_module_version": "1.2.0",
            "_view_name": "LayoutView",
            "align_content": null,
            "align_items": null,
            "align_self": null,
            "border": null,
            "bottom": null,
            "display": null,
            "flex": null,
            "flex_flow": null,
            "grid_area": null,
            "grid_auto_columns": null,
            "grid_auto_flow": null,
            "grid_auto_rows": null,
            "grid_column": null,
            "grid_gap": null,
            "grid_row": null,
            "grid_template_areas": null,
            "grid_template_columns": null,
            "grid_template_rows": null,
            "height": null,
            "justify_content": null,
            "justify_items": null,
            "left": null,
            "margin": null,
            "max_height": null,
            "max_width": null,
            "min_height": null,
            "min_width": null,
            "object_fit": null,
            "object_position": null,
            "order": null,
            "overflow": null,
            "overflow_x": null,
            "overflow_y": null,
            "padding": null,
            "right": null,
            "top": null,
            "visibility": null,
            "width": null
          }
        },
        "66cb85419f7d4db491e378bad99ac7e5": {
          "model_module": "@jupyter-widgets/controls",
          "model_name": "DescriptionStyleModel",
          "model_module_version": "1.5.0",
          "state": {
            "_model_module": "@jupyter-widgets/controls",
            "_model_module_version": "1.5.0",
            "_model_name": "DescriptionStyleModel",
            "_view_count": null,
            "_view_module": "@jupyter-widgets/base",
            "_view_module_version": "1.2.0",
            "_view_name": "StyleView",
            "description_width": ""
          }
        },
        "35716005f2f84118bc4bd3eae4a07ec7": {
          "model_module": "@jupyter-widgets/controls",
          "model_name": "HBoxModel",
          "model_module_version": "1.5.0",
          "state": {
            "_dom_classes": [],
            "_model_module": "@jupyter-widgets/controls",
            "_model_module_version": "1.5.0",
            "_model_name": "HBoxModel",
            "_view_count": null,
            "_view_module": "@jupyter-widgets/controls",
            "_view_module_version": "1.5.0",
            "_view_name": "HBoxView",
            "box_style": "",
            "children": [
              "IPY_MODEL_57398b22f6f6472fafae14468e71d3e6",
              "IPY_MODEL_5d28143ea3cb4fa89b2321db982bebf8",
              "IPY_MODEL_2964455b04c1498f9cb79af281d7e588"
            ],
            "layout": "IPY_MODEL_0902a17aad3d44ad812cf8f9c44164b8"
          }
        },
        "57398b22f6f6472fafae14468e71d3e6": {
          "model_module": "@jupyter-widgets/controls",
          "model_name": "HTMLModel",
          "model_module_version": "1.5.0",
          "state": {
            "_dom_classes": [],
            "_model_module": "@jupyter-widgets/controls",
            "_model_module_version": "1.5.0",
            "_model_name": "HTMLModel",
            "_view_count": null,
            "_view_module": "@jupyter-widgets/controls",
            "_view_module_version": "1.5.0",
            "_view_name": "HTMLView",
            "description": "",
            "description_tooltip": null,
            "layout": "IPY_MODEL_05daf8923f53490e880c8082dda25b88",
            "placeholder": "​",
            "style": "IPY_MODEL_569b477eb2a5432cabaea0b31565e283",
            "value": "Validation DataLoader 0: 100%"
          }
        },
        "5d28143ea3cb4fa89b2321db982bebf8": {
          "model_module": "@jupyter-widgets/controls",
          "model_name": "FloatProgressModel",
          "model_module_version": "1.5.0",
          "state": {
            "_dom_classes": [],
            "_model_module": "@jupyter-widgets/controls",
            "_model_module_version": "1.5.0",
            "_model_name": "FloatProgressModel",
            "_view_count": null,
            "_view_module": "@jupyter-widgets/controls",
            "_view_module_version": "1.5.0",
            "_view_name": "ProgressView",
            "bar_style": "",
            "description": "",
            "description_tooltip": null,
            "layout": "IPY_MODEL_d4921e45fb49418696d973f6c30d5857",
            "max": 64,
            "min": 0,
            "orientation": "horizontal",
            "style": "IPY_MODEL_cac1f20877484ce899da72c8b5322ae7",
            "value": 64
          }
        },
        "2964455b04c1498f9cb79af281d7e588": {
          "model_module": "@jupyter-widgets/controls",
          "model_name": "HTMLModel",
          "model_module_version": "1.5.0",
          "state": {
            "_dom_classes": [],
            "_model_module": "@jupyter-widgets/controls",
            "_model_module_version": "1.5.0",
            "_model_name": "HTMLModel",
            "_view_count": null,
            "_view_module": "@jupyter-widgets/controls",
            "_view_module_version": "1.5.0",
            "_view_name": "HTMLView",
            "description": "",
            "description_tooltip": null,
            "layout": "IPY_MODEL_35f62837a47e4f3c8cac33063398abe7",
            "placeholder": "​",
            "style": "IPY_MODEL_1eddf0dafbad48239833055c8958fcf2",
            "value": " 64/64 [00:01&lt;00:00, 36.68it/s]"
          }
        },
        "0902a17aad3d44ad812cf8f9c44164b8": {
          "model_module": "@jupyter-widgets/base",
          "model_name": "LayoutModel",
          "model_module_version": "1.2.0",
          "state": {
            "_model_module": "@jupyter-widgets/base",
            "_model_module_version": "1.2.0",
            "_model_name": "LayoutModel",
            "_view_count": null,
            "_view_module": "@jupyter-widgets/base",
            "_view_module_version": "1.2.0",
            "_view_name": "LayoutView",
            "align_content": null,
            "align_items": null,
            "align_self": null,
            "border": null,
            "bottom": null,
            "display": "inline-flex",
            "flex": null,
            "flex_flow": "row wrap",
            "grid_area": null,
            "grid_auto_columns": null,
            "grid_auto_flow": null,
            "grid_auto_rows": null,
            "grid_column": null,
            "grid_gap": null,
            "grid_row": null,
            "grid_template_areas": null,
            "grid_template_columns": null,
            "grid_template_rows": null,
            "height": null,
            "justify_content": null,
            "justify_items": null,
            "left": null,
            "margin": null,
            "max_height": null,
            "max_width": null,
            "min_height": null,
            "min_width": null,
            "object_fit": null,
            "object_position": null,
            "order": null,
            "overflow": null,
            "overflow_x": null,
            "overflow_y": null,
            "padding": null,
            "right": null,
            "top": null,
            "visibility": "hidden",
            "width": "100%"
          }
        },
        "05daf8923f53490e880c8082dda25b88": {
          "model_module": "@jupyter-widgets/base",
          "model_name": "LayoutModel",
          "model_module_version": "1.2.0",
          "state": {
            "_model_module": "@jupyter-widgets/base",
            "_model_module_version": "1.2.0",
            "_model_name": "LayoutModel",
            "_view_count": null,
            "_view_module": "@jupyter-widgets/base",
            "_view_module_version": "1.2.0",
            "_view_name": "LayoutView",
            "align_content": null,
            "align_items": null,
            "align_self": null,
            "border": null,
            "bottom": null,
            "display": null,
            "flex": null,
            "flex_flow": null,
            "grid_area": null,
            "grid_auto_columns": null,
            "grid_auto_flow": null,
            "grid_auto_rows": null,
            "grid_column": null,
            "grid_gap": null,
            "grid_row": null,
            "grid_template_areas": null,
            "grid_template_columns": null,
            "grid_template_rows": null,
            "height": null,
            "justify_content": null,
            "justify_items": null,
            "left": null,
            "margin": null,
            "max_height": null,
            "max_width": null,
            "min_height": null,
            "min_width": null,
            "object_fit": null,
            "object_position": null,
            "order": null,
            "overflow": null,
            "overflow_x": null,
            "overflow_y": null,
            "padding": null,
            "right": null,
            "top": null,
            "visibility": null,
            "width": null
          }
        },
        "569b477eb2a5432cabaea0b31565e283": {
          "model_module": "@jupyter-widgets/controls",
          "model_name": "DescriptionStyleModel",
          "model_module_version": "1.5.0",
          "state": {
            "_model_module": "@jupyter-widgets/controls",
            "_model_module_version": "1.5.0",
            "_model_name": "DescriptionStyleModel",
            "_view_count": null,
            "_view_module": "@jupyter-widgets/base",
            "_view_module_version": "1.2.0",
            "_view_name": "StyleView",
            "description_width": ""
          }
        },
        "d4921e45fb49418696d973f6c30d5857": {
          "model_module": "@jupyter-widgets/base",
          "model_name": "LayoutModel",
          "model_module_version": "1.2.0",
          "state": {
            "_model_module": "@jupyter-widgets/base",
            "_model_module_version": "1.2.0",
            "_model_name": "LayoutModel",
            "_view_count": null,
            "_view_module": "@jupyter-widgets/base",
            "_view_module_version": "1.2.0",
            "_view_name": "LayoutView",
            "align_content": null,
            "align_items": null,
            "align_self": null,
            "border": null,
            "bottom": null,
            "display": null,
            "flex": "2",
            "flex_flow": null,
            "grid_area": null,
            "grid_auto_columns": null,
            "grid_auto_flow": null,
            "grid_auto_rows": null,
            "grid_column": null,
            "grid_gap": null,
            "grid_row": null,
            "grid_template_areas": null,
            "grid_template_columns": null,
            "grid_template_rows": null,
            "height": null,
            "justify_content": null,
            "justify_items": null,
            "left": null,
            "margin": null,
            "max_height": null,
            "max_width": null,
            "min_height": null,
            "min_width": null,
            "object_fit": null,
            "object_position": null,
            "order": null,
            "overflow": null,
            "overflow_x": null,
            "overflow_y": null,
            "padding": null,
            "right": null,
            "top": null,
            "visibility": null,
            "width": null
          }
        },
        "cac1f20877484ce899da72c8b5322ae7": {
          "model_module": "@jupyter-widgets/controls",
          "model_name": "ProgressStyleModel",
          "model_module_version": "1.5.0",
          "state": {
            "_model_module": "@jupyter-widgets/controls",
            "_model_module_version": "1.5.0",
            "_model_name": "ProgressStyleModel",
            "_view_count": null,
            "_view_module": "@jupyter-widgets/base",
            "_view_module_version": "1.2.0",
            "_view_name": "StyleView",
            "bar_color": null,
            "description_width": ""
          }
        },
        "35f62837a47e4f3c8cac33063398abe7": {
          "model_module": "@jupyter-widgets/base",
          "model_name": "LayoutModel",
          "model_module_version": "1.2.0",
          "state": {
            "_model_module": "@jupyter-widgets/base",
            "_model_module_version": "1.2.0",
            "_model_name": "LayoutModel",
            "_view_count": null,
            "_view_module": "@jupyter-widgets/base",
            "_view_module_version": "1.2.0",
            "_view_name": "LayoutView",
            "align_content": null,
            "align_items": null,
            "align_self": null,
            "border": null,
            "bottom": null,
            "display": null,
            "flex": null,
            "flex_flow": null,
            "grid_area": null,
            "grid_auto_columns": null,
            "grid_auto_flow": null,
            "grid_auto_rows": null,
            "grid_column": null,
            "grid_gap": null,
            "grid_row": null,
            "grid_template_areas": null,
            "grid_template_columns": null,
            "grid_template_rows": null,
            "height": null,
            "justify_content": null,
            "justify_items": null,
            "left": null,
            "margin": null,
            "max_height": null,
            "max_width": null,
            "min_height": null,
            "min_width": null,
            "object_fit": null,
            "object_position": null,
            "order": null,
            "overflow": null,
            "overflow_x": null,
            "overflow_y": null,
            "padding": null,
            "right": null,
            "top": null,
            "visibility": null,
            "width": null
          }
        },
        "1eddf0dafbad48239833055c8958fcf2": {
          "model_module": "@jupyter-widgets/controls",
          "model_name": "DescriptionStyleModel",
          "model_module_version": "1.5.0",
          "state": {
            "_model_module": "@jupyter-widgets/controls",
            "_model_module_version": "1.5.0",
            "_model_name": "DescriptionStyleModel",
            "_view_count": null,
            "_view_module": "@jupyter-widgets/base",
            "_view_module_version": "1.2.0",
            "_view_name": "StyleView",
            "description_width": ""
          }
        },
        "8719827dcc8e4253924b433f5a74a58e": {
          "model_module": "@jupyter-widgets/controls",
          "model_name": "HBoxModel",
          "model_module_version": "1.5.0",
          "state": {
            "_dom_classes": [],
            "_model_module": "@jupyter-widgets/controls",
            "_model_module_version": "1.5.0",
            "_model_name": "HBoxModel",
            "_view_count": null,
            "_view_module": "@jupyter-widgets/controls",
            "_view_module_version": "1.5.0",
            "_view_name": "HBoxView",
            "box_style": "",
            "children": [
              "IPY_MODEL_ff726b025df6422e934af3a1cc8d5189",
              "IPY_MODEL_ba1b1158458140ed8aa9f5e945cee223",
              "IPY_MODEL_3b7b3f0a550a49f7abae145aff7379ce"
            ],
            "layout": "IPY_MODEL_5767f4b2a3474f378da08a44ca030b66"
          }
        },
        "ff726b025df6422e934af3a1cc8d5189": {
          "model_module": "@jupyter-widgets/controls",
          "model_name": "HTMLModel",
          "model_module_version": "1.5.0",
          "state": {
            "_dom_classes": [],
            "_model_module": "@jupyter-widgets/controls",
            "_model_module_version": "1.5.0",
            "_model_name": "HTMLModel",
            "_view_count": null,
            "_view_module": "@jupyter-widgets/controls",
            "_view_module_version": "1.5.0",
            "_view_name": "HTMLView",
            "description": "",
            "description_tooltip": null,
            "layout": "IPY_MODEL_90ad1454e1524d1e8d3b4acbd9f7ea36",
            "placeholder": "​",
            "style": "IPY_MODEL_ce3907c003a3434585cbe19610785273",
            "value": "Validation DataLoader 0: 100%"
          }
        },
        "ba1b1158458140ed8aa9f5e945cee223": {
          "model_module": "@jupyter-widgets/controls",
          "model_name": "FloatProgressModel",
          "model_module_version": "1.5.0",
          "state": {
            "_dom_classes": [],
            "_model_module": "@jupyter-widgets/controls",
            "_model_module_version": "1.5.0",
            "_model_name": "FloatProgressModel",
            "_view_count": null,
            "_view_module": "@jupyter-widgets/controls",
            "_view_module_version": "1.5.0",
            "_view_name": "ProgressView",
            "bar_style": "",
            "description": "",
            "description_tooltip": null,
            "layout": "IPY_MODEL_1f290c2891ef4b84ad5bba783fb4a514",
            "max": 64,
            "min": 0,
            "orientation": "horizontal",
            "style": "IPY_MODEL_d76a05a61a364ce9b6c9edcbdb0b2ac2",
            "value": 64
          }
        },
        "3b7b3f0a550a49f7abae145aff7379ce": {
          "model_module": "@jupyter-widgets/controls",
          "model_name": "HTMLModel",
          "model_module_version": "1.5.0",
          "state": {
            "_dom_classes": [],
            "_model_module": "@jupyter-widgets/controls",
            "_model_module_version": "1.5.0",
            "_model_name": "HTMLModel",
            "_view_count": null,
            "_view_module": "@jupyter-widgets/controls",
            "_view_module_version": "1.5.0",
            "_view_name": "HTMLView",
            "description": "",
            "description_tooltip": null,
            "layout": "IPY_MODEL_1a089ac7c4a14bd6a885075a2ffbf80d",
            "placeholder": "​",
            "style": "IPY_MODEL_ec8b07e5a0054f1abf5356647e9e5b82",
            "value": " 64/64 [00:02&lt;00:00, 28.65it/s]"
          }
        },
        "5767f4b2a3474f378da08a44ca030b66": {
          "model_module": "@jupyter-widgets/base",
          "model_name": "LayoutModel",
          "model_module_version": "1.2.0",
          "state": {
            "_model_module": "@jupyter-widgets/base",
            "_model_module_version": "1.2.0",
            "_model_name": "LayoutModel",
            "_view_count": null,
            "_view_module": "@jupyter-widgets/base",
            "_view_module_version": "1.2.0",
            "_view_name": "LayoutView",
            "align_content": null,
            "align_items": null,
            "align_self": null,
            "border": null,
            "bottom": null,
            "display": "inline-flex",
            "flex": null,
            "flex_flow": "row wrap",
            "grid_area": null,
            "grid_auto_columns": null,
            "grid_auto_flow": null,
            "grid_auto_rows": null,
            "grid_column": null,
            "grid_gap": null,
            "grid_row": null,
            "grid_template_areas": null,
            "grid_template_columns": null,
            "grid_template_rows": null,
            "height": null,
            "justify_content": null,
            "justify_items": null,
            "left": null,
            "margin": null,
            "max_height": null,
            "max_width": null,
            "min_height": null,
            "min_width": null,
            "object_fit": null,
            "object_position": null,
            "order": null,
            "overflow": null,
            "overflow_x": null,
            "overflow_y": null,
            "padding": null,
            "right": null,
            "top": null,
            "visibility": "hidden",
            "width": "100%"
          }
        },
        "90ad1454e1524d1e8d3b4acbd9f7ea36": {
          "model_module": "@jupyter-widgets/base",
          "model_name": "LayoutModel",
          "model_module_version": "1.2.0",
          "state": {
            "_model_module": "@jupyter-widgets/base",
            "_model_module_version": "1.2.0",
            "_model_name": "LayoutModel",
            "_view_count": null,
            "_view_module": "@jupyter-widgets/base",
            "_view_module_version": "1.2.0",
            "_view_name": "LayoutView",
            "align_content": null,
            "align_items": null,
            "align_self": null,
            "border": null,
            "bottom": null,
            "display": null,
            "flex": null,
            "flex_flow": null,
            "grid_area": null,
            "grid_auto_columns": null,
            "grid_auto_flow": null,
            "grid_auto_rows": null,
            "grid_column": null,
            "grid_gap": null,
            "grid_row": null,
            "grid_template_areas": null,
            "grid_template_columns": null,
            "grid_template_rows": null,
            "height": null,
            "justify_content": null,
            "justify_items": null,
            "left": null,
            "margin": null,
            "max_height": null,
            "max_width": null,
            "min_height": null,
            "min_width": null,
            "object_fit": null,
            "object_position": null,
            "order": null,
            "overflow": null,
            "overflow_x": null,
            "overflow_y": null,
            "padding": null,
            "right": null,
            "top": null,
            "visibility": null,
            "width": null
          }
        },
        "ce3907c003a3434585cbe19610785273": {
          "model_module": "@jupyter-widgets/controls",
          "model_name": "DescriptionStyleModel",
          "model_module_version": "1.5.0",
          "state": {
            "_model_module": "@jupyter-widgets/controls",
            "_model_module_version": "1.5.0",
            "_model_name": "DescriptionStyleModel",
            "_view_count": null,
            "_view_module": "@jupyter-widgets/base",
            "_view_module_version": "1.2.0",
            "_view_name": "StyleView",
            "description_width": ""
          }
        },
        "1f290c2891ef4b84ad5bba783fb4a514": {
          "model_module": "@jupyter-widgets/base",
          "model_name": "LayoutModel",
          "model_module_version": "1.2.0",
          "state": {
            "_model_module": "@jupyter-widgets/base",
            "_model_module_version": "1.2.0",
            "_model_name": "LayoutModel",
            "_view_count": null,
            "_view_module": "@jupyter-widgets/base",
            "_view_module_version": "1.2.0",
            "_view_name": "LayoutView",
            "align_content": null,
            "align_items": null,
            "align_self": null,
            "border": null,
            "bottom": null,
            "display": null,
            "flex": "2",
            "flex_flow": null,
            "grid_area": null,
            "grid_auto_columns": null,
            "grid_auto_flow": null,
            "grid_auto_rows": null,
            "grid_column": null,
            "grid_gap": null,
            "grid_row": null,
            "grid_template_areas": null,
            "grid_template_columns": null,
            "grid_template_rows": null,
            "height": null,
            "justify_content": null,
            "justify_items": null,
            "left": null,
            "margin": null,
            "max_height": null,
            "max_width": null,
            "min_height": null,
            "min_width": null,
            "object_fit": null,
            "object_position": null,
            "order": null,
            "overflow": null,
            "overflow_x": null,
            "overflow_y": null,
            "padding": null,
            "right": null,
            "top": null,
            "visibility": null,
            "width": null
          }
        },
        "d76a05a61a364ce9b6c9edcbdb0b2ac2": {
          "model_module": "@jupyter-widgets/controls",
          "model_name": "ProgressStyleModel",
          "model_module_version": "1.5.0",
          "state": {
            "_model_module": "@jupyter-widgets/controls",
            "_model_module_version": "1.5.0",
            "_model_name": "ProgressStyleModel",
            "_view_count": null,
            "_view_module": "@jupyter-widgets/base",
            "_view_module_version": "1.2.0",
            "_view_name": "StyleView",
            "bar_color": null,
            "description_width": ""
          }
        },
        "1a089ac7c4a14bd6a885075a2ffbf80d": {
          "model_module": "@jupyter-widgets/base",
          "model_name": "LayoutModel",
          "model_module_version": "1.2.0",
          "state": {
            "_model_module": "@jupyter-widgets/base",
            "_model_module_version": "1.2.0",
            "_model_name": "LayoutModel",
            "_view_count": null,
            "_view_module": "@jupyter-widgets/base",
            "_view_module_version": "1.2.0",
            "_view_name": "LayoutView",
            "align_content": null,
            "align_items": null,
            "align_self": null,
            "border": null,
            "bottom": null,
            "display": null,
            "flex": null,
            "flex_flow": null,
            "grid_area": null,
            "grid_auto_columns": null,
            "grid_auto_flow": null,
            "grid_auto_rows": null,
            "grid_column": null,
            "grid_gap": null,
            "grid_row": null,
            "grid_template_areas": null,
            "grid_template_columns": null,
            "grid_template_rows": null,
            "height": null,
            "justify_content": null,
            "justify_items": null,
            "left": null,
            "margin": null,
            "max_height": null,
            "max_width": null,
            "min_height": null,
            "min_width": null,
            "object_fit": null,
            "object_position": null,
            "order": null,
            "overflow": null,
            "overflow_x": null,
            "overflow_y": null,
            "padding": null,
            "right": null,
            "top": null,
            "visibility": null,
            "width": null
          }
        },
        "ec8b07e5a0054f1abf5356647e9e5b82": {
          "model_module": "@jupyter-widgets/controls",
          "model_name": "DescriptionStyleModel",
          "model_module_version": "1.5.0",
          "state": {
            "_model_module": "@jupyter-widgets/controls",
            "_model_module_version": "1.5.0",
            "_model_name": "DescriptionStyleModel",
            "_view_count": null,
            "_view_module": "@jupyter-widgets/base",
            "_view_module_version": "1.2.0",
            "_view_name": "StyleView",
            "description_width": ""
          }
        },
        "49d22ceb1c434291860e7c7fc4fbdd36": {
          "model_module": "@jupyter-widgets/controls",
          "model_name": "HBoxModel",
          "model_module_version": "1.5.0",
          "state": {
            "_dom_classes": [],
            "_model_module": "@jupyter-widgets/controls",
            "_model_module_version": "1.5.0",
            "_model_name": "HBoxModel",
            "_view_count": null,
            "_view_module": "@jupyter-widgets/controls",
            "_view_module_version": "1.5.0",
            "_view_name": "HBoxView",
            "box_style": "",
            "children": [
              "IPY_MODEL_fac69acdbf33447596ae5219daa81409",
              "IPY_MODEL_a878f494c01343f0b8f73976cbb00f36",
              "IPY_MODEL_42b342b4fc924469b6a89c1e2c0ca0b0"
            ],
            "layout": "IPY_MODEL_b002c5a3e0c44007abf0e6ff4ea7695d"
          }
        },
        "fac69acdbf33447596ae5219daa81409": {
          "model_module": "@jupyter-widgets/controls",
          "model_name": "HTMLModel",
          "model_module_version": "1.5.0",
          "state": {
            "_dom_classes": [],
            "_model_module": "@jupyter-widgets/controls",
            "_model_module_version": "1.5.0",
            "_model_name": "HTMLModel",
            "_view_count": null,
            "_view_module": "@jupyter-widgets/controls",
            "_view_module_version": "1.5.0",
            "_view_name": "HTMLView",
            "description": "",
            "description_tooltip": null,
            "layout": "IPY_MODEL_aef38c60fdb44f688884fd378abb18be",
            "placeholder": "​",
            "style": "IPY_MODEL_ba11e19826d7443a9208a91abed149de",
            "value": "Validation DataLoader 0: 100%"
          }
        },
        "a878f494c01343f0b8f73976cbb00f36": {
          "model_module": "@jupyter-widgets/controls",
          "model_name": "FloatProgressModel",
          "model_module_version": "1.5.0",
          "state": {
            "_dom_classes": [],
            "_model_module": "@jupyter-widgets/controls",
            "_model_module_version": "1.5.0",
            "_model_name": "FloatProgressModel",
            "_view_count": null,
            "_view_module": "@jupyter-widgets/controls",
            "_view_module_version": "1.5.0",
            "_view_name": "ProgressView",
            "bar_style": "",
            "description": "",
            "description_tooltip": null,
            "layout": "IPY_MODEL_f7c2553859864eb09031ad5a59696db8",
            "max": 64,
            "min": 0,
            "orientation": "horizontal",
            "style": "IPY_MODEL_84d0eea1f6524cf0b1a40ad66009edca",
            "value": 64
          }
        },
        "42b342b4fc924469b6a89c1e2c0ca0b0": {
          "model_module": "@jupyter-widgets/controls",
          "model_name": "HTMLModel",
          "model_module_version": "1.5.0",
          "state": {
            "_dom_classes": [],
            "_model_module": "@jupyter-widgets/controls",
            "_model_module_version": "1.5.0",
            "_model_name": "HTMLModel",
            "_view_count": null,
            "_view_module": "@jupyter-widgets/controls",
            "_view_module_version": "1.5.0",
            "_view_name": "HTMLView",
            "description": "",
            "description_tooltip": null,
            "layout": "IPY_MODEL_eeddc3277800439ab4018f7cc913348a",
            "placeholder": "​",
            "style": "IPY_MODEL_a769564349fe4485b92c7c68575332ec",
            "value": " 64/64 [00:01&lt;00:00, 36.67it/s]"
          }
        },
        "b002c5a3e0c44007abf0e6ff4ea7695d": {
          "model_module": "@jupyter-widgets/base",
          "model_name": "LayoutModel",
          "model_module_version": "1.2.0",
          "state": {
            "_model_module": "@jupyter-widgets/base",
            "_model_module_version": "1.2.0",
            "_model_name": "LayoutModel",
            "_view_count": null,
            "_view_module": "@jupyter-widgets/base",
            "_view_module_version": "1.2.0",
            "_view_name": "LayoutView",
            "align_content": null,
            "align_items": null,
            "align_self": null,
            "border": null,
            "bottom": null,
            "display": "inline-flex",
            "flex": null,
            "flex_flow": "row wrap",
            "grid_area": null,
            "grid_auto_columns": null,
            "grid_auto_flow": null,
            "grid_auto_rows": null,
            "grid_column": null,
            "grid_gap": null,
            "grid_row": null,
            "grid_template_areas": null,
            "grid_template_columns": null,
            "grid_template_rows": null,
            "height": null,
            "justify_content": null,
            "justify_items": null,
            "left": null,
            "margin": null,
            "max_height": null,
            "max_width": null,
            "min_height": null,
            "min_width": null,
            "object_fit": null,
            "object_position": null,
            "order": null,
            "overflow": null,
            "overflow_x": null,
            "overflow_y": null,
            "padding": null,
            "right": null,
            "top": null,
            "visibility": "hidden",
            "width": "100%"
          }
        },
        "aef38c60fdb44f688884fd378abb18be": {
          "model_module": "@jupyter-widgets/base",
          "model_name": "LayoutModel",
          "model_module_version": "1.2.0",
          "state": {
            "_model_module": "@jupyter-widgets/base",
            "_model_module_version": "1.2.0",
            "_model_name": "LayoutModel",
            "_view_count": null,
            "_view_module": "@jupyter-widgets/base",
            "_view_module_version": "1.2.0",
            "_view_name": "LayoutView",
            "align_content": null,
            "align_items": null,
            "align_self": null,
            "border": null,
            "bottom": null,
            "display": null,
            "flex": null,
            "flex_flow": null,
            "grid_area": null,
            "grid_auto_columns": null,
            "grid_auto_flow": null,
            "grid_auto_rows": null,
            "grid_column": null,
            "grid_gap": null,
            "grid_row": null,
            "grid_template_areas": null,
            "grid_template_columns": null,
            "grid_template_rows": null,
            "height": null,
            "justify_content": null,
            "justify_items": null,
            "left": null,
            "margin": null,
            "max_height": null,
            "max_width": null,
            "min_height": null,
            "min_width": null,
            "object_fit": null,
            "object_position": null,
            "order": null,
            "overflow": null,
            "overflow_x": null,
            "overflow_y": null,
            "padding": null,
            "right": null,
            "top": null,
            "visibility": null,
            "width": null
          }
        },
        "ba11e19826d7443a9208a91abed149de": {
          "model_module": "@jupyter-widgets/controls",
          "model_name": "DescriptionStyleModel",
          "model_module_version": "1.5.0",
          "state": {
            "_model_module": "@jupyter-widgets/controls",
            "_model_module_version": "1.5.0",
            "_model_name": "DescriptionStyleModel",
            "_view_count": null,
            "_view_module": "@jupyter-widgets/base",
            "_view_module_version": "1.2.0",
            "_view_name": "StyleView",
            "description_width": ""
          }
        },
        "f7c2553859864eb09031ad5a59696db8": {
          "model_module": "@jupyter-widgets/base",
          "model_name": "LayoutModel",
          "model_module_version": "1.2.0",
          "state": {
            "_model_module": "@jupyter-widgets/base",
            "_model_module_version": "1.2.0",
            "_model_name": "LayoutModel",
            "_view_count": null,
            "_view_module": "@jupyter-widgets/base",
            "_view_module_version": "1.2.0",
            "_view_name": "LayoutView",
            "align_content": null,
            "align_items": null,
            "align_self": null,
            "border": null,
            "bottom": null,
            "display": null,
            "flex": "2",
            "flex_flow": null,
            "grid_area": null,
            "grid_auto_columns": null,
            "grid_auto_flow": null,
            "grid_auto_rows": null,
            "grid_column": null,
            "grid_gap": null,
            "grid_row": null,
            "grid_template_areas": null,
            "grid_template_columns": null,
            "grid_template_rows": null,
            "height": null,
            "justify_content": null,
            "justify_items": null,
            "left": null,
            "margin": null,
            "max_height": null,
            "max_width": null,
            "min_height": null,
            "min_width": null,
            "object_fit": null,
            "object_position": null,
            "order": null,
            "overflow": null,
            "overflow_x": null,
            "overflow_y": null,
            "padding": null,
            "right": null,
            "top": null,
            "visibility": null,
            "width": null
          }
        },
        "84d0eea1f6524cf0b1a40ad66009edca": {
          "model_module": "@jupyter-widgets/controls",
          "model_name": "ProgressStyleModel",
          "model_module_version": "1.5.0",
          "state": {
            "_model_module": "@jupyter-widgets/controls",
            "_model_module_version": "1.5.0",
            "_model_name": "ProgressStyleModel",
            "_view_count": null,
            "_view_module": "@jupyter-widgets/base",
            "_view_module_version": "1.2.0",
            "_view_name": "StyleView",
            "bar_color": null,
            "description_width": ""
          }
        },
        "eeddc3277800439ab4018f7cc913348a": {
          "model_module": "@jupyter-widgets/base",
          "model_name": "LayoutModel",
          "model_module_version": "1.2.0",
          "state": {
            "_model_module": "@jupyter-widgets/base",
            "_model_module_version": "1.2.0",
            "_model_name": "LayoutModel",
            "_view_count": null,
            "_view_module": "@jupyter-widgets/base",
            "_view_module_version": "1.2.0",
            "_view_name": "LayoutView",
            "align_content": null,
            "align_items": null,
            "align_self": null,
            "border": null,
            "bottom": null,
            "display": null,
            "flex": null,
            "flex_flow": null,
            "grid_area": null,
            "grid_auto_columns": null,
            "grid_auto_flow": null,
            "grid_auto_rows": null,
            "grid_column": null,
            "grid_gap": null,
            "grid_row": null,
            "grid_template_areas": null,
            "grid_template_columns": null,
            "grid_template_rows": null,
            "height": null,
            "justify_content": null,
            "justify_items": null,
            "left": null,
            "margin": null,
            "max_height": null,
            "max_width": null,
            "min_height": null,
            "min_width": null,
            "object_fit": null,
            "object_position": null,
            "order": null,
            "overflow": null,
            "overflow_x": null,
            "overflow_y": null,
            "padding": null,
            "right": null,
            "top": null,
            "visibility": null,
            "width": null
          }
        },
        "a769564349fe4485b92c7c68575332ec": {
          "model_module": "@jupyter-widgets/controls",
          "model_name": "DescriptionStyleModel",
          "model_module_version": "1.5.0",
          "state": {
            "_model_module": "@jupyter-widgets/controls",
            "_model_module_version": "1.5.0",
            "_model_name": "DescriptionStyleModel",
            "_view_count": null,
            "_view_module": "@jupyter-widgets/base",
            "_view_module_version": "1.2.0",
            "_view_name": "StyleView",
            "description_width": ""
          }
        },
        "224e4bd2ff85462b859e5792880e80be": {
          "model_module": "@jupyter-widgets/controls",
          "model_name": "HBoxModel",
          "model_module_version": "1.5.0",
          "state": {
            "_dom_classes": [],
            "_model_module": "@jupyter-widgets/controls",
            "_model_module_version": "1.5.0",
            "_model_name": "HBoxModel",
            "_view_count": null,
            "_view_module": "@jupyter-widgets/controls",
            "_view_module_version": "1.5.0",
            "_view_name": "HBoxView",
            "box_style": "",
            "children": [
              "IPY_MODEL_7a4c6616f1ec4edd8670753b6c63f43f",
              "IPY_MODEL_3d84fa4da99940bbbf599a15816cdc4b",
              "IPY_MODEL_6b9cb418520f476b8971d0f1ffd9c4e2"
            ],
            "layout": "IPY_MODEL_be078c229322460f8d4e547663cfba93"
          }
        },
        "7a4c6616f1ec4edd8670753b6c63f43f": {
          "model_module": "@jupyter-widgets/controls",
          "model_name": "HTMLModel",
          "model_module_version": "1.5.0",
          "state": {
            "_dom_classes": [],
            "_model_module": "@jupyter-widgets/controls",
            "_model_module_version": "1.5.0",
            "_model_name": "HTMLModel",
            "_view_count": null,
            "_view_module": "@jupyter-widgets/controls",
            "_view_module_version": "1.5.0",
            "_view_name": "HTMLView",
            "description": "",
            "description_tooltip": null,
            "layout": "IPY_MODEL_b4c8c39215a94f43a06ab65bb726048b",
            "placeholder": "​",
            "style": "IPY_MODEL_1b6e4b9642524f42b61c3b87e3a6a7db",
            "value": "Validation DataLoader 0: 100%"
          }
        },
        "3d84fa4da99940bbbf599a15816cdc4b": {
          "model_module": "@jupyter-widgets/controls",
          "model_name": "FloatProgressModel",
          "model_module_version": "1.5.0",
          "state": {
            "_dom_classes": [],
            "_model_module": "@jupyter-widgets/controls",
            "_model_module_version": "1.5.0",
            "_model_name": "FloatProgressModel",
            "_view_count": null,
            "_view_module": "@jupyter-widgets/controls",
            "_view_module_version": "1.5.0",
            "_view_name": "ProgressView",
            "bar_style": "",
            "description": "",
            "description_tooltip": null,
            "layout": "IPY_MODEL_7dec6dc450184d91a78e4f370203e72d",
            "max": 64,
            "min": 0,
            "orientation": "horizontal",
            "style": "IPY_MODEL_19d9ee89e36049a1b29075eb163a3fbc",
            "value": 64
          }
        },
        "6b9cb418520f476b8971d0f1ffd9c4e2": {
          "model_module": "@jupyter-widgets/controls",
          "model_name": "HTMLModel",
          "model_module_version": "1.5.0",
          "state": {
            "_dom_classes": [],
            "_model_module": "@jupyter-widgets/controls",
            "_model_module_version": "1.5.0",
            "_model_name": "HTMLModel",
            "_view_count": null,
            "_view_module": "@jupyter-widgets/controls",
            "_view_module_version": "1.5.0",
            "_view_name": "HTMLView",
            "description": "",
            "description_tooltip": null,
            "layout": "IPY_MODEL_a05dd9df540e4ea085b6e79288af386c",
            "placeholder": "​",
            "style": "IPY_MODEL_38b6aa1857e14e00a5836d8abe5ef89c",
            "value": " 64/64 [00:01&lt;00:00, 35.54it/s]"
          }
        },
        "be078c229322460f8d4e547663cfba93": {
          "model_module": "@jupyter-widgets/base",
          "model_name": "LayoutModel",
          "model_module_version": "1.2.0",
          "state": {
            "_model_module": "@jupyter-widgets/base",
            "_model_module_version": "1.2.0",
            "_model_name": "LayoutModel",
            "_view_count": null,
            "_view_module": "@jupyter-widgets/base",
            "_view_module_version": "1.2.0",
            "_view_name": "LayoutView",
            "align_content": null,
            "align_items": null,
            "align_self": null,
            "border": null,
            "bottom": null,
            "display": "inline-flex",
            "flex": null,
            "flex_flow": "row wrap",
            "grid_area": null,
            "grid_auto_columns": null,
            "grid_auto_flow": null,
            "grid_auto_rows": null,
            "grid_column": null,
            "grid_gap": null,
            "grid_row": null,
            "grid_template_areas": null,
            "grid_template_columns": null,
            "grid_template_rows": null,
            "height": null,
            "justify_content": null,
            "justify_items": null,
            "left": null,
            "margin": null,
            "max_height": null,
            "max_width": null,
            "min_height": null,
            "min_width": null,
            "object_fit": null,
            "object_position": null,
            "order": null,
            "overflow": null,
            "overflow_x": null,
            "overflow_y": null,
            "padding": null,
            "right": null,
            "top": null,
            "visibility": "hidden",
            "width": "100%"
          }
        },
        "b4c8c39215a94f43a06ab65bb726048b": {
          "model_module": "@jupyter-widgets/base",
          "model_name": "LayoutModel",
          "model_module_version": "1.2.0",
          "state": {
            "_model_module": "@jupyter-widgets/base",
            "_model_module_version": "1.2.0",
            "_model_name": "LayoutModel",
            "_view_count": null,
            "_view_module": "@jupyter-widgets/base",
            "_view_module_version": "1.2.0",
            "_view_name": "LayoutView",
            "align_content": null,
            "align_items": null,
            "align_self": null,
            "border": null,
            "bottom": null,
            "display": null,
            "flex": null,
            "flex_flow": null,
            "grid_area": null,
            "grid_auto_columns": null,
            "grid_auto_flow": null,
            "grid_auto_rows": null,
            "grid_column": null,
            "grid_gap": null,
            "grid_row": null,
            "grid_template_areas": null,
            "grid_template_columns": null,
            "grid_template_rows": null,
            "height": null,
            "justify_content": null,
            "justify_items": null,
            "left": null,
            "margin": null,
            "max_height": null,
            "max_width": null,
            "min_height": null,
            "min_width": null,
            "object_fit": null,
            "object_position": null,
            "order": null,
            "overflow": null,
            "overflow_x": null,
            "overflow_y": null,
            "padding": null,
            "right": null,
            "top": null,
            "visibility": null,
            "width": null
          }
        },
        "1b6e4b9642524f42b61c3b87e3a6a7db": {
          "model_module": "@jupyter-widgets/controls",
          "model_name": "DescriptionStyleModel",
          "model_module_version": "1.5.0",
          "state": {
            "_model_module": "@jupyter-widgets/controls",
            "_model_module_version": "1.5.0",
            "_model_name": "DescriptionStyleModel",
            "_view_count": null,
            "_view_module": "@jupyter-widgets/base",
            "_view_module_version": "1.2.0",
            "_view_name": "StyleView",
            "description_width": ""
          }
        },
        "7dec6dc450184d91a78e4f370203e72d": {
          "model_module": "@jupyter-widgets/base",
          "model_name": "LayoutModel",
          "model_module_version": "1.2.0",
          "state": {
            "_model_module": "@jupyter-widgets/base",
            "_model_module_version": "1.2.0",
            "_model_name": "LayoutModel",
            "_view_count": null,
            "_view_module": "@jupyter-widgets/base",
            "_view_module_version": "1.2.0",
            "_view_name": "LayoutView",
            "align_content": null,
            "align_items": null,
            "align_self": null,
            "border": null,
            "bottom": null,
            "display": null,
            "flex": "2",
            "flex_flow": null,
            "grid_area": null,
            "grid_auto_columns": null,
            "grid_auto_flow": null,
            "grid_auto_rows": null,
            "grid_column": null,
            "grid_gap": null,
            "grid_row": null,
            "grid_template_areas": null,
            "grid_template_columns": null,
            "grid_template_rows": null,
            "height": null,
            "justify_content": null,
            "justify_items": null,
            "left": null,
            "margin": null,
            "max_height": null,
            "max_width": null,
            "min_height": null,
            "min_width": null,
            "object_fit": null,
            "object_position": null,
            "order": null,
            "overflow": null,
            "overflow_x": null,
            "overflow_y": null,
            "padding": null,
            "right": null,
            "top": null,
            "visibility": null,
            "width": null
          }
        },
        "19d9ee89e36049a1b29075eb163a3fbc": {
          "model_module": "@jupyter-widgets/controls",
          "model_name": "ProgressStyleModel",
          "model_module_version": "1.5.0",
          "state": {
            "_model_module": "@jupyter-widgets/controls",
            "_model_module_version": "1.5.0",
            "_model_name": "ProgressStyleModel",
            "_view_count": null,
            "_view_module": "@jupyter-widgets/base",
            "_view_module_version": "1.2.0",
            "_view_name": "StyleView",
            "bar_color": null,
            "description_width": ""
          }
        },
        "a05dd9df540e4ea085b6e79288af386c": {
          "model_module": "@jupyter-widgets/base",
          "model_name": "LayoutModel",
          "model_module_version": "1.2.0",
          "state": {
            "_model_module": "@jupyter-widgets/base",
            "_model_module_version": "1.2.0",
            "_model_name": "LayoutModel",
            "_view_count": null,
            "_view_module": "@jupyter-widgets/base",
            "_view_module_version": "1.2.0",
            "_view_name": "LayoutView",
            "align_content": null,
            "align_items": null,
            "align_self": null,
            "border": null,
            "bottom": null,
            "display": null,
            "flex": null,
            "flex_flow": null,
            "grid_area": null,
            "grid_auto_columns": null,
            "grid_auto_flow": null,
            "grid_auto_rows": null,
            "grid_column": null,
            "grid_gap": null,
            "grid_row": null,
            "grid_template_areas": null,
            "grid_template_columns": null,
            "grid_template_rows": null,
            "height": null,
            "justify_content": null,
            "justify_items": null,
            "left": null,
            "margin": null,
            "max_height": null,
            "max_width": null,
            "min_height": null,
            "min_width": null,
            "object_fit": null,
            "object_position": null,
            "order": null,
            "overflow": null,
            "overflow_x": null,
            "overflow_y": null,
            "padding": null,
            "right": null,
            "top": null,
            "visibility": null,
            "width": null
          }
        },
        "38b6aa1857e14e00a5836d8abe5ef89c": {
          "model_module": "@jupyter-widgets/controls",
          "model_name": "DescriptionStyleModel",
          "model_module_version": "1.5.0",
          "state": {
            "_model_module": "@jupyter-widgets/controls",
            "_model_module_version": "1.5.0",
            "_model_name": "DescriptionStyleModel",
            "_view_count": null,
            "_view_module": "@jupyter-widgets/base",
            "_view_module_version": "1.2.0",
            "_view_name": "StyleView",
            "description_width": ""
          }
        },
        "1ca697111dc147b7b9499ba92031d8b8": {
          "model_module": "@jupyter-widgets/controls",
          "model_name": "HBoxModel",
          "model_module_version": "1.5.0",
          "state": {
            "_dom_classes": [],
            "_model_module": "@jupyter-widgets/controls",
            "_model_module_version": "1.5.0",
            "_model_name": "HBoxModel",
            "_view_count": null,
            "_view_module": "@jupyter-widgets/controls",
            "_view_module_version": "1.5.0",
            "_view_name": "HBoxView",
            "box_style": "",
            "children": [
              "IPY_MODEL_e4a80a5212b54ef997f548afb781b6a8",
              "IPY_MODEL_4824da4d75b24e56b0a365bd8bdcb727",
              "IPY_MODEL_be8fb3ddb1c5423294f27575d49351cb"
            ],
            "layout": "IPY_MODEL_508ddd063aa146109646c278ca0d2b1b"
          }
        },
        "e4a80a5212b54ef997f548afb781b6a8": {
          "model_module": "@jupyter-widgets/controls",
          "model_name": "HTMLModel",
          "model_module_version": "1.5.0",
          "state": {
            "_dom_classes": [],
            "_model_module": "@jupyter-widgets/controls",
            "_model_module_version": "1.5.0",
            "_model_name": "HTMLModel",
            "_view_count": null,
            "_view_module": "@jupyter-widgets/controls",
            "_view_module_version": "1.5.0",
            "_view_name": "HTMLView",
            "description": "",
            "description_tooltip": null,
            "layout": "IPY_MODEL_3300be73d57f4e498067b08b67c154e7",
            "placeholder": "​",
            "style": "IPY_MODEL_94f60372fd5b426e8013a99dfabdcff6",
            "value": "Validation DataLoader 0: 100%"
          }
        },
        "4824da4d75b24e56b0a365bd8bdcb727": {
          "model_module": "@jupyter-widgets/controls",
          "model_name": "FloatProgressModel",
          "model_module_version": "1.5.0",
          "state": {
            "_dom_classes": [],
            "_model_module": "@jupyter-widgets/controls",
            "_model_module_version": "1.5.0",
            "_model_name": "FloatProgressModel",
            "_view_count": null,
            "_view_module": "@jupyter-widgets/controls",
            "_view_module_version": "1.5.0",
            "_view_name": "ProgressView",
            "bar_style": "",
            "description": "",
            "description_tooltip": null,
            "layout": "IPY_MODEL_21de10aa145e4c25af4698cbd7b4cda7",
            "max": 64,
            "min": 0,
            "orientation": "horizontal",
            "style": "IPY_MODEL_2a896f4249ff46648dd805d2f607b362",
            "value": 64
          }
        },
        "be8fb3ddb1c5423294f27575d49351cb": {
          "model_module": "@jupyter-widgets/controls",
          "model_name": "HTMLModel",
          "model_module_version": "1.5.0",
          "state": {
            "_dom_classes": [],
            "_model_module": "@jupyter-widgets/controls",
            "_model_module_version": "1.5.0",
            "_model_name": "HTMLModel",
            "_view_count": null,
            "_view_module": "@jupyter-widgets/controls",
            "_view_module_version": "1.5.0",
            "_view_name": "HTMLView",
            "description": "",
            "description_tooltip": null,
            "layout": "IPY_MODEL_3107de71c0784dd3a5f2af6d7bc1165b",
            "placeholder": "​",
            "style": "IPY_MODEL_738faa5d562c43a19505c0406bdd4ed9",
            "value": " 64/64 [00:02&lt;00:00, 26.99it/s]"
          }
        },
        "508ddd063aa146109646c278ca0d2b1b": {
          "model_module": "@jupyter-widgets/base",
          "model_name": "LayoutModel",
          "model_module_version": "1.2.0",
          "state": {
            "_model_module": "@jupyter-widgets/base",
            "_model_module_version": "1.2.0",
            "_model_name": "LayoutModel",
            "_view_count": null,
            "_view_module": "@jupyter-widgets/base",
            "_view_module_version": "1.2.0",
            "_view_name": "LayoutView",
            "align_content": null,
            "align_items": null,
            "align_self": null,
            "border": null,
            "bottom": null,
            "display": "inline-flex",
            "flex": null,
            "flex_flow": "row wrap",
            "grid_area": null,
            "grid_auto_columns": null,
            "grid_auto_flow": null,
            "grid_auto_rows": null,
            "grid_column": null,
            "grid_gap": null,
            "grid_row": null,
            "grid_template_areas": null,
            "grid_template_columns": null,
            "grid_template_rows": null,
            "height": null,
            "justify_content": null,
            "justify_items": null,
            "left": null,
            "margin": null,
            "max_height": null,
            "max_width": null,
            "min_height": null,
            "min_width": null,
            "object_fit": null,
            "object_position": null,
            "order": null,
            "overflow": null,
            "overflow_x": null,
            "overflow_y": null,
            "padding": null,
            "right": null,
            "top": null,
            "visibility": "hidden",
            "width": "100%"
          }
        },
        "3300be73d57f4e498067b08b67c154e7": {
          "model_module": "@jupyter-widgets/base",
          "model_name": "LayoutModel",
          "model_module_version": "1.2.0",
          "state": {
            "_model_module": "@jupyter-widgets/base",
            "_model_module_version": "1.2.0",
            "_model_name": "LayoutModel",
            "_view_count": null,
            "_view_module": "@jupyter-widgets/base",
            "_view_module_version": "1.2.0",
            "_view_name": "LayoutView",
            "align_content": null,
            "align_items": null,
            "align_self": null,
            "border": null,
            "bottom": null,
            "display": null,
            "flex": null,
            "flex_flow": null,
            "grid_area": null,
            "grid_auto_columns": null,
            "grid_auto_flow": null,
            "grid_auto_rows": null,
            "grid_column": null,
            "grid_gap": null,
            "grid_row": null,
            "grid_template_areas": null,
            "grid_template_columns": null,
            "grid_template_rows": null,
            "height": null,
            "justify_content": null,
            "justify_items": null,
            "left": null,
            "margin": null,
            "max_height": null,
            "max_width": null,
            "min_height": null,
            "min_width": null,
            "object_fit": null,
            "object_position": null,
            "order": null,
            "overflow": null,
            "overflow_x": null,
            "overflow_y": null,
            "padding": null,
            "right": null,
            "top": null,
            "visibility": null,
            "width": null
          }
        },
        "94f60372fd5b426e8013a99dfabdcff6": {
          "model_module": "@jupyter-widgets/controls",
          "model_name": "DescriptionStyleModel",
          "model_module_version": "1.5.0",
          "state": {
            "_model_module": "@jupyter-widgets/controls",
            "_model_module_version": "1.5.0",
            "_model_name": "DescriptionStyleModel",
            "_view_count": null,
            "_view_module": "@jupyter-widgets/base",
            "_view_module_version": "1.2.0",
            "_view_name": "StyleView",
            "description_width": ""
          }
        },
        "21de10aa145e4c25af4698cbd7b4cda7": {
          "model_module": "@jupyter-widgets/base",
          "model_name": "LayoutModel",
          "model_module_version": "1.2.0",
          "state": {
            "_model_module": "@jupyter-widgets/base",
            "_model_module_version": "1.2.0",
            "_model_name": "LayoutModel",
            "_view_count": null,
            "_view_module": "@jupyter-widgets/base",
            "_view_module_version": "1.2.0",
            "_view_name": "LayoutView",
            "align_content": null,
            "align_items": null,
            "align_self": null,
            "border": null,
            "bottom": null,
            "display": null,
            "flex": "2",
            "flex_flow": null,
            "grid_area": null,
            "grid_auto_columns": null,
            "grid_auto_flow": null,
            "grid_auto_rows": null,
            "grid_column": null,
            "grid_gap": null,
            "grid_row": null,
            "grid_template_areas": null,
            "grid_template_columns": null,
            "grid_template_rows": null,
            "height": null,
            "justify_content": null,
            "justify_items": null,
            "left": null,
            "margin": null,
            "max_height": null,
            "max_width": null,
            "min_height": null,
            "min_width": null,
            "object_fit": null,
            "object_position": null,
            "order": null,
            "overflow": null,
            "overflow_x": null,
            "overflow_y": null,
            "padding": null,
            "right": null,
            "top": null,
            "visibility": null,
            "width": null
          }
        },
        "2a896f4249ff46648dd805d2f607b362": {
          "model_module": "@jupyter-widgets/controls",
          "model_name": "ProgressStyleModel",
          "model_module_version": "1.5.0",
          "state": {
            "_model_module": "@jupyter-widgets/controls",
            "_model_module_version": "1.5.0",
            "_model_name": "ProgressStyleModel",
            "_view_count": null,
            "_view_module": "@jupyter-widgets/base",
            "_view_module_version": "1.2.0",
            "_view_name": "StyleView",
            "bar_color": null,
            "description_width": ""
          }
        },
        "3107de71c0784dd3a5f2af6d7bc1165b": {
          "model_module": "@jupyter-widgets/base",
          "model_name": "LayoutModel",
          "model_module_version": "1.2.0",
          "state": {
            "_model_module": "@jupyter-widgets/base",
            "_model_module_version": "1.2.0",
            "_model_name": "LayoutModel",
            "_view_count": null,
            "_view_module": "@jupyter-widgets/base",
            "_view_module_version": "1.2.0",
            "_view_name": "LayoutView",
            "align_content": null,
            "align_items": null,
            "align_self": null,
            "border": null,
            "bottom": null,
            "display": null,
            "flex": null,
            "flex_flow": null,
            "grid_area": null,
            "grid_auto_columns": null,
            "grid_auto_flow": null,
            "grid_auto_rows": null,
            "grid_column": null,
            "grid_gap": null,
            "grid_row": null,
            "grid_template_areas": null,
            "grid_template_columns": null,
            "grid_template_rows": null,
            "height": null,
            "justify_content": null,
            "justify_items": null,
            "left": null,
            "margin": null,
            "max_height": null,
            "max_width": null,
            "min_height": null,
            "min_width": null,
            "object_fit": null,
            "object_position": null,
            "order": null,
            "overflow": null,
            "overflow_x": null,
            "overflow_y": null,
            "padding": null,
            "right": null,
            "top": null,
            "visibility": null,
            "width": null
          }
        },
        "738faa5d562c43a19505c0406bdd4ed9": {
          "model_module": "@jupyter-widgets/controls",
          "model_name": "DescriptionStyleModel",
          "model_module_version": "1.5.0",
          "state": {
            "_model_module": "@jupyter-widgets/controls",
            "_model_module_version": "1.5.0",
            "_model_name": "DescriptionStyleModel",
            "_view_count": null,
            "_view_module": "@jupyter-widgets/base",
            "_view_module_version": "1.2.0",
            "_view_name": "StyleView",
            "description_width": ""
          }
        },
        "9a326e47a60d4dafa81410992f64d2c0": {
          "model_module": "@jupyter-widgets/controls",
          "model_name": "HBoxModel",
          "model_module_version": "1.5.0",
          "state": {
            "_dom_classes": [],
            "_model_module": "@jupyter-widgets/controls",
            "_model_module_version": "1.5.0",
            "_model_name": "HBoxModel",
            "_view_count": null,
            "_view_module": "@jupyter-widgets/controls",
            "_view_module_version": "1.5.0",
            "_view_name": "HBoxView",
            "box_style": "",
            "children": [
              "IPY_MODEL_93427521ce26471fb4263a0cbccbdf6b",
              "IPY_MODEL_6318c1943fcc456d9333648cbefb5d2f",
              "IPY_MODEL_7a5b5e43e48f4a05814bffc983d1abe3"
            ],
            "layout": "IPY_MODEL_72bb1616de134c7faf064d49017c5082"
          }
        },
        "93427521ce26471fb4263a0cbccbdf6b": {
          "model_module": "@jupyter-widgets/controls",
          "model_name": "HTMLModel",
          "model_module_version": "1.5.0",
          "state": {
            "_dom_classes": [],
            "_model_module": "@jupyter-widgets/controls",
            "_model_module_version": "1.5.0",
            "_model_name": "HTMLModel",
            "_view_count": null,
            "_view_module": "@jupyter-widgets/controls",
            "_view_module_version": "1.5.0",
            "_view_name": "HTMLView",
            "description": "",
            "description_tooltip": null,
            "layout": "IPY_MODEL_31998fb9733c44d5aa3fc95251fcc404",
            "placeholder": "​",
            "style": "IPY_MODEL_d6a7d60e77fb48bbbe58f547eba9e838",
            "value": "Validation DataLoader 0: 100%"
          }
        },
        "6318c1943fcc456d9333648cbefb5d2f": {
          "model_module": "@jupyter-widgets/controls",
          "model_name": "FloatProgressModel",
          "model_module_version": "1.5.0",
          "state": {
            "_dom_classes": [],
            "_model_module": "@jupyter-widgets/controls",
            "_model_module_version": "1.5.0",
            "_model_name": "FloatProgressModel",
            "_view_count": null,
            "_view_module": "@jupyter-widgets/controls",
            "_view_module_version": "1.5.0",
            "_view_name": "ProgressView",
            "bar_style": "",
            "description": "",
            "description_tooltip": null,
            "layout": "IPY_MODEL_50bb855989744439891f1b6578fc9521",
            "max": 64,
            "min": 0,
            "orientation": "horizontal",
            "style": "IPY_MODEL_4d8af870552c45dc9b73d00373abed45",
            "value": 64
          }
        },
        "7a5b5e43e48f4a05814bffc983d1abe3": {
          "model_module": "@jupyter-widgets/controls",
          "model_name": "HTMLModel",
          "model_module_version": "1.5.0",
          "state": {
            "_dom_classes": [],
            "_model_module": "@jupyter-widgets/controls",
            "_model_module_version": "1.5.0",
            "_model_name": "HTMLModel",
            "_view_count": null,
            "_view_module": "@jupyter-widgets/controls",
            "_view_module_version": "1.5.0",
            "_view_name": "HTMLView",
            "description": "",
            "description_tooltip": null,
            "layout": "IPY_MODEL_888ef01e69f940f889522ea2f0c6e5a1",
            "placeholder": "​",
            "style": "IPY_MODEL_b84c50e53a184d4785a39f31bb3e4dc3",
            "value": " 64/64 [00:01&lt;00:00, 35.81it/s]"
          }
        },
        "72bb1616de134c7faf064d49017c5082": {
          "model_module": "@jupyter-widgets/base",
          "model_name": "LayoutModel",
          "model_module_version": "1.2.0",
          "state": {
            "_model_module": "@jupyter-widgets/base",
            "_model_module_version": "1.2.0",
            "_model_name": "LayoutModel",
            "_view_count": null,
            "_view_module": "@jupyter-widgets/base",
            "_view_module_version": "1.2.0",
            "_view_name": "LayoutView",
            "align_content": null,
            "align_items": null,
            "align_self": null,
            "border": null,
            "bottom": null,
            "display": "inline-flex",
            "flex": null,
            "flex_flow": "row wrap",
            "grid_area": null,
            "grid_auto_columns": null,
            "grid_auto_flow": null,
            "grid_auto_rows": null,
            "grid_column": null,
            "grid_gap": null,
            "grid_row": null,
            "grid_template_areas": null,
            "grid_template_columns": null,
            "grid_template_rows": null,
            "height": null,
            "justify_content": null,
            "justify_items": null,
            "left": null,
            "margin": null,
            "max_height": null,
            "max_width": null,
            "min_height": null,
            "min_width": null,
            "object_fit": null,
            "object_position": null,
            "order": null,
            "overflow": null,
            "overflow_x": null,
            "overflow_y": null,
            "padding": null,
            "right": null,
            "top": null,
            "visibility": "hidden",
            "width": "100%"
          }
        },
        "31998fb9733c44d5aa3fc95251fcc404": {
          "model_module": "@jupyter-widgets/base",
          "model_name": "LayoutModel",
          "model_module_version": "1.2.0",
          "state": {
            "_model_module": "@jupyter-widgets/base",
            "_model_module_version": "1.2.0",
            "_model_name": "LayoutModel",
            "_view_count": null,
            "_view_module": "@jupyter-widgets/base",
            "_view_module_version": "1.2.0",
            "_view_name": "LayoutView",
            "align_content": null,
            "align_items": null,
            "align_self": null,
            "border": null,
            "bottom": null,
            "display": null,
            "flex": null,
            "flex_flow": null,
            "grid_area": null,
            "grid_auto_columns": null,
            "grid_auto_flow": null,
            "grid_auto_rows": null,
            "grid_column": null,
            "grid_gap": null,
            "grid_row": null,
            "grid_template_areas": null,
            "grid_template_columns": null,
            "grid_template_rows": null,
            "height": null,
            "justify_content": null,
            "justify_items": null,
            "left": null,
            "margin": null,
            "max_height": null,
            "max_width": null,
            "min_height": null,
            "min_width": null,
            "object_fit": null,
            "object_position": null,
            "order": null,
            "overflow": null,
            "overflow_x": null,
            "overflow_y": null,
            "padding": null,
            "right": null,
            "top": null,
            "visibility": null,
            "width": null
          }
        },
        "d6a7d60e77fb48bbbe58f547eba9e838": {
          "model_module": "@jupyter-widgets/controls",
          "model_name": "DescriptionStyleModel",
          "model_module_version": "1.5.0",
          "state": {
            "_model_module": "@jupyter-widgets/controls",
            "_model_module_version": "1.5.0",
            "_model_name": "DescriptionStyleModel",
            "_view_count": null,
            "_view_module": "@jupyter-widgets/base",
            "_view_module_version": "1.2.0",
            "_view_name": "StyleView",
            "description_width": ""
          }
        },
        "50bb855989744439891f1b6578fc9521": {
          "model_module": "@jupyter-widgets/base",
          "model_name": "LayoutModel",
          "model_module_version": "1.2.0",
          "state": {
            "_model_module": "@jupyter-widgets/base",
            "_model_module_version": "1.2.0",
            "_model_name": "LayoutModel",
            "_view_count": null,
            "_view_module": "@jupyter-widgets/base",
            "_view_module_version": "1.2.0",
            "_view_name": "LayoutView",
            "align_content": null,
            "align_items": null,
            "align_self": null,
            "border": null,
            "bottom": null,
            "display": null,
            "flex": "2",
            "flex_flow": null,
            "grid_area": null,
            "grid_auto_columns": null,
            "grid_auto_flow": null,
            "grid_auto_rows": null,
            "grid_column": null,
            "grid_gap": null,
            "grid_row": null,
            "grid_template_areas": null,
            "grid_template_columns": null,
            "grid_template_rows": null,
            "height": null,
            "justify_content": null,
            "justify_items": null,
            "left": null,
            "margin": null,
            "max_height": null,
            "max_width": null,
            "min_height": null,
            "min_width": null,
            "object_fit": null,
            "object_position": null,
            "order": null,
            "overflow": null,
            "overflow_x": null,
            "overflow_y": null,
            "padding": null,
            "right": null,
            "top": null,
            "visibility": null,
            "width": null
          }
        },
        "4d8af870552c45dc9b73d00373abed45": {
          "model_module": "@jupyter-widgets/controls",
          "model_name": "ProgressStyleModel",
          "model_module_version": "1.5.0",
          "state": {
            "_model_module": "@jupyter-widgets/controls",
            "_model_module_version": "1.5.0",
            "_model_name": "ProgressStyleModel",
            "_view_count": null,
            "_view_module": "@jupyter-widgets/base",
            "_view_module_version": "1.2.0",
            "_view_name": "StyleView",
            "bar_color": null,
            "description_width": ""
          }
        },
        "888ef01e69f940f889522ea2f0c6e5a1": {
          "model_module": "@jupyter-widgets/base",
          "model_name": "LayoutModel",
          "model_module_version": "1.2.0",
          "state": {
            "_model_module": "@jupyter-widgets/base",
            "_model_module_version": "1.2.0",
            "_model_name": "LayoutModel",
            "_view_count": null,
            "_view_module": "@jupyter-widgets/base",
            "_view_module_version": "1.2.0",
            "_view_name": "LayoutView",
            "align_content": null,
            "align_items": null,
            "align_self": null,
            "border": null,
            "bottom": null,
            "display": null,
            "flex": null,
            "flex_flow": null,
            "grid_area": null,
            "grid_auto_columns": null,
            "grid_auto_flow": null,
            "grid_auto_rows": null,
            "grid_column": null,
            "grid_gap": null,
            "grid_row": null,
            "grid_template_areas": null,
            "grid_template_columns": null,
            "grid_template_rows": null,
            "height": null,
            "justify_content": null,
            "justify_items": null,
            "left": null,
            "margin": null,
            "max_height": null,
            "max_width": null,
            "min_height": null,
            "min_width": null,
            "object_fit": null,
            "object_position": null,
            "order": null,
            "overflow": null,
            "overflow_x": null,
            "overflow_y": null,
            "padding": null,
            "right": null,
            "top": null,
            "visibility": null,
            "width": null
          }
        },
        "b84c50e53a184d4785a39f31bb3e4dc3": {
          "model_module": "@jupyter-widgets/controls",
          "model_name": "DescriptionStyleModel",
          "model_module_version": "1.5.0",
          "state": {
            "_model_module": "@jupyter-widgets/controls",
            "_model_module_version": "1.5.0",
            "_model_name": "DescriptionStyleModel",
            "_view_count": null,
            "_view_module": "@jupyter-widgets/base",
            "_view_module_version": "1.2.0",
            "_view_name": "StyleView",
            "description_width": ""
          }
        },
        "bbbc49217d414586a2f0de86ef4ef98f": {
          "model_module": "@jupyter-widgets/controls",
          "model_name": "HBoxModel",
          "model_module_version": "1.5.0",
          "state": {
            "_dom_classes": [],
            "_model_module": "@jupyter-widgets/controls",
            "_model_module_version": "1.5.0",
            "_model_name": "HBoxModel",
            "_view_count": null,
            "_view_module": "@jupyter-widgets/controls",
            "_view_module_version": "1.5.0",
            "_view_name": "HBoxView",
            "box_style": "",
            "children": [
              "IPY_MODEL_627432f6e0c34f1aaa93f5cf52a16e96",
              "IPY_MODEL_6823a4db7ccd4cd881b257cef538bf61",
              "IPY_MODEL_5cc85ab7e59548348436ea5cd5e68caf"
            ],
            "layout": "IPY_MODEL_ff07b1f7361b46d9a5ec44885c90e1be"
          }
        },
        "627432f6e0c34f1aaa93f5cf52a16e96": {
          "model_module": "@jupyter-widgets/controls",
          "model_name": "HTMLModel",
          "model_module_version": "1.5.0",
          "state": {
            "_dom_classes": [],
            "_model_module": "@jupyter-widgets/controls",
            "_model_module_version": "1.5.0",
            "_model_name": "HTMLModel",
            "_view_count": null,
            "_view_module": "@jupyter-widgets/controls",
            "_view_module_version": "1.5.0",
            "_view_name": "HTMLView",
            "description": "",
            "description_tooltip": null,
            "layout": "IPY_MODEL_4f2d4bd9cdc1466f9968d451a3b10e41",
            "placeholder": "​",
            "style": "IPY_MODEL_97573b4219f14557afccfecd93078238",
            "value": "Validation DataLoader 0: 100%"
          }
        },
        "6823a4db7ccd4cd881b257cef538bf61": {
          "model_module": "@jupyter-widgets/controls",
          "model_name": "FloatProgressModel",
          "model_module_version": "1.5.0",
          "state": {
            "_dom_classes": [],
            "_model_module": "@jupyter-widgets/controls",
            "_model_module_version": "1.5.0",
            "_model_name": "FloatProgressModel",
            "_view_count": null,
            "_view_module": "@jupyter-widgets/controls",
            "_view_module_version": "1.5.0",
            "_view_name": "ProgressView",
            "bar_style": "",
            "description": "",
            "description_tooltip": null,
            "layout": "IPY_MODEL_eed95f3039cb46d7ab6a3c0e8a9cf4e1",
            "max": 64,
            "min": 0,
            "orientation": "horizontal",
            "style": "IPY_MODEL_73754ca363d147bfa3872fd1842f1a2b",
            "value": 64
          }
        },
        "5cc85ab7e59548348436ea5cd5e68caf": {
          "model_module": "@jupyter-widgets/controls",
          "model_name": "HTMLModel",
          "model_module_version": "1.5.0",
          "state": {
            "_dom_classes": [],
            "_model_module": "@jupyter-widgets/controls",
            "_model_module_version": "1.5.0",
            "_model_name": "HTMLModel",
            "_view_count": null,
            "_view_module": "@jupyter-widgets/controls",
            "_view_module_version": "1.5.0",
            "_view_name": "HTMLView",
            "description": "",
            "description_tooltip": null,
            "layout": "IPY_MODEL_38c7c2030ddb43939a3b061a8cec53ae",
            "placeholder": "​",
            "style": "IPY_MODEL_50b173717d4e49329e5e78dc40cbba38",
            "value": " 64/64 [00:01&lt;00:00, 36.87it/s]"
          }
        },
        "ff07b1f7361b46d9a5ec44885c90e1be": {
          "model_module": "@jupyter-widgets/base",
          "model_name": "LayoutModel",
          "model_module_version": "1.2.0",
          "state": {
            "_model_module": "@jupyter-widgets/base",
            "_model_module_version": "1.2.0",
            "_model_name": "LayoutModel",
            "_view_count": null,
            "_view_module": "@jupyter-widgets/base",
            "_view_module_version": "1.2.0",
            "_view_name": "LayoutView",
            "align_content": null,
            "align_items": null,
            "align_self": null,
            "border": null,
            "bottom": null,
            "display": "inline-flex",
            "flex": null,
            "flex_flow": "row wrap",
            "grid_area": null,
            "grid_auto_columns": null,
            "grid_auto_flow": null,
            "grid_auto_rows": null,
            "grid_column": null,
            "grid_gap": null,
            "grid_row": null,
            "grid_template_areas": null,
            "grid_template_columns": null,
            "grid_template_rows": null,
            "height": null,
            "justify_content": null,
            "justify_items": null,
            "left": null,
            "margin": null,
            "max_height": null,
            "max_width": null,
            "min_height": null,
            "min_width": null,
            "object_fit": null,
            "object_position": null,
            "order": null,
            "overflow": null,
            "overflow_x": null,
            "overflow_y": null,
            "padding": null,
            "right": null,
            "top": null,
            "visibility": "hidden",
            "width": "100%"
          }
        },
        "4f2d4bd9cdc1466f9968d451a3b10e41": {
          "model_module": "@jupyter-widgets/base",
          "model_name": "LayoutModel",
          "model_module_version": "1.2.0",
          "state": {
            "_model_module": "@jupyter-widgets/base",
            "_model_module_version": "1.2.0",
            "_model_name": "LayoutModel",
            "_view_count": null,
            "_view_module": "@jupyter-widgets/base",
            "_view_module_version": "1.2.0",
            "_view_name": "LayoutView",
            "align_content": null,
            "align_items": null,
            "align_self": null,
            "border": null,
            "bottom": null,
            "display": null,
            "flex": null,
            "flex_flow": null,
            "grid_area": null,
            "grid_auto_columns": null,
            "grid_auto_flow": null,
            "grid_auto_rows": null,
            "grid_column": null,
            "grid_gap": null,
            "grid_row": null,
            "grid_template_areas": null,
            "grid_template_columns": null,
            "grid_template_rows": null,
            "height": null,
            "justify_content": null,
            "justify_items": null,
            "left": null,
            "margin": null,
            "max_height": null,
            "max_width": null,
            "min_height": null,
            "min_width": null,
            "object_fit": null,
            "object_position": null,
            "order": null,
            "overflow": null,
            "overflow_x": null,
            "overflow_y": null,
            "padding": null,
            "right": null,
            "top": null,
            "visibility": null,
            "width": null
          }
        },
        "97573b4219f14557afccfecd93078238": {
          "model_module": "@jupyter-widgets/controls",
          "model_name": "DescriptionStyleModel",
          "model_module_version": "1.5.0",
          "state": {
            "_model_module": "@jupyter-widgets/controls",
            "_model_module_version": "1.5.0",
            "_model_name": "DescriptionStyleModel",
            "_view_count": null,
            "_view_module": "@jupyter-widgets/base",
            "_view_module_version": "1.2.0",
            "_view_name": "StyleView",
            "description_width": ""
          }
        },
        "eed95f3039cb46d7ab6a3c0e8a9cf4e1": {
          "model_module": "@jupyter-widgets/base",
          "model_name": "LayoutModel",
          "model_module_version": "1.2.0",
          "state": {
            "_model_module": "@jupyter-widgets/base",
            "_model_module_version": "1.2.0",
            "_model_name": "LayoutModel",
            "_view_count": null,
            "_view_module": "@jupyter-widgets/base",
            "_view_module_version": "1.2.0",
            "_view_name": "LayoutView",
            "align_content": null,
            "align_items": null,
            "align_self": null,
            "border": null,
            "bottom": null,
            "display": null,
            "flex": "2",
            "flex_flow": null,
            "grid_area": null,
            "grid_auto_columns": null,
            "grid_auto_flow": null,
            "grid_auto_rows": null,
            "grid_column": null,
            "grid_gap": null,
            "grid_row": null,
            "grid_template_areas": null,
            "grid_template_columns": null,
            "grid_template_rows": null,
            "height": null,
            "justify_content": null,
            "justify_items": null,
            "left": null,
            "margin": null,
            "max_height": null,
            "max_width": null,
            "min_height": null,
            "min_width": null,
            "object_fit": null,
            "object_position": null,
            "order": null,
            "overflow": null,
            "overflow_x": null,
            "overflow_y": null,
            "padding": null,
            "right": null,
            "top": null,
            "visibility": null,
            "width": null
          }
        },
        "73754ca363d147bfa3872fd1842f1a2b": {
          "model_module": "@jupyter-widgets/controls",
          "model_name": "ProgressStyleModel",
          "model_module_version": "1.5.0",
          "state": {
            "_model_module": "@jupyter-widgets/controls",
            "_model_module_version": "1.5.0",
            "_model_name": "ProgressStyleModel",
            "_view_count": null,
            "_view_module": "@jupyter-widgets/base",
            "_view_module_version": "1.2.0",
            "_view_name": "StyleView",
            "bar_color": null,
            "description_width": ""
          }
        },
        "38c7c2030ddb43939a3b061a8cec53ae": {
          "model_module": "@jupyter-widgets/base",
          "model_name": "LayoutModel",
          "model_module_version": "1.2.0",
          "state": {
            "_model_module": "@jupyter-widgets/base",
            "_model_module_version": "1.2.0",
            "_model_name": "LayoutModel",
            "_view_count": null,
            "_view_module": "@jupyter-widgets/base",
            "_view_module_version": "1.2.0",
            "_view_name": "LayoutView",
            "align_content": null,
            "align_items": null,
            "align_self": null,
            "border": null,
            "bottom": null,
            "display": null,
            "flex": null,
            "flex_flow": null,
            "grid_area": null,
            "grid_auto_columns": null,
            "grid_auto_flow": null,
            "grid_auto_rows": null,
            "grid_column": null,
            "grid_gap": null,
            "grid_row": null,
            "grid_template_areas": null,
            "grid_template_columns": null,
            "grid_template_rows": null,
            "height": null,
            "justify_content": null,
            "justify_items": null,
            "left": null,
            "margin": null,
            "max_height": null,
            "max_width": null,
            "min_height": null,
            "min_width": null,
            "object_fit": null,
            "object_position": null,
            "order": null,
            "overflow": null,
            "overflow_x": null,
            "overflow_y": null,
            "padding": null,
            "right": null,
            "top": null,
            "visibility": null,
            "width": null
          }
        },
        "50b173717d4e49329e5e78dc40cbba38": {
          "model_module": "@jupyter-widgets/controls",
          "model_name": "DescriptionStyleModel",
          "model_module_version": "1.5.0",
          "state": {
            "_model_module": "@jupyter-widgets/controls",
            "_model_module_version": "1.5.0",
            "_model_name": "DescriptionStyleModel",
            "_view_count": null,
            "_view_module": "@jupyter-widgets/base",
            "_view_module_version": "1.2.0",
            "_view_name": "StyleView",
            "description_width": ""
          }
        },
        "b7601e83b62f4401bb1df6980b666cd4": {
          "model_module": "@jupyter-widgets/controls",
          "model_name": "HBoxModel",
          "model_module_version": "1.5.0",
          "state": {
            "_dom_classes": [],
            "_model_module": "@jupyter-widgets/controls",
            "_model_module_version": "1.5.0",
            "_model_name": "HBoxModel",
            "_view_count": null,
            "_view_module": "@jupyter-widgets/controls",
            "_view_module_version": "1.5.0",
            "_view_name": "HBoxView",
            "box_style": "",
            "children": [
              "IPY_MODEL_027ec8d68d994eadab3b4b1438a76b39",
              "IPY_MODEL_423b9982207d4c4da92c53078f805007",
              "IPY_MODEL_91755e83d8334ab5aa87780fbccfad4a"
            ],
            "layout": "IPY_MODEL_a245b629e5be4f568c4048b2fd7f6d70"
          }
        },
        "027ec8d68d994eadab3b4b1438a76b39": {
          "model_module": "@jupyter-widgets/controls",
          "model_name": "HTMLModel",
          "model_module_version": "1.5.0",
          "state": {
            "_dom_classes": [],
            "_model_module": "@jupyter-widgets/controls",
            "_model_module_version": "1.5.0",
            "_model_name": "HTMLModel",
            "_view_count": null,
            "_view_module": "@jupyter-widgets/controls",
            "_view_module_version": "1.5.0",
            "_view_name": "HTMLView",
            "description": "",
            "description_tooltip": null,
            "layout": "IPY_MODEL_90912a318d134d29af2bd6700d334469",
            "placeholder": "​",
            "style": "IPY_MODEL_f39baead9d5a48a69610c1072425275e",
            "value": "Testing DataLoader 0: 100%"
          }
        },
        "423b9982207d4c4da92c53078f805007": {
          "model_module": "@jupyter-widgets/controls",
          "model_name": "FloatProgressModel",
          "model_module_version": "1.5.0",
          "state": {
            "_dom_classes": [],
            "_model_module": "@jupyter-widgets/controls",
            "_model_module_version": "1.5.0",
            "_model_name": "FloatProgressModel",
            "_view_count": null,
            "_view_module": "@jupyter-widgets/controls",
            "_view_module_version": "1.5.0",
            "_view_name": "ProgressView",
            "bar_style": "success",
            "description": "",
            "description_tooltip": null,
            "layout": "IPY_MODEL_20626e551ec14089ad0d6454044680f8",
            "max": 64,
            "min": 0,
            "orientation": "horizontal",
            "style": "IPY_MODEL_ad6cb8b8f32947b09519ec8096909078",
            "value": 64
          }
        },
        "91755e83d8334ab5aa87780fbccfad4a": {
          "model_module": "@jupyter-widgets/controls",
          "model_name": "HTMLModel",
          "model_module_version": "1.5.0",
          "state": {
            "_dom_classes": [],
            "_model_module": "@jupyter-widgets/controls",
            "_model_module_version": "1.5.0",
            "_model_name": "HTMLModel",
            "_view_count": null,
            "_view_module": "@jupyter-widgets/controls",
            "_view_module_version": "1.5.0",
            "_view_name": "HTMLView",
            "description": "",
            "description_tooltip": null,
            "layout": "IPY_MODEL_5cb6f0ede1484d3eb23dd6a1d5ca7c1b",
            "placeholder": "​",
            "style": "IPY_MODEL_69633cba398f44f58e7d6c8b6484a36a",
            "value": " 64/64 [00:02&lt;00:00, 30.49it/s]"
          }
        },
        "a245b629e5be4f568c4048b2fd7f6d70": {
          "model_module": "@jupyter-widgets/base",
          "model_name": "LayoutModel",
          "model_module_version": "1.2.0",
          "state": {
            "_model_module": "@jupyter-widgets/base",
            "_model_module_version": "1.2.0",
            "_model_name": "LayoutModel",
            "_view_count": null,
            "_view_module": "@jupyter-widgets/base",
            "_view_module_version": "1.2.0",
            "_view_name": "LayoutView",
            "align_content": null,
            "align_items": null,
            "align_self": null,
            "border": null,
            "bottom": null,
            "display": "inline-flex",
            "flex": null,
            "flex_flow": "row wrap",
            "grid_area": null,
            "grid_auto_columns": null,
            "grid_auto_flow": null,
            "grid_auto_rows": null,
            "grid_column": null,
            "grid_gap": null,
            "grid_row": null,
            "grid_template_areas": null,
            "grid_template_columns": null,
            "grid_template_rows": null,
            "height": null,
            "justify_content": null,
            "justify_items": null,
            "left": null,
            "margin": null,
            "max_height": null,
            "max_width": null,
            "min_height": null,
            "min_width": null,
            "object_fit": null,
            "object_position": null,
            "order": null,
            "overflow": null,
            "overflow_x": null,
            "overflow_y": null,
            "padding": null,
            "right": null,
            "top": null,
            "visibility": null,
            "width": "100%"
          }
        },
        "90912a318d134d29af2bd6700d334469": {
          "model_module": "@jupyter-widgets/base",
          "model_name": "LayoutModel",
          "model_module_version": "1.2.0",
          "state": {
            "_model_module": "@jupyter-widgets/base",
            "_model_module_version": "1.2.0",
            "_model_name": "LayoutModel",
            "_view_count": null,
            "_view_module": "@jupyter-widgets/base",
            "_view_module_version": "1.2.0",
            "_view_name": "LayoutView",
            "align_content": null,
            "align_items": null,
            "align_self": null,
            "border": null,
            "bottom": null,
            "display": null,
            "flex": null,
            "flex_flow": null,
            "grid_area": null,
            "grid_auto_columns": null,
            "grid_auto_flow": null,
            "grid_auto_rows": null,
            "grid_column": null,
            "grid_gap": null,
            "grid_row": null,
            "grid_template_areas": null,
            "grid_template_columns": null,
            "grid_template_rows": null,
            "height": null,
            "justify_content": null,
            "justify_items": null,
            "left": null,
            "margin": null,
            "max_height": null,
            "max_width": null,
            "min_height": null,
            "min_width": null,
            "object_fit": null,
            "object_position": null,
            "order": null,
            "overflow": null,
            "overflow_x": null,
            "overflow_y": null,
            "padding": null,
            "right": null,
            "top": null,
            "visibility": null,
            "width": null
          }
        },
        "f39baead9d5a48a69610c1072425275e": {
          "model_module": "@jupyter-widgets/controls",
          "model_name": "DescriptionStyleModel",
          "model_module_version": "1.5.0",
          "state": {
            "_model_module": "@jupyter-widgets/controls",
            "_model_module_version": "1.5.0",
            "_model_name": "DescriptionStyleModel",
            "_view_count": null,
            "_view_module": "@jupyter-widgets/base",
            "_view_module_version": "1.2.0",
            "_view_name": "StyleView",
            "description_width": ""
          }
        },
        "20626e551ec14089ad0d6454044680f8": {
          "model_module": "@jupyter-widgets/base",
          "model_name": "LayoutModel",
          "model_module_version": "1.2.0",
          "state": {
            "_model_module": "@jupyter-widgets/base",
            "_model_module_version": "1.2.0",
            "_model_name": "LayoutModel",
            "_view_count": null,
            "_view_module": "@jupyter-widgets/base",
            "_view_module_version": "1.2.0",
            "_view_name": "LayoutView",
            "align_content": null,
            "align_items": null,
            "align_self": null,
            "border": null,
            "bottom": null,
            "display": null,
            "flex": "2",
            "flex_flow": null,
            "grid_area": null,
            "grid_auto_columns": null,
            "grid_auto_flow": null,
            "grid_auto_rows": null,
            "grid_column": null,
            "grid_gap": null,
            "grid_row": null,
            "grid_template_areas": null,
            "grid_template_columns": null,
            "grid_template_rows": null,
            "height": null,
            "justify_content": null,
            "justify_items": null,
            "left": null,
            "margin": null,
            "max_height": null,
            "max_width": null,
            "min_height": null,
            "min_width": null,
            "object_fit": null,
            "object_position": null,
            "order": null,
            "overflow": null,
            "overflow_x": null,
            "overflow_y": null,
            "padding": null,
            "right": null,
            "top": null,
            "visibility": null,
            "width": null
          }
        },
        "ad6cb8b8f32947b09519ec8096909078": {
          "model_module": "@jupyter-widgets/controls",
          "model_name": "ProgressStyleModel",
          "model_module_version": "1.5.0",
          "state": {
            "_model_module": "@jupyter-widgets/controls",
            "_model_module_version": "1.5.0",
            "_model_name": "ProgressStyleModel",
            "_view_count": null,
            "_view_module": "@jupyter-widgets/base",
            "_view_module_version": "1.2.0",
            "_view_name": "StyleView",
            "bar_color": null,
            "description_width": ""
          }
        },
        "5cb6f0ede1484d3eb23dd6a1d5ca7c1b": {
          "model_module": "@jupyter-widgets/base",
          "model_name": "LayoutModel",
          "model_module_version": "1.2.0",
          "state": {
            "_model_module": "@jupyter-widgets/base",
            "_model_module_version": "1.2.0",
            "_model_name": "LayoutModel",
            "_view_count": null,
            "_view_module": "@jupyter-widgets/base",
            "_view_module_version": "1.2.0",
            "_view_name": "LayoutView",
            "align_content": null,
            "align_items": null,
            "align_self": null,
            "border": null,
            "bottom": null,
            "display": null,
            "flex": null,
            "flex_flow": null,
            "grid_area": null,
            "grid_auto_columns": null,
            "grid_auto_flow": null,
            "grid_auto_rows": null,
            "grid_column": null,
            "grid_gap": null,
            "grid_row": null,
            "grid_template_areas": null,
            "grid_template_columns": null,
            "grid_template_rows": null,
            "height": null,
            "justify_content": null,
            "justify_items": null,
            "left": null,
            "margin": null,
            "max_height": null,
            "max_width": null,
            "min_height": null,
            "min_width": null,
            "object_fit": null,
            "object_position": null,
            "order": null,
            "overflow": null,
            "overflow_x": null,
            "overflow_y": null,
            "padding": null,
            "right": null,
            "top": null,
            "visibility": null,
            "width": null
          }
        },
        "69633cba398f44f58e7d6c8b6484a36a": {
          "model_module": "@jupyter-widgets/controls",
          "model_name": "DescriptionStyleModel",
          "model_module_version": "1.5.0",
          "state": {
            "_model_module": "@jupyter-widgets/controls",
            "_model_module_version": "1.5.0",
            "_model_name": "DescriptionStyleModel",
            "_view_count": null,
            "_view_module": "@jupyter-widgets/base",
            "_view_module_version": "1.2.0",
            "_view_name": "StyleView",
            "description_width": ""
          }
        }
      }
    }
  },
  "nbformat": 4,
  "nbformat_minor": 0
}