{
  "cells": [
    {
      "cell_type": "markdown",
      "metadata": {
        "id": "_jsDALniQnzj"
      },
      "source": [
        "# Installing Modules"
      ]
    },
    {
      "cell_type": "code",
      "execution_count": 1,
      "metadata": {
        "id": "W0yIjToZfKkz",
        "colab": {
          "base_uri": "https://localhost:8080/"
        },
        "outputId": "308a289d-3242-4f6a-e98e-820372785a96"
      },
      "outputs": [
        {
          "output_type": "stream",
          "name": "stdout",
          "text": [
            "\u001b[2K     \u001b[90m━━━━━━━━━━━━━━━━━━━━━━━━━━━━━━━━━━━━━━━━\u001b[0m \u001b[32m2.0/2.0 MB\u001b[0m \u001b[31m23.3 MB/s\u001b[0m eta \u001b[36m0:00:00\u001b[0m\n",
            "\u001b[2K     \u001b[90m━━━━━━━━━━━━━━━━━━━━━━━━━━━━━━━━━━━━━━\u001b[0m \u001b[32m184.3/184.3 kB\u001b[0m \u001b[31m25.9 MB/s\u001b[0m eta \u001b[36m0:00:00\u001b[0m\n",
            "\u001b[2K     \u001b[90m━━━━━━━━━━━━━━━━━━━━━━━━━━━━━━━━━━━━━━\u001b[0m \u001b[32m205.1/205.1 kB\u001b[0m \u001b[31m26.3 MB/s\u001b[0m eta \u001b[36m0:00:00\u001b[0m\n",
            "\u001b[?25h  Preparing metadata (setup.py) ... \u001b[?25l\u001b[?25hdone\n",
            "\u001b[2K     \u001b[90m━━━━━━━━━━━━━━━━━━━━━━━━━━━━━━━━━━━━━━━━\u001b[0m \u001b[32m62.7/62.7 kB\u001b[0m \u001b[31m8.6 MB/s\u001b[0m eta \u001b[36m0:00:00\u001b[0m\n",
            "\u001b[?25h  Building wheel for pathtools (setup.py) ... \u001b[?25l\u001b[?25hdone\n",
            "Looking in indexes: https://pypi.org/simple, https://us-python.pkg.dev/colab-wheels/public/simple/\n",
            "Collecting pytorch_lightning\n",
            "  Downloading pytorch_lightning-2.0.2-py3-none-any.whl (719 kB)\n",
            "\u001b[2K     \u001b[90m━━━━━━━━━━━━━━━━━━━━━━━━━━━━━━━━━━━━━━\u001b[0m \u001b[32m719.0/719.0 kB\u001b[0m \u001b[31m30.9 MB/s\u001b[0m eta \u001b[36m0:00:00\u001b[0m\n",
            "\u001b[?25hRequirement already satisfied: numpy>=1.17.2 in /usr/local/lib/python3.10/dist-packages (from pytorch_lightning) (1.22.4)\n",
            "Requirement already satisfied: torch>=1.11.0 in /usr/local/lib/python3.10/dist-packages (from pytorch_lightning) (2.0.1+cu118)\n",
            "Requirement already satisfied: tqdm>=4.57.0 in /usr/local/lib/python3.10/dist-packages (from pytorch_lightning) (4.65.0)\n",
            "Requirement already satisfied: PyYAML>=5.4 in /usr/local/lib/python3.10/dist-packages (from pytorch_lightning) (6.0)\n",
            "Requirement already satisfied: fsspec[http]>2021.06.0 in /usr/local/lib/python3.10/dist-packages (from pytorch_lightning) (2023.4.0)\n",
            "Collecting torchmetrics>=0.7.0 (from pytorch_lightning)\n",
            "  Downloading torchmetrics-0.11.4-py3-none-any.whl (519 kB)\n",
            "\u001b[2K     \u001b[90m━━━━━━━━━━━━━━━━━━━━━━━━━━━━━━━━━━━━━━\u001b[0m \u001b[32m519.2/519.2 kB\u001b[0m \u001b[31m12.4 MB/s\u001b[0m eta \u001b[36m0:00:00\u001b[0m\n",
            "\u001b[?25hRequirement already satisfied: packaging>=17.1 in /usr/local/lib/python3.10/dist-packages (from pytorch_lightning) (23.1)\n",
            "Requirement already satisfied: typing-extensions>=4.0.0 in /usr/local/lib/python3.10/dist-packages (from pytorch_lightning) (4.5.0)\n",
            "Collecting lightning-utilities>=0.7.0 (from pytorch_lightning)\n",
            "  Downloading lightning_utilities-0.8.0-py3-none-any.whl (20 kB)\n",
            "Requirement already satisfied: requests in /usr/local/lib/python3.10/dist-packages (from fsspec[http]>2021.06.0->pytorch_lightning) (2.27.1)\n",
            "Collecting aiohttp!=4.0.0a0,!=4.0.0a1 (from fsspec[http]>2021.06.0->pytorch_lightning)\n",
            "  Downloading aiohttp-3.8.4-cp310-cp310-manylinux_2_17_x86_64.manylinux2014_x86_64.whl (1.0 MB)\n",
            "\u001b[2K     \u001b[90m━━━━━━━━━━━━━━━━━━━━━━━━━━━━━━━━━━━━━━━━\u001b[0m \u001b[32m1.0/1.0 MB\u001b[0m \u001b[31m76.2 MB/s\u001b[0m eta \u001b[36m0:00:00\u001b[0m\n",
            "\u001b[?25hRequirement already satisfied: filelock in /usr/local/lib/python3.10/dist-packages (from torch>=1.11.0->pytorch_lightning) (3.12.0)\n",
            "Requirement already satisfied: sympy in /usr/local/lib/python3.10/dist-packages (from torch>=1.11.0->pytorch_lightning) (1.11.1)\n",
            "Requirement already satisfied: networkx in /usr/local/lib/python3.10/dist-packages (from torch>=1.11.0->pytorch_lightning) (3.1)\n",
            "Requirement already satisfied: jinja2 in /usr/local/lib/python3.10/dist-packages (from torch>=1.11.0->pytorch_lightning) (3.1.2)\n",
            "Requirement already satisfied: triton==2.0.0 in /usr/local/lib/python3.10/dist-packages (from torch>=1.11.0->pytorch_lightning) (2.0.0)\n",
            "Requirement already satisfied: cmake in /usr/local/lib/python3.10/dist-packages (from triton==2.0.0->torch>=1.11.0->pytorch_lightning) (3.25.2)\n",
            "Requirement already satisfied: lit in /usr/local/lib/python3.10/dist-packages (from triton==2.0.0->torch>=1.11.0->pytorch_lightning) (16.0.5)\n",
            "Requirement already satisfied: attrs>=17.3.0 in /usr/local/lib/python3.10/dist-packages (from aiohttp!=4.0.0a0,!=4.0.0a1->fsspec[http]>2021.06.0->pytorch_lightning) (23.1.0)\n",
            "Requirement already satisfied: charset-normalizer<4.0,>=2.0 in /usr/local/lib/python3.10/dist-packages (from aiohttp!=4.0.0a0,!=4.0.0a1->fsspec[http]>2021.06.0->pytorch_lightning) (2.0.12)\n",
            "Collecting multidict<7.0,>=4.5 (from aiohttp!=4.0.0a0,!=4.0.0a1->fsspec[http]>2021.06.0->pytorch_lightning)\n",
            "  Downloading multidict-6.0.4-cp310-cp310-manylinux_2_17_x86_64.manylinux2014_x86_64.whl (114 kB)\n",
            "\u001b[2K     \u001b[90m━━━━━━━━━━━━━━━━━━━━━━━━━━━━━━━━━━━━━━\u001b[0m \u001b[32m114.5/114.5 kB\u001b[0m \u001b[31m17.0 MB/s\u001b[0m eta \u001b[36m0:00:00\u001b[0m\n",
            "\u001b[?25hCollecting async-timeout<5.0,>=4.0.0a3 (from aiohttp!=4.0.0a0,!=4.0.0a1->fsspec[http]>2021.06.0->pytorch_lightning)\n",
            "  Downloading async_timeout-4.0.2-py3-none-any.whl (5.8 kB)\n",
            "Collecting yarl<2.0,>=1.0 (from aiohttp!=4.0.0a0,!=4.0.0a1->fsspec[http]>2021.06.0->pytorch_lightning)\n",
            "  Downloading yarl-1.9.2-cp310-cp310-manylinux_2_17_x86_64.manylinux2014_x86_64.whl (268 kB)\n",
            "\u001b[2K     \u001b[90m━━━━━━━━━━━━━━━━━━━━━━━━━━━━━━━━━━━━━━\u001b[0m \u001b[32m268.8/268.8 kB\u001b[0m \u001b[31m33.3 MB/s\u001b[0m eta \u001b[36m0:00:00\u001b[0m\n",
            "\u001b[?25hCollecting frozenlist>=1.1.1 (from aiohttp!=4.0.0a0,!=4.0.0a1->fsspec[http]>2021.06.0->pytorch_lightning)\n",
            "  Downloading frozenlist-1.3.3-cp310-cp310-manylinux_2_5_x86_64.manylinux1_x86_64.manylinux_2_17_x86_64.manylinux2014_x86_64.whl (149 kB)\n",
            "\u001b[2K     \u001b[90m━━━━━━━━━━━━━━━━━━━━━━━━━━━━━━━━━━━━━━\u001b[0m \u001b[32m149.6/149.6 kB\u001b[0m \u001b[31m21.2 MB/s\u001b[0m eta \u001b[36m0:00:00\u001b[0m\n",
            "\u001b[?25hCollecting aiosignal>=1.1.2 (from aiohttp!=4.0.0a0,!=4.0.0a1->fsspec[http]>2021.06.0->pytorch_lightning)\n",
            "  Downloading aiosignal-1.3.1-py3-none-any.whl (7.6 kB)\n",
            "Requirement already satisfied: MarkupSafe>=2.0 in /usr/local/lib/python3.10/dist-packages (from jinja2->torch>=1.11.0->pytorch_lightning) (2.1.2)\n",
            "Requirement already satisfied: urllib3<1.27,>=1.21.1 in /usr/local/lib/python3.10/dist-packages (from requests->fsspec[http]>2021.06.0->pytorch_lightning) (1.26.15)\n",
            "Requirement already satisfied: certifi>=2017.4.17 in /usr/local/lib/python3.10/dist-packages (from requests->fsspec[http]>2021.06.0->pytorch_lightning) (2022.12.7)\n",
            "Requirement already satisfied: idna<4,>=2.5 in /usr/local/lib/python3.10/dist-packages (from requests->fsspec[http]>2021.06.0->pytorch_lightning) (3.4)\n",
            "Requirement already satisfied: mpmath>=0.19 in /usr/local/lib/python3.10/dist-packages (from sympy->torch>=1.11.0->pytorch_lightning) (1.3.0)\n",
            "Installing collected packages: multidict, lightning-utilities, frozenlist, async-timeout, yarl, aiosignal, aiohttp, torchmetrics, pytorch_lightning\n",
            "Successfully installed aiohttp-3.8.4 aiosignal-1.3.1 async-timeout-4.0.2 frozenlist-1.3.3 lightning-utilities-0.8.0 multidict-6.0.4 pytorch_lightning-2.0.2 torchmetrics-0.11.4 yarl-1.9.2\n"
          ]
        }
      ],
      "source": [
        "# Installing Modules\n",
        "!pip install wandb -qU\n",
        "!pip install pytorch_lightning\n",
        "\n"
      ]
    },
    {
      "cell_type": "markdown",
      "metadata": {
        "id": "g73kDqplmER-"
      },
      "source": [
        "# Drive Mount"
      ]
    },
    {
      "cell_type": "code",
      "execution_count": 2,
      "metadata": {
        "id": "8D6qxfMzgEb1",
        "colab": {
          "base_uri": "https://localhost:8080/"
        },
        "outputId": "65fd5383-6dbd-4b02-a769-e6c84d26a845"
      },
      "outputs": [
        {
          "output_type": "stream",
          "name": "stdout",
          "text": [
            "Mounted at /content/drive\n"
          ]
        }
      ],
      "source": [
        "\n",
        "# Google Drive Mount\n",
        "from google.colab import drive\n",
        "drive.mount('/content/drive')\n"
      ]
    },
    {
      "cell_type": "markdown",
      "metadata": {
        "id": "Am7fPcNHQvKJ"
      },
      "source": [
        "# Importing Modules\n"
      ]
    },
    {
      "cell_type": "code",
      "execution_count": 3,
      "metadata": {
        "id": "rq2lHM9cPsy1"
      },
      "outputs": [],
      "source": [
        "# Importing Modules\n",
        "\n",
        "import wandb\n",
        "import torch \n",
        "import pytorch_lightning as pl\n",
        "import torch.nn as nn\n",
        "from torch.nn  import functional\n",
        "from pytorch_lightning.loggers import WandbLogger\n",
        "from matplotlib.font_manager import FontProperties\n",
        "import torchvision.datasets as datasets\n",
        "import torchvision.transforms as transforms\n",
        "import torch.utils.data as data\n",
        "import numpy as np\n",
        "import random\n",
        "import csv\n",
        "import pandas as pd\n",
        "import seaborn as sns\n",
        "from torch.utils.data import Dataset, DataLoader\n",
        "from matplotlib import pyplot as plt\n",
        "\n",
        "\n"
      ]
    },
    {
      "cell_type": "markdown",
      "metadata": {
        "id": "YIL_C-NXQ0Mz"
      },
      "source": [
        "# Unzip data"
      ]
    },
    {
      "cell_type": "code",
      "execution_count": 4,
      "metadata": {
        "id": "ybVd9PVufOhI",
        "colab": {
          "base_uri": "https://localhost:8080/"
        },
        "outputId": "0200ce40-ab68-4aba-ccf4-05c9c92e33d2"
      },
      "outputs": [
        {
          "output_type": "stream",
          "name": "stdout",
          "text": [
            "Archive:  /content/drive/MyDrive/dl/aksharantar_sampled.zip\n",
            "   creating: aksharantar_sampled/\n",
            "   creating: aksharantar_sampled/asm/\n",
            "  inflating: aksharantar_sampled/asm/asm_test.csv  \n",
            "  inflating: aksharantar_sampled/asm/asm_train.csv  \n",
            "  inflating: aksharantar_sampled/asm/asm_valid.csv  \n",
            "   creating: aksharantar_sampled/ben/\n",
            "  inflating: aksharantar_sampled/ben/ben_test.csv  \n",
            "  inflating: aksharantar_sampled/ben/ben_train.csv  \n",
            "  inflating: aksharantar_sampled/ben/ben_valid.csv  \n",
            "   creating: aksharantar_sampled/brx/\n",
            "  inflating: aksharantar_sampled/brx/brx_test.csv  \n",
            "  inflating: aksharantar_sampled/brx/brx_train.csv  \n",
            "  inflating: aksharantar_sampled/brx/brx_valid.csv  \n",
            "   creating: aksharantar_sampled/guj/\n",
            "  inflating: aksharantar_sampled/guj/guj_test.csv  \n",
            "  inflating: aksharantar_sampled/guj/guj_train.csv  \n",
            "  inflating: aksharantar_sampled/guj/guj_valid.csv  \n",
            "   creating: aksharantar_sampled/hin/\n",
            "  inflating: aksharantar_sampled/hin/hin_test.csv  \n",
            "  inflating: aksharantar_sampled/hin/hin_train.csv  \n",
            "  inflating: aksharantar_sampled/hin/hin_valid.csv  \n",
            "   creating: aksharantar_sampled/kan/\n",
            "  inflating: aksharantar_sampled/kan/kan_test.csv  \n",
            "  inflating: aksharantar_sampled/kan/kan_train.csv  \n",
            "  inflating: aksharantar_sampled/kan/kan_valid.csv  \n",
            "   creating: aksharantar_sampled/kas/\n",
            "  inflating: aksharantar_sampled/kas/kas_test.csv  \n",
            "  inflating: aksharantar_sampled/kas/kas_train.csv  \n",
            "  inflating: aksharantar_sampled/kas/kas_valid.csv  \n",
            "   creating: aksharantar_sampled/kok/\n",
            "  inflating: aksharantar_sampled/kok/kok_test.csv  \n",
            "  inflating: aksharantar_sampled/kok/kok_train.csv  \n",
            "  inflating: aksharantar_sampled/kok/kok_valid.csv  \n",
            "   creating: aksharantar_sampled/mai/\n",
            "  inflating: aksharantar_sampled/mai/mai_test.csv  \n",
            "  inflating: aksharantar_sampled/mai/mai_train.csv  \n",
            "  inflating: aksharantar_sampled/mai/mai_valid.csv  \n",
            "   creating: aksharantar_sampled/mal/\n",
            "  inflating: aksharantar_sampled/mal/mal_test.csv  \n",
            "  inflating: aksharantar_sampled/mal/mal_train.csv  \n",
            "  inflating: aksharantar_sampled/mal/mal_valid.csv  \n",
            "   creating: aksharantar_sampled/mar/\n",
            "  inflating: aksharantar_sampled/mar/mar_test.csv  \n",
            "  inflating: aksharantar_sampled/mar/mar_train.csv  \n",
            "  inflating: aksharantar_sampled/mar/mar_valid.csv  \n",
            "   creating: aksharantar_sampled/mni/\n",
            "  inflating: aksharantar_sampled/mni/mni_test.csv  \n",
            "  inflating: aksharantar_sampled/mni/mni_train.csv  \n",
            "  inflating: aksharantar_sampled/mni/mni_valid.csv  \n",
            "   creating: aksharantar_sampled/ori/\n",
            "  inflating: aksharantar_sampled/ori/ori_test.csv  \n",
            "  inflating: aksharantar_sampled/ori/ori_train.csv  \n",
            "  inflating: aksharantar_sampled/ori/ori_valid.csv  \n",
            "   creating: aksharantar_sampled/pan/\n",
            "  inflating: aksharantar_sampled/pan/pan_test.csv  \n",
            "  inflating: aksharantar_sampled/pan/pan_train.csv  \n",
            "  inflating: aksharantar_sampled/pan/pan_valid.csv  \n",
            "   creating: aksharantar_sampled/san/\n",
            "  inflating: aksharantar_sampled/san/san_test.csv  \n",
            "  inflating: aksharantar_sampled/san/san_train.csv  \n",
            "  inflating: aksharantar_sampled/san/san_valid.csv  \n",
            "   creating: aksharantar_sampled/sid/\n",
            "  inflating: aksharantar_sampled/sid/sid_test.csv  \n",
            "  inflating: aksharantar_sampled/sid/sid_train.csv  \n",
            "  inflating: aksharantar_sampled/sid/sid_valid.csv  \n",
            "   creating: aksharantar_sampled/tam/\n",
            "  inflating: aksharantar_sampled/tam/tam_test.csv  \n",
            "  inflating: aksharantar_sampled/tam/tam_train.csv  \n",
            "  inflating: aksharantar_sampled/tam/tam_valid.csv  \n",
            "   creating: aksharantar_sampled/tel/\n",
            "  inflating: aksharantar_sampled/tel/tel_test.csv  \n",
            "  inflating: aksharantar_sampled/tel/tel_train.csv  \n",
            "  inflating: aksharantar_sampled/tel/tel_valid.csv  \n",
            "   creating: aksharantar_sampled/urd/\n",
            "  inflating: aksharantar_sampled/urd/urd_test.csv  \n",
            "  inflating: aksharantar_sampled/urd/urd_train.csv  \n",
            "  inflating: aksharantar_sampled/urd/urd_valid.csv  \n"
          ]
        }
      ],
      "source": [
        "#Unzip aksharantar_sampled data \n",
        "!unzip /content/drive/MyDrive/dl/aksharantar_sampled.zip\n",
        "# !unzip Tiro_Devanagari_Hindi.zip -d hindi"
      ]
    },
    {
      "cell_type": "markdown",
      "metadata": {
        "id": "OxdJSVilWcQC"
      },
      "source": [
        "# Connecting Wandb\n"
      ]
    },
    {
      "cell_type": "code",
      "execution_count": null,
      "metadata": {
        "id": "1MtE97XVbTJV"
      },
      "outputs": [],
      "source": [
        "# Connecting to Wandb\n",
        "# wandb.login(key=\"8d6c17aa48af2229c26cbc16513ef266358c0b96\")\n",
        "# wandb.init(project=\"Assignment-02\")\n"
      ]
    },
    {
      "cell_type": "markdown",
      "metadata": {
        "id": "-hhOmSKoWwCF"
      },
      "source": [
        "# Data Loading"
      ]
    },
    {
      "cell_type": "code",
      "execution_count": 5,
      "metadata": {
        "id": "adHl-oBeKkZA"
      },
      "outputs": [],
      "source": [
        "lang = \"hin\" # name of the lang to train the model\n",
        "base_dir = \"aksharantar_sampled/\" # root dir containing all the lang datasets\n",
        "\n",
        "base_dir = base_dir+lang+\"/\" \n",
        "# hindi_font = FontProperties(fname = 'hindi/TiroDevanagariHindi-Regular.ttf')\n",
        "\n",
        "train_file = base_dir+lang+\"_train.csv\"\n",
        "val_file = base_dir+lang+\"_valid.csv\"\n",
        "test_file = base_dir+lang+\"_test.csv\"\n",
        "\n",
        "# loading train,valid,test csv files\n",
        "train_data = pd.read_csv(train_file,header=None)\n",
        "val_data = pd.read_csv(val_file,header=None)\n",
        "test_data = pd.read_csv(test_file,header=None)\n",
        "\n",
        "\n",
        "# Initialization of special tokens in Character dictionaries\n",
        "latin_chars = {'<PAD>': 0, '<UNK>': 1,'<start>':2,'<end>':3}\n",
        "lang_chars = {'<PAD>': 0, '<UNK>': 1,'<start>':2,'<end>':3}\n",
        "latin_chars_num = {}\n",
        "lang_chars_num = {}\n",
        "\n",
        "# Character counting and numbering\n",
        "for word in train_data[0]:\n",
        "  for char in word :\n",
        "    if char not in latin_chars:\n",
        "      latin_chars[char] = len(latin_chars)\n",
        "\n",
        "for word in train_data[1]:\n",
        "  for char in word :\n",
        "    if char not in lang_chars:\n",
        "      lang_chars[char] = len(lang_chars)\n",
        "\n",
        "# Reverse dictionaries\n",
        "for key,value in latin_chars.items():\n",
        "  latin_chars_num[value] = key\n",
        "\n",
        "for key,value in lang_chars.items():\n",
        "  lang_chars_num[value] = key\n",
        "\n",
        "# Maximum word length\n",
        "latin_max_length = len(max(train_data[0],key = len))\n",
        "lang_max_length = len(max(train_data[1],key = len))"
      ]
    },
    {
      "cell_type": "code",
      "execution_count": 6,
      "metadata": {
        "id": "xRcCWNWOUz_e"
      },
      "outputs": [],
      "source": [
        "#Device selection\n",
        "device = torch.device(\"cuda:0\" if torch.cuda.is_available() else \"cpu\")\n",
        "\n",
        "def word_to_vec(data):\n",
        "  data1= data.T\n",
        "  data_pairs = []\n",
        "  for i in range(0,len(data)):  # Iterating over data\n",
        "    # Encoding words\n",
        "    word =  [2]+[latin_chars.get(char,latin_chars['<UNK>']) for char in data1[i][0]] + [0]*(latin_max_length - len(data1[i][0]))+[3]\n",
        "    word = word[:latin_max_length+2]\n",
        "    latin_tensor = torch.tensor(word).to(device)\n",
        "    word =  [2]+[lang_chars.get(char,lang_chars['<UNK>']) for char in data1[i][1]] + [0]*(lang_max_length - len(data1[i][1]))+[3]\n",
        "    lang_tensor = torch.tensor(word).to(device)\n",
        "    # Building data pairs\n",
        "    data_pairs.append([latin_tensor,lang_tensor])\n",
        "  # Returning data pairs\n",
        "  return data_pairs "
      ]
    },
    {
      "cell_type": "markdown",
      "metadata": {
        "id": "RG4p0iZ9w-Su"
      },
      "source": [
        "# DataLoader"
      ]
    },
    {
      "cell_type": "code",
      "execution_count": 7,
      "metadata": {
        "id": "3ArcLs1ASyX4"
      },
      "outputs": [],
      "source": [
        "# Conversion to Encoded word pairs\n",
        "train_data_pairs = word_to_vec(train_data)\n",
        "val_data_pairs = word_to_vec(val_data)\n",
        "test_data_pairs = word_to_vec(test_data)\n",
        "\n",
        "# Data loaders and Batch size and shuffling\n",
        "train_dataloader = DataLoader(train_data_pairs, batch_size=64, shuffle=True)\n",
        "val_dataloader = DataLoader(val_data_pairs, batch_size=64, shuffle=False)\n",
        "test_dataloader = DataLoader(test_data_pairs, batch_size=64, shuffle=False)\n"
      ]
    },
    {
      "cell_type": "markdown",
      "metadata": {
        "id": "ngYIl98ThLAR"
      },
      "source": [
        "# Encoder"
      ]
    },
    {
      "cell_type": "code",
      "execution_count": null,
      "metadata": {
        "id": "WwFilDT7cD0f"
      },
      "outputs": [],
      "source": [
        "class Encoder(nn.Module):\n",
        "  ''' This is the model class used to define the Encoder structure and to train the neural network on given parameters'''\n",
        "  def __init__(self,input_size,embedding_size,hidden_size,layers,cell_type,bidirectional,dropout):\n",
        "    '''\n",
        "      input_size: The size of the input vocabulary or the number of distinct tokens.\n",
        "      embedding_size: The size of the embedding vectors for each token.\n",
        "      hidden_size: The size of the hidden state of the RNN cell.\n",
        "      layers: The number of layers in the RNN.\n",
        "      cell_type: The type of the RNN cell (nn.RNN, nn.GRU, nn.LSTM).  \n",
        "      bidirectional: A boolean flag indicating whether the RNN is bidirectional or not.\n",
        "      dropout: The dropout probability for the RNN layers\n",
        "    '''\n",
        "    super(Encoder,self).__init__()\n",
        "    self.cell_type = cell_type\n",
        "    self.embedding = nn.Embedding(input_size,embedding_size)\n",
        "    self.rnn = cell_type(embedding_size,hidden_size,layers,bidirectional = bidirectional,dropout=dropout)\n",
        "  # Forward method\n",
        "  def forward(self,x):\n",
        "    embedding = self.embedding(x)\n",
        "    output,hidden = self.rnn(embedding)\n",
        "\n",
        "    return hidden\n"
      ]
    },
    {
      "cell_type": "markdown",
      "metadata": {
        "id": "ImCSvZjihPRX"
      },
      "source": [
        "# Decoder"
      ]
    },
    {
      "cell_type": "code",
      "execution_count": null,
      "metadata": {
        "id": "WVF4Sr3DhRav"
      },
      "outputs": [],
      "source": [
        "class Decoder(nn.Module):\n",
        "  ''' This is the model class used to define the Decoder structure and to train the neural network on given parameters'''\n",
        "  def __init__(self,output_size,embedding_size,hidden_size,layers,cell_type,bidirectional,dropout):\n",
        "    '''\n",
        "      output_size: The size of the output vocabulary or the number of distinct tokens.\n",
        "      embedding_size: The size of the embedding vectors for each token.\n",
        "      hidden_size: The size of the hidden state of the RNN cell.\n",
        "      layers: The number of layers in the RNN.\n",
        "      cell_type: The type of the RNN cell (nn.RNN, nn.GRU, nn.LSTM).  \n",
        "      bidirectional: A boolean flag indicating whether the RNN is bidirectional or not.\n",
        "      dropout: The dropout probability for the RNN layers\n",
        "    '''\n",
        "    super(Decoder,self).__init__()\n",
        "    self.cell_type = cell_type\n",
        "    self.embedding = nn.Embedding(output_size,embedding_size) \n",
        "    self.rnn = cell_type(embedding_size,hidden_size,layers,bidirectional = bidirectional,dropout=dropout)\n",
        "    if bidirectional:\n",
        "      self.out = nn.Linear(hidden_size*2,output_size) \n",
        "    else :\n",
        "      self.out = nn.Linear(hidden_size,output_size) \n",
        "\n",
        "  # Forward method\n",
        "  def forward(self,x,hidden):\n",
        "    x = x.unsqueeze(1).transpose(0,1)\n",
        "    embedding = self.embedding(x)\n",
        "    output,hidden = self.rnn(embedding,hidden)\n",
        "    output = self.out(output.squeeze(0))\n",
        "\n",
        "    return output,hidden\n",
        "\n",
        "\n"
      ]
    },
    {
      "cell_type": "markdown",
      "metadata": {
        "id": "pTnyND8YhSJ1"
      },
      "source": [
        "# Model"
      ]
    },
    {
      "cell_type": "code",
      "execution_count": null,
      "metadata": {
        "id": "KJdM1Vn1hUWw"
      },
      "outputs": [],
      "source": [
        "\n",
        "# This is the model class used to define the seq2seq model with encoder and decoder structure and to train the neural network on given parameters\n",
        "# Implements a sequence-to-sequence model using an encoder-decoder architecture and provides methods for training, validation, testing, and prediction. \n",
        "# It supports teacher forcing during training and beam search during inference \n",
        "\n",
        "class seq2seq(pl.LightningModule):\n",
        "  def __init__(self,input_size,output_size,embedding_size,hidden_size,encoder_layer_size,decoder_layer_size,cell_type,beam_width,dropout,bidirectional,learning_rate=0.0001):\n",
        "    '''\n",
        "      input_size: The size of the input vocabulary or the number of distinct tokens.\n",
        "      output_size: The size of the output vocabulary or the number of distinct tokens.\n",
        "      embedding_size: The size of the embedding vectors for each token.\n",
        "      hidden_size: The size of the hidden state of the RNN cells in the encoder and decoder.\n",
        "      encoder_layer_size: The number of layers in the encoder.\n",
        "      decoder_layer_size: The number of layers in the decoder.\n",
        "      cell_type: The type of the RNN cell (nn.RNN, nn.GRU, nn.LSTM).  \n",
        "      beam_width: The width of the beam search during inference.\n",
        "      dropout: The dropout probability for the RNN layers.\n",
        "      bidirectional: A boolean flag indicating whether the RNN layers are bidirectional or not.\n",
        "      learning_rate: The learning rate for the optimizer (default is 0.0001)\n",
        "    '''\n",
        "    super(seq2seq,self).__init__()\n",
        "    self.output_size = output_size\n",
        "    self.lang_max_length = lang_max_length+2\n",
        "    self.latin_max_length = latin_max_length+2\n",
        "    self.cell_type = cell_type\n",
        "    self.train_step_acc = []\n",
        "    self.train_step_loss = []\n",
        "    self.val_step_acc = []\n",
        "    self.val_step_loss = []\n",
        "    self.decoder_layer_size = decoder_layer_size #*  2 if bidirectional else 1\n",
        "    self.bidirectional = bidirectional\n",
        "    self.encoder_layer_size = encoder_layer_size \n",
        "    self.beam_width = beam_width\n",
        "    self.encoder = Encoder(input_size,embedding_size,hidden_size,encoder_layer_size,cell_type,bidirectional,dropout)\n",
        "    self.decoder = Decoder(output_size,embedding_size,hidden_size,decoder_layer_size,cell_type,bidirectional,dropout)\n",
        "    self.learning_rate = learning_rate\n",
        "\n",
        "  def beam_search(self,hidden,input,beam_width,output_len,output_seq):\n",
        "    queue = []\n",
        "    queue.append((input,1,hidden))\n",
        "    for t in range(output_len):\n",
        "      queue_temp = []\n",
        "      for i in range(len(queue)):\n",
        "        (input,prob_parent,hidden) = queue[i]\n",
        "        output_rnn,hidden = self.decoder( input ,hidden)\n",
        "        prob , index = torch.topk(output_rnn,beam_width)\n",
        "        output_rnn = output_rnn.squeeze(1)\n",
        "        for j in range(beam_width):\n",
        "          prob_score = prob_parent*prob[0][j]\n",
        "          if (prob_score > 1e-5):\n",
        "            queue_temp.append((torch.tensor([index[0][j]]).to(device),prob_score,hidden))\n",
        "      output_seq[t] = output_rnn\n",
        "      queue = sorted(queue_temp,key = lambda x:x[1] , reverse = True)[:beam_width]\n",
        "    return  output_seq\n",
        "\n",
        "  def forward(self,input,output = [],tf = 0.5) :\n",
        "    '''\n",
        "    The forward method defines the forward pass of the seq2seq model. \n",
        "    It takes an input tensor input, an optional output tensor output, and a teacher-forcing ratio tf as inputs\n",
        "    '''\n",
        "    batch_size = input.shape[0]\n",
        "    output_size = self.output_size\n",
        "\n",
        "    bidir = 2 if self.bidirectional else 1\n",
        "    hidden = self.encoder(input.transpose(0,1))\n",
        "    if self.encoder_layer_size > self.decoder_layer_size :\n",
        "      if (self.cell_type == nn.LSTM):\n",
        "        (hidden,cell) = hidden\n",
        "        hidden = hidden[-1*self.decoder_layer_size* bidir :]\n",
        "        cell = cell[-1*self.decoder_layer_size*  bidir:]\n",
        "        hidden = (hidden,cell) \n",
        "      else:\n",
        "        hidden = hidden[-1*self.decoder_layer_size* bidir:]\n",
        "        \n",
        "    elif self.encoder_layer_size < self.decoder_layer_size :\n",
        "      cell = []\n",
        "      if (self.cell_type == nn.LSTM):\n",
        "        (hidden,cell) = hidden\n",
        "        temp_hidden = hidden[-1 *bidir:]\n",
        "        temp_cell = cell[-1 *bidir:]\n",
        "        if(temp_hidden.shape[0] == 0) :\n",
        "            temp_hidden = hidden\n",
        "            temp_cell = cell\n",
        "        for i in range(self.decoder_layer_size - self.encoder_layer_size):   \n",
        "          hidden = torch.cat((hidden,temp_hidden) )\n",
        "          cell = torch.cat((cell,temp_cell))\n",
        "        hidden = (hidden,cell) \n",
        "      else :\n",
        "        temp_hidden = hidden[-1 *bidir:]\n",
        "        if(temp_hidden.shape[0] == 0) :\n",
        "            temp_hidden = hidden\n",
        "        for i in range(self.decoder_layer_size - self.encoder_layer_size):   \n",
        "          hidden = torch.cat((hidden,temp_hidden),dim=0 )\n",
        "    \n",
        "    output_seq = torch.zeros(self.lang_max_length,batch_size,output_size).to(device)\n",
        "    if tf > 0:\n",
        "      output = output.transpose(0,1)\n",
        "    next_input = torch.tensor([2]*batch_size).to(device)\n",
        "    \n",
        "\n",
        "\n",
        "    # Iterates over the decoding steps,probabilities for each time step. The output probabilities are stored in the output sequence tensor\n",
        "    if self.beam_width == 1:\n",
        "      for t in range(self.lang_max_length):\n",
        "        output_rnn,hidden = self.decoder( next_input ,hidden)\n",
        "        output_seq[t] = output_rnn.squeeze(1)\n",
        "        next_input =  output_seq[t].argmax(1) if  tf < torch.rand(1).item() else output[:,t]\n",
        "      return output_seq\n",
        "    else :\n",
        "      for i in range(batch_size):\n",
        "        output_seq_temp = torch.zeros(output.shape[1],1,output_size).to(device)\n",
        "        # print(hidden.shape,next_input.shape,batch_size)\n",
        "        # print(hidden[:,i,:]..shape)\n",
        "        output_seq_temp = self.beam_search(hidden[:,i:i+1,:],next_input[i:i+1],self.beam_width,output.shape[1],output_seq_temp)\n",
        "        output_seq[:,i:i+1,:] = output_seq_temp\n",
        "      return output_seq\n",
        "\n",
        "\n",
        "  def training_step(self,batch):\n",
        "    '''\n",
        "    The training_step method is called during the training loop for each batch of data. \n",
        "    It takes a batch of input-output pairs as input\n",
        "    '''\n",
        "    input,output = batch\n",
        "\n",
        "    output = output.permute(1,0)\n",
        "    # Calling forward \n",
        "    output_seq = self(input,output)\n",
        "    output = output.permute(1,0)\n",
        "\n",
        "    output_seq_2 = torch.zeros(output_seq.shape).to(device)\n",
        "    batch_n = np.arange(len(output_seq))\n",
        "\n",
        "    for f in range(len(output)):\n",
        "      col = output[f]\n",
        "      output_seq_2[batch_n,f,np.array(col.cpu())] = 1\n",
        "    output_dim = output_seq.shape[-1]\n",
        "    output_seq_t1 = output_seq[1:].view(-1,output_dim)\n",
        "    output_seq_t2 = output_seq_2[1:].view(-1,output_dim)\n",
        "\n",
        "    # Computing the cross-entropy loss between the predicted output sequence and the true output sequence\n",
        "    loss = nn.CrossEntropyLoss()\n",
        "    loss = loss(output_seq_t1,output_seq_t2).mean()\n",
        "    output = output.permute(1,0)\n",
        "\n",
        "    # Computing the accuracy by comparing the predicted output with the true output.\n",
        "    output_ = torch.argmax(output_seq,2)\n",
        "    acc_1 = torch.all(output_[1:-1,:] == output[1:-1,:],dim=0)\n",
        "    acc = torch.sum(acc_1 == True)/len(acc_1)\n",
        "\n",
        "    # Logging the loss and accuracy metrics using the self.log method.\n",
        "    self.log('train_loss', loss,on_epoch = True,on_step = False,prog_bar=True)\n",
        "    self.train_step_loss.append(loss)\n",
        "    self.log('train_acc', acc,on_epoch = True,on_step = False,prog_bar=True)\n",
        "    self.train_step_acc.append(acc)\n",
        "\n",
        "    return loss\n",
        "\n",
        "\n",
        "\n",
        "  def on_train_epoch_end(self):\n",
        "    '''\n",
        "    The on_train_epoch_end method is called at the end of each training epoch. \n",
        "    It calculates the average training loss and accuracy over the epoch, as well as the average validation loss and accuracy .\n",
        "    '''\n",
        "    train_acc =  torch.stack(self.train_step_acc).mean()\n",
        "    train_loss =  torch.stack(self.train_step_loss).mean()\n",
        "    val_acc =  torch.stack(self.val_step_acc).mean()\n",
        "    val_loss =  torch.stack(self.val_step_loss).mean()\n",
        "    print(\"train_loss:\",train_loss.item(),\"train_acc\",train_acc.item(),\"val_loss:\",val_loss.item(),\"val_acc\",val_acc.item())\n",
        "    # wandb.log({\"train_loss\":train_loss.item(),\"train_acc\":train_acc.item(),\"val_loss\":val_loss.item(),\"val_acc\":val_acc.item()})\n",
        "    self.train_step_acc.clear() \n",
        "    self.train_step_loss.clear() \n",
        "    self.val_step_acc.clear() \n",
        "    self.val_step_loss.clear() \n",
        "\n",
        "\n",
        "  def validation_step(self, batch,batch_idx):\n",
        "    '''\n",
        "    The validation_step method is similar to the training_step method but is called during the validation loop for each batch of data.\n",
        "    It computes the loss and accuracy metrics for the validation data\n",
        "    '''\n",
        "    input,output = batch\n",
        "    output = output.permute(1,0)\n",
        "    output_seq = self(input,output,0)\n",
        "    output = output.permute(1,0)\n",
        "\n",
        "    output_seq_2 = torch.zeros(output_seq.shape).to(device)\n",
        "    batch_n = np.arange(len(output_seq))\n",
        "\n",
        "    for f in range(len(output)):\n",
        "      col = output[f]\n",
        "      output_seq_2[batch_n,f,np.array(col.cpu())] = 1\n",
        "\n",
        "    output_dim = output_seq.shape[-1]\n",
        "  \n",
        "    output_seq_t1 = output_seq[1:].view(-1,output_dim)\n",
        "    output_seq_t2 = output_seq_2[1:].view(-1,output_dim)\n",
        "    # Computing the cross-entropy loss between the predicted output sequence and the true output sequence\n",
        "    loss = nn.CrossEntropyLoss()\n",
        "    loss = loss(output_seq_t1,output_seq_t2).mean()\n",
        "    output = output.permute(1,0)\n",
        "    # Computing the accuracy by comparing the predicted output with the true output.\n",
        "    output_ = torch.argmax(output_seq,2)\n",
        "    acc_1 = torch.all(output_[1:-1,:] == output[1:-1,:],dim=0)\n",
        "    acc = torch.sum(acc_1 == True)/len(acc_1)\n",
        "\n",
        "    # Logging the loss and accuracy metrics using the self.log method.\n",
        "    self.log('val_loss', loss,on_epoch = True,on_step = False,prog_bar=True)\n",
        "    self.val_step_loss.append(loss)\n",
        "    self.log('val_acc', acc,on_epoch = True,on_step = False,prog_bar=True)\n",
        "    self.val_step_acc.append(acc)\n",
        "\n",
        "    return loss\n",
        "\n",
        "  def configure_optimizers(self):\n",
        "    '''\n",
        "    The configure_optimizers method is used to configure the optimizer for the model. \n",
        "    In this case, it returns an Adam optimizer with the learning rate specified during initialization.\n",
        "    '''\n",
        "    return torch.optim.Adam(self.parameters(),lr= self.learning_rate)\n",
        "\n",
        "\n",
        "  def test_step(self, batch,batch_idx):\n",
        "    '''\n",
        "    The test_step method is similar to the validation_step method but is called during the testing phase for each batch of data.\n",
        "     It computes the loss and accuracy metrics for the test data\n",
        "    '''\n",
        "    input,output = batch\n",
        "    output = output.permute(1,0)\n",
        "\n",
        "    # Calling forward \n",
        "    output_seq = self(input,output,0)\n",
        "    output = output.permute(1,0)\n",
        "\n",
        "    output_seq_2 = torch.zeros(output_seq.shape).to(device)\n",
        "    batch_n = np.arange(len(output_seq))\n",
        "\n",
        "    for f in range(len(output)):\n",
        "      col = output[f]\n",
        "      output_seq_2[batch_n,f,np.array(col.cpu())] = 1\n",
        "\n",
        "    output_dim = output_seq.shape[-1]  \n",
        "    output_seq_t1 = output_seq[1:].view(-1,output_dim)\n",
        "    output_seq_t2 = output_seq_2[1:].view(-1,output_dim)\n",
        "\n",
        "    # Computing the cross-entropy loss between the predicted output sequence and the true output sequence\n",
        "    loss = nn.CrossEntropyLoss()\n",
        "    loss = loss(output_seq_t1,output_seq_t2).mean()\n",
        "    output = output.permute(1,0)\n",
        "\n",
        "    # Computing the accuracy by comparing the predicted output with the true output.\n",
        "    output_ = torch.argmax(output_seq,2)\n",
        "    acc_1 = torch.all(output_[1:-1,:] == output[1:-1,:],dim=0)\n",
        "    acc = torch.sum(acc_1 == True)/len(acc_1)\n",
        "\n",
        "    # Logging the loss and accuracy metrics using the self.log method.\n",
        "    self.log('test_loss', loss,on_epoch = True,on_step = False,prog_bar=True)\n",
        "    self.log('test_acc', acc,on_epoch = True,on_step = False,prog_bar=True)\n",
        "    return loss\n",
        "\n",
        "  def predict_step(self, batch,batch_idx,dataloader_idx=0):\n",
        "    '''\n",
        "    The predict_step method is called during the prediction phase for each batch of data.\n",
        "    It takes the input batch and returns the predicted output sequence.\n",
        "    '''\n",
        "    trainX = batch\n",
        "    output_seq = self(trainX)\n",
        "    return output_seq\n"
      ]
    },
    {
      "cell_type": "markdown",
      "metadata": {
        "id": "Veud775QWMQf"
      },
      "source": [
        "\n",
        "# Sweep Config"
      ]
    },
    {
      "cell_type": "code",
      "execution_count": null,
      "metadata": {
        "id": "lrCro-KPWMQf"
      },
      "outputs": [],
      "source": [
        "\n",
        "\n",
        "config= {\n",
        "    'method': 'bayes',\n",
        "    'name': 'sweep',\n",
        "    'metric': {\n",
        "        'goal': 'maximize', \n",
        "        'name': 'val_acc'\n",
        "      },\n",
        "    \"parameters\":\n",
        "    {\n",
        "      \n",
        "    \"bidirectional\" :{\n",
        "        \"values\" : [True,False]\n",
        "    },\n",
        "    \"dropout\" :{\n",
        "        \"values\" : [0,0.2,0.3]\n",
        "    },\n",
        "    \"cell_type\" :{\n",
        "          \"values\" : [\"RNN\", \"GRU\", \"LSTM\"]\n",
        "    },\n",
        "      \"epochs\" :{\n",
        "          \"values\" : [10,  15, 20]\n",
        "    },\n",
        "     \n",
        "      \"encoder_layers\" :{\n",
        "          \"values\" : [1,  2, 3]\n",
        "    },\n",
        "      \"decoder_layers\" :{\n",
        "          \"values\" : [1,  2, 3]\n",
        "    },\n",
        "      \"embedding_size\" :{\n",
        "          \"values\" : [16,32,64,256]\n",
        "    },\n",
        "      \"hidden_layer_size\" :{\n",
        "          \"values\" : [16,32,64,256]\n",
        "    },\n",
        "\n",
        "      \"learning_rate\" :{\n",
        "          \"values\" : [1e-3,1e-4]\n",
        "    },\n",
        "      \"batch_size\" :{\n",
        "          \"values\" : [32,64,128,256]\n",
        "    }\n",
        "\n",
        "    }\n",
        "\n",
        "}\n"
      ]
    },
    {
      "cell_type": "markdown",
      "metadata": {
        "id": "b-7elHMZWMQg"
      },
      "source": [
        "# Sweep Function"
      ]
    },
    {
      "cell_type": "code",
      "execution_count": null,
      "metadata": {
        "id": "Z10jxS0QWMQg"
      },
      "outputs": [],
      "source": [
        "\n",
        "cell_map = {\"RNN\":nn.RNN, \"GRU\":nn.GRU, \"LSTM\":nn.LSTM}\n",
        "def sweeprun():\n",
        "  wandb.init()\n",
        "  # Getting config from sweep wandb sweep config\n",
        "  bidirectional = wandb.config.bidirectional\n",
        "  dropout = wandb.config.dropout\n",
        "  cell_type = wandb.config.cell_type\n",
        "  encoder_layers = wandb.config.encoder_layers\n",
        "  decoder_layers = wandb.config.decoder_layers\n",
        "  epochs = wandb.config.epochs\n",
        "  learning_rate = wandb.config.learning_rate\n",
        "  batch_size = wandb.config.batch_size\n",
        "  embedding_size = wandb.config.embedding_size\n",
        "  hidden_layer_size = wandb.config.hidden_layer_size\n",
        "  # unique run name \n",
        "  run_name = \"lr_{}_rnn_{}_dp_{}_bd_{}_el_{}_dl_{}_ep_{}_es_{}_hs_{}_bs_{}\".format(learning_rate,cell_type, dropout, bidirectional,encoder_layers, decoder_layers,epochs,embedding_size,hidden_layer_size,batch_size)\n",
        "\n",
        "  train_dataloader = DataLoader(train_data_pairs, batch_size=batch_size, shuffle=True)\n",
        "  val_dataloader = DataLoader(val_data_pairs, batch_size=batch_size, shuffle=False)\n",
        "\n",
        "  cell_type = cell_map[cell_type]\n",
        "  model = seq2seq(input_size = len(latin_chars), output_size = len(lang_chars),\n",
        "                embedding_size = embedding_size, hidden_size = hidden_layer_size,encoder_layer_size = encoder_layers,\n",
        "                decoder_layer_size = decoder_layers,cell_type = cell_type,\n",
        "                beam_width = 1,dropout= dropout,\n",
        "                bidirectional =bidirectional ,learning_rate = learning_rate)\n",
        "  model.to(device)\n",
        "\n",
        "  trainer = pl.Trainer(max_epochs=epochs,accelerator = 'gpu') \n",
        "  trainer.fit(model, train_dataloader,val_dataloader)\n",
        "\n",
        "  wandb.run.name = run_name\n",
        "  wandb.finish()\n",
        "\n",
        "\n",
        "\n",
        "sweep_id = wandb.sweep(config,project=\"Assignment-03\", entity = \"saisreeram\")\n",
        "wandb.agent(sweep_id, sweeprun)"
      ]
    },
    {
      "cell_type": "markdown",
      "metadata": {
        "id": "Dk8c9Or1IYVM"
      },
      "source": [
        "# Model Training on Best Model"
      ]
    },
    {
      "cell_type": "code",
      "execution_count": null,
      "metadata": {
        "id": "ZcQQGaXgISbs",
        "colab": {
          "base_uri": "https://localhost:8080/",
          "height": 604,
          "referenced_widgets": [
            "d9268a59677640e89f376e3aef9f253d",
            "e16539822af844bdb35236baed4df2c6",
            "9b32123f855149f8b4dec601ac6974a9",
            "6c99c45da4b144cd97f31cf4cfe2e318",
            "de3b62635cae4bc6827739f138bd3e53",
            "958129f520ef41738fdf37acbdbb39d0",
            "4866f4e120f848c9a4f1fc985873dc9b",
            "31be6b27dd8546859dd2fac2997d815b",
            "4e5e52577e71474c812b0a4cb9269648",
            "dfa5e5f19c84444c9efd4006a8248868",
            "485db69b70c640199a6f9bf9f05238ac",
            "9571998b513e489295628f894e227b1d",
            "7e0c745c307e470cb1d93ff652948df6",
            "da938ca47d4649fc97dd7818f36ac56e",
            "f05c1d7dbbc94855a871dbfa7d88e255",
            "32cc7404fbab43f5ad72573ba6577c7c",
            "1dbb10ada91c470790c11d503e44453d",
            "6218d554919b4ea5908b1be70ccc063a",
            "bdc55e8f41504795bfa16e1d55cd9f9f",
            "0491361eea044b01b11add906e3d60b5",
            "d305791fc9c1478fabca64937d96349d",
            "9ea5736cf5cb4d06babd4fd5f859b9e7",
            "33b170921ce44a9f94016a7b7bea4614",
            "7ad5626b23f442d78d626ff1173db0c9",
            "320a004b3bd247b28832d3b1cfffba0e",
            "82b560c722664ba7a8bbbf4f0ab1af46",
            "c8443e4010724d6289022cc5fc79b130",
            "f20eed89ee08410a90de96b8ee0b5b2f",
            "7b53169636f842358f102651aeafde2e",
            "af5dbb07ea95425e8e742146a9eab961",
            "7113429ba67e43aaa449444cc9ee5752",
            "6c36f7b470da4e2a9a6b732e4f009c8e",
            "7f8c6540bcc44c0b9d7dd5740fbd9134",
            "61c32805df30484984ce3e2c265afff6",
            "95dbbea8762e409cb5953b898932a221",
            "3d85c8b3c6aa4c42ba1e0e4b0da6503b",
            "e8ee07f755514d1db33d0d957bba4836",
            "aeb565bf0b634d4ba539f10d208a3a45",
            "9eb8f1b0637b40789f90aaacefdae5d7",
            "a43224ec6ac54a16a7c3f1439cd71c6f",
            "b26e5915000d41b4ab08b8e20f9f4cbe",
            "13a066bf97eb4185879e8afbbb387389",
            "1b44d46a630c4fcf9d8579fa128e7bf0",
            "09e7aa7a11d04c2883ab49f9ac0ab74f",
            "17b2b8758f1845f3987dd7f884a64f50",
            "c96bb84f46934ec187143e7fb690682e",
            "bcedd9898194447085416e788353dacd",
            "45e26040cd7448958dd655b099183dae",
            "51ddd85e5af14079b2db8ff72cbbcd48",
            "34acf95b5fda438fb929660b005bab09",
            "7264e02bd43d4078b3fbc7c590222d3a",
            "3908d5392b564cf2ad824c66cbaebf46",
            "1dab560d30444adfa7c38d6262fef294",
            "d70f5b9dbc2445d6ba6eb5acd1624118",
            "4f93504164fc46b2a5c4abdc88fc18e7",
            "4074e9d21b384955b9f8b92fd4c03894",
            "f4b7a9ca054646f8b28515185cc29c09",
            "24293429d5ad45969a28df3dbdedd62b",
            "8884cc9bf82949c6b9a31e0840bb7100",
            "c3e6d53e8dfa424eb68ff1dbcbb7557a",
            "205b197913e14913b55c6445a76fa8f3",
            "1d17c43956bd4beebe31f02583433d6b",
            "ef7e0af16a5b451f95cdabb9dee6182e",
            "0125d02e38b742eaac3a3bdae541ad5f",
            "12bcf5d59f154425a0e92ff7bb58597e",
            "0a2245029dca4c27b63c587cdb60db56",
            "a4923546d9da4bb187cb18df661c239d",
            "6ad03fde92474ccf9cd622e5d0f36702",
            "54948cbb5c4043ef899e4337b5e6e357",
            "085a2544ef98410cbecd35460b69f5b0",
            "0b2d9ebcbb5d4f71a4e3cb4d3e572fe9",
            "0f5774a55adb480e87e4d4aec93a46af",
            "3a66be1c92304835857927381edc7e2c",
            "bb2bf4e1c6304e889fe6cf3fbce9513b",
            "5f84c756469d42eab38265465e11ce46",
            "9a3ac15ceeb7456da081b507a7a64811",
            "9f9d3e0ce9364c82a56b1a7a6fbe1525",
            "433cab1979354eef96a890a29d4a4b07",
            "36f895af99b04142aad99a5095b32823",
            "54f8bcabaa90479982102a81a87e7727",
            "fc67c69efe6b4869a89a7c3b9ab14e11",
            "bdb9218b7d694ba19c8026f181030a99",
            "99d248dabb2640028af9ead253fe4e87",
            "724a30ebb7b74577a4dde8fedff54dd9",
            "e06fbf7d4090482699388fc26fa376f3",
            "5f96ec1ef16e4baeb6483d7ec170403b",
            "07a1f3b1a4174ce990d1eb8e2d76bde2",
            "6ab0bca0437745fdbeaab5642de7dd33",
            "f19b5ab12bd8493eb1fa0aa2cbd87dbf",
            "8b5e0c2cf87843ac88e8c814599664d4",
            "0db83e04af294b53bc00049789555592",
            "1f15b64c342f459898f8e4ab59538dd8",
            "0ba8da6832ea4494bbef99d468762565",
            "b46b2771644847bea44a3a1e0e453326",
            "8915fa1259a84bb3ae6d6957957122a5",
            "c636b2d38f59461e99f682b236d8817b",
            "be1a1701880449c99d3c0e2b4cf5ef1a",
            "5c08f7c5cc2f4407bd81268161541241",
            "e5907987538b491ea34f3b066bd7e1b2",
            "0cfba712fdf44d2caecf015548dd6f1c",
            "b7625232cc1547d3a198b0d7a9de4c4e",
            "1c6550185b6643b7927dc94b598ac584",
            "55788b99ce28455a847e94f6dcacafe4",
            "5ebb22c5c6c14ea4bb29d24b103723cb",
            "f2ef1cd04dfd48f8ae1d2d2d0902d80b",
            "419f0aca02de4f669903aea17438477b",
            "b85e1e2486944d48821bf1001ca60fc8",
            "aef2cdbc45714cbfbaaa3983f3a44c5f",
            "ece0b126d3e64b1982ca4de834fcc706",
            "264555175fc546c389fe41470254bf54",
            "8e1ffed5dda34c5ab7aaf215b0f061bb",
            "c1951ee152134c3f8fb2d66bcee48dd3",
            "875863827c24450a99c98eef61e45166",
            "2761d17331194249ae2fd51d08740514",
            "e7252173971d4dfc93f0ab20814cad3f",
            "1d8649b7e36146419f67242670e403d0",
            "3917d65283cc43b68d98b1a9103c4c62",
            "1a74f01632f2495399aa3ded3391f414",
            "fbac2fc9fcca4e8cb26e9bc1e41270c4",
            "7c1904cddd104a9d8df4133adad6c659",
            "28689dc7c2a14be2b9b8a24c765cf78a",
            "1498e9e5fbe24f6b816edf91024d9081",
            "39ed89e4870c4731a3b2715c2ab604c8",
            "e88cf260b0d74d3f8d44f4809a854b30",
            "e38dc72dff164a088045366b82d16430",
            "c6f399c869084e278ca08c31341a649e",
            "1d38984b879249f18e89e20c9f388bd3",
            "425604ba6fa54580967ec91862ab93b4",
            "dc802f3232b049a59c34bc51d0d56cbd",
            "5ad5d1442c0d451ca567813a8c8ec20b",
            "f304be2f01e84eefb47aee5b419cb4ef",
            "77db91937fba4ccbad7ace9962a42eb5",
            "eda2ab2177f340019cf9d227bf758057",
            "e9474ab11f084b218048ca8740e7a3c2",
            "726c7b1fbdb0456aa8e64bc3e6da9941",
            "719c4a09f4e1491fbe166682fbfb5681",
            "939f6f974083476c89bdde21a16b0df1",
            "ebf05226e91d4812979d70a4fee9ad94",
            "2370ffc1a40245e48b1307cacf5a680b",
            "53d5efef22aa4a3ba719ab09412d870e",
            "0e364ce371a44ff18336490cc5c62ce3",
            "a99a2b720e8a4cf581c0955a78bf479f",
            "c27a5ff75dae443198eeac8b9e3c887e",
            "647423601ded4a52bde2ad146e9c2764",
            "a2bf303d9f2641b2baf9eddc9eae3604",
            "e04f000800c94c339dda021ab9100a5e",
            "05b2bea9f7364def92b6bd2d4cdb9774",
            "409e3a3fab0a4e68a6d4665eeafb9350",
            "9779f7460130438a86d5974dbc8e6a3e",
            "2c43397d9e8c4ffd91d892762b83d04c",
            "51614bfd8bbc4adbbcf67f4853b7fb34",
            "e80530210aa04f76ac51eac258c6470b",
            "d2e94392aa3a408a84442e4d27176ac7",
            "0e14955b9d7f4d4e93a6704a536902b6",
            "efdbe987714f4876ae382e888fff20ec",
            "d1ad6453b32a47edab685e55c36a1bf3",
            "a4fee5317565460dac0612b72ac4759a",
            "f2129bc853da4915a0f52cf09cde8932",
            "26a6ab9f01784f9984ca4931e1485de2",
            "9fcd99fb6beb404b8a9a143eef0ee1b1",
            "dcadac5370da47a783a472d398ed6f78",
            "a43ed107fe0b4a2c96f82d9478986202",
            "056fb359f6c44b13846e6616551ed591",
            "8dd004b0b7c74502b5483ac4e18a6b66",
            "af8ff434c0984daea7a7c8a390a7d7cb",
            "f3fc882f702149da9b4239ba2673cec8",
            "6fe1509b3f494717b09415aaabc85f1d",
            "06dd229b359841d588b2e44946e9a9b1",
            "b5b1e88e332f40c2be48c81a7e31b0ce",
            "69f00f30741646d7b26b42b013087481",
            "18578785a55148b5b4a6b5df5830823c",
            "df0e54a119b04653bd383179a37be73e",
            "6c990934a6a64537bac86a77b4a8e4a1",
            "ae16c73da0364fdc94b0325899a0fe57",
            "41057907e0e4484c980b1ff479ebea20",
            "fff609382bec4b199ffb0e1c00c7a3cd",
            "6aaf040f27d64b578a11fa0e58f4e98f",
            "41e8f357ca6f4e69b37cb361e785a4a9",
            "58837de818b4436c97f04ad74ad8df8e",
            "9ff7483e7e48479fa577f26697956d54",
            "86eae2323e654572aad2e1e49350cac8",
            "f045a59665ba4678980cebceb17a44ca",
            "44b4f11b0c084def82f44cf85dcfbccd",
            "3fa6547fcc064a0e89cd1c628f4faa00",
            "16d089021fc24e66a82b99c78acb2ffb",
            "83638838c42249d9b44e6c9ebbb4b53b",
            "fe134e1cba9341bea0157a6ca0d36492"
          ]
        },
        "outputId": "b637fd34-aaf2-4e20-dcae-151c77507ee4"
      },
      "outputs": [
        {
          "output_type": "stream",
          "name": "stderr",
          "text": [
            "INFO:pytorch_lightning.utilities.rank_zero:GPU available: True (cuda), used: True\n",
            "INFO:pytorch_lightning.utilities.rank_zero:TPU available: False, using: 0 TPU cores\n",
            "INFO:pytorch_lightning.utilities.rank_zero:IPU available: False, using: 0 IPUs\n",
            "INFO:pytorch_lightning.utilities.rank_zero:HPU available: False, using: 0 HPUs\n",
            "INFO:pytorch_lightning.accelerators.cuda:LOCAL_RANK: 0 - CUDA_VISIBLE_DEVICES: [0]\n",
            "INFO:pytorch_lightning.callbacks.model_summary:\n",
            "  | Name    | Type    | Params\n",
            "------------------------------------\n",
            "0 | encoder | Encoder | 2.2 M \n",
            "1 | decoder | Decoder | 3.9 M \n",
            "------------------------------------\n",
            "6.1 M     Trainable params\n",
            "0         Non-trainable params\n",
            "6.1 M     Total params\n",
            "24.364    Total estimated model params size (MB)\n"
          ]
        },
        {
          "output_type": "display_data",
          "data": {
            "text/plain": [
              "Sanity Checking: 0it [00:00, ?it/s]"
            ],
            "application/vnd.jupyter.widget-view+json": {
              "version_major": 2,
              "version_minor": 0,
              "model_id": "d9268a59677640e89f376e3aef9f253d"
            }
          },
          "metadata": {}
        },
        {
          "output_type": "display_data",
          "data": {
            "text/plain": [
              "Training: 0it [00:00, ?it/s]"
            ],
            "application/vnd.jupyter.widget-view+json": {
              "version_major": 2,
              "version_minor": 0,
              "model_id": "9571998b513e489295628f894e227b1d"
            }
          },
          "metadata": {}
        },
        {
          "output_type": "display_data",
          "data": {
            "text/plain": [
              "Validation: 0it [00:00, ?it/s]"
            ],
            "application/vnd.jupyter.widget-view+json": {
              "version_major": 2,
              "version_minor": 0,
              "model_id": "33b170921ce44a9f94016a7b7bea4614"
            }
          },
          "metadata": {}
        },
        {
          "output_type": "stream",
          "name": "stdout",
          "text": [
            "train_loss: 0.84657222032547 train_acc 0.03632812574505806 val_loss: 0.5930325984954834 val_acc 0.1557765156030655\n"
          ]
        },
        {
          "output_type": "display_data",
          "data": {
            "text/plain": [
              "Validation: 0it [00:00, ?it/s]"
            ],
            "application/vnd.jupyter.widget-view+json": {
              "version_major": 2,
              "version_minor": 0,
              "model_id": "61c32805df30484984ce3e2c265afff6"
            }
          },
          "metadata": {}
        },
        {
          "output_type": "stream",
          "name": "stdout",
          "text": [
            "train_loss: 0.425315260887146 train_acc 0.15664061903953552 val_loss: 0.40888136625289917 val_acc 0.264404296875\n"
          ]
        },
        {
          "output_type": "display_data",
          "data": {
            "text/plain": [
              "Validation: 0it [00:00, ?it/s]"
            ],
            "application/vnd.jupyter.widget-view+json": {
              "version_major": 2,
              "version_minor": 0,
              "model_id": "17b2b8758f1845f3987dd7f884a64f50"
            }
          },
          "metadata": {}
        },
        {
          "output_type": "stream",
          "name": "stdout",
          "text": [
            "train_loss: 0.34677961468696594 train_acc 0.22761718928813934 val_loss: 0.39149725437164307 val_acc 0.32177734375\n"
          ]
        },
        {
          "output_type": "display_data",
          "data": {
            "text/plain": [
              "Validation: 0it [00:00, ?it/s]"
            ],
            "application/vnd.jupyter.widget-view+json": {
              "version_major": 2,
              "version_minor": 0,
              "model_id": "4074e9d21b384955b9f8b92fd4c03894"
            }
          },
          "metadata": {}
        },
        {
          "output_type": "stream",
          "name": "stdout",
          "text": [
            "train_loss: 0.29666441679000854 train_acc 0.2791796922683716 val_loss: 0.37658756971359253 val_acc 0.33740234375\n"
          ]
        },
        {
          "output_type": "display_data",
          "data": {
            "text/plain": [
              "Validation: 0it [00:00, ?it/s]"
            ],
            "application/vnd.jupyter.widget-view+json": {
              "version_major": 2,
              "version_minor": 0,
              "model_id": "a4923546d9da4bb187cb18df661c239d"
            }
          },
          "metadata": {}
        },
        {
          "output_type": "stream",
          "name": "stdout",
          "text": [
            "train_loss: 0.27114027738571167 train_acc 0.3204687535762787 val_loss: 0.3599121868610382 val_acc 0.3505859375\n"
          ]
        },
        {
          "output_type": "display_data",
          "data": {
            "text/plain": [
              "Validation: 0it [00:00, ?it/s]"
            ],
            "application/vnd.jupyter.widget-view+json": {
              "version_major": 2,
              "version_minor": 0,
              "model_id": "433cab1979354eef96a890a29d4a4b07"
            }
          },
          "metadata": {}
        },
        {
          "output_type": "stream",
          "name": "stdout",
          "text": [
            "train_loss: 0.2424185872077942 train_acc 0.3541210889816284 val_loss: 0.3565561771392822 val_acc 0.376953125\n"
          ]
        },
        {
          "output_type": "display_data",
          "data": {
            "text/plain": [
              "Validation: 0it [00:00, ?it/s]"
            ],
            "application/vnd.jupyter.widget-view+json": {
              "version_major": 2,
              "version_minor": 0,
              "model_id": "f19b5ab12bd8493eb1fa0aa2cbd87dbf"
            }
          },
          "metadata": {}
        },
        {
          "output_type": "stream",
          "name": "stdout",
          "text": [
            "train_loss: 0.23199914395809174 train_acc 0.38374999165534973 val_loss: 0.3538336753845215 val_acc 0.372314453125\n"
          ]
        },
        {
          "output_type": "display_data",
          "data": {
            "text/plain": [
              "Validation: 0it [00:00, ?it/s]"
            ],
            "application/vnd.jupyter.widget-view+json": {
              "version_major": 2,
              "version_minor": 0,
              "model_id": "0cfba712fdf44d2caecf015548dd6f1c"
            }
          },
          "metadata": {}
        },
        {
          "output_type": "stream",
          "name": "stdout",
          "text": [
            "train_loss: 0.2027105987071991 train_acc 0.41294920444488525 val_loss: 0.36698952317237854 val_acc 0.390625\n"
          ]
        },
        {
          "output_type": "display_data",
          "data": {
            "text/plain": [
              "Validation: 0it [00:00, ?it/s]"
            ],
            "application/vnd.jupyter.widget-view+json": {
              "version_major": 2,
              "version_minor": 0,
              "model_id": "8e1ffed5dda34c5ab7aaf215b0f061bb"
            }
          },
          "metadata": {}
        },
        {
          "output_type": "stream",
          "name": "stdout",
          "text": [
            "train_loss: 0.19274669885635376 train_acc 0.44212889671325684 val_loss: 0.36177995800971985 val_acc 0.39697265625\n"
          ]
        },
        {
          "output_type": "display_data",
          "data": {
            "text/plain": [
              "Validation: 0it [00:00, ?it/s]"
            ],
            "application/vnd.jupyter.widget-view+json": {
              "version_major": 2,
              "version_minor": 0,
              "model_id": "1498e9e5fbe24f6b816edf91024d9081"
            }
          },
          "metadata": {}
        },
        {
          "output_type": "stream",
          "name": "stdout",
          "text": [
            "train_loss: 0.17463023960590363 train_acc 0.4726952910423279 val_loss: 0.38713714480400085 val_acc 0.38330078125\n"
          ]
        },
        {
          "output_type": "display_data",
          "data": {
            "text/plain": [
              "Validation: 0it [00:00, ?it/s]"
            ],
            "application/vnd.jupyter.widget-view+json": {
              "version_major": 2,
              "version_minor": 0,
              "model_id": "eda2ab2177f340019cf9d227bf758057"
            }
          },
          "metadata": {}
        },
        {
          "output_type": "stream",
          "name": "stdout",
          "text": [
            "train_loss: 0.16194714605808258 train_acc 0.49687498807907104 val_loss: 0.3947337865829468 val_acc 0.37890625\n"
          ]
        },
        {
          "output_type": "display_data",
          "data": {
            "text/plain": [
              "Validation: 0it [00:00, ?it/s]"
            ],
            "application/vnd.jupyter.widget-view+json": {
              "version_major": 2,
              "version_minor": 0,
              "model_id": "647423601ded4a52bde2ad146e9c2764"
            }
          },
          "metadata": {}
        },
        {
          "output_type": "stream",
          "name": "stdout",
          "text": [
            "train_loss: 0.15340867638587952 train_acc 0.5243554711341858 val_loss: 0.3928261995315552 val_acc 0.39990234375\n"
          ]
        },
        {
          "output_type": "display_data",
          "data": {
            "text/plain": [
              "Validation: 0it [00:00, ?it/s]"
            ],
            "application/vnd.jupyter.widget-view+json": {
              "version_major": 2,
              "version_minor": 0,
              "model_id": "efdbe987714f4876ae382e888fff20ec"
            }
          },
          "metadata": {}
        },
        {
          "output_type": "stream",
          "name": "stdout",
          "text": [
            "train_loss: 0.1417335867881775 train_acc 0.5452343821525574 val_loss: 0.3968898057937622 val_acc 0.3974609375\n"
          ]
        },
        {
          "output_type": "display_data",
          "data": {
            "text/plain": [
              "Validation: 0it [00:00, ?it/s]"
            ],
            "application/vnd.jupyter.widget-view+json": {
              "version_major": 2,
              "version_minor": 0,
              "model_id": "f3fc882f702149da9b4239ba2673cec8"
            }
          },
          "metadata": {}
        },
        {
          "output_type": "stream",
          "name": "stdout",
          "text": [
            "train_loss: 0.13165974617004395 train_acc 0.5689452886581421 val_loss: 0.4086562395095825 val_acc 0.392822265625\n"
          ]
        },
        {
          "output_type": "display_data",
          "data": {
            "text/plain": [
              "Validation: 0it [00:00, ?it/s]"
            ],
            "application/vnd.jupyter.widget-view+json": {
              "version_major": 2,
              "version_minor": 0,
              "model_id": "6aaf040f27d64b578a11fa0e58f4e98f"
            }
          },
          "metadata": {}
        },
        {
          "output_type": "stream",
          "name": "stdout",
          "text": [
            "train_loss: 0.12221428006887436 train_acc 0.591503918170929 val_loss: 0.4070446491241455 val_acc 0.388671875\n"
          ]
        },
        {
          "output_type": "stream",
          "name": "stderr",
          "text": [
            "INFO:pytorch_lightning.utilities.rank_zero:`Trainer.fit` stopped: `max_epochs=15` reached.\n"
          ]
        }
      ],
      "source": [
        "# Model Initialization\n",
        "model = seq2seq(input_size = len(latin_chars), output_size = len(lang_chars),\n",
        "                embedding_size = 64, hidden_size = 256,encoder_layer_size = 2,\n",
        "                decoder_layer_size = 3,cell_type = nn.LSTM,\n",
        "                beam_width = 1,dropout= 0.3,\n",
        "                bidirectional =True ,learning_rate = 0.001)\n",
        "\n",
        "# Device Selection\n",
        "model = model.to(device)\n",
        "\n",
        "# Trainer Initialization\n",
        "trainer = pl.Trainer(max_epochs = 15)\n",
        "trainer.fit(model, train_dataloader,val_dataloader)\n"
      ]
    },
    {
      "cell_type": "markdown",
      "source": [
        "# Testing"
      ],
      "metadata": {
        "id": "5THj4tW7VNjo"
      }
    },
    {
      "cell_type": "code",
      "source": [
        "\n",
        "trainer.test(model, test_dataloader)\n"
      ],
      "metadata": {
        "id": "Bhx-zfgGhkC_",
        "colab": {
          "base_uri": "https://localhost:8080/",
          "height": 184,
          "referenced_widgets": [
            "a611e83d3b9a4846b3de081f816ed9b2",
            "5f963310f58441a488dce78a8a42057d",
            "50472d3afa804322864f01360cc8ac2e",
            "e94c7c75afe745cf9e7b40e312c079c4",
            "66a3e868111a40f9a79430ce9e36461f",
            "fdb4bcb0adf441a7a06b38b17aaf0909",
            "3653b592260344d9986772fe2894eb44",
            "3f6ec91aed8c4e66bd36f339cf1279a4",
            "d1068eefda584abbb870286eca47e4ce",
            "82213b4d88b94e6fba01adeb542c462d",
            "1428499914fd4343bd345b60c4a52711"
          ]
        },
        "outputId": "ac36f71f-ffae-4684-8c69-acc5b8f17206"
      },
      "execution_count": null,
      "outputs": [
        {
          "output_type": "stream",
          "name": "stderr",
          "text": [
            "INFO:pytorch_lightning.accelerators.cuda:LOCAL_RANK: 0 - CUDA_VISIBLE_DEVICES: [0]\n"
          ]
        },
        {
          "output_type": "display_data",
          "data": {
            "text/plain": [
              "Testing: 0it [00:00, ?it/s]"
            ],
            "application/vnd.jupyter.widget-view+json": {
              "version_major": 2,
              "version_minor": 0,
              "model_id": "a611e83d3b9a4846b3de081f816ed9b2"
            }
          },
          "metadata": {}
        },
        {
          "output_type": "display_data",
          "data": {
            "text/plain": [
              "┏━━━━━━━━━━━━━━━━━━━━━━━━━━━┳━━━━━━━━━━━━━━━━━━━━━━━━━━━┓\n",
              "┃\u001b[1m \u001b[0m\u001b[1m       Test metric       \u001b[0m\u001b[1m \u001b[0m┃\u001b[1m \u001b[0m\u001b[1m      DataLoader 0       \u001b[0m\u001b[1m \u001b[0m┃\n",
              "┡━━━━━━━━━━━━━━━━━━━━━━━━━━━╇━━━━━━━━━━━━━━━━━━━━━━━━━━━┩\n",
              "│\u001b[36m \u001b[0m\u001b[36m        test_acc         \u001b[0m\u001b[36m \u001b[0m│\u001b[35m \u001b[0m\u001b[35m     0.385009765625      \u001b[0m\u001b[35m \u001b[0m│\n",
              "│\u001b[36m \u001b[0m\u001b[36m        test_loss        \u001b[0m\u001b[36m \u001b[0m│\u001b[35m \u001b[0m\u001b[35m   0.4767957627773285    \u001b[0m\u001b[35m \u001b[0m│\n",
              "└───────────────────────────┴───────────────────────────┘\n"
            ],
            "text/html": [
              "<pre style=\"white-space:pre;overflow-x:auto;line-height:normal;font-family:Menlo,'DejaVu Sans Mono',consolas,'Courier New',monospace\">┏━━━━━━━━━━━━━━━━━━━━━━━━━━━┳━━━━━━━━━━━━━━━━━━━━━━━━━━━┓\n",
              "┃<span style=\"font-weight: bold\">        Test metric        </span>┃<span style=\"font-weight: bold\">       DataLoader 0        </span>┃\n",
              "┡━━━━━━━━━━━━━━━━━━━━━━━━━━━╇━━━━━━━━━━━━━━━━━━━━━━━━━━━┩\n",
              "│<span style=\"color: #008080; text-decoration-color: #008080\">         test_acc          </span>│<span style=\"color: #800080; text-decoration-color: #800080\">      0.385009765625       </span>│\n",
              "│<span style=\"color: #008080; text-decoration-color: #008080\">         test_loss         </span>│<span style=\"color: #800080; text-decoration-color: #800080\">    0.4767957627773285     </span>│\n",
              "└───────────────────────────┴───────────────────────────┘\n",
              "</pre>\n"
            ]
          },
          "metadata": {}
        },
        {
          "output_type": "execute_result",
          "data": {
            "text/plain": [
              "[{'test_loss': 0.4767957627773285, 'test_acc': 0.385009765625}]"
            ]
          },
          "metadata": {},
          "execution_count": 36
        }
      ]
    },
    {
      "cell_type": "markdown",
      "source": [
        "# predictions_vanilla csv"
      ],
      "metadata": {
        "id": "4SiVLmSTkSSl"
      }
    },
    {
      "cell_type": "code",
      "source": [
        "import csv \n",
        "\n",
        "data = test_data\n",
        "data1= test_data.T\n",
        "rows = []\n",
        "\n",
        "model = model.to(device)\n",
        "# Prediction Loop\n",
        "for i in range(0,len(data)):\n",
        "  # model.eval()\n",
        "  word =  [2]+[latin_chars.get(char,latin_chars['<UNK>']) for char in data1[i][0]] + [0]*(latin_max_length - len(data1[i][0]))+[3]\n",
        "  latin_tensor = torch.tensor(word[:latin_max_length+2]).to(device)\n",
        "  latin_tensor = latin_tensor.view(-1,latin_max_length+2).to(device)\n",
        "  output = model.forward(latin_tensor,tf=0).to(device)\n",
        "  lang_word = \"\"\n",
        "  output_ = torch.argmax(output,2)\n",
        "  for num in output_:\n",
        "    if (num == 0): break\n",
        "    lang_word += lang_chars_num[num.item()]\n",
        "  rows.append([data1[i][0],data1[i][1],lang_word ])\n",
        "\n",
        "cols = ['Input', 'Expected', 'Predicted'] \n",
        "\n",
        "# Saving to CSV\n",
        "with open(\"predictions_vanilla.csv\",\"w\") as csvfile:\n",
        "  writer = csv.writer(csvfile)\n",
        "  writer.writerow(cols)\n",
        "  writer.writerows(rows)"
      ],
      "metadata": {
        "id": "gd2XzuHUzdye"
      },
      "execution_count": null,
      "outputs": []
    },
    {
      "cell_type": "code",
      "source": [
        "\n"
      ],
      "metadata": {
        "id": "KvaxI3Vu05vQ"
      },
      "execution_count": null,
      "outputs": []
    },
    {
      "cell_type": "markdown",
      "source": [
        "# Attention Encoder"
      ],
      "metadata": {
        "id": "1WOb0wH8cpvI"
      }
    },
    {
      "cell_type": "code",
      "source": [
        "class AttnEncoder(nn.Module):\n",
        "  ''' This is the model class used to define the Encoder structure and to train the neural network on given parameters'''\n",
        "  def __init__(self,input_size,embedding_size,hidden_size,layers,cell_type,bidirectional,dropout):\n",
        "    '''\n",
        "      input_size: The size of the input vocabulary or the number of distinct tokens.\n",
        "      embedding_size: The size of the embedding vectors for each token.\n",
        "      hidden_size: The size of the hidden state of the RNN cell.\n",
        "      layers: The number of layers in the RNN.\n",
        "      cell_type: The type of the RNN cell (nn.RNN, nn.GRU, nn.LSTM).  \n",
        "      bidirectional: A boolean flag indicating whether the RNN is bidirectional or not.\n",
        "      dropout: The dropout probability for the RNN layers\n",
        "    '''\n",
        "    super(AttnEncoder,self).__init__()\n",
        "    self.cell_type = cell_type\n",
        "    self.embedding = nn.Embedding(input_size,embedding_size)\n",
        "    self.rnn = cell_type(embedding_size,hidden_size,layers,bidirectional = bidirectional,dropout=dropout)\n",
        "  # Forward method\n",
        "  def forward(self,x):\n",
        "    embedding = self.embedding(x)\n",
        "    output,hidden = self.rnn(embedding)\n",
        "    return output,hidden"
      ],
      "metadata": {
        "id": "TPFJa0qK05-V"
      },
      "execution_count": null,
      "outputs": []
    },
    {
      "cell_type": "markdown",
      "metadata": {
        "id": "la77fSS2DDOa"
      },
      "source": [
        "# Attention Decoder"
      ]
    },
    {
      "cell_type": "code",
      "execution_count": null,
      "metadata": {
        "id": "lRIohj6jDMpK"
      },
      "outputs": [],
      "source": [
        "\n",
        "class AttnDecoder(nn.Module):\n",
        "  ''' This is the model class used to define the AttnDecoder structure and to train the neural network on given parameters'''\n",
        "  def __init__(self,output_size,embedding_size,hidden_size,layers,cell_type,bidirectional,dropout,max_length):\n",
        "    '''\n",
        "      output_size: The size of the decoder output vocabulary.\n",
        "      embedding_size: The size of the embedding layer.\n",
        "      hidden_size: The size of the hidden state in the decoder.\n",
        "      layers: The number of layers in the decoder.\n",
        "      cell_type: The type of the RNN cell (nn.RNN, nn.GRU, nn.LSTM).  \n",
        "      bidirectional: A boolean flag indicating whether the decoder is bidirectional or not.\n",
        "      dropout: The dropout rate.\n",
        "      max_length: The maximum length of input sequences.\n",
        "    '''\n",
        "    super(AttnDecoder,self).__init__()\n",
        "    self.cell_type = cell_type\n",
        "\n",
        "    self.embedding = nn.Embedding(output_size,embedding_size) \n",
        "\n",
        "    self.attn = nn.Linear(hidden_size+embedding_size , max_length)\n",
        "\n",
        "    self.rnn = cell_type(hidden_size,hidden_size,layers,bidirectional = bidirectional,dropout=dropout)\n",
        "\n",
        "    #  A linear layer that combines the attention context vector with the hidden state.\n",
        "    if bidirectional:\n",
        "      self.out = nn.Linear(hidden_size*2,output_size) \n",
        "      self.attn_combine = nn.Linear(hidden_size*2 +embedding_size, hidden_size)\n",
        "    else :\n",
        "      self.out = nn.Linear(hidden_size,output_size) \n",
        "      self.attn_combine = nn.Linear(hidden_size +embedding_size, hidden_size)\n",
        "\n",
        "    \n",
        "  def forward(self,x,hidden,encoder_output):\n",
        "    x = x.unsqueeze(1).transpose(0,1)\n",
        "\n",
        "    embedding = self.embedding(x)\n",
        "\n",
        "    if(self.cell_type == nn.LSTM) :\n",
        "      hidden1= hidden[0][0]\n",
        "    else:\n",
        "      hidden1 = hidden[0]\n",
        "    # Computes attention weights by concatenating the embedded input and the current hidden state and passing it through the attn linear layer\n",
        "    attn_weights = functional.softmax(\n",
        "      self.attn(torch.cat((embedding[0],hidden1) , 1)) , dim =1)\n",
        "    attn_applied = torch.bmm(attn_weights.unsqueeze(1),\n",
        "                           encoder_output.permute(1,0,2) )\n",
        "\n",
        "    # Concatenates the embedded input and the attention context vector and passes it through the attn_combine linear layer.   \n",
        "    output = torch.cat((embedding[0], attn_applied.squeeze(1)), 1)\n",
        " \n",
        "    output = self.attn_combine(output).unsqueeze(0)\n",
        "\n",
        "    output = functional.relu(output)\n",
        "    \n",
        "    output,hidden = self.rnn(output,hidden)\n",
        "    \n",
        "    output = self.out(output.squeeze(0))\n",
        "    # attn_weights=attn_weights.permute(1,0)\n",
        "    return output,hidden,attn_weights\n",
        "\n",
        "\n"
      ]
    },
    {
      "cell_type": "markdown",
      "metadata": {
        "id": "fpy3CcADEeyO"
      },
      "source": [
        "# Model"
      ]
    },
    {
      "cell_type": "code",
      "execution_count": null,
      "metadata": {
        "id": "talGkMVGEhgN"
      },
      "outputs": [],
      "source": [
        "\n",
        "class Attn2seq(pl.LightningModule):\n",
        "  def __init__(self,input_size,output_size,embedding_size,hidden_size,encoder_layer_size,decoder_layer_size,cell_type,beam_width,dropout,bidirectional,learning_rate=0.0001):\n",
        "    '''\n",
        "      input_size: The size of the input vocabulary or the number of distinct tokens.\n",
        "      output_size: The size of the output vocabulary or the number of distinct tokens.\n",
        "      embedding_size: The size of the embedding vectors for each token.\n",
        "      hidden_size: The size of the hidden state of the RNN cells in the encoder and decoder.\n",
        "      encoder_layer_size: The number of layers in the encoder.\n",
        "      decoder_layer_size: The number of layers in the decoder.\n",
        "      cell_type: The type of the RNN cell (nn.RNN, nn.GRU, nn.LSTM).  \n",
        "      beam_width: The width of the beam search during inference.\n",
        "      dropout: The dropout probability for the RNN layers.\n",
        "      bidirectional: A boolean flag indicating whether the RNN layers are bidirectional or not.\n",
        "      learning_rate: The learning rate for the optimizer (default is 0.0001)\n",
        "    '''\n",
        "    super(Attn2seq,self).__init__()\n",
        "    self.output_size = output_size\n",
        "    self.input_size = input_size\n",
        "    self.lang_max_length = lang_max_length+2\n",
        "    self.latin_max_length = latin_max_length+2\n",
        "    self.cell_type = cell_type\n",
        "    self.train_step_acc = []\n",
        "    self.train_step_loss = []\n",
        "    self.val_step_acc = []\n",
        "    self.val_step_loss = []\n",
        "    self.decoder_layer_size = decoder_layer_size #*  2 if bidirectional else 1\n",
        "    self.bidirectional = bidirectional\n",
        "    self.encoder_layer_size = encoder_layer_size \n",
        "    self.beam_width = beam_width\n",
        "    self.encoder = AttnEncoder(input_size,embedding_size,hidden_size,encoder_layer_size,cell_type,bidirectional,dropout)\n",
        "    self.decoder = AttnDecoder(output_size,embedding_size,hidden_size,decoder_layer_size,cell_type,bidirectional,dropout,latin_max_length+2)\n",
        "    self.learning_rate = learning_rate\n",
        "\n",
        "  def beam_search(self,hidden,input,beam_width,output_len,output_seq):\n",
        "    queue = []\n",
        "    queue.append((input,1,hidden))\n",
        "    for t in range(output_len):\n",
        "      queue_temp = []\n",
        "      for i in range(len(queue)):\n",
        "        (input,prob_parent,hidden) = queue[i]\n",
        "        output_rnn,hidden = self.decoder( input ,hidden)\n",
        "        prob , index = torch.topk(output_rnn,beam_width)\n",
        "        output_rnn = output_rnn.squeeze(1)\n",
        "        for j in range(beam_width):\n",
        "          prob_score = prob_parent*prob[0][j]\n",
        "          if (prob_score > 1e-5):\n",
        "            queue_temp.append((torch.tensor([index[0][j]]).to(device),prob_score,hidden))\n",
        "      output_seq[t] = output_rnn\n",
        "      queue = sorted(queue_temp,key = lambda x:x[1] , reverse = True)[:beam_width]\n",
        "    return  output_seq\n",
        "\n",
        "  def forward(self,input,output=[],tf = 0.5) :\n",
        "    '''\n",
        "    The forward method defines the forward pass of the Attn2seq model. \n",
        "    It takes an input tensor input, an optional output tensor output, and a teacher-forcing ratio tf as inputs\n",
        "    '''\n",
        "    batch_size = input.shape[0]\n",
        "    output_size = self.output_size\n",
        "    input_size = self.input_size\n",
        "\n",
        "    bidir = 2 if self.bidirectional else 1\n",
        "    \n",
        "    output_encoder,hidden = self.encoder(input.transpose(0,1))\n",
        "\n",
        "    output_seq = torch.zeros(self.lang_max_length,batch_size,output_size).to(device)\n",
        "    attn_weights = torch.zeros(self.lang_max_length,batch_size,self.latin_max_length).to(device)\n",
        "\n",
        "    if tf > 0:\n",
        "      output = output.transpose(0,1)\n",
        "    next_input = torch.tensor([2]*batch_size).to(device)\n",
        "    for t in range(self.lang_max_length):\n",
        "      output_rnn,hidden,attn_weights[t] = self.decoder( next_input ,hidden,output_encoder)\n",
        "      output_seq[t] = output_rnn.squeeze(1)\n",
        "      next_input =  output_seq[t].argmax(1) if  tf < torch.rand(1).item() else output[:,t]\n",
        "    return output_seq,attn_weights\n",
        "\n",
        "  def training_step(self,batch):\n",
        "    '''\n",
        "    The training_step method is called during the training loop for each batch of data. \n",
        "    It takes a batch of input-output pairs as input\n",
        "    '''\n",
        "    input,output = batch\n",
        "    output = output.permute(1,0)\n",
        "\n",
        "    # Calling forward \n",
        "    output_seq,attn_weights= self(input,output)\n",
        "    output = output.permute(1,0)\n",
        "\n",
        "    output_seq_2 = torch.zeros(output_seq.shape).to(device)\n",
        "    batch_n = np.arange(len(output_seq))\n",
        "\n",
        "    for f in range(len(output)):\n",
        "      col = output[f]\n",
        "      output_seq_2[batch_n,f,np.array(col.cpu())] = 1\n",
        "    output_dim = output_seq.shape[-1]\n",
        "    output_seq_t1 = output_seq[1:].view(-1,output_dim)\n",
        "    output_seq_t2 = output_seq_2[1:].view(-1,output_dim)\n",
        "    # Computing the cross-entropy loss between the predicted output sequence and the true output sequence\n",
        "    loss = nn.CrossEntropyLoss()\n",
        "    loss = loss(output_seq_t1,output_seq_t2).mean()\n",
        "    output = output.permute(1,0)\n",
        "\n",
        "    # Computing the accuracy by comparing the predicted output with the true output.\n",
        "    output_ = torch.argmax(output_seq,2)\n",
        "    acc_1 = torch.all(output_[1:-1,:] == output[1:-1,:],dim=0)\n",
        "    acc = torch.sum(acc_1 == True)/len(acc_1)\n",
        "\n",
        "    # Logging the loss and accuracy metrics using the self.log method.\n",
        "    self.log('train_loss', loss,on_epoch = True,on_step = False,prog_bar=True)\n",
        "    self.train_step_loss.append(loss)\n",
        "    self.log('train_acc', acc,on_epoch = True,on_step = False,prog_bar=True)\n",
        "    self.train_step_acc.append(acc)\n",
        "\n",
        "    return loss\n",
        "\n",
        "\n",
        "\n",
        "  def on_train_epoch_end(self):\n",
        "    '''\n",
        "    The on_train_epoch_end method is called at the end of each training epoch. \n",
        "    It calculates the average training loss and accuracy over the epoch, as well as the average validation loss and accuracy .\n",
        "    '''\n",
        "    train_acc =  torch.stack(self.train_step_acc).mean()\n",
        "    train_loss =  torch.stack(self.train_step_loss).mean()\n",
        "    val_acc =  torch.stack(self.val_step_acc).mean()\n",
        "    val_loss =  torch.stack(self.val_step_loss).mean()\n",
        "    print(\"train_loss:\",train_loss.item(),\"train_acc\",train_acc.item(),\"val_loss:\",val_loss.item(),\"val_acc\",val_acc.item())\n",
        "    # wandb.log({\"train_loss\":train_loss.item(),\"train_acc\":train_acc.item(),\"val_loss\":val_loss.item(),\"val_acc\":val_acc.item()})\n",
        "    self.train_step_acc.clear() \n",
        "    self.train_step_loss.clear() \n",
        "    self.val_step_acc.clear() \n",
        "    self.val_step_loss.clear() \n",
        "\n",
        "\n",
        "  def validation_step(self, batch,batch_idx):\n",
        "    '''\n",
        "    The validation_step method is similar to the training_step method but is called during the validation loop for each batch of data.\n",
        "    It computes the loss and accuracy metrics for the validation data\n",
        "    '''\n",
        "    input,output = batch\n",
        "    output = output.permute(1,0)\n",
        "    # Calling forward \n",
        "    output_seq,attn_weights = self(input,output,0)\n",
        "    output = output.permute(1,0)\n",
        "\n",
        "    output_seq_2 = torch.zeros(output_seq.shape).to(device)\n",
        "    batch_n = np.arange(len(output_seq))\n",
        "\n",
        "    for f in range(len(output)):\n",
        "      col = output[f]\n",
        "      output_seq_2[batch_n,f,np.array(col.cpu())] = 1\n",
        "\n",
        "    output_dim = output_seq.shape[-1]\n",
        "  \n",
        "    output_seq_t1 = output_seq[1:].view(-1,output_dim)\n",
        "    output_seq_t2 = output_seq_2[1:].view(-1,output_dim)\n",
        "\n",
        "    # Computing the cross-entropy loss between the predicted output sequence and the true output sequence\n",
        "    loss = nn.CrossEntropyLoss()\n",
        "    loss = loss(output_seq_t1,output_seq_t2).mean()\n",
        "    output = output.permute(1,0)\n",
        "\n",
        "    # Computing the accuracy by comparing the predicted output with the true output.\n",
        "    output_ = torch.argmax(output_seq,2)\n",
        "    acc_1 = torch.all(output_[1:-1,:] == output[1:-1,:],dim=0)\n",
        "    acc = torch.sum(acc_1 == True)/len(acc_1)\n",
        "\n",
        "    # Logging the loss and accuracy metrics using the self.log method.\n",
        "    self.log('val_loss', loss,on_epoch = True,on_step = False,prog_bar=True)\n",
        "    self.val_step_loss.append(loss)\n",
        "    self.log('val_acc', acc,on_epoch = True,on_step = False,prog_bar=True)\n",
        "    self.val_step_acc.append(acc)\n",
        "\n",
        "    return loss\n",
        "\n",
        "    \n",
        "\n",
        "  def configure_optimizers(self):\n",
        "    '''\n",
        "    The configure_optimizers method is used to configure the optimizer for the model. \n",
        "    In this case, it returns an Adam optimizer with the learning rate specified during initialization.\n",
        "    '''\n",
        "    return torch.optim.Adam(self.parameters(),lr= self.learning_rate)\n",
        "\n",
        "\n",
        "\n",
        "  def test_step(self, batch,batch_idx):\n",
        "    '''\n",
        "    The test_step method is similar to the training_step method but is called during the testing loop for each batch of data.\n",
        "    It computes the loss and accuracy metrics for the testing data\n",
        "    '''\n",
        "    input,output = batch\n",
        "    output = output.permute(1,0)\n",
        "    # Calling forward \n",
        "    output_seq,attn_weights = self(input,output,0)\n",
        "    output = output.permute(1,0)\n",
        "\n",
        "    output_seq_2 = torch.zeros(output_seq.shape).to(device)\n",
        "    batch_n = np.arange(len(output_seq))\n",
        "\n",
        "    for f in range(len(output)):\n",
        "      col = output[f]\n",
        "      output_seq_2[batch_n,f,np.array(col.cpu())] = 1\n",
        "\n",
        "    output_dim = output_seq.shape[-1]\n",
        "  \n",
        "    output_seq_t1 = output_seq[1:].view(-1,output_dim)\n",
        "    output_seq_t2 = output_seq_2[1:].view(-1,output_dim)\n",
        "\n",
        "    # Computing the cross-entropy loss between the predicted output sequence and the true output sequence\n",
        "    loss = nn.CrossEntropyLoss()\n",
        "    loss = loss(output_seq_t1,output_seq_t2).mean()\n",
        "    output = output.permute(1,0)\n",
        "\n",
        "    # Computing the accuracy by comparing the predicted output with the true output.\n",
        "    output_ = torch.argmax(output_seq,2)\n",
        "    acc_1 = torch.all(output_[1:-1,:] == output[1:-1,:],dim=0)\n",
        "    acc = torch.sum(acc_1 == True)/len(acc_1)\n",
        "\n",
        "    # Logging the loss and accuracy metrics using the self.log method.\n",
        "    self.log('val_loss', loss,on_epoch = True,on_step = False,prog_bar=True)\n",
        "    self.val_step_loss.append(loss)\n",
        "    self.log('val_acc', acc,on_epoch = True,on_step = False,prog_bar=True)\n",
        "    self.val_step_acc.append(acc)\n",
        "\n",
        "    return loss\n"
      ]
    },
    {
      "cell_type": "markdown",
      "metadata": {
        "id": "wGn-q7HuYuho"
      },
      "source": [
        "\n",
        "# Sweep Config"
      ]
    },
    {
      "cell_type": "code",
      "execution_count": null,
      "metadata": {
        "id": "AsX9MeVTEli8"
      },
      "outputs": [],
      "source": [
        "\n",
        "\n",
        "config= {\n",
        "    'method': 'bayes',\n",
        "    'name': 'sweep',\n",
        "    'metric': {\n",
        "        'goal': 'maximize', \n",
        "        'name': 'val_acc'\n",
        "      },\n",
        "    \"parameters\":\n",
        "    {\n",
        "      \n",
        "    \"bidirectional\" :{\n",
        "        \"values\" : [True,False]\n",
        "    },\n",
        "    \"dropout\" :{\n",
        "        \"values\" : [0,0.2,0.3]\n",
        "    },\n",
        "    \"cell_type\" :{\n",
        "          \"values\" : [\"RNN\", \"GRU\", \"LSTM\"]\n",
        "    },\n",
        "      \"epochs\" :{\n",
        "          \"values\" : [10,  15, 20]\n",
        "    },\n",
        "      \"embedding_size\" :{\n",
        "          \"values\" : [16,32,64,256]\n",
        "    },\n",
        "     \"layers\" :{\n",
        "          \"values\" : [1,2,3]\n",
        "    },\n",
        "      \"hidden_layer_size\" :{\n",
        "          \"values\" : [16,32,64,256]\n",
        "    },\n",
        "\n",
        "      \"learning_rate\" :{\n",
        "          \"values\" : [1e-3,1e-4]\n",
        "    },\n",
        "      \"batch_size\" :{\n",
        "          \"values\" : [32,64,128,256]\n",
        "    }\n",
        "\n",
        "    }\n",
        "\n",
        "}\n"
      ]
    },
    {
      "cell_type": "markdown",
      "metadata": {
        "id": "0PbMUSStY4rm"
      },
      "source": [
        "# Sweep Function"
      ]
    },
    {
      "cell_type": "code",
      "execution_count": null,
      "metadata": {
        "id": "wLgcFoCIFOh1",
        "colab": {
          "base_uri": "https://localhost:8080/",
          "height": 223
        },
        "outputId": "3b6bc107-c4dd-47a0-c412-ca1b8988b1f4"
      },
      "outputs": [
        {
          "output_type": "error",
          "ename": "NameError",
          "evalue": "ignored",
          "traceback": [
            "\u001b[0;31m---------------------------------------------------------------------------\u001b[0m",
            "\u001b[0;31mNameError\u001b[0m                                 Traceback (most recent call last)",
            "\u001b[0;32m<ipython-input-26-b6092bfc8b71>\u001b[0m in \u001b[0;36m<cell line: 37>\u001b[0;34m()\u001b[0m\n\u001b[1;32m     35\u001b[0m \u001b[0;34m\u001b[0m\u001b[0m\n\u001b[1;32m     36\u001b[0m \u001b[0;34m\u001b[0m\u001b[0m\n\u001b[0;32m---> 37\u001b[0;31m \u001b[0msweep_id\u001b[0m \u001b[0;34m=\u001b[0m \u001b[0mwandb\u001b[0m\u001b[0;34m.\u001b[0m\u001b[0msweep\u001b[0m\u001b[0;34m(\u001b[0m\u001b[0mconfig\u001b[0m\u001b[0;34m,\u001b[0m\u001b[0mproject\u001b[0m\u001b[0;34m=\u001b[0m\u001b[0;34m\"Assignment-03\"\u001b[0m\u001b[0;34m,\u001b[0m \u001b[0mentity\u001b[0m \u001b[0;34m=\u001b[0m \u001b[0;34m\"saisreeram\"\u001b[0m\u001b[0;34m)\u001b[0m\u001b[0;34m\u001b[0m\u001b[0;34m\u001b[0m\u001b[0m\n\u001b[0m\u001b[1;32m     38\u001b[0m \u001b[0mwandb\u001b[0m\u001b[0;34m.\u001b[0m\u001b[0magent\u001b[0m\u001b[0;34m(\u001b[0m\u001b[0msweep_id\u001b[0m\u001b[0;34m,\u001b[0m \u001b[0msweeprun\u001b[0m\u001b[0;34m)\u001b[0m\u001b[0;34m\u001b[0m\u001b[0;34m\u001b[0m\u001b[0m\n",
            "\u001b[0;31mNameError\u001b[0m: name 'config' is not defined"
          ]
        }
      ],
      "source": [
        "\n",
        "cell_map = {\"RNN\":nn.RNN, \"GRU\":nn.GRU, \"LSTM\":nn.LSTM}\n",
        "def sweeprun():\n",
        "\n",
        "  wandb.init()\n",
        "  bidirectional = wandb.config.bidirectional\n",
        "  dropout = wandb.config.dropout\n",
        "  cell_type = wandb.config.cell_type\n",
        "\n",
        "  encoder_layers = wandb.config.layers\n",
        "  decoder_layers = wandb.config.layers\n",
        "  epochs = wandb.config.epochs\n",
        "  learning_rate = wandb.config.learning_rate\n",
        "  batch_size = wandb.config.batch_size\n",
        "  embedding_size = wandb.config.embedding_size\n",
        "  hidden_layer_size = wandb.config.hidden_layer_size\n",
        "\n",
        "  run_name = \"lr_{}_rnn_{}_dp_{}_bd_{}_el_{}_dl_{}_ep_{}_es_{}_hs_{}_bs_{}\".format(learning_rate,cell_type, dropout, bidirectional,encoder_layers, decoder_layers,epochs,embedding_size,hidden_layer_size,batch_size)\n",
        "\n",
        "  train_dataloader = DataLoader(train_data_pairs, batch_size=batch_size, shuffle=True)\n",
        "  val_dataloader = DataLoader(val_data_pairs, batch_size=batch_size, shuffle=False)\n",
        "\n",
        "  cell_type = cell_map[cell_type]\n",
        "  model = Attn2seq(input_size = len(latin_chars), output_size = len(lang_chars),\n",
        "                embedding_size = embedding_size, hidden_size = hidden_layer_size,encoder_layer_size = encoder_layers,\n",
        "                decoder_layer_size = decoder_layers,cell_type = cell_type,\n",
        "                beam_width = 1,dropout= dropout,\n",
        "                bidirectional =bidirectional ,learning_rate = learning_rate)\n",
        "  model.to(device)\n",
        "\n",
        "  trainer = pl.Trainer(max_epochs=epochs,accelerator = 'gpu') \n",
        "  trainer.fit(model, train_dataloader,val_dataloader)\n",
        "\n",
        "  wandb.run.name = run_name\n",
        "  wandb.finish()\n",
        "\n",
        "\n",
        "\n",
        "sweep_id = wandb.sweep(config,project=\"Assignment-3-hin-02\", entity = \"saisreeram\")\n",
        "wandb.agent(sweep_id, sweeprun)"
      ]
    },
    {
      "cell_type": "markdown",
      "metadata": {
        "id": "yG9TRpW9n1yp"
      },
      "source": [
        "\n",
        "# Model Training on Best Model"
      ]
    },
    {
      "cell_type": "code",
      "execution_count": null,
      "metadata": {
        "id": "6UWfslDVgKjE"
      },
      "outputs": [],
      "source": [
        "# Model Initialization\n",
        "\n",
        "model = Attn2seq(input_size = len(latin_chars), output_size = len(lang_chars),\n",
        "                embedding_size = 16, hidden_size = 256,encoder_layer_size = 3,\n",
        "                decoder_layer_size = 3,cell_type = nn.LSTM,\n",
        "                beam_width = 1,dropout= 0.3,\n",
        "                bidirectional =True ,learning_rate = 0.001)\n",
        "# Device Selection\n",
        "model.to(device)\n",
        "\n",
        "\n",
        "# Trainer Initialization\n",
        "\n",
        "trainer = pl.Trainer(max_epochs = 10)\n",
        "trainer.fit(model, train_dataloader,val_dataloader)\n"
      ]
    },
    {
      "cell_type": "markdown",
      "source": [
        "# Testing"
      ],
      "metadata": {
        "id": "cjaTfh78xSU0"
      }
    },
    {
      "cell_type": "code",
      "source": [],
      "metadata": {
        "id": "1Hi6kQsMMmTC"
      },
      "execution_count": null,
      "outputs": []
    },
    {
      "cell_type": "code",
      "source": [
        "trainer.test(model, test_dataloader)\n"
      ],
      "metadata": {
        "id": "G1-3QZxzxRpB",
        "colab": {
          "base_uri": "https://localhost:8080/",
          "height": 184,
          "referenced_widgets": [
            "1c357d402dee490fbfe6a6e430185a33",
            "2968d0b9027f4aaea639ec9d1cd63b99",
            "cd13898aa46c40b5b28510cd7b783a09",
            "2d7451bb99f14b52ac50d773a5318e89",
            "56a20eacca684c2fb7115d8a49bbe822",
            "5dc1fe0e85a5457b8648049c8faccf23",
            "bc8f07a6f74244b78a3c27ff4aa1f0b8",
            "c976582cd3a94c5d8d46bc8192a5a2fe",
            "499f81e964564013bde272756af0b64c",
            "8c5699b6952540efadf194ab61b72f47",
            "9a88f3925b754ec8812de031312f24bc"
          ]
        },
        "outputId": "e0f479a4-3fb0-41d3-91ab-e402473bedb5"
      },
      "execution_count": null,
      "outputs": [
        {
          "output_type": "stream",
          "name": "stderr",
          "text": [
            "INFO:pytorch_lightning.accelerators.cuda:LOCAL_RANK: 0 - CUDA_VISIBLE_DEVICES: [0]\n"
          ]
        },
        {
          "output_type": "display_data",
          "data": {
            "text/plain": [
              "Testing: 0it [00:00, ?it/s]"
            ],
            "application/vnd.jupyter.widget-view+json": {
              "version_major": 2,
              "version_minor": 0,
              "model_id": "1c357d402dee490fbfe6a6e430185a33"
            }
          },
          "metadata": {}
        },
        {
          "output_type": "display_data",
          "data": {
            "text/plain": [
              "┏━━━━━━━━━━━━━━━━━━━━━━━━━━━┳━━━━━━━━━━━━━━━━━━━━━━━━━━━┓\n",
              "┃\u001b[1m \u001b[0m\u001b[1m       Test metric       \u001b[0m\u001b[1m \u001b[0m┃\u001b[1m \u001b[0m\u001b[1m      DataLoader 0       \u001b[0m\u001b[1m \u001b[0m┃\n",
              "┡━━━━━━━━━━━━━━━━━━━━━━━━━━━╇━━━━━━━━━━━━━━━━━━━━━━━━━━━┩\n",
              "│\u001b[36m \u001b[0m\u001b[36m        test_acc         \u001b[0m\u001b[36m \u001b[0m│\u001b[35m \u001b[0m\u001b[35m      0.2197265625       \u001b[0m\u001b[35m \u001b[0m│\n",
              "│\u001b[36m \u001b[0m\u001b[36m        test_loss        \u001b[0m\u001b[36m \u001b[0m│\u001b[35m \u001b[0m\u001b[35m   0.5098096132278442    \u001b[0m\u001b[35m \u001b[0m│\n",
              "└───────────────────────────┴───────────────────────────┘\n"
            ],
            "text/html": [
              "<pre style=\"white-space:pre;overflow-x:auto;line-height:normal;font-family:Menlo,'DejaVu Sans Mono',consolas,'Courier New',monospace\">┏━━━━━━━━━━━━━━━━━━━━━━━━━━━┳━━━━━━━━━━━━━━━━━━━━━━━━━━━┓\n",
              "┃<span style=\"font-weight: bold\">        Test metric        </span>┃<span style=\"font-weight: bold\">       DataLoader 0        </span>┃\n",
              "┡━━━━━━━━━━━━━━━━━━━━━━━━━━━╇━━━━━━━━━━━━━━━━━━━━━━━━━━━┩\n",
              "│<span style=\"color: #008080; text-decoration-color: #008080\">         test_acc          </span>│<span style=\"color: #800080; text-decoration-color: #800080\">       0.2197265625        </span>│\n",
              "│<span style=\"color: #008080; text-decoration-color: #008080\">         test_loss         </span>│<span style=\"color: #800080; text-decoration-color: #800080\">    0.5098096132278442     </span>│\n",
              "└───────────────────────────┴───────────────────────────┘\n",
              "</pre>\n"
            ]
          },
          "metadata": {}
        },
        {
          "output_type": "execute_result",
          "data": {
            "text/plain": [
              "[{'test_loss': 0.5098096132278442, 'test_acc': 0.2197265625}]"
            ]
          },
          "metadata": {},
          "execution_count": 31
        }
      ]
    },
    {
      "cell_type": "markdown",
      "source": [
        "# predictions_attention.csv"
      ],
      "metadata": {
        "id": "Xa8Kf3AKm_J_"
      }
    },
    {
      "cell_type": "code",
      "source": [
        "import csv \n",
        "\n",
        "data = test_data\n",
        "data1= test_data.T\n",
        "rows = []\n",
        "\n",
        "model = model.to(device)\n",
        "# Prediction Loop\n",
        "for i in range(0,len(data)):\n",
        "  # model.eval()\n",
        "  word =  [2]+[latin_chars.get(char,latin_chars['<UNK>']) for char in data1[i][0]] + [0]*(latin_max_length - len(data1[i][0]))+[3]\n",
        "  latin_tensor = torch.tensor(word).to(device)\n",
        "  latin_tensor = latin_tensor.view(-1,latin_max_length+2).to(device)\n",
        "  output,attn_weights = model.forward(latin_tensor,tf=0)\n",
        "  lang_word = \"\"\n",
        "  output_ = torch.argmax(output,2)\n",
        "  for num in output_:\n",
        "    if (num == 0): break\n",
        "    lang_word += lang_chars_num[num.item()]\n",
        "  rows.append([data1[i][0],data1[i][1],lang_word ])\n",
        "\n",
        "cols = ['Input', 'Expected', 'Predicted'] \n",
        "\n",
        "# Saving to CSV\n",
        "with open(\"predictions_attention.csv\",\"w\") as csvfile:\n",
        "  writer = csv.writer(csvfile)\n",
        "  writer.writerow(cols)\n",
        "  writer.writerows(rows)"
      ],
      "metadata": {
        "id": "SDD8_7XGSIZR"
      },
      "execution_count": null,
      "outputs": []
    },
    {
      "cell_type": "markdown",
      "source": [
        "# Attention heatmaps"
      ],
      "metadata": {
        "id": "5L_fc1-pxha8"
      }
    },
    {
      "cell_type": "code",
      "source": [
        "# Set the device to CUDA if available, otherwise use CPU\n",
        "\n",
        "device = torch.device(\"cuda:0\" if torch.cuda.is_available() else \"cpu\")\n",
        "\n",
        "data = test_data\n",
        "data1= test_data.T\n",
        "rows = []\n",
        "input_w = []\n",
        "\n",
        "# Move the model to the specified device\n",
        "model = model.to(device)\n",
        "\n",
        "# Preprocess the data for each index from 0 to 9\n",
        "for i in range(0,10):\n",
        "  word =  [2]+[latin_chars.get(char,latin_chars['<UNK>']) for char in data1[i][0]] + [0]*(latin_max_length - len(data1[i][0]))+[3]\n",
        "  rows.append(word)\n",
        "  input_w.append(data1[i][0])\n",
        "\n",
        "# Convert the rows and input_w lists to NumPy arrays\n",
        "rows = np.array(rows)\n",
        "input_w = np.array(input_w)\n",
        "\n",
        "rows = torch.tensor(rows).to(device)\n",
        "# Perform inference using the model\n",
        "output,attn_weights = model.forward(rows,tf=0)\n",
        "# Find the indices of the maximum values along the last dimension of the output tensor\n",
        "output_ = torch.argmax(output,2)\n",
        "output = []\n",
        "output_ = output_.permute(1,0)\n",
        "for word in output_:\n",
        "  lang_word = \"\"\n",
        "  for num in word:\n",
        "      if (num == 0): break\n",
        "      lang_word += lang_chars_num[num.item()]\n",
        "  output.append(lang_word)\n",
        "output = np.array(output)\n",
        "\n",
        "# Permute the attn_weights tensor to have dimensions (batch_size, lang_max_length, latin_max_length)\n",
        "\n",
        "attn_weights = attn_weights.permute(1,0,2)\n"
      ],
      "metadata": {
        "id": "UDr8qV_88Oq0"
      },
      "execution_count": null,
      "outputs": []
    },
    {
      "cell_type": "code",
      "execution_count": null,
      "metadata": {
        "colab": {
          "base_uri": "https://localhost:8080/",
          "height": 990
        },
        "id": "LJdI4qoN_jtz",
        "outputId": "5e0947ee-d860-4f3a-9f2f-38389ebce6d5"
      },
      "outputs": [
        {
          "output_type": "display_data",
          "data": {
            "text/plain": [
              "<Figure size 1200x1200 with 18 Axes>"
            ],
            "image/png": "[encoded data removed]"
          },
          "metadata": {}
        }
      ],
      "source": [
        "# Create a figure with a 3x3 grid and set the size to 12x12 inches\n",
        "fig, axes = plt.subplots(3, 3, figsize=(12, 12))\n",
        "\n",
        "# Adjust the spacing between subplots\n",
        "fig.tight_layout(pad=5.0)\n",
        "\n",
        "# Flatten the axes into a 1-dimensional array\n",
        "axes = axes.ravel()\n",
        "\n",
        "# Iterate over each index up to 9\n",
        "for i in range(0,9):\n",
        "    # Get the attention weights for the corresponding input word\n",
        "    attn_weight = attn_weights[i].cpu().detach().numpy()\n",
        "    attn_weight = attn_weight[1:len(input_w[i]) + 1,:len(output[i])]\n",
        "    # Plot the attention weights as a heatmap on the current axis\n",
        "    sns.heatmap(attn_weight, ax=axes[i], cmap='Blues')\n",
        "\n",
        "    # Set the y-axis tick labels to the input words\n",
        "    axes[i].set_yticklabels(input_w[i])\n",
        "\n",
        "    # Set the x-axis tick labels to the output words\n",
        "    axes[i].set_xticklabels(output[i], fontproperties=hindi_font, fontdict={'fontsize': 16})\n",
        "\n",
        "    # Move the x-axis ticks to the top of the heatmap\n",
        "    axes[i].xaxis.tick_top()\n",
        "\n"
      ]
    },
    {
      "cell_type": "code",
      "source": [
        "!python train.py"
      ],
      "metadata": {
        "id": "dDMgUJr0EKS4",
        "colab": {
          "base_uri": "https://localhost:8080/"
        },
        "outputId": "31faf912-6d65-4a99-96d8-8e314bb9a9f3"
      },
      "execution_count": null,
      "outputs": [
        {
          "output_type": "stream",
          "name": "stdout",
          "text": [
            "\u001b[34m\u001b[1mwandb\u001b[0m: W&B API key is configured. Use \u001b[1m`wandb login --relogin`\u001b[0m to force relogin\n",
            "\u001b[34m\u001b[1mwandb\u001b[0m: Appending key for api.wandb.ai to your netrc file: /root/.netrc\n",
            "\u001b[34m\u001b[1mwandb\u001b[0m: Currently logged in as: \u001b[33mcs22m076\u001b[0m (\u001b[33msaisreeram\u001b[0m). Use \u001b[1m`wandb login --relogin`\u001b[0m to force relogin\n",
            "\u001b[34m\u001b[1mwandb\u001b[0m: Tracking run with wandb version 0.15.3\n",
            "\u001b[34m\u001b[1mwandb\u001b[0m: Run data is saved locally in \u001b[35m\u001b[1m/content/wandb/run-20230520_110639-k7oydsa8\u001b[0m\n",
            "\u001b[34m\u001b[1mwandb\u001b[0m: Run \u001b[1m`wandb offline`\u001b[0m to turn off syncing.\n",
            "\u001b[34m\u001b[1mwandb\u001b[0m: Syncing run \u001b[33mwandering-silence-1\u001b[0m\n",
            "\u001b[34m\u001b[1mwandb\u001b[0m: ⭐️ View project at \u001b[34m\u001b[4mhttps://wandb.ai/saisreeram/Assignment-031\u001b[0m\n",
            "\u001b[34m\u001b[1mwandb\u001b[0m: 🚀 View run at \u001b[34m\u001b[4mhttps://wandb.ai/saisreeram/Assignment-031/runs/k7oydsa8\u001b[0m\n",
            "GPU available: True (cuda), used: True\n",
            "TPU available: False, using: 0 TPU cores\n",
            "IPU available: False, using: 0 IPUs\n",
            "HPU available: False, using: 0 HPUs\n",
            "LOCAL_RANK: 0 - CUDA_VISIBLE_DEVICES: [0]\n",
            "\n",
            "  | Name    | Type        | Params\n",
            "----------------------------------------\n",
            "0 | encoder | AttnEncoder | 991 K \n",
            "1 | decoder | AttnDecoder | 1.1 M \n",
            "----------------------------------------\n",
            "2.0 M     Trainable params\n",
            "0         Non-trainable params\n",
            "2.0 M     Total params\n",
            "8.193     Total estimated model params size (MB)\n",
            "2023-05-20 11:06:51.301512: W tensorflow/compiler/tf2tensorrt/utils/py_utils.cc:38] TF-TRT Warning: Could not find TensorRT\n",
            "Epoch 0: 100% 3200/3200 [02:38<00:00, 20.17it/s, v_num=5]\n",
            "Validation: 0it [00:00, ?it/s]\u001b[A\n",
            "Validation:   0% 0/256 [00:00<?, ?it/s]\u001b[A\n",
            "Validation DataLoader 0:   0% 0/256 [00:00<?, ?it/s]\u001b[A\n",
            "Validation DataLoader 0:   8% 20/256 [00:00<00:04, 50.83it/s]\u001b[A\n",
            "Validation DataLoader 0:  16% 40/256 [00:00<00:04, 52.47it/s]\u001b[A\n",
            "Validation DataLoader 0:  23% 60/256 [00:01<00:03, 53.30it/s]\u001b[A\n",
            "Validation DataLoader 0:  31% 80/256 [00:01<00:03, 53.08it/s]\u001b[A\n",
            "Validation DataLoader 0:  39% 100/256 [00:01<00:02, 53.49it/s]\u001b[A\n",
            "Validation DataLoader 0:  47% 120/256 [00:02<00:02, 53.42it/s]\u001b[A\n",
            "Validation DataLoader 0:  55% 140/256 [00:02<00:02, 53.16it/s]\u001b[A\n",
            "Validation DataLoader 0:  62% 160/256 [00:02<00:01, 53.37it/s]\u001b[A\n",
            "Validation DataLoader 0:  70% 180/256 [00:03<00:01, 52.63it/s]\u001b[A\n",
            "Validation DataLoader 0:  78% 200/256 [00:03<00:01, 52.86it/s]\u001b[A\n",
            "Validation DataLoader 0:  86% 220/256 [00:04<00:00, 53.11it/s]\u001b[A\n",
            "Validation DataLoader 0:  94% 240/256 [00:04<00:00, 50.42it/s]\u001b[A\n",
            "Epoch 0: 100% 3200/3200 [02:43<00:00, 19.55it/s, v_num=5, val_loss=0.994, val_acc=0.000732]\n",
            "Epoch 0: 100% 3200/3200 [02:43<00:00, 19.55it/s, v_num=5, val_loss=0.994, val_acc=0.000732, train_loss=1.350, train_acc=0.000]train_loss: 1.3531850576400757 train_acc 0.0 val_loss: 1.0196807384490967 val_acc 0.0007267441833391786\n",
            "`Trainer.fit` stopped: `max_epochs=1` reached.\n",
            "Epoch 0: 100% 3200/3200 [02:44<00:00, 19.47it/s, v_num=5, val_loss=0.994, val_acc=0.000732, train_loss=1.350, train_acc=0.000]\n",
            "\u001b[34m\u001b[1mwandb\u001b[0m: Waiting for W&B process to finish... \u001b[32m(success).\u001b[0m\n",
            "\u001b[34m\u001b[1mwandb\u001b[0m: 🚀 View run \u001b[33mwandering-silence-1\u001b[0m at: \u001b[34m\u001b[4mhttps://wandb.ai/saisreeram/Assignment-031/runs/k7oydsa8\u001b[0m\n",
            "\u001b[34m\u001b[1mwandb\u001b[0m: Synced 5 W&B file(s), 0 media file(s), 0 artifact file(s) and 0 other file(s)\n",
            "\u001b[34m\u001b[1mwandb\u001b[0m: Find logs at: \u001b[35m\u001b[1m./wandb/run-20230520_110639-k7oydsa8/logs\u001b[0m\n"
          ]
        }
      ]
    },
    {
      "cell_type": "code",
      "source": [
        "!python train.py -dp aksharantar_sampled/ -la hin -e 5 -b 128 -lr 0.0001 -cl GRU -bd True -at True -do 0.2 -el 3 -dl 3 -es 16 -hls 128\n"
      ],
      "metadata": {
        "colab": {
          "base_uri": "https://localhost:8080/"
        },
        "id": "zF2DgtcP1vL3",
        "outputId": "3b7f9d07-bff0-4337-f562-55bfc3d7c867"
      },
      "execution_count": null,
      "outputs": [
        {
          "output_type": "stream",
          "name": "stdout",
          "text": [
            "\u001b[34m\u001b[1mwandb\u001b[0m: Currently logged in as: \u001b[33mcs22m076\u001b[0m (\u001b[33msaisreeram\u001b[0m). Use \u001b[1m`wandb login --relogin`\u001b[0m to force relogin\n",
            "\u001b[34m\u001b[1mwandb\u001b[0m: Appending key for api.wandb.ai to your netrc file: /root/.netrc\n",
            "\u001b[34m\u001b[1mwandb\u001b[0m: Tracking run with wandb version 0.15.3\n",
            "\u001b[34m\u001b[1mwandb\u001b[0m: Run data is saved locally in \u001b[35m\u001b[1m/content/wandb/run-20230520_113916-873v0pp5\u001b[0m\n",
            "\u001b[34m\u001b[1mwandb\u001b[0m: Run \u001b[1m`wandb offline`\u001b[0m to turn off syncing.\n",
            "\u001b[34m\u001b[1mwandb\u001b[0m: Syncing run \u001b[33matomic-mountain-2\u001b[0m\n",
            "\u001b[34m\u001b[1mwandb\u001b[0m: ⭐️ View project at \u001b[34m\u001b[4mhttps://wandb.ai/saisreeram/Assignment-031\u001b[0m\n",
            "\u001b[34m\u001b[1mwandb\u001b[0m: 🚀 View run at \u001b[34m\u001b[4mhttps://wandb.ai/saisreeram/Assignment-031/runs/873v0pp5\u001b[0m\n",
            "GPU available: True (cuda), used: True\n",
            "TPU available: False, using: 0 TPU cores\n",
            "IPU available: False, using: 0 IPUs\n",
            "HPU available: False, using: 0 HPUs\n",
            "LOCAL_RANK: 0 - CUDA_VISIBLE_DEVICES: [0]\n",
            "\n",
            "  | Name    | Type        | Params\n",
            "----------------------------------------\n",
            "0 | encoder | AttnEncoder | 705 K \n",
            "1 | decoder | AttnDecoder | 762 K \n",
            "----------------------------------------\n",
            "1.5 M     Trainable params\n",
            "0         Non-trainable params\n",
            "1.5 M     Total params\n",
            "5.871     Total estimated model params size (MB)\n",
            "2023-05-20 11:39:28.962237: W tensorflow/compiler/tf2tensorrt/utils/py_utils.cc:38] TF-TRT Warning: Could not find TensorRT\n",
            "Epoch 0: 100% 400/400 [00:34<00:00, 11.72it/s, v_num=9]\n",
            "Validation: 0it [00:00, ?it/s]\u001b[A\n",
            "Validation:   0% 0/32 [00:00<?, ?it/s]\u001b[A\n",
            "Validation DataLoader 0:   0% 0/32 [00:00<?, ?it/s]\u001b[A\n",
            "Validation DataLoader 0:  62% 20/32 [00:01<00:00, 18.68it/s]\u001b[A\n",
            "Epoch 0: 100% 400/400 [00:35<00:00, 11.16it/s, v_num=9, val_loss=1.200, val_acc=0.000]\n",
            "Epoch 0: 100% 400/400 [00:35<00:00, 11.15it/s, v_num=9, val_loss=1.200, val_acc=0.000, train_loss=1.750, train_acc=0.000]train_loss: 1.7502785921096802 train_acc 0.0 val_loss: 1.3812497854232788 val_acc 0.0\n",
            "Epoch 1: 100% 400/400 [00:34<00:00, 11.61it/s, v_num=9, val_loss=1.200, val_acc=0.000, train_loss=1.750, train_acc=0.000]\n",
            "Validation: 0it [00:00, ?it/s]\u001b[A\n",
            "Validation:   0% 0/32 [00:00<?, ?it/s]\u001b[A\n",
            "Validation DataLoader 0:   0% 0/32 [00:00<?, ?it/s]\u001b[A\n",
            "Validation DataLoader 0:  62% 20/32 [00:01<00:00, 15.57it/s]\u001b[A\n",
            "Epoch 1: 100% 400/400 [00:36<00:00, 10.99it/s, v_num=9, val_loss=1.090, val_acc=0.000, train_loss=1.750, train_acc=0.000]\n",
            "Epoch 1: 100% 400/400 [00:36<00:00, 10.99it/s, v_num=9, val_loss=1.090, val_acc=0.000, train_loss=1.350, train_acc=0.000]train_loss: 1.3471330404281616 train_acc 0.0 val_loss: 1.0932879447937012 val_acc 0.0\n",
            "Epoch 2: 100% 400/400 [00:34<00:00, 11.73it/s, v_num=9, val_loss=1.090, val_acc=0.000, train_loss=1.350, train_acc=0.000]\n",
            "Validation: 0it [00:00, ?it/s]\u001b[A\n",
            "Validation:   0% 0/32 [00:00<?, ?it/s]\u001b[A\n",
            "Validation DataLoader 0:   0% 0/32 [00:00<?, ?it/s]\u001b[A\n",
            "Validation DataLoader 0:  62% 20/32 [00:01<00:00, 18.38it/s]\u001b[A\n",
            "Epoch 2: 100% 400/400 [00:35<00:00, 11.17it/s, v_num=9, val_loss=1.010, val_acc=0.000, train_loss=1.350, train_acc=0.000]\n",
            "Epoch 2: 100% 400/400 [00:35<00:00, 11.17it/s, v_num=9, val_loss=1.010, val_acc=0.000, train_loss=1.250, train_acc=0.000]train_loss: 1.2504119873046875 train_acc 0.0 val_loss: 1.0091969966888428 val_acc 0.0\n",
            "Epoch 3: 100% 400/400 [00:34<00:00, 11.65it/s, v_num=9, val_loss=1.010, val_acc=0.000, train_loss=1.250, train_acc=0.000]\n",
            "Validation: 0it [00:00, ?it/s]\u001b[A\n",
            "Validation:   0% 0/32 [00:00<?, ?it/s]\u001b[A\n",
            "Validation DataLoader 0:   0% 0/32 [00:00<?, ?it/s]\u001b[A\n",
            "Validation DataLoader 0:  62% 20/32 [00:01<00:00, 16.26it/s]\u001b[A\n",
            "Epoch 3: 100% 400/400 [00:36<00:00, 11.02it/s, v_num=9, val_loss=0.925, val_acc=0.000, train_loss=1.250, train_acc=0.000]\n",
            "Epoch 3: 100% 400/400 [00:36<00:00, 11.02it/s, v_num=9, val_loss=0.925, val_acc=0.000, train_loss=1.170, train_acc=1.95e-5]train_loss: 1.1656092405319214 train_acc 1.9531249563442543e-05 val_loss: 0.9247890710830688 val_acc 0.0\n",
            "Epoch 4: 100% 400/400 [00:34<00:00, 11.73it/s, v_num=9, val_loss=0.925, val_acc=0.000, train_loss=1.170, train_acc=1.95e-5]\n",
            "Validation: 0it [00:00, ?it/s]\u001b[A\n",
            "Validation:   0% 0/32 [00:00<?, ?it/s]\u001b[A\n",
            "Validation DataLoader 0:   0% 0/32 [00:00<?, ?it/s]\u001b[A\n",
            "Validation DataLoader 0:  62% 20/32 [00:01<00:00, 18.63it/s]\u001b[A\n",
            "Epoch 4: 100% 400/400 [00:35<00:00, 11.16it/s, v_num=9, val_loss=0.849, val_acc=0.000977, train_loss=1.170, train_acc=1.95e-5]\n",
            "Epoch 4: 100% 400/400 [00:35<00:00, 11.16it/s, v_num=9, val_loss=0.849, val_acc=0.000977, train_loss=1.080, train_acc=7.81e-5]train_loss: 1.0777522325515747 train_acc 7.812499825377017e-05 val_loss: 0.8491940498352051 val_acc 0.0009765625\n",
            "`Trainer.fit` stopped: `max_epochs=5` reached.\n",
            "Epoch 4: 100% 400/400 [00:35<00:00, 11.13it/s, v_num=9, val_loss=0.849, val_acc=0.000977, train_loss=1.080, train_acc=7.81e-5]\n",
            "\u001b[34m\u001b[1mwandb\u001b[0m: Waiting for W&B process to finish... \u001b[32m(success).\u001b[0m\n",
            "\u001b[34m\u001b[1mwandb\u001b[0m: 🚀 View run \u001b[33matomic-mountain-2\u001b[0m at: \u001b[34m\u001b[4mhttps://wandb.ai/saisreeram/Assignment-031/runs/873v0pp5\u001b[0m\n",
            "\u001b[34m\u001b[1mwandb\u001b[0m: Synced 5 W&B file(s), 0 media file(s), 0 artifact file(s) and 0 other file(s)\n",
            "\u001b[34m\u001b[1mwandb\u001b[0m: Find logs at: \u001b[35m\u001b[1m./wandb/run-20230520_113916-873v0pp5/logs\u001b[0m\n"
          ]
        }
      ]
    },
    {
      "cell_type": "code",
      "source": [],
      "metadata": {
        "id": "iVDnk8NK8i5z"
      },
      "execution_count": null,
      "outputs": []
    }
  ],
  "metadata": {
    "colab": {
      "provenance": []
    },
    "gpuClass": "standard",
    "kernelspec": {
      "display_name": "Python 3",
      "name": "python3"
    },
    "language_info": {
      "name": "python"
    },
    "accelerator": "GPU",
    "widgets": {
      "application/vnd.jupyter.widget-state+json": {}
    }
  },
  "nbformat": 4,
  "nbformat_minor": 0
}